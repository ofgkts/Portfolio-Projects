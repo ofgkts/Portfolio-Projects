{
  "nbformat": 4,
  "nbformat_minor": 0,
  "metadata": {
    "colab": {
      "provenance": [],
      "mount_file_id": "1AcU5x3Mq2wpPiDLCeLXyubAYkg2KYCbo",
      "authorship_tag": "ABX9TyNGclsNEWWZl7k9fn04jaSn",
      "include_colab_link": true
    },
    "kernelspec": {
      "name": "python3",
      "display_name": "Python 3"
    },
    "language_info": {
      "name": "python"
    }
  },
  "cells": [
    {
      "cell_type": "markdown",
      "metadata": {
        "id": "view-in-github",
        "colab_type": "text"
      },
      "source": [
        "<a href=\"https://colab.research.google.com/github/ofgkts/Portfolio-Projects/blob/main/bus_breakdown_delays_and_mlprediction.ipynb\" target=\"_parent\"><img src=\"https://colab.research.google.com/assets/colab-badge.svg\" alt=\"Open In Colab\"/></a>"
      ]
    },
    {
      "cell_type": "code",
      "execution_count": 1,
      "metadata": {
        "id": "7Qk6BFYfLksB",
        "colab": {
          "base_uri": "https://localhost:8080/",
          "height": 509
        },
        "outputId": "8f47599f-e9cf-4776-ca91-01b403de5568"
      },
      "outputs": [
        {
          "output_type": "stream",
          "name": "stderr",
          "text": [
            "/usr/local/lib/python3.8/dist-packages/IPython/core/interactiveshell.py:3326: DtypeWarning: Columns (17) have mixed types.Specify dtype option on import or set low_memory=False.\n",
            "  exec(code_obj, self.user_global_ns, self.user_ns)\n"
          ]
        },
        {
          "output_type": "execute_result",
          "data": {
            "text/plain": [
              "  School_Year  Busbreakdown_ID           Run_Type Bus_No Route_Number  \\\n",
              "0   2015-2016          1227538  Special Ed AM Run   2621         J711   \n",
              "1   2015-2016          1227539  Special Ed AM Run   1260         M351   \n",
              "2   2015-2016          1227540           Pre-K/EI    418            3   \n",
              "3   2015-2016          1227541  Special Ed AM Run   4522         M271   \n",
              "4   2015-2016          1227542  Special Ed AM Run   3124         M373   \n",
              "\n",
              "          Reason Schools_Serviced             Occurred_On  \\\n",
              "0  Heavy Traffic            75003  11/05/2015 08:10:00 AM   \n",
              "1  Heavy Traffic            06716  11/05/2015 08:10:00 AM   \n",
              "2  Heavy Traffic             C445  11/05/2015 08:09:00 AM   \n",
              "3  Heavy Traffic            02699  11/05/2015 08:12:00 AM   \n",
              "4  Heavy Traffic            02116  11/05/2015 08:13:00 AM   \n",
              "\n",
              "               Created_On        Boro  ... How_Long_Delayed  \\\n",
              "0  11/05/2015 08:12:00 AM  New Jersey  ...              NaN   \n",
              "1  11/05/2015 08:12:00 AM   Manhattan  ...            20MNS   \n",
              "2  11/05/2015 08:13:00 AM       Bronx  ...            15MIN   \n",
              "3  11/05/2015 08:14:00 AM   Manhattan  ...           15 MIN   \n",
              "4  11/05/2015 08:14:00 AM   Manhattan  ...              NaN   \n",
              "\n",
              "  Number_Of_Students_On_The_Bus  Has_Contractor_Notified_Schools  \\\n",
              "0                            11                              Yes   \n",
              "1                             2                              Yes   \n",
              "2                             8                              Yes   \n",
              "3                             6                               No   \n",
              "4                             6                               No   \n",
              "\n",
              "  Has_Contractor_Notified_Parents Have_You_Alerted_OPT  \\\n",
              "0                              No                  Yes   \n",
              "1                             Yes                   No   \n",
              "2                             Yes                  Yes   \n",
              "3                              No                   No   \n",
              "4                              No                   No   \n",
              "\n",
              "              Informed_On Incident_Number         Last_Updated_On  \\\n",
              "0  11/05/2015 08:12:00 AM             NaN  11/05/2015 08:12:14 AM   \n",
              "1  11/05/2015 08:12:00 AM             NaN  11/05/2015 08:13:34 AM   \n",
              "2  11/05/2015 08:13:00 AM             NaN  11/05/2015 08:13:22 AM   \n",
              "3  11/05/2015 08:14:00 AM             NaN  11/05/2015 08:14:04 AM   \n",
              "4  11/05/2015 08:14:00 AM             NaN  11/05/2015 08:14:08 AM   \n",
              "\n",
              "  Breakdown_or_Running_Late School_Age_or_PreK  \n",
              "0              Running Late         School-Age  \n",
              "1              Running Late         School-Age  \n",
              "2              Running Late              Pre-K  \n",
              "3              Running Late         School-Age  \n",
              "4              Running Late         School-Age  \n",
              "\n",
              "[5 rows x 21 columns]"
            ],
            "text/html": [
              "\n",
              "  <div id=\"df-95227ece-9982-4aff-bb1f-b125ba786e67\">\n",
              "    <div class=\"colab-df-container\">\n",
              "      <div>\n",
              "<style scoped>\n",
              "    .dataframe tbody tr th:only-of-type {\n",
              "        vertical-align: middle;\n",
              "    }\n",
              "\n",
              "    .dataframe tbody tr th {\n",
              "        vertical-align: top;\n",
              "    }\n",
              "\n",
              "    .dataframe thead th {\n",
              "        text-align: right;\n",
              "    }\n",
              "</style>\n",
              "<table border=\"1\" class=\"dataframe\">\n",
              "  <thead>\n",
              "    <tr style=\"text-align: right;\">\n",
              "      <th></th>\n",
              "      <th>School_Year</th>\n",
              "      <th>Busbreakdown_ID</th>\n",
              "      <th>Run_Type</th>\n",
              "      <th>Bus_No</th>\n",
              "      <th>Route_Number</th>\n",
              "      <th>Reason</th>\n",
              "      <th>Schools_Serviced</th>\n",
              "      <th>Occurred_On</th>\n",
              "      <th>Created_On</th>\n",
              "      <th>Boro</th>\n",
              "      <th>...</th>\n",
              "      <th>How_Long_Delayed</th>\n",
              "      <th>Number_Of_Students_On_The_Bus</th>\n",
              "      <th>Has_Contractor_Notified_Schools</th>\n",
              "      <th>Has_Contractor_Notified_Parents</th>\n",
              "      <th>Have_You_Alerted_OPT</th>\n",
              "      <th>Informed_On</th>\n",
              "      <th>Incident_Number</th>\n",
              "      <th>Last_Updated_On</th>\n",
              "      <th>Breakdown_or_Running_Late</th>\n",
              "      <th>School_Age_or_PreK</th>\n",
              "    </tr>\n",
              "  </thead>\n",
              "  <tbody>\n",
              "    <tr>\n",
              "      <th>0</th>\n",
              "      <td>2015-2016</td>\n",
              "      <td>1227538</td>\n",
              "      <td>Special Ed AM Run</td>\n",
              "      <td>2621</td>\n",
              "      <td>J711</td>\n",
              "      <td>Heavy Traffic</td>\n",
              "      <td>75003</td>\n",
              "      <td>11/05/2015 08:10:00 AM</td>\n",
              "      <td>11/05/2015 08:12:00 AM</td>\n",
              "      <td>New Jersey</td>\n",
              "      <td>...</td>\n",
              "      <td>NaN</td>\n",
              "      <td>11</td>\n",
              "      <td>Yes</td>\n",
              "      <td>No</td>\n",
              "      <td>Yes</td>\n",
              "      <td>11/05/2015 08:12:00 AM</td>\n",
              "      <td>NaN</td>\n",
              "      <td>11/05/2015 08:12:14 AM</td>\n",
              "      <td>Running Late</td>\n",
              "      <td>School-Age</td>\n",
              "    </tr>\n",
              "    <tr>\n",
              "      <th>1</th>\n",
              "      <td>2015-2016</td>\n",
              "      <td>1227539</td>\n",
              "      <td>Special Ed AM Run</td>\n",
              "      <td>1260</td>\n",
              "      <td>M351</td>\n",
              "      <td>Heavy Traffic</td>\n",
              "      <td>06716</td>\n",
              "      <td>11/05/2015 08:10:00 AM</td>\n",
              "      <td>11/05/2015 08:12:00 AM</td>\n",
              "      <td>Manhattan</td>\n",
              "      <td>...</td>\n",
              "      <td>20MNS</td>\n",
              "      <td>2</td>\n",
              "      <td>Yes</td>\n",
              "      <td>Yes</td>\n",
              "      <td>No</td>\n",
              "      <td>11/05/2015 08:12:00 AM</td>\n",
              "      <td>NaN</td>\n",
              "      <td>11/05/2015 08:13:34 AM</td>\n",
              "      <td>Running Late</td>\n",
              "      <td>School-Age</td>\n",
              "    </tr>\n",
              "    <tr>\n",
              "      <th>2</th>\n",
              "      <td>2015-2016</td>\n",
              "      <td>1227540</td>\n",
              "      <td>Pre-K/EI</td>\n",
              "      <td>418</td>\n",
              "      <td>3</td>\n",
              "      <td>Heavy Traffic</td>\n",
              "      <td>C445</td>\n",
              "      <td>11/05/2015 08:09:00 AM</td>\n",
              "      <td>11/05/2015 08:13:00 AM</td>\n",
              "      <td>Bronx</td>\n",
              "      <td>...</td>\n",
              "      <td>15MIN</td>\n",
              "      <td>8</td>\n",
              "      <td>Yes</td>\n",
              "      <td>Yes</td>\n",
              "      <td>Yes</td>\n",
              "      <td>11/05/2015 08:13:00 AM</td>\n",
              "      <td>NaN</td>\n",
              "      <td>11/05/2015 08:13:22 AM</td>\n",
              "      <td>Running Late</td>\n",
              "      <td>Pre-K</td>\n",
              "    </tr>\n",
              "    <tr>\n",
              "      <th>3</th>\n",
              "      <td>2015-2016</td>\n",
              "      <td>1227541</td>\n",
              "      <td>Special Ed AM Run</td>\n",
              "      <td>4522</td>\n",
              "      <td>M271</td>\n",
              "      <td>Heavy Traffic</td>\n",
              "      <td>02699</td>\n",
              "      <td>11/05/2015 08:12:00 AM</td>\n",
              "      <td>11/05/2015 08:14:00 AM</td>\n",
              "      <td>Manhattan</td>\n",
              "      <td>...</td>\n",
              "      <td>15 MIN</td>\n",
              "      <td>6</td>\n",
              "      <td>No</td>\n",
              "      <td>No</td>\n",
              "      <td>No</td>\n",
              "      <td>11/05/2015 08:14:00 AM</td>\n",
              "      <td>NaN</td>\n",
              "      <td>11/05/2015 08:14:04 AM</td>\n",
              "      <td>Running Late</td>\n",
              "      <td>School-Age</td>\n",
              "    </tr>\n",
              "    <tr>\n",
              "      <th>4</th>\n",
              "      <td>2015-2016</td>\n",
              "      <td>1227542</td>\n",
              "      <td>Special Ed AM Run</td>\n",
              "      <td>3124</td>\n",
              "      <td>M373</td>\n",
              "      <td>Heavy Traffic</td>\n",
              "      <td>02116</td>\n",
              "      <td>11/05/2015 08:13:00 AM</td>\n",
              "      <td>11/05/2015 08:14:00 AM</td>\n",
              "      <td>Manhattan</td>\n",
              "      <td>...</td>\n",
              "      <td>NaN</td>\n",
              "      <td>6</td>\n",
              "      <td>No</td>\n",
              "      <td>No</td>\n",
              "      <td>No</td>\n",
              "      <td>11/05/2015 08:14:00 AM</td>\n",
              "      <td>NaN</td>\n",
              "      <td>11/05/2015 08:14:08 AM</td>\n",
              "      <td>Running Late</td>\n",
              "      <td>School-Age</td>\n",
              "    </tr>\n",
              "  </tbody>\n",
              "</table>\n",
              "<p>5 rows × 21 columns</p>\n",
              "</div>\n",
              "      <button class=\"colab-df-convert\" onclick=\"convertToInteractive('df-95227ece-9982-4aff-bb1f-b125ba786e67')\"\n",
              "              title=\"Convert this dataframe to an interactive table.\"\n",
              "              style=\"display:none;\">\n",
              "        \n",
              "  <svg xmlns=\"http://www.w3.org/2000/svg\" height=\"24px\"viewBox=\"0 0 24 24\"\n",
              "       width=\"24px\">\n",
              "    <path d=\"M0 0h24v24H0V0z\" fill=\"none\"/>\n",
              "    <path d=\"M18.56 5.44l.94 2.06.94-2.06 2.06-.94-2.06-.94-.94-2.06-.94 2.06-2.06.94zm-11 1L8.5 8.5l.94-2.06 2.06-.94-2.06-.94L8.5 2.5l-.94 2.06-2.06.94zm10 10l.94 2.06.94-2.06 2.06-.94-2.06-.94-.94-2.06-.94 2.06-2.06.94z\"/><path d=\"M17.41 7.96l-1.37-1.37c-.4-.4-.92-.59-1.43-.59-.52 0-1.04.2-1.43.59L10.3 9.45l-7.72 7.72c-.78.78-.78 2.05 0 2.83L4 21.41c.39.39.9.59 1.41.59.51 0 1.02-.2 1.41-.59l7.78-7.78 2.81-2.81c.8-.78.8-2.07 0-2.86zM5.41 20L4 18.59l7.72-7.72 1.47 1.35L5.41 20z\"/>\n",
              "  </svg>\n",
              "      </button>\n",
              "      \n",
              "  <style>\n",
              "    .colab-df-container {\n",
              "      display:flex;\n",
              "      flex-wrap:wrap;\n",
              "      gap: 12px;\n",
              "    }\n",
              "\n",
              "    .colab-df-convert {\n",
              "      background-color: #E8F0FE;\n",
              "      border: none;\n",
              "      border-radius: 50%;\n",
              "      cursor: pointer;\n",
              "      display: none;\n",
              "      fill: #1967D2;\n",
              "      height: 32px;\n",
              "      padding: 0 0 0 0;\n",
              "      width: 32px;\n",
              "    }\n",
              "\n",
              "    .colab-df-convert:hover {\n",
              "      background-color: #E2EBFA;\n",
              "      box-shadow: 0px 1px 2px rgba(60, 64, 67, 0.3), 0px 1px 3px 1px rgba(60, 64, 67, 0.15);\n",
              "      fill: #174EA6;\n",
              "    }\n",
              "\n",
              "    [theme=dark] .colab-df-convert {\n",
              "      background-color: #3B4455;\n",
              "      fill: #D2E3FC;\n",
              "    }\n",
              "\n",
              "    [theme=dark] .colab-df-convert:hover {\n",
              "      background-color: #434B5C;\n",
              "      box-shadow: 0px 1px 3px 1px rgba(0, 0, 0, 0.15);\n",
              "      filter: drop-shadow(0px 1px 2px rgba(0, 0, 0, 0.3));\n",
              "      fill: #FFFFFF;\n",
              "    }\n",
              "  </style>\n",
              "\n",
              "      <script>\n",
              "        const buttonEl =\n",
              "          document.querySelector('#df-95227ece-9982-4aff-bb1f-b125ba786e67 button.colab-df-convert');\n",
              "        buttonEl.style.display =\n",
              "          google.colab.kernel.accessAllowed ? 'block' : 'none';\n",
              "\n",
              "        async function convertToInteractive(key) {\n",
              "          const element = document.querySelector('#df-95227ece-9982-4aff-bb1f-b125ba786e67');\n",
              "          const dataTable =\n",
              "            await google.colab.kernel.invokeFunction('convertToInteractive',\n",
              "                                                     [key], {});\n",
              "          if (!dataTable) return;\n",
              "\n",
              "          const docLinkHtml = 'Like what you see? Visit the ' +\n",
              "            '<a target=\"_blank\" href=https://colab.research.google.com/notebooks/data_table.ipynb>data table notebook</a>'\n",
              "            + ' to learn more about interactive tables.';\n",
              "          element.innerHTML = '';\n",
              "          dataTable['output_type'] = 'display_data';\n",
              "          await google.colab.output.renderOutput(dataTable, element);\n",
              "          const docLink = document.createElement('div');\n",
              "          docLink.innerHTML = docLinkHtml;\n",
              "          element.appendChild(docLink);\n",
              "        }\n",
              "      </script>\n",
              "    </div>\n",
              "  </div>\n",
              "  "
            ]
          },
          "metadata": {},
          "execution_count": 1
        }
      ],
      "source": [
        "import pandas as pd \n",
        "import numpy as np \n",
        "bus=pd.read_csv('/content/drive/MyDrive/proje/Omer Code/projects/bus_breakdown/bus-breakdowns-delays.csv')\n",
        "df=bus.copy()\n",
        "df.head()"
      ]
    },
    {
      "cell_type": "markdown",
      "source": [
        "### About Dataset\n",
        "`The Bus Breakdown and Delay system collects information from school bus vendors operating out in the field in real time. Bus staff that encounter delays during the route are instructed to radio the dispatcher at the bus vendor’s central office. The bus vendor staff are then instructed to log into the Bus Breakdown and Delay system to record the event and notify OPT. OPT customer service agents use this system to inform parents who call with questions regarding bus service. The Bus Breakdown and Delay system is publicly accessible and contains real time updates. All information in the system is entered by school bus vendor staf`"
      ],
      "metadata": {
        "id": "MdC0yfOqMSA0"
      }
    },
    {
      "cell_type": "code",
      "source": [
        "df.info()"
      ],
      "metadata": {
        "colab": {
          "base_uri": "https://localhost:8080/"
        },
        "id": "oDov42Ja5m_n",
        "outputId": "76dd5726-d001-435f-fcb7-ebd96787ff87"
      },
      "execution_count": 2,
      "outputs": [
        {
          "output_type": "stream",
          "name": "stdout",
          "text": [
            "<class 'pandas.core.frame.DataFrame'>\n",
            "RangeIndex: 545691 entries, 0 to 545690\n",
            "Data columns (total 21 columns):\n",
            " #   Column                           Non-Null Count   Dtype \n",
            "---  ------                           --------------   ----- \n",
            " 0   School_Year                      545691 non-null  object\n",
            " 1   Busbreakdown_ID                  545691 non-null  int64 \n",
            " 2   Run_Type                         545685 non-null  object\n",
            " 3   Bus_No                           545678 non-null  object\n",
            " 4   Route_Number                     545684 non-null  object\n",
            " 5   Reason                           545689 non-null  object\n",
            " 6   Schools_Serviced                 545684 non-null  object\n",
            " 7   Occurred_On                      545691 non-null  object\n",
            " 8   Created_On                       545691 non-null  object\n",
            " 9   Boro                             534474 non-null  object\n",
            " 10  Bus_Company_Name                 545691 non-null  object\n",
            " 11  How_Long_Delayed                 491627 non-null  object\n",
            " 12  Number_Of_Students_On_The_Bus    545691 non-null  int64 \n",
            " 13  Has_Contractor_Notified_Schools  545691 non-null  object\n",
            " 14  Has_Contractor_Notified_Parents  545691 non-null  object\n",
            " 15  Have_You_Alerted_OPT             545691 non-null  object\n",
            " 16  Informed_On                      545691 non-null  object\n",
            " 17  Incident_Number                  10890 non-null   object\n",
            " 18  Last_Updated_On                  545691 non-null  object\n",
            " 19  Breakdown_or_Running_Late        545691 non-null  object\n",
            " 20  School_Age_or_PreK               545691 non-null  object\n",
            "dtypes: int64(2), object(19)\n",
            "memory usage: 87.4+ MB\n"
          ]
        }
      ]
    },
    {
      "cell_type": "code",
      "source": [
        "df.isna().sum()"
      ],
      "metadata": {
        "colab": {
          "base_uri": "https://localhost:8080/"
        },
        "id": "LpOUlGtU7u-D",
        "outputId": "f3b281f9-d10d-49e6-ffc0-d5bdca360100"
      },
      "execution_count": 3,
      "outputs": [
        {
          "output_type": "execute_result",
          "data": {
            "text/plain": [
              "School_Year                             0\n",
              "Busbreakdown_ID                         0\n",
              "Run_Type                                6\n",
              "Bus_No                                 13\n",
              "Route_Number                            7\n",
              "Reason                                  2\n",
              "Schools_Serviced                        7\n",
              "Occurred_On                             0\n",
              "Created_On                              0\n",
              "Boro                                11217\n",
              "Bus_Company_Name                        0\n",
              "How_Long_Delayed                    54064\n",
              "Number_Of_Students_On_The_Bus           0\n",
              "Has_Contractor_Notified_Schools         0\n",
              "Has_Contractor_Notified_Parents         0\n",
              "Have_You_Alerted_OPT                    0\n",
              "Informed_On                             0\n",
              "Incident_Number                    534801\n",
              "Last_Updated_On                         0\n",
              "Breakdown_or_Running_Late               0\n",
              "School_Age_or_PreK                      0\n",
              "dtype: int64"
            ]
          },
          "metadata": {},
          "execution_count": 3
        }
      ]
    },
    {
      "cell_type": "code",
      "source": [
        "import missingno as msno\n",
        "msno.matrix(df)\n"
      ],
      "metadata": {
        "colab": {
          "base_uri": "https://localhost:8080/",
          "height": 617
        },
        "id": "ll562xj1Z4xk",
        "outputId": "6c825f53-0d91-40df-8a43-79de0d42dcb5"
      },
      "execution_count": 4,
      "outputs": [
        {
          "output_type": "execute_result",
          "data": {
            "text/plain": [
              "<matplotlib.axes._subplots.AxesSubplot at 0x7f178689d2e0>"
            ]
          },
          "metadata": {},
          "execution_count": 4
        },
        {
          "output_type": "display_data",
          "data": {
            "text/plain": [
              "<Figure size 1800x720 with 2 Axes>"
            ],
            "image/png": "[encoded data removed]"
          },
          "metadata": {
            "needs_background": "light"
          }
        }
      ]
    },
    {
      "cell_type": "markdown",
      "source": [
        "### i will drop incident number\n",
        "### there is columns to change datetime year ,minute \n",
        "### target is how long it delayed and it is had null values i am going to split nulls another dataframe  \n",
        "### look correleation and drop low or non correlated columns \n",
        "### maybe i could predict boro too it is borough change column name\n",
        "### i need to detect  are there any outliers \n",
        "### look what is the nulls  in other columns \n",
        "### i could work on what is may be the reasons of possible reasons  "
      ],
      "metadata": {
        "id": "e-QS4dMldPm8"
      }
    },
    {
      "cell_type": "code",
      "source": [
        "df.drop('Incident_Number',axis=1,inplace=True)#drop null column\n",
        "df['Occurred_On'] = pd.to_datetime(df['Occurred_On'])\n",
        "df['Created_On'] = pd.to_datetime(df['Created_On'])\n",
        "df['Informed_On'] = pd.to_datetime(df['Informed_On'])\n",
        "df['Last_Updated_On'] = pd.to_datetime(df['Last_Updated_On'])\n",
        "#change datetime type"
      ],
      "metadata": {
        "id": "DulmNdSyctBg"
      },
      "execution_count": 5,
      "outputs": []
    },
    {
      "cell_type": "code",
      "source": [
        "df[['school_start_year','school_end_year']]=df['School_Year'].str.split('-',expand=True)\n",
        "#split for the date time changing "
      ],
      "metadata": {
        "id": "GdsG5mH2HeXl"
      },
      "execution_count": 6,
      "outputs": []
    },
    {
      "cell_type": "code",
      "source": [
        "df[\"school_start_year\"] = pd.to_datetime(df[\"school_start_year\"])\n",
        "df[\"school_end_year\"] = pd.to_datetime(df[\"school_end_year\"])\n",
        "#it includes months and days change them"
      ],
      "metadata": {
        "id": "PNg0TUdQLQao"
      },
      "execution_count": 7,
      "outputs": []
    },
    {
      "cell_type": "code",
      "source": [
        "df[\"school_start_year\"] = df[\"school_start_year\"].dt.year\n",
        "df[\"school_end_year\"] = df[\"school_end_year\"].dt.year\n"
      ],
      "metadata": {
        "id": "syfxlhJ7LsF6"
      },
      "execution_count": 8,
      "outputs": []
    },
    {
      "cell_type": "code",
      "source": [
        "df=df.rename(columns={'Boro':'Borough'})\n",
        "df.drop('School_Year',axis=1,inplace=True)\n",
        "pred_col=df[df['How_Long_Delayed'].isna()]\n",
        "df1=df[df['How_Long_Delayed'].notna()]\n",
        "pred_col.head()\n"
      ],
      "metadata": {
        "id": "40AWsvWVhGmw",
        "colab": {
          "base_uri": "https://localhost:8080/",
          "height": 473
        },
        "outputId": "f2ea6f2e-c110-487d-cb35-8550ee823c36"
      },
      "execution_count": 9,
      "outputs": [
        {
          "output_type": "execute_result",
          "data": {
            "text/plain": [
              "    Busbreakdown_ID           Run_Type Bus_No Route_Number         Reason  \\\n",
              "0           1227538  Special Ed AM Run   2621         J711  Heavy Traffic   \n",
              "4           1227542  Special Ed AM Run   3124         M373  Heavy Traffic   \n",
              "16          1227558  Special Ed AM Run   2052         L524      Flat Tire   \n",
              "18          1227561  Special Ed AM Run   2508         L531  Heavy Traffic   \n",
              "22          1227077  General Ed AM Run   2675        X2189          Other   \n",
              "\n",
              "   Schools_Serviced         Occurred_On          Created_On     Borough  \\\n",
              "0             75003 2015-11-05 08:10:00 2015-11-05 08:12:00  New Jersey   \n",
              "4             02116 2015-11-05 08:13:00 2015-11-05 08:14:00   Manhattan   \n",
              "16            17246 2015-11-05 08:22:00 2015-11-05 08:25:00         NaN   \n",
              "18            13009 2015-11-05 08:25:00 2015-11-05 08:26:00       Bronx   \n",
              "22            10095 2015-11-04 07:04:00 2015-11-04 07:11:00       Bronx   \n",
              "\n",
              "             Bus_Company_Name  ... Number_Of_Students_On_The_Bus  \\\n",
              "0   RELIANT TRANS, INC. (B232  ...                            11   \n",
              "4   RELIANT TRANS, INC. (B232  ...                             6   \n",
              "16  RELIANT TRANS, INC. (B232  ...                             4   \n",
              "18  RELIANT TRANS, INC. (B232  ...                             4   \n",
              "22    GRANDPA`S BUS CO., INC.  ...                             0   \n",
              "\n",
              "    Has_Contractor_Notified_Schools Has_Contractor_Notified_Parents  \\\n",
              "0                               Yes                              No   \n",
              "4                                No                              No   \n",
              "16                              Yes                             Yes   \n",
              "18                               No                              No   \n",
              "22                              Yes                             Yes   \n",
              "\n",
              "   Have_You_Alerted_OPT         Informed_On     Last_Updated_On  \\\n",
              "0                   Yes 2015-11-05 08:12:00 2015-11-05 08:12:14   \n",
              "4                    No 2015-11-05 08:14:00 2015-11-05 08:14:08   \n",
              "16                  Yes 2015-11-05 08:25:00 2015-11-05 08:25:11   \n",
              "18                   No 2015-11-05 08:26:00 2015-11-05 08:26:54   \n",
              "22                   No 2015-11-04 07:11:00 2015-11-04 07:11:53   \n",
              "\n",
              "   Breakdown_or_Running_Late School_Age_or_PreK school_start_year  \\\n",
              "0               Running Late         School-Age              2015   \n",
              "4               Running Late         School-Age              2015   \n",
              "16              Running Late         School-Age              2015   \n",
              "18              Running Late         School-Age              2015   \n",
              "22                 Breakdown         School-Age              2015   \n",
              "\n",
              "    school_end_year  \n",
              "0              2016  \n",
              "4              2016  \n",
              "16             2016  \n",
              "18             2016  \n",
              "22             2016  \n",
              "\n",
              "[5 rows x 21 columns]"
            ],
            "text/html": [
              "\n",
              "  <div id=\"df-a145f1b6-a887-4914-bb5d-a46d5d0622bb\">\n",
              "    <div class=\"colab-df-container\">\n",
              "      <div>\n",
              "<style scoped>\n",
              "    .dataframe tbody tr th:only-of-type {\n",
              "        vertical-align: middle;\n",
              "    }\n",
              "\n",
              "    .dataframe tbody tr th {\n",
              "        vertical-align: top;\n",
              "    }\n",
              "\n",
              "    .dataframe thead th {\n",
              "        text-align: right;\n",
              "    }\n",
              "</style>\n",
              "<table border=\"1\" class=\"dataframe\">\n",
              "  <thead>\n",
              "    <tr style=\"text-align: right;\">\n",
              "      <th></th>\n",
              "      <th>Busbreakdown_ID</th>\n",
              "      <th>Run_Type</th>\n",
              "      <th>Bus_No</th>\n",
              "      <th>Route_Number</th>\n",
              "      <th>Reason</th>\n",
              "      <th>Schools_Serviced</th>\n",
              "      <th>Occurred_On</th>\n",
              "      <th>Created_On</th>\n",
              "      <th>Borough</th>\n",
              "      <th>Bus_Company_Name</th>\n",
              "      <th>...</th>\n",
              "      <th>Number_Of_Students_On_The_Bus</th>\n",
              "      <th>Has_Contractor_Notified_Schools</th>\n",
              "      <th>Has_Contractor_Notified_Parents</th>\n",
              "      <th>Have_You_Alerted_OPT</th>\n",
              "      <th>Informed_On</th>\n",
              "      <th>Last_Updated_On</th>\n",
              "      <th>Breakdown_or_Running_Late</th>\n",
              "      <th>School_Age_or_PreK</th>\n",
              "      <th>school_start_year</th>\n",
              "      <th>school_end_year</th>\n",
              "    </tr>\n",
              "  </thead>\n",
              "  <tbody>\n",
              "    <tr>\n",
              "      <th>0</th>\n",
              "      <td>1227538</td>\n",
              "      <td>Special Ed AM Run</td>\n",
              "      <td>2621</td>\n",
              "      <td>J711</td>\n",
              "      <td>Heavy Traffic</td>\n",
              "      <td>75003</td>\n",
              "      <td>2015-11-05 08:10:00</td>\n",
              "      <td>2015-11-05 08:12:00</td>\n",
              "      <td>New Jersey</td>\n",
              "      <td>RELIANT TRANS, INC. (B232</td>\n",
              "      <td>...</td>\n",
              "      <td>11</td>\n",
              "      <td>Yes</td>\n",
              "      <td>No</td>\n",
              "      <td>Yes</td>\n",
              "      <td>2015-11-05 08:12:00</td>\n",
              "      <td>2015-11-05 08:12:14</td>\n",
              "      <td>Running Late</td>\n",
              "      <td>School-Age</td>\n",
              "      <td>2015</td>\n",
              "      <td>2016</td>\n",
              "    </tr>\n",
              "    <tr>\n",
              "      <th>4</th>\n",
              "      <td>1227542</td>\n",
              "      <td>Special Ed AM Run</td>\n",
              "      <td>3124</td>\n",
              "      <td>M373</td>\n",
              "      <td>Heavy Traffic</td>\n",
              "      <td>02116</td>\n",
              "      <td>2015-11-05 08:13:00</td>\n",
              "      <td>2015-11-05 08:14:00</td>\n",
              "      <td>Manhattan</td>\n",
              "      <td>RELIANT TRANS, INC. (B232</td>\n",
              "      <td>...</td>\n",
              "      <td>6</td>\n",
              "      <td>No</td>\n",
              "      <td>No</td>\n",
              "      <td>No</td>\n",
              "      <td>2015-11-05 08:14:00</td>\n",
              "      <td>2015-11-05 08:14:08</td>\n",
              "      <td>Running Late</td>\n",
              "      <td>School-Age</td>\n",
              "      <td>2015</td>\n",
              "      <td>2016</td>\n",
              "    </tr>\n",
              "    <tr>\n",
              "      <th>16</th>\n",
              "      <td>1227558</td>\n",
              "      <td>Special Ed AM Run</td>\n",
              "      <td>2052</td>\n",
              "      <td>L524</td>\n",
              "      <td>Flat Tire</td>\n",
              "      <td>17246</td>\n",
              "      <td>2015-11-05 08:22:00</td>\n",
              "      <td>2015-11-05 08:25:00</td>\n",
              "      <td>NaN</td>\n",
              "      <td>RELIANT TRANS, INC. (B232</td>\n",
              "      <td>...</td>\n",
              "      <td>4</td>\n",
              "      <td>Yes</td>\n",
              "      <td>Yes</td>\n",
              "      <td>Yes</td>\n",
              "      <td>2015-11-05 08:25:00</td>\n",
              "      <td>2015-11-05 08:25:11</td>\n",
              "      <td>Running Late</td>\n",
              "      <td>School-Age</td>\n",
              "      <td>2015</td>\n",
              "      <td>2016</td>\n",
              "    </tr>\n",
              "    <tr>\n",
              "      <th>18</th>\n",
              "      <td>1227561</td>\n",
              "      <td>Special Ed AM Run</td>\n",
              "      <td>2508</td>\n",
              "      <td>L531</td>\n",
              "      <td>Heavy Traffic</td>\n",
              "      <td>13009</td>\n",
              "      <td>2015-11-05 08:25:00</td>\n",
              "      <td>2015-11-05 08:26:00</td>\n",
              "      <td>Bronx</td>\n",
              "      <td>RELIANT TRANS, INC. (B232</td>\n",
              "      <td>...</td>\n",
              "      <td>4</td>\n",
              "      <td>No</td>\n",
              "      <td>No</td>\n",
              "      <td>No</td>\n",
              "      <td>2015-11-05 08:26:00</td>\n",
              "      <td>2015-11-05 08:26:54</td>\n",
              "      <td>Running Late</td>\n",
              "      <td>School-Age</td>\n",
              "      <td>2015</td>\n",
              "      <td>2016</td>\n",
              "    </tr>\n",
              "    <tr>\n",
              "      <th>22</th>\n",
              "      <td>1227077</td>\n",
              "      <td>General Ed AM Run</td>\n",
              "      <td>2675</td>\n",
              "      <td>X2189</td>\n",
              "      <td>Other</td>\n",
              "      <td>10095</td>\n",
              "      <td>2015-11-04 07:04:00</td>\n",
              "      <td>2015-11-04 07:11:00</td>\n",
              "      <td>Bronx</td>\n",
              "      <td>GRANDPA`S BUS CO., INC.</td>\n",
              "      <td>...</td>\n",
              "      <td>0</td>\n",
              "      <td>Yes</td>\n",
              "      <td>Yes</td>\n",
              "      <td>No</td>\n",
              "      <td>2015-11-04 07:11:00</td>\n",
              "      <td>2015-11-04 07:11:53</td>\n",
              "      <td>Breakdown</td>\n",
              "      <td>School-Age</td>\n",
              "      <td>2015</td>\n",
              "      <td>2016</td>\n",
              "    </tr>\n",
              "  </tbody>\n",
              "</table>\n",
              "<p>5 rows × 21 columns</p>\n",
              "</div>\n",
              "      <button class=\"colab-df-convert\" onclick=\"convertToInteractive('df-a145f1b6-a887-4914-bb5d-a46d5d0622bb')\"\n",
              "              title=\"Convert this dataframe to an interactive table.\"\n",
              "              style=\"display:none;\">\n",
              "        \n",
              "  <svg xmlns=\"http://www.w3.org/2000/svg\" height=\"24px\"viewBox=\"0 0 24 24\"\n",
              "       width=\"24px\">\n",
              "    <path d=\"M0 0h24v24H0V0z\" fill=\"none\"/>\n",
              "    <path d=\"M18.56 5.44l.94 2.06.94-2.06 2.06-.94-2.06-.94-.94-2.06-.94 2.06-2.06.94zm-11 1L8.5 8.5l.94-2.06 2.06-.94-2.06-.94L8.5 2.5l-.94 2.06-2.06.94zm10 10l.94 2.06.94-2.06 2.06-.94-2.06-.94-.94-2.06-.94 2.06-2.06.94z\"/><path d=\"M17.41 7.96l-1.37-1.37c-.4-.4-.92-.59-1.43-.59-.52 0-1.04.2-1.43.59L10.3 9.45l-7.72 7.72c-.78.78-.78 2.05 0 2.83L4 21.41c.39.39.9.59 1.41.59.51 0 1.02-.2 1.41-.59l7.78-7.78 2.81-2.81c.8-.78.8-2.07 0-2.86zM5.41 20L4 18.59l7.72-7.72 1.47 1.35L5.41 20z\"/>\n",
              "  </svg>\n",
              "      </button>\n",
              "      \n",
              "  <style>\n",
              "    .colab-df-container {\n",
              "      display:flex;\n",
              "      flex-wrap:wrap;\n",
              "      gap: 12px;\n",
              "    }\n",
              "\n",
              "    .colab-df-convert {\n",
              "      background-color: #E8F0FE;\n",
              "      border: none;\n",
              "      border-radius: 50%;\n",
              "      cursor: pointer;\n",
              "      display: none;\n",
              "      fill: #1967D2;\n",
              "      height: 32px;\n",
              "      padding: 0 0 0 0;\n",
              "      width: 32px;\n",
              "    }\n",
              "\n",
              "    .colab-df-convert:hover {\n",
              "      background-color: #E2EBFA;\n",
              "      box-shadow: 0px 1px 2px rgba(60, 64, 67, 0.3), 0px 1px 3px 1px rgba(60, 64, 67, 0.15);\n",
              "      fill: #174EA6;\n",
              "    }\n",
              "\n",
              "    [theme=dark] .colab-df-convert {\n",
              "      background-color: #3B4455;\n",
              "      fill: #D2E3FC;\n",
              "    }\n",
              "\n",
              "    [theme=dark] .colab-df-convert:hover {\n",
              "      background-color: #434B5C;\n",
              "      box-shadow: 0px 1px 3px 1px rgba(0, 0, 0, 0.15);\n",
              "      filter: drop-shadow(0px 1px 2px rgba(0, 0, 0, 0.3));\n",
              "      fill: #FFFFFF;\n",
              "    }\n",
              "  </style>\n",
              "\n",
              "      <script>\n",
              "        const buttonEl =\n",
              "          document.querySelector('#df-a145f1b6-a887-4914-bb5d-a46d5d0622bb button.colab-df-convert');\n",
              "        buttonEl.style.display =\n",
              "          google.colab.kernel.accessAllowed ? 'block' : 'none';\n",
              "\n",
              "        async function convertToInteractive(key) {\n",
              "          const element = document.querySelector('#df-a145f1b6-a887-4914-bb5d-a46d5d0622bb');\n",
              "          const dataTable =\n",
              "            await google.colab.kernel.invokeFunction('convertToInteractive',\n",
              "                                                     [key], {});\n",
              "          if (!dataTable) return;\n",
              "\n",
              "          const docLinkHtml = 'Like what you see? Visit the ' +\n",
              "            '<a target=\"_blank\" href=https://colab.research.google.com/notebooks/data_table.ipynb>data table notebook</a>'\n",
              "            + ' to learn more about interactive tables.';\n",
              "          element.innerHTML = '';\n",
              "          dataTable['output_type'] = 'display_data';\n",
              "          await google.colab.output.renderOutput(dataTable, element);\n",
              "          const docLink = document.createElement('div');\n",
              "          docLink.innerHTML = docLinkHtml;\n",
              "          element.appendChild(docLink);\n",
              "        }\n",
              "      </script>\n",
              "    </div>\n",
              "  </div>\n",
              "  "
            ]
          },
          "metadata": {},
          "execution_count": 9
        }
      ]
    },
    {
      "cell_type": "code",
      "source": [
        "msno.matrix(pred_col)"
      ],
      "metadata": {
        "colab": {
          "base_uri": "https://localhost:8080/",
          "height": 622
        },
        "id": "jQtKZW3jh3z3",
        "outputId": "ca9f651c-2dc1-4a01-d491-52e8f17f8c44"
      },
      "execution_count": 10,
      "outputs": [
        {
          "output_type": "execute_result",
          "data": {
            "text/plain": [
              "<matplotlib.axes._subplots.AxesSubplot at 0x7f1778aa00a0>"
            ]
          },
          "metadata": {},
          "execution_count": 10
        },
        {
          "output_type": "display_data",
          "data": {
            "text/plain": [
              "<Figure size 1800x720 with 2 Axes>"
            ],
            "image/png": "[encoded data removed]"
          },
          "metadata": {
            "needs_background": "light"
          }
        }
      ]
    },
    {
      "cell_type": "code",
      "source": [
        "df1['How_Long_Delayed'].value_counts().head(50)#this is some shitty data i need to clean it include mins minute this column my target column also i need to I also need to handle values ​​that give minute intervals"
      ],
      "metadata": {
        "id": "eYaWduWti1fo",
        "colab": {
          "base_uri": "https://localhost:8080/"
        },
        "outputId": "69ac97f5-c733-4fb5-a2f6-fa0fc27b39d4"
      },
      "execution_count": 11,
      "outputs": [
        {
          "output_type": "execute_result",
          "data": {
            "text/plain": [
              "31-45 Min     119486\n",
              "16-30 Min     111475\n",
              "46-60 Min      64958\n",
              "0-15 Min       40152\n",
              "61-90 Min      27713\n",
              "20 MINS         5730\n",
              "30 MINS         4688\n",
              "30 minutes      3757\n",
              "15 mins         3538\n",
              "30MINS          3207\n",
              "20 mins         3170\n",
              "20 min          2940\n",
              "30 min          2928\n",
              "15 MINS         2853\n",
              "20 MIN          2624\n",
              "30 MIN          2539\n",
              "20              2499\n",
              "15MINS          1989\n",
              "30 mins         1903\n",
              "15 minutes      1787\n",
              "45 MIN          1785\n",
              "25 MIN          1746\n",
              "45 MINS         1716\n",
              "20-30 min       1570\n",
              "25 MINS         1540\n",
              "10 mins         1472\n",
              "30mins          1371\n",
              "15 min          1315\n",
              "45MINS          1297\n",
              "20mins          1267\n",
              "30min           1125\n",
              "15MIN           1120\n",
              "20-30mins       1089\n",
              "20MIN           1064\n",
              "25 min          1039\n",
              "45MIN           1033\n",
              "15              1015\n",
              "20 MINTUES      1013\n",
              "30               980\n",
              "10 MIN           953\n",
              "1 hr             875\n",
              "15-20 min        869\n",
              "25-30 MIN        828\n",
              "20 minutes       823\n",
              "25 mins          800\n",
              "25 MINUTES       786\n",
              "45 mins          764\n",
              "20MINS           759\n",
              "10 minutes       716\n",
              "15 MIN           690\n",
              "Name: How_Long_Delayed, dtype: int64"
            ]
          },
          "metadata": {},
          "execution_count": 11
        }
      ]
    },
    {
      "cell_type": "code",
      "source": [
        "a=['h','H']\n",
        "mask = df1['How_Long_Delayed'].str.contains('|'.join(a), case=False)\n",
        "df_filtered = df1[mask]\n",
        "value_counts = df_filtered['How_Long_Delayed'].value_counts()\n",
        "\n",
        "value_counts[:60]"
      ],
      "metadata": {
        "id": "FfD6T6A0Eqxp",
        "colab": {
          "base_uri": "https://localhost:8080/"
        },
        "outputId": "957b1e2a-f2a8-4ff5-faf1-f7f67c65a696"
      },
      "execution_count": 12,
      "outputs": [
        {
          "output_type": "execute_result",
          "data": {
            "text/plain": [
              "1 hr          875\n",
              "1 HOUR        668\n",
              "1 hour        529\n",
              "1 HR          425\n",
              "1HR           334\n",
              "1hr           290\n",
              "1 Hour        226\n",
              "1/2 HOUR       98\n",
              "1HOUR          80\n",
              "1 Hr           49\n",
              "2HRS           44\n",
              "1hour          37\n",
              "1/2 hour       37\n",
              "45min/1hr      35\n",
              "1 hr 30min     29\n",
              "1/2 hr         28\n",
              "1 hr 30 mi     26\n",
              "1HRS           25\n",
              "1 HR.          20\n",
              "1hr 30mins     16\n",
              "2 hours        15\n",
              "1hr 15mins     15\n",
              "1/2 HOUR?      15\n",
              "45-1hr         14\n",
              "45 min-1 h     14\n",
              "2 HRS          14\n",
              "1hr 20mins     14\n",
              "1.5 hour       10\n",
              "1 1/2 HR        9\n",
              "2 hrs           9\n",
              "2 HOURS         7\n",
              "1 hr 30         7\n",
              "45 min-1hr      7\n",
              "1hr 30 min      6\n",
              "1HR 30 MIN      6\n",
              "1hr?????        6\n",
              "45MIN-1HR       5\n",
              "45-1hour        5\n",
              "1hr/30min       5\n",
              "45 -1 hour      5\n",
              "1 hrs           4\n",
              "45min-1hr       4\n",
              "2 hr            4\n",
              "1hr????         4\n",
              "1hr 30min       3\n",
              "1hr-1 1/2       3\n",
              "1 HRS           3\n",
              "45-1 HR         3\n",
              "2hr             3\n",
              "2 hour          3\n",
              "1 hr.           3\n",
              "1.5 HRS         3\n",
              "1/2hour         3\n",
              "1 HOUR 15M      3\n",
              "45min-1 hr      3\n",
              "45-1HR          3\n",
              "1HR 30MIN       3\n",
              "2hrs            2\n",
              "1:hr            2\n",
              "1HR +           2\n",
              "Name: How_Long_Delayed, dtype: int64"
            ]
          },
          "metadata": {},
          "execution_count": 12
        }
      ]
    },
    {
      "cell_type": "markdown",
      "source": [
        "### solution attempt 1 \n",
        "### my path is going to seperate data frame by minutes or hour which contains h, hr or m minute \n",
        "### after then turn hour ones minute and if it is sliced take avarage in column \n",
        "### also minute one is needs to clean but it is going to more easy  it's path is the same clean minute part and take average of two sliced part "
      ],
      "metadata": {
        "id": "TrZwK5bi-2AX"
      }
    },
    {
      "cell_type": "code",
      "source": [
        "\n",
        "\n",
        "# create the 'minutes' DataFrame\n",
        "minutes_df = df1.loc[df1['How_Long_Delayed'].str.contains(\"m|M\", na=False)]\n",
        "\n",
        "# create the 'hours' DataFrame\n",
        "hours_df = df1.loc[df1['How_Long_Delayed'].str.contains(\"h|H\", na=False)] \n",
        "hours_df['How_Long_Delayed'].value_counts()"
      ],
      "metadata": {
        "id": "MW1u_trNiQn1",
        "colab": {
          "base_uri": "https://localhost:8080/"
        },
        "outputId": "7223a709-5aa5-4b3c-d6e6-751238ce9b93"
      },
      "execution_count": 13,
      "outputs": [
        {
          "output_type": "execute_result",
          "data": {
            "text/plain": [
              "1 hr          875\n",
              "1 HOUR        668\n",
              "1 hour        529\n",
              "1 HR          425\n",
              "1HR           334\n",
              "             ... \n",
              "1hr/15min       1\n",
              "1hr45min        1\n",
              "1hr 45mins      1\n",
              "45/1HR          1\n",
              "1:00 hour       1\n",
              "Name: How_Long_Delayed, Length: 174, dtype: int64"
            ]
          },
          "metadata": {},
          "execution_count": 13
        }
      ]
    },
    {
      "cell_type": "code",
      "source": [
        "minutes_df['How_Long_Delayed'] = minutes_df['How_Long_Delayed'].str.lower()"
      ],
      "metadata": {
        "id": "wRkpm0yh2Jlw",
        "colab": {
          "base_uri": "https://localhost:8080/"
        },
        "outputId": "bf6ed787-754b-48ca-ddce-9c7f5140b383"
      },
      "execution_count": 14,
      "outputs": [
        {
          "output_type": "stream",
          "name": "stderr",
          "text": [
            "<ipython-input-14-1bf4602f256a>:1: SettingWithCopyWarning: \n",
            "A value is trying to be set on a copy of a slice from a DataFrame.\n",
            "Try using .loc[row_indexer,col_indexer] = value instead\n",
            "\n",
            "See the caveats in the documentation: https://pandas.pydata.org/pandas-docs/stable/user_guide/indexing.html#returning-a-view-versus-a-copy\n",
            "  minutes_df['How_Long_Delayed'] = minutes_df['How_Long_Delayed'].str.lower()\n"
          ]
        }
      ]
    },
    {
      "cell_type": "code",
      "source": [
        "minutes_df['How_Long_Delayed'].value_counts()"
      ],
      "metadata": {
        "colab": {
          "base_uri": "https://localhost:8080/"
        },
        "id": "1M56UbLEBY18",
        "outputId": "9f85b2d5-fe71-4688-d773-84f5a1aca486"
      },
      "execution_count": 15,
      "outputs": [
        {
          "output_type": "execute_result",
          "data": {
            "text/plain": [
              "31-45 min     119486\n",
              "16-30 min     111475\n",
              "46-60 min      64958\n",
              "0-15 min       40152\n",
              "61-90 min      27713\n",
              "               ...  \n",
              "est.9:15am         1\n",
              "30 minj            1\n",
              "10-15 mion         1\n",
              "30mine             1\n",
              "45 miniute         1\n",
              "Name: How_Long_Delayed, Length: 1078, dtype: int64"
            ]
          },
          "metadata": {},
          "execution_count": 15
        }
      ]
    },
    {
      "cell_type": "code",
      "source": [
        "hours_df['How_Long_Delayed']=hours_df['How_Long_Delayed'].str.lower() "
      ],
      "metadata": {
        "colab": {
          "base_uri": "https://localhost:8080/"
        },
        "id": "ZR0ujAYBRbwJ",
        "outputId": "1ec3c861-2d6f-4daf-e21b-5043622d7d84"
      },
      "execution_count": 16,
      "outputs": [
        {
          "output_type": "stream",
          "name": "stderr",
          "text": [
            "<ipython-input-16-0690c46fa559>:1: SettingWithCopyWarning: \n",
            "A value is trying to be set on a copy of a slice from a DataFrame.\n",
            "Try using .loc[row_indexer,col_indexer] = value instead\n",
            "\n",
            "See the caveats in the documentation: https://pandas.pydata.org/pandas-docs/stable/user_guide/indexing.html#returning-a-view-versus-a-copy\n",
            "  hours_df['How_Long_Delayed']=hours_df['How_Long_Delayed'].str.lower()\n"
          ]
        }
      ]
    },
    {
      "cell_type": "code",
      "source": [
        "hours_df['How_Long_Delayed'].value_counts()"
      ],
      "metadata": {
        "colab": {
          "base_uri": "https://localhost:8080/"
        },
        "id": "uo3wqZv94bGt",
        "outputId": "2c3b4763-dc6d-4562-b219-d9238c1c651b"
      },
      "execution_count": 17,
      "outputs": [
        {
          "output_type": "execute_result",
          "data": {
            "text/plain": [
              "1 hour       1423\n",
              "1 hr         1349\n",
              "1hr           625\n",
              "1/2 hour      135\n",
              "1hour         118\n",
              "             ... \n",
              "40/1hr          1\n",
              "1:30 h          1\n",
              "30hour          1\n",
              "451hr           1\n",
              "1:00 hour       1\n",
              "Name: How_Long_Delayed, Length: 139, dtype: int64"
            ]
          },
          "metadata": {},
          "execution_count": 17
        }
      ]
    },
    {
      "cell_type": "code",
      "source": [
        "def clean_data(df, column):\n",
        "    new_column = column + \"_clean\"\n",
        "    df[new_column] = df[column].apply(lambda x: x.split(\"/\")[1] if \"/\" in x else x.split(\"-\")[1] if \"-\" in x else x)\n",
        "    df[column]= df[column].apply(lambda x: x.split(\"/\")[0] if \"/\" in x else x.split(\"-\")[0] if \"-\" in x else x)\n",
        "\n",
        "\n",
        "clean_data(hours_df,'How_Long_Delayed' )\n"
      ],
      "metadata": {
        "colab": {
          "base_uri": "https://localhost:8080/"
        },
        "id": "702zKQzhpl_C",
        "outputId": "76c28924-cfcb-4140-9657-afcc89414d76"
      },
      "execution_count": 18,
      "outputs": [
        {
          "output_type": "stream",
          "name": "stderr",
          "text": [
            "<ipython-input-18-673305a39c45>:3: SettingWithCopyWarning: \n",
            "A value is trying to be set on a copy of a slice from a DataFrame.\n",
            "Try using .loc[row_indexer,col_indexer] = value instead\n",
            "\n",
            "See the caveats in the documentation: https://pandas.pydata.org/pandas-docs/stable/user_guide/indexing.html#returning-a-view-versus-a-copy\n",
            "  df[new_column] = df[column].apply(lambda x: x.split(\"/\")[1] if \"/\" in x else x.split(\"-\")[1] if \"-\" in x else x)\n",
            "<ipython-input-18-673305a39c45>:4: SettingWithCopyWarning: \n",
            "A value is trying to be set on a copy of a slice from a DataFrame.\n",
            "Try using .loc[row_indexer,col_indexer] = value instead\n",
            "\n",
            "See the caveats in the documentation: https://pandas.pydata.org/pandas-docs/stable/user_guide/indexing.html#returning-a-view-versus-a-copy\n",
            "  df[column]= df[column].apply(lambda x: x.split(\"/\")[0] if \"/\" in x else x.split(\"-\")[0] if \"-\" in x else x)\n"
          ]
        }
      ]
    },
    {
      "cell_type": "code",
      "source": [
        "hours_df[['How_Long_Delayed']].value_counts().head(60)"
      ],
      "metadata": {
        "colab": {
          "base_uri": "https://localhost:8080/"
        },
        "id": "erEzDavqs7gP",
        "outputId": "89933a08-645b-42bb-f008-df08183b57df"
      },
      "execution_count": 42,
      "outputs": [
        {
          "output_type": "execute_result",
          "data": {
            "text/plain": [
              "How_Long_Delayed\n",
              "1 hour              1423\n",
              "1 hr                1349\n",
              "1hr                  637\n",
              "1                    184\n",
              "1hour                118\n",
              "45min                 47\n",
              "2hrs                  46\n",
              "1 hr 30min            30\n",
              "1 hr 30 mi            28\n",
              "45                    27\n",
              "1hrs                  25\n",
              "2 hours               24\n",
              "1 hr.                 24\n",
              "2 hrs                 23\n",
              "45 min                22\n",
              "1hr 30mins            16\n",
              "1hr 15mins            15\n",
              "1hr 20mins            14\n",
              "1hr 30 min            12\n",
              "1 1                   11\n",
              "1.5 hour              10\n",
              "1 hr 30                7\n",
              "1 hrs                  7\n",
              "1hr 30min              6\n",
              "1hr?????               6\n",
              "45                     6\n",
              "2 hour                 5\n",
              "1hr????                4\n",
              "2 hr                   4\n",
              "50                     4\n",
              "1:hr                   4\n",
              "40                     4\n",
              "2:hr                   4\n",
              "1 hours                4\n",
              "2hr                    4\n",
              "1 hour 15m             3\n",
              "1hr-1 1                3\n",
              "hour                   3\n",
              "1.5 hrs                3\n",
              "half hour              3\n",
              "1hr???                 2\n",
              "45mins 1hr             2\n",
              "1hr. 20 mi             2\n",
              "50min 1hr              2\n",
              "1hr 45 min             2\n",
              "1hr 40 min             2\n",
              "2:hrs                  2\n",
              "45min                  2\n",
              "2 hrs.                 2\n",
              "one hour               2\n",
              "1hour 20mi             2\n",
              "1hr +                  2\n",
              "1 hr 15                2\n",
              "1:30 h                 2\n",
              "1 hour?                2\n",
              "1hr                    2\n",
              "1 h                    2\n",
              "4 hrs                  1\n",
              "4 hours                1\n",
              "30mins                 1\n",
              "dtype: int64"
            ]
          },
          "metadata": {},
          "execution_count": 42
        }
      ]
    },
    {
      "cell_type": "code",
      "source": [
        "hours_df[['How_Long_Delayed']].value_counts().tail(60)"
      ],
      "metadata": {
        "id": "_RYi1srksXXw"
      },
      "execution_count": null,
      "outputs": []
    },
    {
      "cell_type": "markdown",
      "source": [
        "### this worked now it is time for change drop if index has any \"h\" and replace with multipled 60 if it has  minute it needs to add hours and minute "
      ],
      "metadata": {
        "id": "b-zK8G1irqR_"
      }
    },
    {
      "cell_type": "code",
      "source": [
        "hours_df['How_Long_Delayed'].apply(lambda x: ((x.split('h')[0]).replace)"
      ],
      "metadata": {
        "colab": {
          "base_uri": "https://localhost:8080/"
        },
        "id": "vHgszaLJqvCY",
        "outputId": "6f736558-a92d-4d84-cb4d-3a1597473f1e"
      },
      "execution_count": 37,
      "outputs": [
        {
          "output_type": "execute_result",
          "data": {
            "text/plain": [
              "80         1\n",
              "93         1\n",
              "336        1\n",
              "459       1 \n",
              "466       1 \n",
              "          ..\n",
              "313036    1 \n",
              "313039    1 \n",
              "313078    1 \n",
              "313127    1 \n",
              "313142    1 \n",
              "Name: How_Long_Delayed, Length: 4257, dtype: object"
            ]
          },
          "metadata": {},
          "execution_count": 37
        }
      ]
    },
    {
      "cell_type": "code",
      "source": [
        "hours_df['How_Long_Delayed'].apply(lambda x: x.split(\"/\")[1] if \"/\" in x else x.split(\"-\")[1] if \"-\" in x else x)\n"
      ],
      "metadata": {
        "id": "WY5fW3eyxRSu"
      },
      "execution_count": null,
      "outputs": []
    },
    {
      "cell_type": "code",
      "source": [
        "def convert_index(df):\n",
        "    df.index = df.map(lambda x: float(x.split(\"h\")[0])*60 + float(x.split(\"m\")[0].strip()) if \"h\" in x else float(x.split(\"m\")[0].strip()) if \"m\" in x else x)\n",
        "    return df\n",
        "\n",
        "convert_index(hours_df['How_Long_Delayed'])\n"
      ],
      "metadata": {
        "id": "9BoqYzHMxXmL"
      },
      "execution_count": null,
      "outputs": []
    },
    {
      "cell_type": "code",
      "source": [],
      "metadata": {
        "colab": {
          "base_uri": "https://localhost:8080/",
          "height": 250
        },
        "id": "wYXTTiHRz4Bl",
        "outputId": "c45b6ade-ce4c-4cef-de85-db0dd729c87a"
      },
      "execution_count": 34,
      "outputs": [
        {
          "output_type": "error",
          "ename": "ValueError",
          "evalue": "ignored",
          "traceback": [
            "\u001b[0;31m---------------------------------------------------------------------------\u001b[0m",
            "\u001b[0;31mValueError\u001b[0m                                Traceback (most recent call last)",
            "\u001b[0;32m<ipython-input-34-eb4525eaec0b>\u001b[0m in \u001b[0;36m<module>\u001b[0;34m\u001b[0m\n\u001b[0;32m----> 1\u001b[0;31m \u001b[0mhours_df\u001b[0m\u001b[0;34m[\u001b[0m\u001b[0;34m'How_Long_Delayed'\u001b[0m\u001b[0;34m]\u001b[0m\u001b[0;34m.\u001b[0m\u001b[0mmap\u001b[0m\u001b[0;34m(\u001b[0m\u001b[0;32mlambda\u001b[0m \u001b[0mx\u001b[0m\u001b[0;34m:\u001b[0m \u001b[0mfloat\u001b[0m\u001b[0;34m(\u001b[0m\u001b[0mx\u001b[0m\u001b[0;34m.\u001b[0m\u001b[0msplit\u001b[0m\u001b[0;34m(\u001b[0m\u001b[0;34m\"h\"\u001b[0m\u001b[0;34m)\u001b[0m\u001b[0;34m[\u001b[0m\u001b[0;36m0\u001b[0m\u001b[0;34m]\u001b[0m\u001b[0;34m)\u001b[0m\u001b[0;34m*\u001b[0m\u001b[0;36m60\u001b[0m \u001b[0;34m+\u001b[0m \u001b[0mfloat\u001b[0m\u001b[0;34m(\u001b[0m\u001b[0mx\u001b[0m\u001b[0;34m.\u001b[0m\u001b[0msplit\u001b[0m\u001b[0;34m(\u001b[0m\u001b[0;34m\"m\"\u001b[0m\u001b[0;34m)\u001b[0m\u001b[0;34m[\u001b[0m\u001b[0;36m0\u001b[0m\u001b[0;34m]\u001b[0m\u001b[0;34m.\u001b[0m\u001b[0mstrip\u001b[0m\u001b[0;34m(\u001b[0m\u001b[0;34m)\u001b[0m\u001b[0;34m)\u001b[0m\u001b[0;34m)\u001b[0m\u001b[0;34m\u001b[0m\u001b[0;34m\u001b[0m\u001b[0m\n\u001b[0m",
            "\u001b[0;32m/usr/local/lib/python3.8/dist-packages/pandas/core/series.py\u001b[0m in \u001b[0;36mmap\u001b[0;34m(self, arg, na_action)\u001b[0m\n\u001b[1;32m   4159\u001b[0m         \u001b[0mdtype\u001b[0m\u001b[0;34m:\u001b[0m \u001b[0mobject\u001b[0m\u001b[0;34m\u001b[0m\u001b[0;34m\u001b[0m\u001b[0m\n\u001b[1;32m   4160\u001b[0m         \"\"\"\n\u001b[0;32m-> 4161\u001b[0;31m         \u001b[0mnew_values\u001b[0m \u001b[0;34m=\u001b[0m \u001b[0msuper\u001b[0m\u001b[0;34m(\u001b[0m\u001b[0;34m)\u001b[0m\u001b[0;34m.\u001b[0m\u001b[0m_map_values\u001b[0m\u001b[0;34m(\u001b[0m\u001b[0marg\u001b[0m\u001b[0;34m,\u001b[0m \u001b[0mna_action\u001b[0m\u001b[0;34m=\u001b[0m\u001b[0mna_action\u001b[0m\u001b[0;34m)\u001b[0m\u001b[0;34m\u001b[0m\u001b[0;34m\u001b[0m\u001b[0m\n\u001b[0m\u001b[1;32m   4162\u001b[0m         return self._constructor(new_values, index=self.index).__finalize__(\n\u001b[1;32m   4163\u001b[0m             \u001b[0mself\u001b[0m\u001b[0;34m,\u001b[0m \u001b[0mmethod\u001b[0m\u001b[0;34m=\u001b[0m\u001b[0;34m\"map\"\u001b[0m\u001b[0;34m\u001b[0m\u001b[0;34m\u001b[0m\u001b[0m\n",
            "\u001b[0;32m/usr/local/lib/python3.8/dist-packages/pandas/core/base.py\u001b[0m in \u001b[0;36m_map_values\u001b[0;34m(self, mapper, na_action)\u001b[0m\n\u001b[1;32m    868\u001b[0m \u001b[0;34m\u001b[0m\u001b[0m\n\u001b[1;32m    869\u001b[0m         \u001b[0;31m# mapper is a function\u001b[0m\u001b[0;34m\u001b[0m\u001b[0;34m\u001b[0m\u001b[0;34m\u001b[0m\u001b[0m\n\u001b[0;32m--> 870\u001b[0;31m         \u001b[0mnew_values\u001b[0m \u001b[0;34m=\u001b[0m \u001b[0mmap_f\u001b[0m\u001b[0;34m(\u001b[0m\u001b[0mvalues\u001b[0m\u001b[0;34m,\u001b[0m \u001b[0mmapper\u001b[0m\u001b[0;34m)\u001b[0m\u001b[0;34m\u001b[0m\u001b[0;34m\u001b[0m\u001b[0m\n\u001b[0m\u001b[1;32m    871\u001b[0m \u001b[0;34m\u001b[0m\u001b[0m\n\u001b[1;32m    872\u001b[0m         \u001b[0;32mreturn\u001b[0m \u001b[0mnew_values\u001b[0m\u001b[0;34m\u001b[0m\u001b[0;34m\u001b[0m\u001b[0m\n",
            "\u001b[0;32m/usr/local/lib/python3.8/dist-packages/pandas/_libs/lib.pyx\u001b[0m in \u001b[0;36mpandas._libs.lib.map_infer\u001b[0;34m()\u001b[0m\n",
            "\u001b[0;32m<ipython-input-34-eb4525eaec0b>\u001b[0m in \u001b[0;36m<lambda>\u001b[0;34m(x)\u001b[0m\n\u001b[0;32m----> 1\u001b[0;31m \u001b[0mhours_df\u001b[0m\u001b[0;34m[\u001b[0m\u001b[0;34m'How_Long_Delayed'\u001b[0m\u001b[0;34m]\u001b[0m\u001b[0;34m.\u001b[0m\u001b[0mmap\u001b[0m\u001b[0;34m(\u001b[0m\u001b[0;32mlambda\u001b[0m \u001b[0mx\u001b[0m\u001b[0;34m:\u001b[0m \u001b[0mfloat\u001b[0m\u001b[0;34m(\u001b[0m\u001b[0mx\u001b[0m\u001b[0;34m.\u001b[0m\u001b[0msplit\u001b[0m\u001b[0;34m(\u001b[0m\u001b[0;34m\"h\"\u001b[0m\u001b[0;34m)\u001b[0m\u001b[0;34m[\u001b[0m\u001b[0;36m0\u001b[0m\u001b[0;34m]\u001b[0m\u001b[0;34m)\u001b[0m\u001b[0;34m*\u001b[0m\u001b[0;36m60\u001b[0m \u001b[0;34m+\u001b[0m \u001b[0mfloat\u001b[0m\u001b[0;34m(\u001b[0m\u001b[0mx\u001b[0m\u001b[0;34m.\u001b[0m\u001b[0msplit\u001b[0m\u001b[0;34m(\u001b[0m\u001b[0;34m\"m\"\u001b[0m\u001b[0;34m)\u001b[0m\u001b[0;34m[\u001b[0m\u001b[0;36m0\u001b[0m\u001b[0;34m]\u001b[0m\u001b[0;34m.\u001b[0m\u001b[0mstrip\u001b[0m\u001b[0;34m(\u001b[0m\u001b[0;34m)\u001b[0m\u001b[0;34m)\u001b[0m\u001b[0;34m)\u001b[0m\u001b[0;34m\u001b[0m\u001b[0;34m\u001b[0m\u001b[0m\n\u001b[0m",
            "\u001b[0;31mValueError\u001b[0m: could not convert string to float: '1hr'"
          ]
        }
      ]
    },
    {
      "cell_type": "code",
      "source": [],
      "metadata": {
        "id": "AQDbJCe12F58"
      },
      "execution_count": null,
      "outputs": []
    }
  ]
}