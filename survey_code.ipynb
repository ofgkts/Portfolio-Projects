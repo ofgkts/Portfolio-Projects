{
  "nbformat": 4,
  "nbformat_minor": 0,
  "metadata": {
    "colab": {
      "provenance": [],
      "toc_visible": true,
      "mount_file_id": "17AsvkEXWy2eEPTFSc2FO427tE9h2rNjI",
      "authorship_tag": "ABX9TyP8s11MJeCVa8mQKKG2lYUp",
      "include_colab_link": true
    },
    "kernelspec": {
      "name": "python3",
      "display_name": "Python 3"
    },
    "language_info": {
      "name": "python"
    }
  },
  "cells": [
    {
      "cell_type": "markdown",
      "metadata": {
        "id": "view-in-github",
        "colab_type": "text"
      },
      "source": [
        "<a href=\"https://colab.research.google.com/github/ofgkts/Portfolio-Projects/blob/main/survey_code.ipynb\" target=\"_parent\"><img src=\"https://colab.research.google.com/assets/colab-badge.svg\" alt=\"Open In Colab\"/></a>"
      ]
    },
    {
      "cell_type": "markdown",
      "source": [
        "#2023 3'rd quarter Turkiye Software engineers salary survey\n",
        "purpose of this notebook is cleaning and analyzing data before tableu i take this data from https://twitter.com/AltugAkgul/status/1687848297329790976?s=20  "
      ],
      "metadata": {
        "id": "yt_niXmRi3OP"
      }
    },
    {
      "cell_type": "code",
      "execution_count": 1,
      "metadata": {
        "id": "jtSrXKEsfpMV",
        "colab": {
          "base_uri": "https://localhost:8080/",
          "height": 565
        },
        "outputId": "58c36db2-aea8-4b10-c88a-64977926897a"
      },
      "outputs": [
        {
          "output_type": "execute_result",
          "data": {
            "text/plain": [
              "  Submission Date Cinsiyet                                     Yan haklarınız  \\\n",
              "0     Ağu 5, 2023    Erkek  Yemek kartı\\nYol / yakıt yardımı\\nPersonel ser...   \n",
              "1     Ağu 5, 2023    Erkek  Yemek kartı\\nTamamlayıcı sağlık sigortası\\nBel...   \n",
              "2     Ağu 5, 2023    Erkek                      Yemek kartı\\nPersonel servisi   \n",
              "3     Ağu 5, 2023    Erkek  Belirli günlerde izin(doğum günü, regl izni gibi)   \n",
              "4     Ağu 5, 2023    Kadın                                        Yemek kartı   \n",
              "\n",
              "  Şirketiniz hangi lokasyon merkezli?  \\\n",
              "0                             Türkiye   \n",
              "1                             Türkiye   \n",
              "2                             Türkiye   \n",
              "3                             Türkiye   \n",
              "4                             Türkiye   \n",
              "\n",
              "  Şirketiniz hangi şehirde? (Eğer Türkiye ise) Çalışma şekliniz nedir?  \\\n",
              "0                                  34 İstanbul                  Hybrid   \n",
              "1                                  34 İstanbul                  Remote   \n",
              "2                                  34 İstanbul                  Ofiste   \n",
              "3                                     60 Tokat                  Remote   \n",
              "4                                     16 Bursa                  Hybrid   \n",
              "\n",
              "  Şirketinizin çalışan sayısı nedir? Hangi pozisyonda çalışıyorsunuz?  \\\n",
              "0                          601-1.000                           DevOps   \n",
              "1                             51-150   Fullstack Developer / Engineer   \n",
              "2                        1.000-5.000                            Diğer   \n",
              "3                               1-50   Fullstack Developer / Engineer   \n",
              "4                             51-150     Backend Developer / Engineer   \n",
              "\n",
              "  Seviyeniz nedir?  Deneyim  \\\n",
              "0           Senior  5-9 Yıl   \n",
              "1           Junior  0-1 Yıl   \n",
              "2           Junior  0-1 Yıl   \n",
              "3              Mid  3-5 Yıl   \n",
              "4           Senior  3-5 Yıl   \n",
              "\n",
              "  Ağırlıklı olarak hangi teknolojileri / dilleri kullanıyorsunuz?  \\\n",
              "0  C# / .NET Framework\\nCloud araçları ( AWS, Azu...                \n",
              "1  Java ve bağlı framework'ler\\nJavascript / Type...                \n",
              "2  ChatGPT\\nCloud araçları ( AWS, Azure, GCP vs)\\...                \n",
              "3  Javascript / Typescript ve bağlı framework'ler...                \n",
              "4  C# / .NET Framework\\nJavascript / Typescript v...                \n",
              "\n",
              "  Kazancınız hangi para biriminde? Maaş tipi  \\\n",
              "0                      Türk Lirası       Net   \n",
              "1                      Türk Lirası       Net   \n",
              "2                      Türk Lirası       Net   \n",
              "3                      Türk Lirası       Net   \n",
              "4                      Türk Lirası       Net   \n",
              "\n",
              "  Ara zam / iyileştirme aldıysanız oranı hangi aralıkta?  \\\n",
              "0                                            %21-%35       \n",
              "1                                            %11-%20       \n",
              "2                                            %21-%35       \n",
              "3                                            %36-%50       \n",
              "4                                            %21-%35       \n",
              "\n",
              "  Maaş / Aylık Türk Lirası cinsinden  \n",
              "0              70.001 TL - 85.000 TL  \n",
              "1              20.001 TL - 25.000 TL  \n",
              "2                  11.402 TL ve altı  \n",
              "3              25.001 TL - 30.000 TL  \n",
              "4              30.001 TL - 37.000 TL  "
            ],
            "text/html": [
              "\n",
              "\n",
              "  <div id=\"df-990dbe10-80ff-4905-8432-d8db241d7ef3\">\n",
              "    <div class=\"colab-df-container\">\n",
              "      <div>\n",
              "<style scoped>\n",
              "    .dataframe tbody tr th:only-of-type {\n",
              "        vertical-align: middle;\n",
              "    }\n",
              "\n",
              "    .dataframe tbody tr th {\n",
              "        vertical-align: top;\n",
              "    }\n",
              "\n",
              "    .dataframe thead th {\n",
              "        text-align: right;\n",
              "    }\n",
              "</style>\n",
              "<table border=\"1\" class=\"dataframe\">\n",
              "  <thead>\n",
              "    <tr style=\"text-align: right;\">\n",
              "      <th></th>\n",
              "      <th>Submission Date</th>\n",
              "      <th>Cinsiyet</th>\n",
              "      <th>Yan haklarınız</th>\n",
              "      <th>Şirketiniz hangi lokasyon merkezli?</th>\n",
              "      <th>Şirketiniz hangi şehirde? (Eğer Türkiye ise)</th>\n",
              "      <th>Çalışma şekliniz nedir?</th>\n",
              "      <th>Şirketinizin çalışan sayısı nedir?</th>\n",
              "      <th>Hangi pozisyonda çalışıyorsunuz?</th>\n",
              "      <th>Seviyeniz nedir?</th>\n",
              "      <th>Deneyim</th>\n",
              "      <th>Ağırlıklı olarak hangi teknolojileri / dilleri kullanıyorsunuz?</th>\n",
              "      <th>Kazancınız hangi para biriminde?</th>\n",
              "      <th>Maaş tipi</th>\n",
              "      <th>Ara zam / iyileştirme aldıysanız oranı hangi aralıkta?</th>\n",
              "      <th>Maaş / Aylık Türk Lirası cinsinden</th>\n",
              "    </tr>\n",
              "  </thead>\n",
              "  <tbody>\n",
              "    <tr>\n",
              "      <th>0</th>\n",
              "      <td>Ağu 5, 2023</td>\n",
              "      <td>Erkek</td>\n",
              "      <td>Yemek kartı\\nYol / yakıt yardımı\\nPersonel ser...</td>\n",
              "      <td>Türkiye</td>\n",
              "      <td>34 İstanbul</td>\n",
              "      <td>Hybrid</td>\n",
              "      <td>601-1.000</td>\n",
              "      <td>DevOps</td>\n",
              "      <td>Senior</td>\n",
              "      <td>5-9 Yıl</td>\n",
              "      <td>C# / .NET Framework\\nCloud araçları ( AWS, Azu...</td>\n",
              "      <td>Türk Lirası</td>\n",
              "      <td>Net</td>\n",
              "      <td>%21-%35</td>\n",
              "      <td>70.001 TL - 85.000 TL</td>\n",
              "    </tr>\n",
              "    <tr>\n",
              "      <th>1</th>\n",
              "      <td>Ağu 5, 2023</td>\n",
              "      <td>Erkek</td>\n",
              "      <td>Yemek kartı\\nTamamlayıcı sağlık sigortası\\nBel...</td>\n",
              "      <td>Türkiye</td>\n",
              "      <td>34 İstanbul</td>\n",
              "      <td>Remote</td>\n",
              "      <td>51-150</td>\n",
              "      <td>Fullstack Developer / Engineer</td>\n",
              "      <td>Junior</td>\n",
              "      <td>0-1 Yıl</td>\n",
              "      <td>Java ve bağlı framework'ler\\nJavascript / Type...</td>\n",
              "      <td>Türk Lirası</td>\n",
              "      <td>Net</td>\n",
              "      <td>%11-%20</td>\n",
              "      <td>20.001 TL - 25.000 TL</td>\n",
              "    </tr>\n",
              "    <tr>\n",
              "      <th>2</th>\n",
              "      <td>Ağu 5, 2023</td>\n",
              "      <td>Erkek</td>\n",
              "      <td>Yemek kartı\\nPersonel servisi</td>\n",
              "      <td>Türkiye</td>\n",
              "      <td>34 İstanbul</td>\n",
              "      <td>Ofiste</td>\n",
              "      <td>1.000-5.000</td>\n",
              "      <td>Diğer</td>\n",
              "      <td>Junior</td>\n",
              "      <td>0-1 Yıl</td>\n",
              "      <td>ChatGPT\\nCloud araçları ( AWS, Azure, GCP vs)\\...</td>\n",
              "      <td>Türk Lirası</td>\n",
              "      <td>Net</td>\n",
              "      <td>%21-%35</td>\n",
              "      <td>11.402 TL ve altı</td>\n",
              "    </tr>\n",
              "    <tr>\n",
              "      <th>3</th>\n",
              "      <td>Ağu 5, 2023</td>\n",
              "      <td>Erkek</td>\n",
              "      <td>Belirli günlerde izin(doğum günü, regl izni gibi)</td>\n",
              "      <td>Türkiye</td>\n",
              "      <td>60 Tokat</td>\n",
              "      <td>Remote</td>\n",
              "      <td>1-50</td>\n",
              "      <td>Fullstack Developer / Engineer</td>\n",
              "      <td>Mid</td>\n",
              "      <td>3-5 Yıl</td>\n",
              "      <td>Javascript / Typescript ve bağlı framework'ler...</td>\n",
              "      <td>Türk Lirası</td>\n",
              "      <td>Net</td>\n",
              "      <td>%36-%50</td>\n",
              "      <td>25.001 TL - 30.000 TL</td>\n",
              "    </tr>\n",
              "    <tr>\n",
              "      <th>4</th>\n",
              "      <td>Ağu 5, 2023</td>\n",
              "      <td>Kadın</td>\n",
              "      <td>Yemek kartı</td>\n",
              "      <td>Türkiye</td>\n",
              "      <td>16 Bursa</td>\n",
              "      <td>Hybrid</td>\n",
              "      <td>51-150</td>\n",
              "      <td>Backend Developer / Engineer</td>\n",
              "      <td>Senior</td>\n",
              "      <td>3-5 Yıl</td>\n",
              "      <td>C# / .NET Framework\\nJavascript / Typescript v...</td>\n",
              "      <td>Türk Lirası</td>\n",
              "      <td>Net</td>\n",
              "      <td>%21-%35</td>\n",
              "      <td>30.001 TL - 37.000 TL</td>\n",
              "    </tr>\n",
              "  </tbody>\n",
              "</table>\n",
              "</div>\n",
              "      <button class=\"colab-df-convert\" onclick=\"convertToInteractive('df-990dbe10-80ff-4905-8432-d8db241d7ef3')\"\n",
              "              title=\"Convert this dataframe to an interactive table.\"\n",
              "              style=\"display:none;\">\n",
              "\n",
              "  <svg xmlns=\"http://www.w3.org/2000/svg\" height=\"24px\"viewBox=\"0 0 24 24\"\n",
              "       width=\"24px\">\n",
              "    <path d=\"M0 0h24v24H0V0z\" fill=\"none\"/>\n",
              "    <path d=\"M18.56 5.44l.94 2.06.94-2.06 2.06-.94-2.06-.94-.94-2.06-.94 2.06-2.06.94zm-11 1L8.5 8.5l.94-2.06 2.06-.94-2.06-.94L8.5 2.5l-.94 2.06-2.06.94zm10 10l.94 2.06.94-2.06 2.06-.94-2.06-.94-.94-2.06-.94 2.06-2.06.94z\"/><path d=\"M17.41 7.96l-1.37-1.37c-.4-.4-.92-.59-1.43-.59-.52 0-1.04.2-1.43.59L10.3 9.45l-7.72 7.72c-.78.78-.78 2.05 0 2.83L4 21.41c.39.39.9.59 1.41.59.51 0 1.02-.2 1.41-.59l7.78-7.78 2.81-2.81c.8-.78.8-2.07 0-2.86zM5.41 20L4 18.59l7.72-7.72 1.47 1.35L5.41 20z\"/>\n",
              "  </svg>\n",
              "      </button>\n",
              "\n",
              "\n",
              "\n",
              "    <div id=\"df-163aa650-8391-432d-8740-538d6066540d\">\n",
              "      <button class=\"colab-df-quickchart\" onclick=\"quickchart('df-163aa650-8391-432d-8740-538d6066540d')\"\n",
              "              title=\"Suggest charts.\"\n",
              "              style=\"display:none;\">\n",
              "\n",
              "<svg xmlns=\"http://www.w3.org/2000/svg\" height=\"24px\"viewBox=\"0 0 24 24\"\n",
              "     width=\"24px\">\n",
              "    <g>\n",
              "        <path d=\"M19 3H5c-1.1 0-2 .9-2 2v14c0 1.1.9 2 2 2h14c1.1 0 2-.9 2-2V5c0-1.1-.9-2-2-2zM9 17H7v-7h2v7zm4 0h-2V7h2v10zm4 0h-2v-4h2v4z\"/>\n",
              "    </g>\n",
              "</svg>\n",
              "      </button>\n",
              "    </div>\n",
              "\n",
              "<style>\n",
              "  .colab-df-quickchart {\n",
              "    background-color: #E8F0FE;\n",
              "    border: none;\n",
              "    border-radius: 50%;\n",
              "    cursor: pointer;\n",
              "    display: none;\n",
              "    fill: #1967D2;\n",
              "    height: 32px;\n",
              "    padding: 0 0 0 0;\n",
              "    width: 32px;\n",
              "  }\n",
              "\n",
              "  .colab-df-quickchart:hover {\n",
              "    background-color: #E2EBFA;\n",
              "    box-shadow: 0px 1px 2px rgba(60, 64, 67, 0.3), 0px 1px 3px 1px rgba(60, 64, 67, 0.15);\n",
              "    fill: #174EA6;\n",
              "  }\n",
              "\n",
              "  [theme=dark] .colab-df-quickchart {\n",
              "    background-color: #3B4455;\n",
              "    fill: #D2E3FC;\n",
              "  }\n",
              "\n",
              "  [theme=dark] .colab-df-quickchart:hover {\n",
              "    background-color: #434B5C;\n",
              "    box-shadow: 0px 1px 3px 1px rgba(0, 0, 0, 0.15);\n",
              "    filter: drop-shadow(0px 1px 2px rgba(0, 0, 0, 0.3));\n",
              "    fill: #FFFFFF;\n",
              "  }\n",
              "</style>\n",
              "\n",
              "    <script>\n",
              "      async function quickchart(key) {\n",
              "        const containerElement = document.querySelector('#' + key);\n",
              "        const charts = await google.colab.kernel.invokeFunction(\n",
              "            'suggestCharts', [key], {});\n",
              "      }\n",
              "    </script>\n",
              "\n",
              "      <script>\n",
              "\n",
              "function displayQuickchartButton(domScope) {\n",
              "  let quickchartButtonEl =\n",
              "    domScope.querySelector('#df-163aa650-8391-432d-8740-538d6066540d button.colab-df-quickchart');\n",
              "  quickchartButtonEl.style.display =\n",
              "    google.colab.kernel.accessAllowed ? 'block' : 'none';\n",
              "}\n",
              "\n",
              "        displayQuickchartButton(document);\n",
              "      </script>\n",
              "      <style>\n",
              "    .colab-df-container {\n",
              "      display:flex;\n",
              "      flex-wrap:wrap;\n",
              "      gap: 12px;\n",
              "    }\n",
              "\n",
              "    .colab-df-convert {\n",
              "      background-color: #E8F0FE;\n",
              "      border: none;\n",
              "      border-radius: 50%;\n",
              "      cursor: pointer;\n",
              "      display: none;\n",
              "      fill: #1967D2;\n",
              "      height: 32px;\n",
              "      padding: 0 0 0 0;\n",
              "      width: 32px;\n",
              "    }\n",
              "\n",
              "    .colab-df-convert:hover {\n",
              "      background-color: #E2EBFA;\n",
              "      box-shadow: 0px 1px 2px rgba(60, 64, 67, 0.3), 0px 1px 3px 1px rgba(60, 64, 67, 0.15);\n",
              "      fill: #174EA6;\n",
              "    }\n",
              "\n",
              "    [theme=dark] .colab-df-convert {\n",
              "      background-color: #3B4455;\n",
              "      fill: #D2E3FC;\n",
              "    }\n",
              "\n",
              "    [theme=dark] .colab-df-convert:hover {\n",
              "      background-color: #434B5C;\n",
              "      box-shadow: 0px 1px 3px 1px rgba(0, 0, 0, 0.15);\n",
              "      filter: drop-shadow(0px 1px 2px rgba(0, 0, 0, 0.3));\n",
              "      fill: #FFFFFF;\n",
              "    }\n",
              "  </style>\n",
              "\n",
              "      <script>\n",
              "        const buttonEl =\n",
              "          document.querySelector('#df-990dbe10-80ff-4905-8432-d8db241d7ef3 button.colab-df-convert');\n",
              "        buttonEl.style.display =\n",
              "          google.colab.kernel.accessAllowed ? 'block' : 'none';\n",
              "\n",
              "        async function convertToInteractive(key) {\n",
              "          const element = document.querySelector('#df-990dbe10-80ff-4905-8432-d8db241d7ef3');\n",
              "          const dataTable =\n",
              "            await google.colab.kernel.invokeFunction('convertToInteractive',\n",
              "                                                     [key], {});\n",
              "          if (!dataTable) return;\n",
              "\n",
              "          const docLinkHtml = 'Like what you see? Visit the ' +\n",
              "            '<a target=\"_blank\" href=https://colab.research.google.com/notebooks/data_table.ipynb>data table notebook</a>'\n",
              "            + ' to learn more about interactive tables.';\n",
              "          element.innerHTML = '';\n",
              "          dataTable['output_type'] = 'display_data';\n",
              "          await google.colab.output.renderOutput(dataTable, element);\n",
              "          const docLink = document.createElement('div');\n",
              "          docLink.innerHTML = docLinkHtml;\n",
              "          element.appendChild(docLink);\n",
              "        }\n",
              "      </script>\n",
              "    </div>\n",
              "  </div>\n"
            ]
          },
          "metadata": {},
          "execution_count": 1
        }
      ],
      "source": [
        "#importing necessary librarires for the starting\n",
        "import pandas as pd\n",
        "import numpy as np\n",
        "import matplotlib.pyplot as plt\n",
        "survey=pd.read_csv('/content/drive/MyDrive/proje/Omer Code/projects/cs_survey/2023_II_-_Yazılım_Sektörü_M2023-08-05_11_01_23.csv')\n",
        "df=survey.copy()\n",
        "df.head()"
      ]
    },
    {
      "cell_type": "markdown",
      "source": [
        "## starting with basic analyze"
      ],
      "metadata": {
        "id": "C4qJsCb-kAmz"
      }
    },
    {
      "cell_type": "code",
      "source": [
        "df.info()"
      ],
      "metadata": {
        "colab": {
          "base_uri": "https://localhost:8080/"
        },
        "id": "cYmRPlmHi2tA",
        "outputId": "78dbe170-0313-47ba-9245-23fb42613e81"
      },
      "execution_count": 2,
      "outputs": [
        {
          "output_type": "stream",
          "name": "stdout",
          "text": [
            "<class 'pandas.core.frame.DataFrame'>\n",
            "RangeIndex: 2465 entries, 0 to 2464\n",
            "Data columns (total 15 columns):\n",
            " #   Column                                                           Non-Null Count  Dtype \n",
            "---  ------                                                           --------------  ----- \n",
            " 0   Submission Date                                                  2465 non-null   object\n",
            " 1   Cinsiyet                                                         2465 non-null   object\n",
            " 2   Yan haklarınız                                                   2465 non-null   object\n",
            " 3   Şirketiniz hangi lokasyon merkezli?                              2465 non-null   object\n",
            " 4   Şirketiniz hangi şehirde? (Eğer Türkiye ise)                     2163 non-null   object\n",
            " 5   Çalışma şekliniz nedir?                                          2465 non-null   object\n",
            " 6   Şirketinizin çalışan sayısı nedir?                               2456 non-null   object\n",
            " 7   Hangi pozisyonda çalışıyorsunuz?                                 2465 non-null   object\n",
            " 8   Seviyeniz nedir?                                                 2465 non-null   object\n",
            " 9   Deneyim                                                          2465 non-null   object\n",
            " 10  Ağırlıklı olarak hangi teknolojileri / dilleri kullanıyorsunuz?  2465 non-null   object\n",
            " 11  Kazancınız hangi para biriminde?                                 2465 non-null   object\n",
            " 12  Maaş tipi                                                        2465 non-null   object\n",
            " 13  Ara zam / iyileştirme aldıysanız oranı hangi aralıkta?           1994 non-null   object\n",
            " 14  Maaş / Aylık Türk Lirası cinsinden                               2465 non-null   object\n",
            "dtypes: object(15)\n",
            "memory usage: 289.0+ KB\n"
          ]
        }
      ]
    },
    {
      "cell_type": "code",
      "source": [
        "df.isna().sum()"
      ],
      "metadata": {
        "colab": {
          "base_uri": "https://localhost:8080/"
        },
        "id": "vkiRsGNej_5_",
        "outputId": "ddf6321e-7c63-4785-d719-4d1ee7f1d8ad"
      },
      "execution_count": 3,
      "outputs": [
        {
          "output_type": "execute_result",
          "data": {
            "text/plain": [
              "Submission Date                                                      0\n",
              "Cinsiyet                                                             0\n",
              "Yan haklarınız                                                       0\n",
              "Şirketiniz hangi lokasyon merkezli?                                  0\n",
              "Şirketiniz hangi şehirde? (Eğer Türkiye ise)                       302\n",
              "Çalışma şekliniz nedir?                                              0\n",
              "Şirketinizin çalışan sayısı nedir?                                   9\n",
              "Hangi pozisyonda çalışıyorsunuz?                                     0\n",
              "Seviyeniz nedir?                                                     0\n",
              "Deneyim                                                              0\n",
              "Ağırlıklı olarak hangi teknolojileri / dilleri kullanıyorsunuz?      0\n",
              "Kazancınız hangi para biriminde?                                     0\n",
              "Maaş tipi                                                            0\n",
              "Ara zam / iyileştirme aldıysanız oranı hangi aralıkta?             471\n",
              "Maaş / Aylık Türk Lirası cinsinden                                   0\n",
              "dtype: int64"
            ]
          },
          "metadata": {},
          "execution_count": 3
        }
      ]
    },
    {
      "cell_type": "code",
      "source": [
        "# Replace 'Şirketiniz hangi lokasyon merkezli?' with the exact column name from your data\n",
        "location_counts = df['Şirketiniz hangi lokasyon merkezli?'].value_counts()\n",
        "\n",
        "# Create a bar chart using matplotlib\n",
        "plt.figure(figsize=(10, 6))  # Adjust the figure size as needed\n",
        "location_counts.plot(kind='bar')\n",
        "plt.title('Company Locations')\n",
        "plt.xlabel('Location')\n",
        "plt.ylabel('Count')\n",
        "plt.xticks(rotation=45)  # Rotate x-axis labels for better readability\n",
        "plt.tight_layout()\n",
        "plt.show()\n"
      ],
      "metadata": {
        "colab": {
          "base_uri": "https://localhost:8080/",
          "height": 607
        },
        "id": "cbHXMzjgl3sM",
        "outputId": "1677cd2e-dd88-40fe-ecf2-ffeff3a8bb33"
      },
      "execution_count": 4,
      "outputs": [
        {
          "output_type": "display_data",
          "data": {
            "text/plain": [
              "<Figure size 1000x600 with 1 Axes>"
            ],
            "image/png": "[encoded data removed]"
          },
          "metadata": {}
        }
      ]
    },
    {
      "cell_type": "code",
      "source": [
        "dummies=df['Yan haklarınız'].str.split('\\n', expand=True).stack().str.get_dummies().sum(level=0)"
      ],
      "metadata": {
        "id": "XVVU38LBpSP4",
        "colab": {
          "base_uri": "https://localhost:8080/"
        },
        "outputId": "0fed9369-a2df-428d-f63a-7bad0cbb2977"
      },
      "execution_count": 5,
      "outputs": [
        {
          "output_type": "stream",
          "name": "stderr",
          "text": [
            "<ipython-input-5-bd5555eb9583>:1: FutureWarning: Using the level keyword in DataFrame and Series aggregations is deprecated and will be removed in a future version. Use groupby instead. df.sum(level=1) should use df.groupby(level=1).sum().\n",
            "  dummies=df['Yan haklarınız'].str.split('\\n', expand=True).stack().str.get_dummies().sum(level=0)\n"
          ]
        }
      ]
    },
    {
      "cell_type": "code",
      "source": [
        "dummies.replace({0: 'yok', 1: 'var'}, inplace=True)"
      ],
      "metadata": {
        "id": "2uG0YCIVsVai"
      },
      "execution_count": 6,
      "outputs": []
    },
    {
      "cell_type": "code",
      "source": [
        "df1 = pd.concat([df, dummies], axis=1)"
      ],
      "metadata": {
        "id": "TdcLDYFY1orL"
      },
      "execution_count": 7,
      "outputs": []
    },
    {
      "cell_type": "code",
      "source": [
        "df1.drop('Yan haklarınız',axis=1,inplace=True)\n",
        "df1.head()"
      ],
      "metadata": {
        "colab": {
          "base_uri": "https://localhost:8080/",
          "height": 560
        },
        "id": "ebOdoTCA1z1n",
        "outputId": "841e6db7-7b18-495d-837b-160aaf6e8c85"
      },
      "execution_count": 8,
      "outputs": [
        {
          "output_type": "execute_result",
          "data": {
            "text/plain": [
              "  Submission Date Cinsiyet Şirketiniz hangi lokasyon merkezli?  \\\n",
              "0     Ağu 5, 2023    Erkek                             Türkiye   \n",
              "1     Ağu 5, 2023    Erkek                             Türkiye   \n",
              "2     Ağu 5, 2023    Erkek                             Türkiye   \n",
              "3     Ağu 5, 2023    Erkek                             Türkiye   \n",
              "4     Ağu 5, 2023    Kadın                             Türkiye   \n",
              "\n",
              "  Şirketiniz hangi şehirde? (Eğer Türkiye ise) Çalışma şekliniz nedir?  \\\n",
              "0                                  34 İstanbul                  Hybrid   \n",
              "1                                  34 İstanbul                  Remote   \n",
              "2                                  34 İstanbul                  Ofiste   \n",
              "3                                     60 Tokat                  Remote   \n",
              "4                                     16 Bursa                  Hybrid   \n",
              "\n",
              "  Şirketinizin çalışan sayısı nedir? Hangi pozisyonda çalışıyorsunuz?  \\\n",
              "0                          601-1.000                           DevOps   \n",
              "1                             51-150   Fullstack Developer / Engineer   \n",
              "2                        1.000-5.000                            Diğer   \n",
              "3                               1-50   Fullstack Developer / Engineer   \n",
              "4                             51-150     Backend Developer / Engineer   \n",
              "\n",
              "  Seviyeniz nedir?  Deneyim  \\\n",
              "0           Senior  5-9 Yıl   \n",
              "1           Junior  0-1 Yıl   \n",
              "2           Junior  0-1 Yıl   \n",
              "3              Mid  3-5 Yıl   \n",
              "4           Senior  3-5 Yıl   \n",
              "\n",
              "  Ağırlıklı olarak hangi teknolojileri / dilleri kullanıyorsunuz?  ...  \\\n",
              "0  C# / .NET Framework\\nCloud araçları ( AWS, Azu...               ...   \n",
              "1  Java ve bağlı framework'ler\\nJavascript / Type...               ...   \n",
              "2  ChatGPT\\nCloud araçları ( AWS, Azure, GCP vs)\\...               ...   \n",
              "3  Javascript / Typescript ve bağlı framework'ler...               ...   \n",
              "4  C# / .NET Framework\\nJavascript / Typescript v...               ...   \n",
              "\n",
              "  Spor salonu üyeliği / indirimi Tamamlayıcı sağlık sigortası Tıbbi izin  \\\n",
              "0                            yok                          var        yok   \n",
              "1                            yok                          var        yok   \n",
              "2                            yok                          yok        yok   \n",
              "3                            yok                          yok        yok   \n",
              "4                            yok                          yok        yok   \n",
              "\n",
              "  Yemek kartı Yol / yakıt yardımı Özel günlerce dhediye çeki  \\\n",
              "0         var                 var                        yok   \n",
              "1         var                 yok                        yok   \n",
              "2         var                 yok                        yok   \n",
              "3         yok                 yok                        yok   \n",
              "4         var                 yok                        yok   \n",
              "\n",
              "  İşsizlik sigortası İşçi tazminatı Şirket aracı Şirket telefonu  \n",
              "0                yok            yok          yok             yok  \n",
              "1                yok            yok          yok             yok  \n",
              "2                yok            yok          yok             yok  \n",
              "3                yok            yok          yok             yok  \n",
              "4                yok            yok          yok             yok  \n",
              "\n",
              "[5 rows x 31 columns]"
            ],
            "text/html": [
              "\n",
              "\n",
              "  <div id=\"df-b3bbcd00-e14e-455b-ac6a-aa50f2f5a4b1\">\n",
              "    <div class=\"colab-df-container\">\n",
              "      <div>\n",
              "<style scoped>\n",
              "    .dataframe tbody tr th:only-of-type {\n",
              "        vertical-align: middle;\n",
              "    }\n",
              "\n",
              "    .dataframe tbody tr th {\n",
              "        vertical-align: top;\n",
              "    }\n",
              "\n",
              "    .dataframe thead th {\n",
              "        text-align: right;\n",
              "    }\n",
              "</style>\n",
              "<table border=\"1\" class=\"dataframe\">\n",
              "  <thead>\n",
              "    <tr style=\"text-align: right;\">\n",
              "      <th></th>\n",
              "      <th>Submission Date</th>\n",
              "      <th>Cinsiyet</th>\n",
              "      <th>Şirketiniz hangi lokasyon merkezli?</th>\n",
              "      <th>Şirketiniz hangi şehirde? (Eğer Türkiye ise)</th>\n",
              "      <th>Çalışma şekliniz nedir?</th>\n",
              "      <th>Şirketinizin çalışan sayısı nedir?</th>\n",
              "      <th>Hangi pozisyonda çalışıyorsunuz?</th>\n",
              "      <th>Seviyeniz nedir?</th>\n",
              "      <th>Deneyim</th>\n",
              "      <th>Ağırlıklı olarak hangi teknolojileri / dilleri kullanıyorsunuz?</th>\n",
              "      <th>...</th>\n",
              "      <th>Spor salonu üyeliği / indirimi</th>\n",
              "      <th>Tamamlayıcı sağlık sigortası</th>\n",
              "      <th>Tıbbi izin</th>\n",
              "      <th>Yemek kartı</th>\n",
              "      <th>Yol / yakıt yardımı</th>\n",
              "      <th>Özel günlerce dhediye çeki</th>\n",
              "      <th>İşsizlik sigortası</th>\n",
              "      <th>İşçi tazminatı</th>\n",
              "      <th>Şirket aracı</th>\n",
              "      <th>Şirket telefonu</th>\n",
              "    </tr>\n",
              "  </thead>\n",
              "  <tbody>\n",
              "    <tr>\n",
              "      <th>0</th>\n",
              "      <td>Ağu 5, 2023</td>\n",
              "      <td>Erkek</td>\n",
              "      <td>Türkiye</td>\n",
              "      <td>34 İstanbul</td>\n",
              "      <td>Hybrid</td>\n",
              "      <td>601-1.000</td>\n",
              "      <td>DevOps</td>\n",
              "      <td>Senior</td>\n",
              "      <td>5-9 Yıl</td>\n",
              "      <td>C# / .NET Framework\\nCloud araçları ( AWS, Azu...</td>\n",
              "      <td>...</td>\n",
              "      <td>yok</td>\n",
              "      <td>var</td>\n",
              "      <td>yok</td>\n",
              "      <td>var</td>\n",
              "      <td>var</td>\n",
              "      <td>yok</td>\n",
              "      <td>yok</td>\n",
              "      <td>yok</td>\n",
              "      <td>yok</td>\n",
              "      <td>yok</td>\n",
              "    </tr>\n",
              "    <tr>\n",
              "      <th>1</th>\n",
              "      <td>Ağu 5, 2023</td>\n",
              "      <td>Erkek</td>\n",
              "      <td>Türkiye</td>\n",
              "      <td>34 İstanbul</td>\n",
              "      <td>Remote</td>\n",
              "      <td>51-150</td>\n",
              "      <td>Fullstack Developer / Engineer</td>\n",
              "      <td>Junior</td>\n",
              "      <td>0-1 Yıl</td>\n",
              "      <td>Java ve bağlı framework'ler\\nJavascript / Type...</td>\n",
              "      <td>...</td>\n",
              "      <td>yok</td>\n",
              "      <td>var</td>\n",
              "      <td>yok</td>\n",
              "      <td>var</td>\n",
              "      <td>yok</td>\n",
              "      <td>yok</td>\n",
              "      <td>yok</td>\n",
              "      <td>yok</td>\n",
              "      <td>yok</td>\n",
              "      <td>yok</td>\n",
              "    </tr>\n",
              "    <tr>\n",
              "      <th>2</th>\n",
              "      <td>Ağu 5, 2023</td>\n",
              "      <td>Erkek</td>\n",
              "      <td>Türkiye</td>\n",
              "      <td>34 İstanbul</td>\n",
              "      <td>Ofiste</td>\n",
              "      <td>1.000-5.000</td>\n",
              "      <td>Diğer</td>\n",
              "      <td>Junior</td>\n",
              "      <td>0-1 Yıl</td>\n",
              "      <td>ChatGPT\\nCloud araçları ( AWS, Azure, GCP vs)\\...</td>\n",
              "      <td>...</td>\n",
              "      <td>yok</td>\n",
              "      <td>yok</td>\n",
              "      <td>yok</td>\n",
              "      <td>var</td>\n",
              "      <td>yok</td>\n",
              "      <td>yok</td>\n",
              "      <td>yok</td>\n",
              "      <td>yok</td>\n",
              "      <td>yok</td>\n",
              "      <td>yok</td>\n",
              "    </tr>\n",
              "    <tr>\n",
              "      <th>3</th>\n",
              "      <td>Ağu 5, 2023</td>\n",
              "      <td>Erkek</td>\n",
              "      <td>Türkiye</td>\n",
              "      <td>60 Tokat</td>\n",
              "      <td>Remote</td>\n",
              "      <td>1-50</td>\n",
              "      <td>Fullstack Developer / Engineer</td>\n",
              "      <td>Mid</td>\n",
              "      <td>3-5 Yıl</td>\n",
              "      <td>Javascript / Typescript ve bağlı framework'ler...</td>\n",
              "      <td>...</td>\n",
              "      <td>yok</td>\n",
              "      <td>yok</td>\n",
              "      <td>yok</td>\n",
              "      <td>yok</td>\n",
              "      <td>yok</td>\n",
              "      <td>yok</td>\n",
              "      <td>yok</td>\n",
              "      <td>yok</td>\n",
              "      <td>yok</td>\n",
              "      <td>yok</td>\n",
              "    </tr>\n",
              "    <tr>\n",
              "      <th>4</th>\n",
              "      <td>Ağu 5, 2023</td>\n",
              "      <td>Kadın</td>\n",
              "      <td>Türkiye</td>\n",
              "      <td>16 Bursa</td>\n",
              "      <td>Hybrid</td>\n",
              "      <td>51-150</td>\n",
              "      <td>Backend Developer / Engineer</td>\n",
              "      <td>Senior</td>\n",
              "      <td>3-5 Yıl</td>\n",
              "      <td>C# / .NET Framework\\nJavascript / Typescript v...</td>\n",
              "      <td>...</td>\n",
              "      <td>yok</td>\n",
              "      <td>yok</td>\n",
              "      <td>yok</td>\n",
              "      <td>var</td>\n",
              "      <td>yok</td>\n",
              "      <td>yok</td>\n",
              "      <td>yok</td>\n",
              "      <td>yok</td>\n",
              "      <td>yok</td>\n",
              "      <td>yok</td>\n",
              "    </tr>\n",
              "  </tbody>\n",
              "</table>\n",
              "<p>5 rows × 31 columns</p>\n",
              "</div>\n",
              "      <button class=\"colab-df-convert\" onclick=\"convertToInteractive('df-b3bbcd00-e14e-455b-ac6a-aa50f2f5a4b1')\"\n",
              "              title=\"Convert this dataframe to an interactive table.\"\n",
              "              style=\"display:none;\">\n",
              "\n",
              "  <svg xmlns=\"http://www.w3.org/2000/svg\" height=\"24px\"viewBox=\"0 0 24 24\"\n",
              "       width=\"24px\">\n",
              "    <path d=\"M0 0h24v24H0V0z\" fill=\"none\"/>\n",
              "    <path d=\"M18.56 5.44l.94 2.06.94-2.06 2.06-.94-2.06-.94-.94-2.06-.94 2.06-2.06.94zm-11 1L8.5 8.5l.94-2.06 2.06-.94-2.06-.94L8.5 2.5l-.94 2.06-2.06.94zm10 10l.94 2.06.94-2.06 2.06-.94-2.06-.94-.94-2.06-.94 2.06-2.06.94z\"/><path d=\"M17.41 7.96l-1.37-1.37c-.4-.4-.92-.59-1.43-.59-.52 0-1.04.2-1.43.59L10.3 9.45l-7.72 7.72c-.78.78-.78 2.05 0 2.83L4 21.41c.39.39.9.59 1.41.59.51 0 1.02-.2 1.41-.59l7.78-7.78 2.81-2.81c.8-.78.8-2.07 0-2.86zM5.41 20L4 18.59l7.72-7.72 1.47 1.35L5.41 20z\"/>\n",
              "  </svg>\n",
              "      </button>\n",
              "\n",
              "\n",
              "\n",
              "    <div id=\"df-94787877-429d-4880-b665-e27497ae4b1b\">\n",
              "      <button class=\"colab-df-quickchart\" onclick=\"quickchart('df-94787877-429d-4880-b665-e27497ae4b1b')\"\n",
              "              title=\"Suggest charts.\"\n",
              "              style=\"display:none;\">\n",
              "\n",
              "<svg xmlns=\"http://www.w3.org/2000/svg\" height=\"24px\"viewBox=\"0 0 24 24\"\n",
              "     width=\"24px\">\n",
              "    <g>\n",
              "        <path d=\"M19 3H5c-1.1 0-2 .9-2 2v14c0 1.1.9 2 2 2h14c1.1 0 2-.9 2-2V5c0-1.1-.9-2-2-2zM9 17H7v-7h2v7zm4 0h-2V7h2v10zm4 0h-2v-4h2v4z\"/>\n",
              "    </g>\n",
              "</svg>\n",
              "      </button>\n",
              "    </div>\n",
              "\n",
              "<style>\n",
              "  .colab-df-quickchart {\n",
              "    background-color: #E8F0FE;\n",
              "    border: none;\n",
              "    border-radius: 50%;\n",
              "    cursor: pointer;\n",
              "    display: none;\n",
              "    fill: #1967D2;\n",
              "    height: 32px;\n",
              "    padding: 0 0 0 0;\n",
              "    width: 32px;\n",
              "  }\n",
              "\n",
              "  .colab-df-quickchart:hover {\n",
              "    background-color: #E2EBFA;\n",
              "    box-shadow: 0px 1px 2px rgba(60, 64, 67, 0.3), 0px 1px 3px 1px rgba(60, 64, 67, 0.15);\n",
              "    fill: #174EA6;\n",
              "  }\n",
              "\n",
              "  [theme=dark] .colab-df-quickchart {\n",
              "    background-color: #3B4455;\n",
              "    fill: #D2E3FC;\n",
              "  }\n",
              "\n",
              "  [theme=dark] .colab-df-quickchart:hover {\n",
              "    background-color: #434B5C;\n",
              "    box-shadow: 0px 1px 3px 1px rgba(0, 0, 0, 0.15);\n",
              "    filter: drop-shadow(0px 1px 2px rgba(0, 0, 0, 0.3));\n",
              "    fill: #FFFFFF;\n",
              "  }\n",
              "</style>\n",
              "\n",
              "    <script>\n",
              "      async function quickchart(key) {\n",
              "        const containerElement = document.querySelector('#' + key);\n",
              "        const charts = await google.colab.kernel.invokeFunction(\n",
              "            'suggestCharts', [key], {});\n",
              "      }\n",
              "    </script>\n",
              "\n",
              "      <script>\n",
              "\n",
              "function displayQuickchartButton(domScope) {\n",
              "  let quickchartButtonEl =\n",
              "    domScope.querySelector('#df-94787877-429d-4880-b665-e27497ae4b1b button.colab-df-quickchart');\n",
              "  quickchartButtonEl.style.display =\n",
              "    google.colab.kernel.accessAllowed ? 'block' : 'none';\n",
              "}\n",
              "\n",
              "        displayQuickchartButton(document);\n",
              "      </script>\n",
              "      <style>\n",
              "    .colab-df-container {\n",
              "      display:flex;\n",
              "      flex-wrap:wrap;\n",
              "      gap: 12px;\n",
              "    }\n",
              "\n",
              "    .colab-df-convert {\n",
              "      background-color: #E8F0FE;\n",
              "      border: none;\n",
              "      border-radius: 50%;\n",
              "      cursor: pointer;\n",
              "      display: none;\n",
              "      fill: #1967D2;\n",
              "      height: 32px;\n",
              "      padding: 0 0 0 0;\n",
              "      width: 32px;\n",
              "    }\n",
              "\n",
              "    .colab-df-convert:hover {\n",
              "      background-color: #E2EBFA;\n",
              "      box-shadow: 0px 1px 2px rgba(60, 64, 67, 0.3), 0px 1px 3px 1px rgba(60, 64, 67, 0.15);\n",
              "      fill: #174EA6;\n",
              "    }\n",
              "\n",
              "    [theme=dark] .colab-df-convert {\n",
              "      background-color: #3B4455;\n",
              "      fill: #D2E3FC;\n",
              "    }\n",
              "\n",
              "    [theme=dark] .colab-df-convert:hover {\n",
              "      background-color: #434B5C;\n",
              "      box-shadow: 0px 1px 3px 1px rgba(0, 0, 0, 0.15);\n",
              "      filter: drop-shadow(0px 1px 2px rgba(0, 0, 0, 0.3));\n",
              "      fill: #FFFFFF;\n",
              "    }\n",
              "  </style>\n",
              "\n",
              "      <script>\n",
              "        const buttonEl =\n",
              "          document.querySelector('#df-b3bbcd00-e14e-455b-ac6a-aa50f2f5a4b1 button.colab-df-convert');\n",
              "        buttonEl.style.display =\n",
              "          google.colab.kernel.accessAllowed ? 'block' : 'none';\n",
              "\n",
              "        async function convertToInteractive(key) {\n",
              "          const element = document.querySelector('#df-b3bbcd00-e14e-455b-ac6a-aa50f2f5a4b1');\n",
              "          const dataTable =\n",
              "            await google.colab.kernel.invokeFunction('convertToInteractive',\n",
              "                                                     [key], {});\n",
              "          if (!dataTable) return;\n",
              "\n",
              "          const docLinkHtml = 'Like what you see? Visit the ' +\n",
              "            '<a target=\"_blank\" href=https://colab.research.google.com/notebooks/data_table.ipynb>data table notebook</a>'\n",
              "            + ' to learn more about interactive tables.';\n",
              "          element.innerHTML = '';\n",
              "          dataTable['output_type'] = 'display_data';\n",
              "          await google.colab.output.renderOutput(dataTable, element);\n",
              "          const docLink = document.createElement('div');\n",
              "          docLink.innerHTML = docLinkHtml;\n",
              "          element.appendChild(docLink);\n",
              "        }\n",
              "      </script>\n",
              "    </div>\n",
              "  </div>\n"
            ]
          },
          "metadata": {},
          "execution_count": 8
        }
      ]
    },
    {
      "cell_type": "code",
      "source": [
        "dummy_1=df1['Ağırlıklı olarak hangi teknolojileri / dilleri kullanıyorsunuz?'].str.split('\\n', expand=True).stack().str.get_dummies().sum(level=0)"
      ],
      "metadata": {
        "colab": {
          "base_uri": "https://localhost:8080/"
        },
        "id": "e1rQeeRK14RV",
        "outputId": "063aebb5-374b-4fd7-8ef5-f815bedc7894"
      },
      "execution_count": 9,
      "outputs": [
        {
          "output_type": "stream",
          "name": "stderr",
          "text": [
            "<ipython-input-9-eeffa90f7ad7>:1: FutureWarning: Using the level keyword in DataFrame and Series aggregations is deprecated and will be removed in a future version. Use groupby instead. df.sum(level=1) should use df.groupby(level=1).sum().\n",
            "  dummy_1=df1['Ağırlıklı olarak hangi teknolojileri / dilleri kullanıyorsunuz?'].str.split('\\n', expand=True).stack().str.get_dummies().sum(level=0)\n"
          ]
        }
      ]
    },
    {
      "cell_type": "code",
      "source": [
        "column_name = 'Tech_Languages_Column'\n",
        "\n",
        "# Split the values and create a DataFrame with value counts\n",
        "values = df['Ağırlıklı olarak hangi teknolojileri / dilleri kullanıyorsunuz?'].str.split('\\n', expand=True).stack()\n",
        "value_counts = values.value_counts()\n"
      ],
      "metadata": {
        "id": "yK4qB_au2iNg"
      },
      "execution_count": 10,
      "outputs": []
    },
    {
      "cell_type": "code",
      "source": [
        "value_counts"
      ],
      "metadata": {
        "colab": {
          "base_uri": "https://localhost:8080/"
        },
        "id": "e0NvhK604BMW",
        "outputId": "7ce13104-bb6a-4f0f-e510-9052b280dd7c"
      },
      "execution_count": 11,
      "outputs": [
        {
          "output_type": "execute_result",
          "data": {
            "text/plain": [
              "Javascript / Typescript ve bağlı framework'ler             942\n",
              "SQL                                                        870\n",
              "Jira / Asana / Trello / Bitrix24 ve benzeri PM araçları    621\n",
              "C# / .NET Framework                                        604\n",
              "Java ve bağlı framework'ler                                551\n",
              "Cloud araçları ( AWS, Azure, GCP vs)                       490\n",
              "ChatGPT                                                    456\n",
              "Python                                                     448\n",
              "Linux                                                      443\n",
              "DevOps araçları                                            435\n",
              "Docker / containerd / Hyper-V / LXC / Podman               427\n",
              "Microsoft Office Araçları                                  367\n",
              "Kubernetes                                                 256\n",
              "Figma / XD ve diğer tasarım araçları                       240\n",
              "NoSQL                                                      239\n",
              "PHP                                                        171\n",
              "C, C++                                                     147\n",
              "Golang                                                     124\n",
              "Flutter                                                    116\n",
              "Kotlin                                                     113\n",
              "No-code / Low-code Araçları                                111\n",
              "Swift                                                      106\n",
              "Adobe CC araçları                                           88\n",
              "SAP                                                         81\n",
              "R                                                           36\n",
              "Salesforce                                                  35\n",
              "Rust                                                        27\n",
              "Ruby                                                        18\n",
              "dtype: int64"
            ]
          },
          "metadata": {},
          "execution_count": 11
        }
      ]
    },
    {
      "cell_type": "code",
      "source": [
        "dummy_1.replace({0: 'yok', 1: 'var'}, inplace=True)\n",
        "df1 = pd.concat([df, dummy_1], axis=1)"
      ],
      "metadata": {
        "id": "-29Ms_Mp4INP"
      },
      "execution_count": 12,
      "outputs": []
    },
    {
      "cell_type": "markdown",
      "source": [
        "i want to detect  there is  any correletaion between knowing  tech language count and salary"
      ],
      "metadata": {
        "id": "i8k38944QEeM"
      }
    },
    {
      "cell_type": "code",
      "source": [
        "dummy_1.columns"
      ],
      "metadata": {
        "colab": {
          "base_uri": "https://localhost:8080/"
        },
        "id": "DVSjrldbPg6z",
        "outputId": "839e989f-bcaa-4d09-f476-7f876bad5e80"
      },
      "execution_count": 13,
      "outputs": [
        {
          "output_type": "execute_result",
          "data": {
            "text/plain": [
              "Index(['Adobe CC araçları', 'C# / .NET Framework', 'C, C++', 'ChatGPT',\n",
              "       'Cloud araçları ( AWS, Azure, GCP vs)', 'DevOps araçları',\n",
              "       'Docker / containerd / Hyper-V / LXC / Podman',\n",
              "       'Figma / XD ve diğer tasarım araçları', 'Flutter', 'Golang',\n",
              "       'Java ve bağlı framework'ler',\n",
              "       'Javascript / Typescript ve bağlı framework'ler',\n",
              "       'Jira / Asana / Trello / Bitrix24 ve benzeri PM araçları', 'Kotlin',\n",
              "       'Kubernetes', 'Linux', 'Microsoft Office Araçları',\n",
              "       'No-code / Low-code Araçları', 'NoSQL', 'PHP', 'Python', 'R', 'Ruby',\n",
              "       'Rust', 'SAP', 'SQL', 'Salesforce', 'Swift'],\n",
              "      dtype='object')"
            ]
          },
          "metadata": {},
          "execution_count": 13
        }
      ]
    },
    {
      "cell_type": "code",
      "source": [
        "\n",
        "import matplotlib.pyplot as plt\n",
        "\n",
        "\n",
        "# Replace 'Tech_Languages_Column' with the actual column name from your df1\n",
        "tech_columns = ['Adobe CC araçları', 'C# / .NET Framework', 'C, C++', 'ChatGPT',\n",
        "               'Cloud araçları ( AWS, Azure, GCP vs)', 'DevOps araçları',\n",
        "               'Docker / containerd / Hyper-V / LXC / Podman',\n",
        "               'Figma / XD ve diğer tasarım araçları', 'Flutter', 'Golang',\n",
        "               'Java ve bağlı framework\\'ler',\n",
        "               'Javascript / Typescript ve bağlı framework\\'ler',\n",
        "               'Jira / Asana / Trello / Bitrix24 ve benzeri PM araçları', 'Kotlin',\n",
        "               'Kubernetes', 'Linux', 'Microsoft Office Araçları',\n",
        "               'No-code / Low-code Araçları', 'NoSQL', 'PHP', 'Python', 'R', 'Ruby',\n",
        "               'Rust', 'SAP', 'SQL', 'Salesforce', 'Swift']\n",
        "\n",
        "# Count the occurrences of \"var\" (1) in each row\n",
        "df1['Known_Tech_Count'] = df1[tech_columns].apply(lambda row: row.str.count('var')).sum(axis=1)\n",
        "\n",
        "# Set the order of salary ranges in descending order\n",
        "salary_order = [\n",
        "    '250.000 TL ve üzeri',\n",
        "    '200.000 TL - 250.000 TL',\n",
        "    '160.001 TL - 200.000 TL',\n",
        "    '130.001 TL - 160.000 TL',\n",
        "    '100.001 TL - 130.000 TL',\n",
        "    '85.001 TL - 100.000 TL',\n",
        "    '70.001 TL - 85.000 TL',\n",
        "    '55.001 TL - 70.000 TL',\n",
        "    '45.001 TL - 55.000 TL',\n",
        "    '37.001 TL - 45.000 TL',\n",
        "    '30.001 TL - 37.000 TL',\n",
        "    '25.001 TL - 30.000 TL',\n",
        "    '20.001 TL - 25.000 TL',\n",
        "    '18.001 TL - 20.000 TL',\n",
        "    '15.001 TL - 18.000 TL',\n",
        "    '11.402 TL - 15.000 TL',\n",
        "    '11.402 TL ve altı'\n",
        "]\n",
        "\n",
        "# Create a prettier box plot using Seaborn\n",
        "plt.figure(figsize=(10, 6))\n",
        "sns.boxplot(data=df1, x='Known_Tech_Count', y='Maaş / Aylık Türk Lirası cinsinden', order=salary_order)\n",
        "plt.title('Distribution of Known Tech Languages Count by Salary Range')\n",
        "plt.xlabel('Known Tech Languages Count')\n",
        "plt.ylabel('Salary Range')\n",
        "plt.tight_layout()\n",
        "plt.show()\n"
      ],
      "metadata": {
        "id": "R-zwOQt5RiEn",
        "colab": {
          "base_uri": "https://localhost:8080/",
          "height": 607
        },
        "outputId": "268df257-e986-412e-9c91-6a27ca4eeca3"
      },
      "execution_count": 23,
      "outputs": [
        {
          "output_type": "display_data",
          "data": {
            "text/plain": [
              "<Figure size 1000x600 with 1 Axes>"
            ],
            "image/png": "[encoded data removed]"
          },
          "metadata": {}
        }
      ]
    },
    {
      "cell_type": "code",
      "source": [
        "df1['Maaş / Aylık Türk Lirası cinsinden'].value_counts()"
      ],
      "metadata": {
        "colab": {
          "base_uri": "https://localhost:8080/"
        },
        "id": "Ddnxa_6PROte",
        "outputId": "b09ddc1a-2ca0-4557-8491-3af19ad19748"
      },
      "execution_count": 16,
      "outputs": [
        {
          "output_type": "execute_result",
          "data": {
            "text/plain": [
              "30.001 TL - 37.000 TL      300\n",
              "25.001 TL - 30.000 TL      261\n",
              "37.001 TL - 45.000 TL      260\n",
              "55.001 TL - 70.000 TL      258\n",
              "45.001 TL - 55.000 TL      254\n",
              "20.001 TL - 25.000 TL      248\n",
              "70.001 TL - 85.000 TL      153\n",
              "15.001 TL - 18.000 TL      112\n",
              "11.402 TL - 15.000 TL      106\n",
              "85.001 TL - 100.000 TL     105\n",
              "18.001 TL - 20.000 TL      103\n",
              "100.001 TL - 130.000 TL     86\n",
              "11.402 TL ve altı           60\n",
              "130.001 TL - 160.000 TL     59\n",
              "250.000 TL ve üzeri         35\n",
              "160.001 TL - 200.000 TL     34\n",
              "200.000 TL - 250.000 TL     31\n",
              "Name: Maaş / Aylık Türk Lirası cinsinden, dtype: int64"
            ]
          },
          "metadata": {},
          "execution_count": 16
        }
      ]
    },
    {
      "cell_type": "markdown",
      "source": [
        "As i can see there is a small correlation between known tech counts and salary but not such a big thing"
      ],
      "metadata": {
        "id": "vn-i2xWRKHz6"
      }
    },
    {
      "cell_type": "markdown",
      "source": [
        "i will look at is there any correlation between work experience and salary"
      ],
      "metadata": {
        "id": "t9FX3aXOLQQv"
      }
    },
    {
      "cell_type": "code",
      "source": [
        "df1['Deneyim'].value_counts()"
      ],
      "metadata": {
        "colab": {
          "base_uri": "https://localhost:8080/"
        },
        "id": "_evUEelWIdq8",
        "outputId": "e406dafc-7a59-41b2-cb4c-cc9eb8451d68"
      },
      "execution_count": 24,
      "outputs": [
        {
          "output_type": "execute_result",
          "data": {
            "text/plain": [
              "1-3 Yıl            838\n",
              "3-5 Yıl            436\n",
              "0-1 Yıl            408\n",
              "5-9 Yıl            360\n",
              "12 Yıl ve üzeri    227\n",
              "9-12 Yıl           196\n",
              "Name: Deneyim, dtype: int64"
            ]
          },
          "metadata": {},
          "execution_count": 24
        }
      ]
    },
    {
      "cell_type": "code",
      "source": [
        "\n",
        "\n",
        "# Convert salary ranges to numeric values (midpoint of each range)\n",
        "salary_mapping = {\n",
        "    '11.402 TL ve altı': (0 + 11402) / 2,\n",
        "    '11.402 TL - 15.000 TL': (11402 + 15000) / 2,\n",
        "    '15.001 TL - 18.000 TL': (15001 + 18000) / 2,\n",
        "    '18.001 TL - 20.000 TL': (18001 + 20000) / 2,\n",
        "    '20.001 TL - 25.000 TL': (20001 + 25000) / 2,\n",
        "    '25.001 TL - 30.000 TL': (25001 + 30000) / 2,\n",
        "    '30.001 TL - 37.000 TL': (30001 + 37000) / 2,\n",
        "    '37.001 TL - 45.000 TL': (37001 + 45000) / 2,\n",
        "    '45.001 TL - 55.000 TL': (45001 + 55000) / 2,\n",
        "    '55.001 TL - 70.000 TL': (55001 + 70000) / 2,\n",
        "    '70.001 TL - 85.000 TL': (70001 + 85000) / 2,\n",
        "    '85.001 TL - 100.000 TL': (85001 + 100000) / 2,\n",
        "    '100.001 TL - 130.000 TL': (100001 + 130000) / 2,\n",
        "    '130.001 TL - 160.000 TL': (130001 + 160000) / 2,\n",
        "    '160.001 TL - 200.000 TL': (160001 + 200000) / 2,\n",
        "    '200.000 TL - 250.000 TL': (200000 + 250000) / 2,\n",
        "    '250.000 TL ve üzeri': 250000\n",
        "}\n",
        "\n",
        "df1['Mean_Salary'] = df1['Maaş / Aylık Türk Lirası cinsinden'].map(salary_mapping)\n",
        "\n",
        "# Set the order of experience levels\n",
        "experience_order = [\n",
        "    '12 Yıl ve üzeri',\n",
        "    '9-12 Yıl',\n",
        "    '5-9 Yıl',\n",
        "    '3-5 Yıl',\n",
        "    '1-3 Yıl',\n",
        "    '0-1 Yıl'\n",
        "]\n",
        "\n",
        "# Create a prettier box plot using Seaborn\n",
        "plt.figure(figsize=(10, 6))\n",
        "sns.barplot(data=df1, x='Deneyim', y='Numeric_Salary', order=experience_order)\n",
        "plt.title('Distribution of Salary by Experience Level')\n",
        "plt.xlabel('Experience Level')\n",
        "plt.ylabel('Numeric Salary')\n",
        "plt.tight_layout()\n",
        "plt.xticks(rotation=45)  # Rotate x-axis labels for better visibility\n",
        "plt.show()"
      ],
      "metadata": {
        "colab": {
          "base_uri": "https://localhost:8080/",
          "height": 672
        },
        "id": "V50rImyaK9Ct",
        "outputId": "c30af1f9-5649-472f-b080-0708f8534781"
      },
      "execution_count": 33,
      "outputs": [
        {
          "output_type": "display_data",
          "data": {
            "text/plain": [
              "<Figure size 1000x600 with 1 Axes>"
            ],
            "image/png": "[encoded data removed]"
          },
          "metadata": {}
        }
      ]
    },
    {
      "cell_type": "code",
      "source": [
        "df1['Seviyeniz nedir?'].value_counts()"
      ],
      "metadata": {
        "colab": {
          "base_uri": "https://localhost:8080/"
        },
        "id": "BTeKLAzBMN_i",
        "outputId": "ffc89cc5-686f-4222-a35b-4dede4393200"
      },
      "execution_count": 28,
      "outputs": [
        {
          "output_type": "execute_result",
          "data": {
            "text/plain": [
              "Junior    855\n",
              "Mid       826\n",
              "Senior    784\n",
              "Name: Seviyeniz nedir?, dtype: int64"
            ]
          },
          "metadata": {},
          "execution_count": 28
        }
      ]
    },
    {
      "cell_type": "code",
      "source": [
        "df1['Mean_Salary'] = df1['Maaş / Aylık Türk Lirası cinsinden'].map(salary_mapping)\n",
        "\n",
        "\n",
        "# Create a basic bar chart for 'Seviyeniz nedir?'\n",
        "plt.figure(figsize=(6, 6))\n",
        "sns.barplot(data=df1, x='Seviyeniz nedir?', y='Mean_Salary')\n",
        "plt.title('Average Salary by Experience Level')\n",
        "plt.xlabel('Experience Level')\n",
        "plt.ylabel('Average Salary')\n",
        "plt.xticks(rotation=0)\n",
        "plt.tight_layout()\n",
        "plt.show()"
      ],
      "metadata": {
        "colab": {
          "base_uri": "https://localhost:8080/",
          "height": 607
        },
        "id": "Y2h8hYhJOxmD",
        "outputId": "048406bc-b0ba-4a84-9bfc-28e0e8b1f2fb"
      },
      "execution_count": 45,
      "outputs": [
        {
          "output_type": "display_data",
          "data": {
            "text/plain": [
              "<Figure size 600x600 with 1 Axes>"
            ],
            "image/png": "[encoded data removed]"
          },
          "metadata": {}
        }
      ]
    },
    {
      "cell_type": "code",
      "source": [],
      "metadata": {
        "id": "lDQxMHEvPV16"
      },
      "execution_count": null,
      "outputs": []
    }
  ]
}