{
  "nbformat": 4,
  "nbformat_minor": 0,
  "metadata": {
    "colab": {
      "provenance": [],
      "toc_visible": true,
      "mount_file_id": "1AcU5x3Mq2wpPiDLCeLXyubAYkg2KYCbo",
      "authorship_tag": "ABX9TyPGeia08CSPksm9GnS/kc34",
      "include_colab_link": true
    },
    "kernelspec": {
      "name": "python3",
      "display_name": "Python 3"
    },
    "language_info": {
      "name": "python"
    },
    "widgets": {
      "application/vnd.jupyter.widget-state+json": {
        "8750904e85e348a9b676bc76fa7444e2": {
          "model_module": "@jupyter-widgets/controls",
          "model_name": "HBoxModel",
          "model_module_version": "1.5.0",
          "state": {
            "_dom_classes": [],
            "_model_module": "@jupyter-widgets/controls",
            "_model_module_version": "1.5.0",
            "_model_name": "HBoxModel",
            "_view_count": null,
            "_view_module": "@jupyter-widgets/controls",
            "_view_module_version": "1.5.0",
            "_view_name": "HBoxView",
            "box_style": "",
            "children": [
              "IPY_MODEL_8653a1f37182454eba18c649737d3091",
              "IPY_MODEL_2b02aa448b5f4290abdef001308fbd8c",
              "IPY_MODEL_a11cf94ed62a485eb50d07106e833266"
            ],
            "layout": "IPY_MODEL_e87fbad676c34f41a400236bdf1bd300"
          }
        },
        "8653a1f37182454eba18c649737d3091": {
          "model_module": "@jupyter-widgets/controls",
          "model_name": "HTMLModel",
          "model_module_version": "1.5.0",
          "state": {
            "_dom_classes": [],
            "_model_module": "@jupyter-widgets/controls",
            "_model_module_version": "1.5.0",
            "_model_name": "HTMLModel",
            "_view_count": null,
            "_view_module": "@jupyter-widgets/controls",
            "_view_module_version": "1.5.0",
            "_view_name": "HTMLView",
            "description": "",
            "description_tooltip": null,
            "layout": "IPY_MODEL_1bdd0eeb0a5d43c380d602c45c5ad42d",
            "placeholder": "​",
            "style": "IPY_MODEL_95a8243869834ea782b96fd0432cda00",
            "value": "Processing: 100%"
          }
        },
        "2b02aa448b5f4290abdef001308fbd8c": {
          "model_module": "@jupyter-widgets/controls",
          "model_name": "FloatProgressModel",
          "model_module_version": "1.5.0",
          "state": {
            "_dom_classes": [],
            "_model_module": "@jupyter-widgets/controls",
            "_model_module_version": "1.5.0",
            "_model_name": "FloatProgressModel",
            "_view_count": null,
            "_view_module": "@jupyter-widgets/controls",
            "_view_module_version": "1.5.0",
            "_view_name": "ProgressView",
            "bar_style": "",
            "description": "",
            "description_tooltip": null,
            "layout": "IPY_MODEL_241aea6dda764458aa592bf33831323b",
            "max": 81,
            "min": 0,
            "orientation": "horizontal",
            "style": "IPY_MODEL_d19f04188d4445eb8d39a8814ce4246c",
            "value": 81
          }
        },
        "a11cf94ed62a485eb50d07106e833266": {
          "model_module": "@jupyter-widgets/controls",
          "model_name": "HTMLModel",
          "model_module_version": "1.5.0",
          "state": {
            "_dom_classes": [],
            "_model_module": "@jupyter-widgets/controls",
            "_model_module_version": "1.5.0",
            "_model_name": "HTMLModel",
            "_view_count": null,
            "_view_module": "@jupyter-widgets/controls",
            "_view_module_version": "1.5.0",
            "_view_name": "HTMLView",
            "description": "",
            "description_tooltip": null,
            "layout": "IPY_MODEL_f01fc686346e4b9397dc13ae0279d360",
            "placeholder": "​",
            "style": "IPY_MODEL_2842d32d7c884f93a6e178f180cc07c3",
            "value": " 81/81 [2:19:10&lt;00:00, 36.98s/it]"
          }
        },
        "e87fbad676c34f41a400236bdf1bd300": {
          "model_module": "@jupyter-widgets/base",
          "model_name": "LayoutModel",
          "model_module_version": "1.2.0",
          "state": {
            "_model_module": "@jupyter-widgets/base",
            "_model_module_version": "1.2.0",
            "_model_name": "LayoutModel",
            "_view_count": null,
            "_view_module": "@jupyter-widgets/base",
            "_view_module_version": "1.2.0",
            "_view_name": "LayoutView",
            "align_content": null,
            "align_items": null,
            "align_self": null,
            "border": null,
            "bottom": null,
            "display": null,
            "flex": null,
            "flex_flow": null,
            "grid_area": null,
            "grid_auto_columns": null,
            "grid_auto_flow": null,
            "grid_auto_rows": null,
            "grid_column": null,
            "grid_gap": null,
            "grid_row": null,
            "grid_template_areas": null,
            "grid_template_columns": null,
            "grid_template_rows": null,
            "height": null,
            "justify_content": null,
            "justify_items": null,
            "left": null,
            "margin": null,
            "max_height": null,
            "max_width": null,
            "min_height": null,
            "min_width": null,
            "object_fit": null,
            "object_position": null,
            "order": null,
            "overflow": null,
            "overflow_x": null,
            "overflow_y": null,
            "padding": null,
            "right": null,
            "top": null,
            "visibility": "hidden",
            "width": null
          }
        },
        "1bdd0eeb0a5d43c380d602c45c5ad42d": {
          "model_module": "@jupyter-widgets/base",
          "model_name": "LayoutModel",
          "model_module_version": "1.2.0",
          "state": {
            "_model_module": "@jupyter-widgets/base",
            "_model_module_version": "1.2.0",
            "_model_name": "LayoutModel",
            "_view_count": null,
            "_view_module": "@jupyter-widgets/base",
            "_view_module_version": "1.2.0",
            "_view_name": "LayoutView",
            "align_content": null,
            "align_items": null,
            "align_self": null,
            "border": null,
            "bottom": null,
            "display": null,
            "flex": null,
            "flex_flow": null,
            "grid_area": null,
            "grid_auto_columns": null,
            "grid_auto_flow": null,
            "grid_auto_rows": null,
            "grid_column": null,
            "grid_gap": null,
            "grid_row": null,
            "grid_template_areas": null,
            "grid_template_columns": null,
            "grid_template_rows": null,
            "height": null,
            "justify_content": null,
            "justify_items": null,
            "left": null,
            "margin": null,
            "max_height": null,
            "max_width": null,
            "min_height": null,
            "min_width": null,
            "object_fit": null,
            "object_position": null,
            "order": null,
            "overflow": null,
            "overflow_x": null,
            "overflow_y": null,
            "padding": null,
            "right": null,
            "top": null,
            "visibility": null,
            "width": null
          }
        },
        "95a8243869834ea782b96fd0432cda00": {
          "model_module": "@jupyter-widgets/controls",
          "model_name": "DescriptionStyleModel",
          "model_module_version": "1.5.0",
          "state": {
            "_model_module": "@jupyter-widgets/controls",
            "_model_module_version": "1.5.0",
            "_model_name": "DescriptionStyleModel",
            "_view_count": null,
            "_view_module": "@jupyter-widgets/base",
            "_view_module_version": "1.2.0",
            "_view_name": "StyleView",
            "description_width": ""
          }
        },
        "241aea6dda764458aa592bf33831323b": {
          "model_module": "@jupyter-widgets/base",
          "model_name": "LayoutModel",
          "model_module_version": "1.2.0",
          "state": {
            "_model_module": "@jupyter-widgets/base",
            "_model_module_version": "1.2.0",
            "_model_name": "LayoutModel",
            "_view_count": null,
            "_view_module": "@jupyter-widgets/base",
            "_view_module_version": "1.2.0",
            "_view_name": "LayoutView",
            "align_content": null,
            "align_items": null,
            "align_self": null,
            "border": null,
            "bottom": null,
            "display": null,
            "flex": null,
            "flex_flow": null,
            "grid_area": null,
            "grid_auto_columns": null,
            "grid_auto_flow": null,
            "grid_auto_rows": null,
            "grid_column": null,
            "grid_gap": null,
            "grid_row": null,
            "grid_template_areas": null,
            "grid_template_columns": null,
            "grid_template_rows": null,
            "height": null,
            "justify_content": null,
            "justify_items": null,
            "left": null,
            "margin": null,
            "max_height": null,
            "max_width": null,
            "min_height": null,
            "min_width": null,
            "object_fit": null,
            "object_position": null,
            "order": null,
            "overflow": null,
            "overflow_x": null,
            "overflow_y": null,
            "padding": null,
            "right": null,
            "top": null,
            "visibility": null,
            "width": null
          }
        },
        "d19f04188d4445eb8d39a8814ce4246c": {
          "model_module": "@jupyter-widgets/controls",
          "model_name": "ProgressStyleModel",
          "model_module_version": "1.5.0",
          "state": {
            "_model_module": "@jupyter-widgets/controls",
            "_model_module_version": "1.5.0",
            "_model_name": "ProgressStyleModel",
            "_view_count": null,
            "_view_module": "@jupyter-widgets/base",
            "_view_module_version": "1.2.0",
            "_view_name": "StyleView",
            "bar_color": null,
            "description_width": ""
          }
        },
        "f01fc686346e4b9397dc13ae0279d360": {
          "model_module": "@jupyter-widgets/base",
          "model_name": "LayoutModel",
          "model_module_version": "1.2.0",
          "state": {
            "_model_module": "@jupyter-widgets/base",
            "_model_module_version": "1.2.0",
            "_model_name": "LayoutModel",
            "_view_count": null,
            "_view_module": "@jupyter-widgets/base",
            "_view_module_version": "1.2.0",
            "_view_name": "LayoutView",
            "align_content": null,
            "align_items": null,
            "align_self": null,
            "border": null,
            "bottom": null,
            "display": null,
            "flex": null,
            "flex_flow": null,
            "grid_area": null,
            "grid_auto_columns": null,
            "grid_auto_flow": null,
            "grid_auto_rows": null,
            "grid_column": null,
            "grid_gap": null,
            "grid_row": null,
            "grid_template_areas": null,
            "grid_template_columns": null,
            "grid_template_rows": null,
            "height": null,
            "justify_content": null,
            "justify_items": null,
            "left": null,
            "margin": null,
            "max_height": null,
            "max_width": null,
            "min_height": null,
            "min_width": null,
            "object_fit": null,
            "object_position": null,
            "order": null,
            "overflow": null,
            "overflow_x": null,
            "overflow_y": null,
            "padding": null,
            "right": null,
            "top": null,
            "visibility": null,
            "width": null
          }
        },
        "2842d32d7c884f93a6e178f180cc07c3": {
          "model_module": "@jupyter-widgets/controls",
          "model_name": "DescriptionStyleModel",
          "model_module_version": "1.5.0",
          "state": {
            "_model_module": "@jupyter-widgets/controls",
            "_model_module_version": "1.5.0",
            "_model_name": "DescriptionStyleModel",
            "_view_count": null,
            "_view_module": "@jupyter-widgets/base",
            "_view_module_version": "1.2.0",
            "_view_name": "StyleView",
            "description_width": ""
          }
        }
      }
    }
  },
  "cells": [
    {
      "cell_type": "markdown",
      "metadata": {
        "id": "view-in-github",
        "colab_type": "text"
      },
      "source": [
        "<a href=\"https://colab.research.google.com/github/ofgkts/Portfolio-Projects/blob/main/bus_delays.ipynb\" target=\"_parent\"><img src=\"https://colab.research.google.com/assets/colab-badge.svg\" alt=\"Open In Colab\"/></a>"
      ]
    },
    {
      "cell_type": "markdown",
      "source": [
        "#Bus Breakdown Delays\n"
      ],
      "metadata": {
        "id": "GNFqVlONuw5T"
      }
    },
    {
      "cell_type": "code",
      "execution_count": null,
      "metadata": {
        "id": "7Qk6BFYfLksB",
        "colab": {
          "base_uri": "https://localhost:8080/",
          "height": 507
        },
        "outputId": "4c9200b4-c380-4e16-df95-727d5240f948"
      },
      "outputs": [
        {
          "output_type": "stream",
          "name": "stderr",
          "text": [
            "<ipython-input-4-50c2f609ebd6>:3: DtypeWarning: Columns (17) have mixed types. Specify dtype option on import or set low_memory=False.\n",
            "  bus=pd.read_csv('/content/drive/MyDrive/proje/Omer Code/projects/bus_breakdown/bus-breakdowns-delays.csv')\n"
          ]
        },
        {
          "output_type": "execute_result",
          "data": {
            "text/plain": [
              "  School_Year  Busbreakdown_ID           Run_Type Bus_No Route_Number  \\\n",
              "0   2015-2016          1227538  Special Ed AM Run   2621         J711   \n",
              "1   2015-2016          1227539  Special Ed AM Run   1260         M351   \n",
              "2   2015-2016          1227540           Pre-K/EI    418            3   \n",
              "3   2015-2016          1227541  Special Ed AM Run   4522         M271   \n",
              "4   2015-2016          1227542  Special Ed AM Run   3124         M373   \n",
              "\n",
              "          Reason Schools_Serviced             Occurred_On  \\\n",
              "0  Heavy Traffic            75003  11/05/2015 08:10:00 AM   \n",
              "1  Heavy Traffic            06716  11/05/2015 08:10:00 AM   \n",
              "2  Heavy Traffic             C445  11/05/2015 08:09:00 AM   \n",
              "3  Heavy Traffic            02699  11/05/2015 08:12:00 AM   \n",
              "4  Heavy Traffic            02116  11/05/2015 08:13:00 AM   \n",
              "\n",
              "               Created_On        Boro  ... How_Long_Delayed  \\\n",
              "0  11/05/2015 08:12:00 AM  New Jersey  ...              NaN   \n",
              "1  11/05/2015 08:12:00 AM   Manhattan  ...            20MNS   \n",
              "2  11/05/2015 08:13:00 AM       Bronx  ...            15MIN   \n",
              "3  11/05/2015 08:14:00 AM   Manhattan  ...           15 MIN   \n",
              "4  11/05/2015 08:14:00 AM   Manhattan  ...              NaN   \n",
              "\n",
              "  Number_Of_Students_On_The_Bus  Has_Contractor_Notified_Schools  \\\n",
              "0                            11                              Yes   \n",
              "1                             2                              Yes   \n",
              "2                             8                              Yes   \n",
              "3                             6                               No   \n",
              "4                             6                               No   \n",
              "\n",
              "  Has_Contractor_Notified_Parents Have_You_Alerted_OPT  \\\n",
              "0                              No                  Yes   \n",
              "1                             Yes                   No   \n",
              "2                             Yes                  Yes   \n",
              "3                              No                   No   \n",
              "4                              No                   No   \n",
              "\n",
              "              Informed_On Incident_Number         Last_Updated_On  \\\n",
              "0  11/05/2015 08:12:00 AM             NaN  11/05/2015 08:12:14 AM   \n",
              "1  11/05/2015 08:12:00 AM             NaN  11/05/2015 08:13:34 AM   \n",
              "2  11/05/2015 08:13:00 AM             NaN  11/05/2015 08:13:22 AM   \n",
              "3  11/05/2015 08:14:00 AM             NaN  11/05/2015 08:14:04 AM   \n",
              "4  11/05/2015 08:14:00 AM             NaN  11/05/2015 08:14:08 AM   \n",
              "\n",
              "  Breakdown_or_Running_Late School_Age_or_PreK  \n",
              "0              Running Late         School-Age  \n",
              "1              Running Late         School-Age  \n",
              "2              Running Late              Pre-K  \n",
              "3              Running Late         School-Age  \n",
              "4              Running Late         School-Age  \n",
              "\n",
              "[5 rows x 21 columns]"
            ],
            "text/html": [
              "\n",
              "  <div id=\"df-aeb22262-c4b3-47d5-82fa-02b4cf80d2c6\">\n",
              "    <div class=\"colab-df-container\">\n",
              "      <div>\n",
              "<style scoped>\n",
              "    .dataframe tbody tr th:only-of-type {\n",
              "        vertical-align: middle;\n",
              "    }\n",
              "\n",
              "    .dataframe tbody tr th {\n",
              "        vertical-align: top;\n",
              "    }\n",
              "\n",
              "    .dataframe thead th {\n",
              "        text-align: right;\n",
              "    }\n",
              "</style>\n",
              "<table border=\"1\" class=\"dataframe\">\n",
              "  <thead>\n",
              "    <tr style=\"text-align: right;\">\n",
              "      <th></th>\n",
              "      <th>School_Year</th>\n",
              "      <th>Busbreakdown_ID</th>\n",
              "      <th>Run_Type</th>\n",
              "      <th>Bus_No</th>\n",
              "      <th>Route_Number</th>\n",
              "      <th>Reason</th>\n",
              "      <th>Schools_Serviced</th>\n",
              "      <th>Occurred_On</th>\n",
              "      <th>Created_On</th>\n",
              "      <th>Boro</th>\n",
              "      <th>...</th>\n",
              "      <th>How_Long_Delayed</th>\n",
              "      <th>Number_Of_Students_On_The_Bus</th>\n",
              "      <th>Has_Contractor_Notified_Schools</th>\n",
              "      <th>Has_Contractor_Notified_Parents</th>\n",
              "      <th>Have_You_Alerted_OPT</th>\n",
              "      <th>Informed_On</th>\n",
              "      <th>Incident_Number</th>\n",
              "      <th>Last_Updated_On</th>\n",
              "      <th>Breakdown_or_Running_Late</th>\n",
              "      <th>School_Age_or_PreK</th>\n",
              "    </tr>\n",
              "  </thead>\n",
              "  <tbody>\n",
              "    <tr>\n",
              "      <th>0</th>\n",
              "      <td>2015-2016</td>\n",
              "      <td>1227538</td>\n",
              "      <td>Special Ed AM Run</td>\n",
              "      <td>2621</td>\n",
              "      <td>J711</td>\n",
              "      <td>Heavy Traffic</td>\n",
              "      <td>75003</td>\n",
              "      <td>11/05/2015 08:10:00 AM</td>\n",
              "      <td>11/05/2015 08:12:00 AM</td>\n",
              "      <td>New Jersey</td>\n",
              "      <td>...</td>\n",
              "      <td>NaN</td>\n",
              "      <td>11</td>\n",
              "      <td>Yes</td>\n",
              "      <td>No</td>\n",
              "      <td>Yes</td>\n",
              "      <td>11/05/2015 08:12:00 AM</td>\n",
              "      <td>NaN</td>\n",
              "      <td>11/05/2015 08:12:14 AM</td>\n",
              "      <td>Running Late</td>\n",
              "      <td>School-Age</td>\n",
              "    </tr>\n",
              "    <tr>\n",
              "      <th>1</th>\n",
              "      <td>2015-2016</td>\n",
              "      <td>1227539</td>\n",
              "      <td>Special Ed AM Run</td>\n",
              "      <td>1260</td>\n",
              "      <td>M351</td>\n",
              "      <td>Heavy Traffic</td>\n",
              "      <td>06716</td>\n",
              "      <td>11/05/2015 08:10:00 AM</td>\n",
              "      <td>11/05/2015 08:12:00 AM</td>\n",
              "      <td>Manhattan</td>\n",
              "      <td>...</td>\n",
              "      <td>20MNS</td>\n",
              "      <td>2</td>\n",
              "      <td>Yes</td>\n",
              "      <td>Yes</td>\n",
              "      <td>No</td>\n",
              "      <td>11/05/2015 08:12:00 AM</td>\n",
              "      <td>NaN</td>\n",
              "      <td>11/05/2015 08:13:34 AM</td>\n",
              "      <td>Running Late</td>\n",
              "      <td>School-Age</td>\n",
              "    </tr>\n",
              "    <tr>\n",
              "      <th>2</th>\n",
              "      <td>2015-2016</td>\n",
              "      <td>1227540</td>\n",
              "      <td>Pre-K/EI</td>\n",
              "      <td>418</td>\n",
              "      <td>3</td>\n",
              "      <td>Heavy Traffic</td>\n",
              "      <td>C445</td>\n",
              "      <td>11/05/2015 08:09:00 AM</td>\n",
              "      <td>11/05/2015 08:13:00 AM</td>\n",
              "      <td>Bronx</td>\n",
              "      <td>...</td>\n",
              "      <td>15MIN</td>\n",
              "      <td>8</td>\n",
              "      <td>Yes</td>\n",
              "      <td>Yes</td>\n",
              "      <td>Yes</td>\n",
              "      <td>11/05/2015 08:13:00 AM</td>\n",
              "      <td>NaN</td>\n",
              "      <td>11/05/2015 08:13:22 AM</td>\n",
              "      <td>Running Late</td>\n",
              "      <td>Pre-K</td>\n",
              "    </tr>\n",
              "    <tr>\n",
              "      <th>3</th>\n",
              "      <td>2015-2016</td>\n",
              "      <td>1227541</td>\n",
              "      <td>Special Ed AM Run</td>\n",
              "      <td>4522</td>\n",
              "      <td>M271</td>\n",
              "      <td>Heavy Traffic</td>\n",
              "      <td>02699</td>\n",
              "      <td>11/05/2015 08:12:00 AM</td>\n",
              "      <td>11/05/2015 08:14:00 AM</td>\n",
              "      <td>Manhattan</td>\n",
              "      <td>...</td>\n",
              "      <td>15 MIN</td>\n",
              "      <td>6</td>\n",
              "      <td>No</td>\n",
              "      <td>No</td>\n",
              "      <td>No</td>\n",
              "      <td>11/05/2015 08:14:00 AM</td>\n",
              "      <td>NaN</td>\n",
              "      <td>11/05/2015 08:14:04 AM</td>\n",
              "      <td>Running Late</td>\n",
              "      <td>School-Age</td>\n",
              "    </tr>\n",
              "    <tr>\n",
              "      <th>4</th>\n",
              "      <td>2015-2016</td>\n",
              "      <td>1227542</td>\n",
              "      <td>Special Ed AM Run</td>\n",
              "      <td>3124</td>\n",
              "      <td>M373</td>\n",
              "      <td>Heavy Traffic</td>\n",
              "      <td>02116</td>\n",
              "      <td>11/05/2015 08:13:00 AM</td>\n",
              "      <td>11/05/2015 08:14:00 AM</td>\n",
              "      <td>Manhattan</td>\n",
              "      <td>...</td>\n",
              "      <td>NaN</td>\n",
              "      <td>6</td>\n",
              "      <td>No</td>\n",
              "      <td>No</td>\n",
              "      <td>No</td>\n",
              "      <td>11/05/2015 08:14:00 AM</td>\n",
              "      <td>NaN</td>\n",
              "      <td>11/05/2015 08:14:08 AM</td>\n",
              "      <td>Running Late</td>\n",
              "      <td>School-Age</td>\n",
              "    </tr>\n",
              "  </tbody>\n",
              "</table>\n",
              "<p>5 rows × 21 columns</p>\n",
              "</div>\n",
              "      <button class=\"colab-df-convert\" onclick=\"convertToInteractive('df-aeb22262-c4b3-47d5-82fa-02b4cf80d2c6')\"\n",
              "              title=\"Convert this dataframe to an interactive table.\"\n",
              "              style=\"display:none;\">\n",
              "        \n",
              "  <svg xmlns=\"http://www.w3.org/2000/svg\" height=\"24px\"viewBox=\"0 0 24 24\"\n",
              "       width=\"24px\">\n",
              "    <path d=\"M0 0h24v24H0V0z\" fill=\"none\"/>\n",
              "    <path d=\"M18.56 5.44l.94 2.06.94-2.06 2.06-.94-2.06-.94-.94-2.06-.94 2.06-2.06.94zm-11 1L8.5 8.5l.94-2.06 2.06-.94-2.06-.94L8.5 2.5l-.94 2.06-2.06.94zm10 10l.94 2.06.94-2.06 2.06-.94-2.06-.94-.94-2.06-.94 2.06-2.06.94z\"/><path d=\"M17.41 7.96l-1.37-1.37c-.4-.4-.92-.59-1.43-.59-.52 0-1.04.2-1.43.59L10.3 9.45l-7.72 7.72c-.78.78-.78 2.05 0 2.83L4 21.41c.39.39.9.59 1.41.59.51 0 1.02-.2 1.41-.59l7.78-7.78 2.81-2.81c.8-.78.8-2.07 0-2.86zM5.41 20L4 18.59l7.72-7.72 1.47 1.35L5.41 20z\"/>\n",
              "  </svg>\n",
              "      </button>\n",
              "      \n",
              "  <style>\n",
              "    .colab-df-container {\n",
              "      display:flex;\n",
              "      flex-wrap:wrap;\n",
              "      gap: 12px;\n",
              "    }\n",
              "\n",
              "    .colab-df-convert {\n",
              "      background-color: #E8F0FE;\n",
              "      border: none;\n",
              "      border-radius: 50%;\n",
              "      cursor: pointer;\n",
              "      display: none;\n",
              "      fill: #1967D2;\n",
              "      height: 32px;\n",
              "      padding: 0 0 0 0;\n",
              "      width: 32px;\n",
              "    }\n",
              "\n",
              "    .colab-df-convert:hover {\n",
              "      background-color: #E2EBFA;\n",
              "      box-shadow: 0px 1px 2px rgba(60, 64, 67, 0.3), 0px 1px 3px 1px rgba(60, 64, 67, 0.15);\n",
              "      fill: #174EA6;\n",
              "    }\n",
              "\n",
              "    [theme=dark] .colab-df-convert {\n",
              "      background-color: #3B4455;\n",
              "      fill: #D2E3FC;\n",
              "    }\n",
              "\n",
              "    [theme=dark] .colab-df-convert:hover {\n",
              "      background-color: #434B5C;\n",
              "      box-shadow: 0px 1px 3px 1px rgba(0, 0, 0, 0.15);\n",
              "      filter: drop-shadow(0px 1px 2px rgba(0, 0, 0, 0.3));\n",
              "      fill: #FFFFFF;\n",
              "    }\n",
              "  </style>\n",
              "\n",
              "      <script>\n",
              "        const buttonEl =\n",
              "          document.querySelector('#df-aeb22262-c4b3-47d5-82fa-02b4cf80d2c6 button.colab-df-convert');\n",
              "        buttonEl.style.display =\n",
              "          google.colab.kernel.accessAllowed ? 'block' : 'none';\n",
              "\n",
              "        async function convertToInteractive(key) {\n",
              "          const element = document.querySelector('#df-aeb22262-c4b3-47d5-82fa-02b4cf80d2c6');\n",
              "          const dataTable =\n",
              "            await google.colab.kernel.invokeFunction('convertToInteractive',\n",
              "                                                     [key], {});\n",
              "          if (!dataTable) return;\n",
              "\n",
              "          const docLinkHtml = 'Like what you see? Visit the ' +\n",
              "            '<a target=\"_blank\" href=https://colab.research.google.com/notebooks/data_table.ipynb>data table notebook</a>'\n",
              "            + ' to learn more about interactive tables.';\n",
              "          element.innerHTML = '';\n",
              "          dataTable['output_type'] = 'display_data';\n",
              "          await google.colab.output.renderOutput(dataTable, element);\n",
              "          const docLink = document.createElement('div');\n",
              "          docLink.innerHTML = docLinkHtml;\n",
              "          element.appendChild(docLink);\n",
              "        }\n",
              "      </script>\n",
              "    </div>\n",
              "  </div>\n",
              "  "
            ]
          },
          "metadata": {},
          "execution_count": 4
        }
      ],
      "source": [
        "import pandas as pd\n",
        "import numpy as np\n",
        "bus=pd.read_csv('/content/drive/MyDrive/proje/Omer Code/projects/bus_breakdown/bus-breakdowns-delays.csv')\n",
        "df=bus.copy()\n",
        "df.head()"
      ]
    },
    {
      "cell_type": "markdown",
      "source": [
        "### About Dataset\n",
        "`The Bus Breakdown and Delay system collects information from school bus vendors operating out in the field in real time. Bus staff that encounter delays during the route are instructed to radio the dispatcher at the bus vendor’s central office. The bus vendor staff are then instructed to log into the Bus Breakdown and Delay system to record the event and notify OPT. OPT customer service agents use this system to inform parents who call with questions regarding bus service. The Bus Breakdown and Delay system is publicly accessible and contains real time updates. All information in the system is entered by school bus vendor staf`"
      ],
      "metadata": {
        "id": "MdC0yfOqMSA0"
      }
    },
    {
      "cell_type": "code",
      "source": [
        "df.info()"
      ],
      "metadata": {
        "colab": {
          "base_uri": "https://localhost:8080/"
        },
        "id": "oDov42Ja5m_n",
        "outputId": "703535af-ea1f-41dd-89f0-b124d3d03af9"
      },
      "execution_count": null,
      "outputs": [
        {
          "output_type": "stream",
          "name": "stdout",
          "text": [
            "<class 'pandas.core.frame.DataFrame'>\n",
            "RangeIndex: 545691 entries, 0 to 545690\n",
            "Data columns (total 21 columns):\n",
            " #   Column                           Non-Null Count   Dtype \n",
            "---  ------                           --------------   ----- \n",
            " 0   School_Year                      545691 non-null  object\n",
            " 1   Busbreakdown_ID                  545691 non-null  int64 \n",
            " 2   Run_Type                         545685 non-null  object\n",
            " 3   Bus_No                           545678 non-null  object\n",
            " 4   Route_Number                     545684 non-null  object\n",
            " 5   Reason                           545689 non-null  object\n",
            " 6   Schools_Serviced                 545684 non-null  object\n",
            " 7   Occurred_On                      545691 non-null  object\n",
            " 8   Created_On                       545691 non-null  object\n",
            " 9   Boro                             534474 non-null  object\n",
            " 10  Bus_Company_Name                 545691 non-null  object\n",
            " 11  How_Long_Delayed                 491627 non-null  object\n",
            " 12  Number_Of_Students_On_The_Bus    545691 non-null  int64 \n",
            " 13  Has_Contractor_Notified_Schools  545691 non-null  object\n",
            " 14  Has_Contractor_Notified_Parents  545691 non-null  object\n",
            " 15  Have_You_Alerted_OPT             545691 non-null  object\n",
            " 16  Informed_On                      545691 non-null  object\n",
            " 17  Incident_Number                  10890 non-null   object\n",
            " 18  Last_Updated_On                  545691 non-null  object\n",
            " 19  Breakdown_or_Running_Late        545691 non-null  object\n",
            " 20  School_Age_or_PreK               545691 non-null  object\n",
            "dtypes: int64(2), object(19)\n",
            "memory usage: 87.4+ MB\n"
          ]
        }
      ]
    },
    {
      "cell_type": "code",
      "source": [
        "df.isna().sum()"
      ],
      "metadata": {
        "colab": {
          "base_uri": "https://localhost:8080/"
        },
        "id": "LpOUlGtU7u-D",
        "outputId": "1d098438-36dc-4532-8612-eeabb15a087e"
      },
      "execution_count": null,
      "outputs": [
        {
          "output_type": "execute_result",
          "data": {
            "text/plain": [
              "School_Year                             0\n",
              "Busbreakdown_ID                         0\n",
              "Run_Type                                6\n",
              "Bus_No                                 13\n",
              "Route_Number                            7\n",
              "Reason                                  2\n",
              "Schools_Serviced                        7\n",
              "Occurred_On                             0\n",
              "Created_On                              0\n",
              "Boro                                11217\n",
              "Bus_Company_Name                        0\n",
              "How_Long_Delayed                    54064\n",
              "Number_Of_Students_On_The_Bus           0\n",
              "Has_Contractor_Notified_Schools         0\n",
              "Has_Contractor_Notified_Parents         0\n",
              "Have_You_Alerted_OPT                    0\n",
              "Informed_On                             0\n",
              "Incident_Number                    534801\n",
              "Last_Updated_On                         0\n",
              "Breakdown_or_Running_Late               0\n",
              "School_Age_or_PreK                      0\n",
              "dtype: int64"
            ]
          },
          "metadata": {},
          "execution_count": 6
        }
      ]
    },
    {
      "cell_type": "code",
      "source": [
        "import missingno as msno\n",
        "msno.matrix(df)\n"
      ],
      "metadata": {
        "colab": {
          "base_uri": "https://localhost:8080/",
          "height": 619
        },
        "id": "ll562xj1Z4xk",
        "outputId": "17e23a1c-d8c5-4889-a992-978b896a5ad7"
      },
      "execution_count": null,
      "outputs": [
        {
          "output_type": "execute_result",
          "data": {
            "text/plain": [
              "<Axes: >"
            ]
          },
          "metadata": {},
          "execution_count": 7
        },
        {
          "output_type": "display_data",
          "data": {
            "text/plain": [
              "<Figure size 2500x1000 with 2 Axes>"
            ],
            "image/png": "[encoded data removed]"
          },
          "metadata": {}
        }
      ]
    },
    {
      "cell_type": "markdown",
      "source": [
        " i will drop incident number\n",
        "\n",
        "  there is columns to change datetime year ,minute\n",
        "  \n",
        "   target is how long it delayed and it is had null values i am going to split nulls another dataframe  \n",
        "\n",
        " look correleation and drop low or non correlated columns\n",
        " maybe i could predict boro too it is borough change column name\n",
        "\n",
        " i need to detect  are there any outliers\n",
        "\n",
        " look what is the nulls  in other columns\n",
        "\n",
        " i could work on what is may be the reasons of possible reasons  "
      ],
      "metadata": {
        "id": "e-QS4dMldPm8"
      }
    },
    {
      "cell_type": "code",
      "source": [
        "df.drop('Incident_Number',axis=1,inplace=True)#drop null column\n",
        "df['Occurred_On'] = pd.to_datetime(df['Occurred_On'])\n",
        "df['Created_On'] = pd.to_datetime(df['Created_On'])\n",
        "df['Informed_On'] = pd.to_datetime(df['Informed_On'])\n",
        "df['Last_Updated_On'] = pd.to_datetime(df['Last_Updated_On'])\n",
        "#change datetime type"
      ],
      "metadata": {
        "id": "DulmNdSyctBg"
      },
      "execution_count": null,
      "outputs": []
    },
    {
      "cell_type": "code",
      "source": [
        "df[['school_start_year','school_end_year']]=df['School_Year'].str.split('-',expand=True)\n",
        "#split for the date time changing"
      ],
      "metadata": {
        "id": "GdsG5mH2HeXl"
      },
      "execution_count": null,
      "outputs": []
    },
    {
      "cell_type": "code",
      "source": [
        "df[\"school_start_year\"] = pd.to_datetime(df[\"school_start_year\"])\n",
        "df[\"school_end_year\"] = pd.to_datetime(df[\"school_end_year\"])\n",
        "#it includes months and days change them"
      ],
      "metadata": {
        "id": "PNg0TUdQLQao"
      },
      "execution_count": null,
      "outputs": []
    },
    {
      "cell_type": "code",
      "source": [
        "df[\"school_start_year\"] = df[\"school_start_year\"].dt.year\n",
        "df[\"school_end_year\"] = df[\"school_end_year\"].dt.year\n"
      ],
      "metadata": {
        "id": "syfxlhJ7LsF6"
      },
      "execution_count": null,
      "outputs": []
    },
    {
      "cell_type": "code",
      "source": [
        "df=df.rename(columns={'Boro':'Borough'})\n",
        "df.drop('School_Year',axis=1,inplace=True)\n",
        "df1=df[df['How_Long_Delayed'].notna()]"
      ],
      "metadata": {
        "id": "40AWsvWVhGmw"
      },
      "execution_count": null,
      "outputs": []
    },
    {
      "cell_type": "code",
      "source": [
        "df1['How_Long_Delayed'].value_counts().head(50)#this is some shitty data i need to clean it include mins minute this column my target column also i need to I also need to handle values ​​that give minute intervals"
      ],
      "metadata": {
        "id": "eYaWduWti1fo",
        "colab": {
          "base_uri": "https://localhost:8080/"
        },
        "outputId": "19ffc340-abfe-4c38-b67a-d53ceddd63ba"
      },
      "execution_count": null,
      "outputs": [
        {
          "output_type": "execute_result",
          "data": {
            "text/plain": [
              "31-45 Min     119486\n",
              "16-30 Min     111475\n",
              "46-60 Min      64958\n",
              "0-15 Min       40152\n",
              "61-90 Min      27713\n",
              "20 MINS         5730\n",
              "30 MINS         4688\n",
              "30 minutes      3757\n",
              "15 mins         3538\n",
              "30MINS          3207\n",
              "20 mins         3170\n",
              "20 min          2940\n",
              "30 min          2928\n",
              "15 MINS         2853\n",
              "20 MIN          2624\n",
              "30 MIN          2539\n",
              "20              2499\n",
              "15MINS          1989\n",
              "30 mins         1903\n",
              "15 minutes      1787\n",
              "45 MIN          1785\n",
              "25 MIN          1746\n",
              "45 MINS         1716\n",
              "20-30 min       1570\n",
              "25 MINS         1540\n",
              "10 mins         1472\n",
              "30mins          1371\n",
              "15 min          1315\n",
              "45MINS          1297\n",
              "20mins          1267\n",
              "30min           1125\n",
              "15MIN           1120\n",
              "20-30mins       1089\n",
              "20MIN           1064\n",
              "25 min          1039\n",
              "45MIN           1033\n",
              "15              1015\n",
              "20 MINTUES      1013\n",
              "30               980\n",
              "10 MIN           953\n",
              "1 hr             875\n",
              "15-20 min        869\n",
              "25-30 MIN        828\n",
              "20 minutes       823\n",
              "25 mins          800\n",
              "25 MINUTES       786\n",
              "45 mins          764\n",
              "20MINS           759\n",
              "10 minutes       716\n",
              "15 MIN           690\n",
              "Name: How_Long_Delayed, dtype: int64"
            ]
          },
          "metadata": {},
          "execution_count": 13
        }
      ]
    },
    {
      "cell_type": "code",
      "source": [
        "df1['How_Long_Delayed'].value_counts().tail(50)"
      ],
      "metadata": {
        "id": "JyMluNWlTsjg",
        "colab": {
          "base_uri": "https://localhost:8080/"
        },
        "outputId": "155ceccf-024a-42f3-ec7b-f014b30c2259"
      },
      "execution_count": null,
      "outputs": [
        {
          "output_type": "execute_result",
          "data": {
            "text/plain": [
              "120min        1\n",
              "40-1hr        1\n",
              "35 MIN+       1\n",
              "35 SM         1\n",
              "5:mins        1\n",
              "02:19 am      1\n",
              "140/15        1\n",
              "1405          1\n",
              "40 MIN.,      1\n",
              "1310          1\n",
              "30 MIN9       1\n",
              "715           1\n",
              "35min/45mi    1\n",
              "30MIM         1\n",
              "55MIN         1\n",
              "30mnis        1\n",
              "3MN           1\n",
              "60 Minutes    1\n",
              "145 Min.      1\n",
              "15MIINS       1\n",
              "45min -1hr    1\n",
              "10 - 15 mi    1\n",
              "20-30 mn      1\n",
              "401 min       1\n",
              "30 mun        1\n",
              "45HR          1\n",
              "2640          1\n",
              "30MIN ?       1\n",
              "1hr 45min     1\n",
              "54MIN         1\n",
              "800 min       1\n",
              "14 MINUTES    1\n",
              "454 min       1\n",
              "25 minute.    1\n",
              "50-60 mins    1\n",
              "one hour      1\n",
              "5819d         1\n",
              "20 MINS?      1\n",
              "25min/30mi    1\n",
              "4104          1\n",
              "20-25 Min     1\n",
              "11/10/16      1\n",
              "1:40 MINS     1\n",
              "30 mins.2     1\n",
              "35mint        1\n",
              "30min???      1\n",
              "30min??       1\n",
              "39 MINS       1\n",
              "est. 25min    1\n",
              "45 MINIUTE    1\n",
              "Name: How_Long_Delayed, dtype: int64"
            ]
          },
          "metadata": {},
          "execution_count": 14
        }
      ]
    },
    {
      "cell_type": "code",
      "source": [
        "a=['h','H']\n",
        "mask = df1['How_Long_Delayed'].str.contains('|'.join(a), case=False)\n",
        "df_filtered = df1[mask]\n",
        "value_counts = df_filtered['How_Long_Delayed'].value_counts()\n",
        "\n",
        "value_counts[:60]"
      ],
      "metadata": {
        "id": "FfD6T6A0Eqxp",
        "colab": {
          "base_uri": "https://localhost:8080/"
        },
        "outputId": "5bd2cd84-4cef-493d-c20e-dd52a6dd5cbe"
      },
      "execution_count": null,
      "outputs": [
        {
          "output_type": "execute_result",
          "data": {
            "text/plain": [
              "1 hr          875\n",
              "1 HOUR        668\n",
              "1 hour        529\n",
              "1 HR          425\n",
              "1HR           334\n",
              "1hr           290\n",
              "1 Hour        226\n",
              "1/2 HOUR       98\n",
              "1HOUR          80\n",
              "1 Hr           49\n",
              "2HRS           44\n",
              "1hour          37\n",
              "1/2 hour       37\n",
              "45min/1hr      35\n",
              "1 hr 30min     29\n",
              "1/2 hr         28\n",
              "1 hr 30 mi     26\n",
              "1HRS           25\n",
              "1 HR.          20\n",
              "1hr 30mins     16\n",
              "2 hours        15\n",
              "1hr 15mins     15\n",
              "1/2 HOUR?      15\n",
              "45-1hr         14\n",
              "45 min-1 h     14\n",
              "2 HRS          14\n",
              "1hr 20mins     14\n",
              "1.5 hour       10\n",
              "1 1/2 HR        9\n",
              "2 hrs           9\n",
              "2 HOURS         7\n",
              "1 hr 30         7\n",
              "45 min-1hr      7\n",
              "1hr 30 min      6\n",
              "1HR 30 MIN      6\n",
              "1hr?????        6\n",
              "45MIN-1HR       5\n",
              "45-1hour        5\n",
              "1hr/30min       5\n",
              "45 -1 hour      5\n",
              "1 hrs           4\n",
              "45min-1hr       4\n",
              "2 hr            4\n",
              "1hr????         4\n",
              "1hr 30min       3\n",
              "1hr-1 1/2       3\n",
              "1 HRS           3\n",
              "45-1 HR         3\n",
              "2hr             3\n",
              "2 hour          3\n",
              "1 hr.           3\n",
              "1.5 HRS         3\n",
              "1/2hour         3\n",
              "1 HOUR 15M      3\n",
              "45min-1 hr      3\n",
              "45-1HR          3\n",
              "1HR 30MIN       3\n",
              "2hrs            2\n",
              "1:hr            2\n",
              "1HR +           2\n",
              "Name: How_Long_Delayed, dtype: int64"
            ]
          },
          "metadata": {},
          "execution_count": 15
        }
      ]
    },
    {
      "cell_type": "markdown",
      "source": [
        "# solution path\n",
        "### my path is going to slice  data frame by minutes or hour which contains h, hr or m minute\n",
        "### how this is will be\n",
        "+ i will first drop data not having any number in it\n",
        "+ after then lower data\n",
        "+ after define hour data with contains any h in it and define minute data by dropping hour from main data\n",
        "\n",
        "### after then turn hour ones minute and if it is sliced take avarage in column\n",
        "### also minute one is needs to clean but it is going to more easy  it's path is the same clean minute part and take average of two sliced part"
      ],
      "metadata": {
        "id": "TrZwK5bi-2AX"
      }
    },
    {
      "cell_type": "code",
      "source": [
        "df1.info()"
      ],
      "metadata": {
        "id": "7vCCCjj0_dln",
        "colab": {
          "base_uri": "https://localhost:8080/"
        },
        "outputId": "27c2efe0-436e-4a23-d7db-caaab4a54a64"
      },
      "execution_count": null,
      "outputs": [
        {
          "output_type": "stream",
          "name": "stdout",
          "text": [
            "<class 'pandas.core.frame.DataFrame'>\n",
            "Int64Index: 491627 entries, 1 to 545690\n",
            "Data columns (total 21 columns):\n",
            " #   Column                           Non-Null Count   Dtype         \n",
            "---  ------                           --------------   -----         \n",
            " 0   Busbreakdown_ID                  491627 non-null  int64         \n",
            " 1   Run_Type                         491622 non-null  object        \n",
            " 2   Bus_No                           491615 non-null  object        \n",
            " 3   Route_Number                     491620 non-null  object        \n",
            " 4   Reason                           491625 non-null  object        \n",
            " 5   Schools_Serviced                 491620 non-null  object        \n",
            " 6   Occurred_On                      491627 non-null  datetime64[ns]\n",
            " 7   Created_On                       491627 non-null  datetime64[ns]\n",
            " 8   Borough                          481523 non-null  object        \n",
            " 9   Bus_Company_Name                 491627 non-null  object        \n",
            " 10  How_Long_Delayed                 491627 non-null  object        \n",
            " 11  Number_Of_Students_On_The_Bus    491627 non-null  int64         \n",
            " 12  Has_Contractor_Notified_Schools  491627 non-null  object        \n",
            " 13  Has_Contractor_Notified_Parents  491627 non-null  object        \n",
            " 14  Have_You_Alerted_OPT             491627 non-null  object        \n",
            " 15  Informed_On                      491627 non-null  datetime64[ns]\n",
            " 16  Last_Updated_On                  491627 non-null  datetime64[ns]\n",
            " 17  Breakdown_or_Running_Late        491627 non-null  object        \n",
            " 18  School_Age_or_PreK               491627 non-null  object        \n",
            " 19  school_start_year                491627 non-null  int64         \n",
            " 20  school_end_year                  491627 non-null  int64         \n",
            "dtypes: datetime64[ns](4), int64(4), object(13)\n",
            "memory usage: 82.5+ MB\n"
          ]
        }
      ]
    },
    {
      "cell_type": "code",
      "source": [
        "# check if there is a number in the column\n",
        "df['Has_Number'] = df1['How_Long_Delayed'].str.contains('\\d+')\n",
        "\n",
        "# drop rows where there is no number\n",
        "df2 = df[df['Has_Number'] == True].reset_index(drop=True)\n",
        "\n",
        "# drop the temporary column 'Has_Number'\n",
        "df2.drop('Has_Number', axis=1, inplace=True)"
      ],
      "metadata": {
        "id": "T5qyKVfsJRJ8"
      },
      "execution_count": null,
      "outputs": []
    },
    {
      "cell_type": "code",
      "source": [
        "#basic table for the being sure\n",
        "df2.iloc[:10,5:12]"
      ],
      "metadata": {
        "id": "Y2apiHXUKori",
        "colab": {
          "base_uri": "https://localhost:8080/",
          "height": 580
        },
        "outputId": "669ccc69-8ec7-4cf0-ebf7-4d6e9d815737"
      },
      "execution_count": null,
      "outputs": [
        {
          "output_type": "execute_result",
          "data": {
            "text/plain": [
              "  Schools_Serviced         Occurred_On          Created_On      Borough  \\\n",
              "0            06716 2015-11-05 08:10:00 2015-11-05 08:12:00    Manhattan   \n",
              "1             C445 2015-11-05 08:09:00 2015-11-05 08:13:00        Bronx   \n",
              "2            02699 2015-11-05 08:12:00 2015-11-05 08:14:00    Manhattan   \n",
              "3            75407 2015-11-05 07:58:00 2015-11-05 08:14:00  Westchester   \n",
              "4            75670 2015-11-05 08:24:00 2015-11-05 08:15:00  Westchester   \n",
              "5            03417 2015-11-05 08:15:00 2015-11-05 08:16:00    Manhattan   \n",
              "6            01450 2015-11-05 07:55:00 2015-11-05 08:17:00    Manhattan   \n",
              "7            02930 2015-11-05 08:16:00 2015-11-05 08:17:00    Manhattan   \n",
              "8            03004 2015-11-05 08:19:00 2015-11-05 08:20:00    Manhattan   \n",
              "9             C601 2015-11-05 08:19:00 2015-11-05 08:20:00        Bronx   \n",
              "\n",
              "            Bus_Company_Name How_Long_Delayed  Number_Of_Students_On_The_Bus  \n",
              "0  HOYT TRANSPORTATION CORP.            20MNS                              2  \n",
              "1               G.V.C., LTD.            15MIN                              8  \n",
              "2  RELIANT TRANS, INC. (B232           15 MIN                              6  \n",
              "3  CHILDREN`S TRANS INC. (B2           30 min                              1  \n",
              "4  MAR-CAN TRANSPORT CO. INC           20MINS                              3  \n",
              "5  LEESEL TRANSP CORP (B2192               15                              3  \n",
              "6  CONSOLIDATED BUS TRANS. I          30 mins                              5  \n",
              "7  LEESEL TRANSP CORP (B2192               20                              3  \n",
              "8  LEESEL TRANSP CORP (B2192               20                              3  \n",
              "9               G.V.C., LTD.          30 MINS                             13  "
            ],
            "text/html": [
              "\n",
              "  <div id=\"df-1b88189f-44e6-40be-b945-37c8830ded21\">\n",
              "    <div class=\"colab-df-container\">\n",
              "      <div>\n",
              "<style scoped>\n",
              "    .dataframe tbody tr th:only-of-type {\n",
              "        vertical-align: middle;\n",
              "    }\n",
              "\n",
              "    .dataframe tbody tr th {\n",
              "        vertical-align: top;\n",
              "    }\n",
              "\n",
              "    .dataframe thead th {\n",
              "        text-align: right;\n",
              "    }\n",
              "</style>\n",
              "<table border=\"1\" class=\"dataframe\">\n",
              "  <thead>\n",
              "    <tr style=\"text-align: right;\">\n",
              "      <th></th>\n",
              "      <th>Schools_Serviced</th>\n",
              "      <th>Occurred_On</th>\n",
              "      <th>Created_On</th>\n",
              "      <th>Borough</th>\n",
              "      <th>Bus_Company_Name</th>\n",
              "      <th>How_Long_Delayed</th>\n",
              "      <th>Number_Of_Students_On_The_Bus</th>\n",
              "    </tr>\n",
              "  </thead>\n",
              "  <tbody>\n",
              "    <tr>\n",
              "      <th>0</th>\n",
              "      <td>06716</td>\n",
              "      <td>2015-11-05 08:10:00</td>\n",
              "      <td>2015-11-05 08:12:00</td>\n",
              "      <td>Manhattan</td>\n",
              "      <td>HOYT TRANSPORTATION CORP.</td>\n",
              "      <td>20MNS</td>\n",
              "      <td>2</td>\n",
              "    </tr>\n",
              "    <tr>\n",
              "      <th>1</th>\n",
              "      <td>C445</td>\n",
              "      <td>2015-11-05 08:09:00</td>\n",
              "      <td>2015-11-05 08:13:00</td>\n",
              "      <td>Bronx</td>\n",
              "      <td>G.V.C., LTD.</td>\n",
              "      <td>15MIN</td>\n",
              "      <td>8</td>\n",
              "    </tr>\n",
              "    <tr>\n",
              "      <th>2</th>\n",
              "      <td>02699</td>\n",
              "      <td>2015-11-05 08:12:00</td>\n",
              "      <td>2015-11-05 08:14:00</td>\n",
              "      <td>Manhattan</td>\n",
              "      <td>RELIANT TRANS, INC. (B232</td>\n",
              "      <td>15 MIN</td>\n",
              "      <td>6</td>\n",
              "    </tr>\n",
              "    <tr>\n",
              "      <th>3</th>\n",
              "      <td>75407</td>\n",
              "      <td>2015-11-05 07:58:00</td>\n",
              "      <td>2015-11-05 08:14:00</td>\n",
              "      <td>Westchester</td>\n",
              "      <td>CHILDREN`S TRANS INC. (B2</td>\n",
              "      <td>30 min</td>\n",
              "      <td>1</td>\n",
              "    </tr>\n",
              "    <tr>\n",
              "      <th>4</th>\n",
              "      <td>75670</td>\n",
              "      <td>2015-11-05 08:24:00</td>\n",
              "      <td>2015-11-05 08:15:00</td>\n",
              "      <td>Westchester</td>\n",
              "      <td>MAR-CAN TRANSPORT CO. INC</td>\n",
              "      <td>20MINS</td>\n",
              "      <td>3</td>\n",
              "    </tr>\n",
              "    <tr>\n",
              "      <th>5</th>\n",
              "      <td>03417</td>\n",
              "      <td>2015-11-05 08:15:00</td>\n",
              "      <td>2015-11-05 08:16:00</td>\n",
              "      <td>Manhattan</td>\n",
              "      <td>LEESEL TRANSP CORP (B2192</td>\n",
              "      <td>15</td>\n",
              "      <td>3</td>\n",
              "    </tr>\n",
              "    <tr>\n",
              "      <th>6</th>\n",
              "      <td>01450</td>\n",
              "      <td>2015-11-05 07:55:00</td>\n",
              "      <td>2015-11-05 08:17:00</td>\n",
              "      <td>Manhattan</td>\n",
              "      <td>CONSOLIDATED BUS TRANS. I</td>\n",
              "      <td>30 mins</td>\n",
              "      <td>5</td>\n",
              "    </tr>\n",
              "    <tr>\n",
              "      <th>7</th>\n",
              "      <td>02930</td>\n",
              "      <td>2015-11-05 08:16:00</td>\n",
              "      <td>2015-11-05 08:17:00</td>\n",
              "      <td>Manhattan</td>\n",
              "      <td>LEESEL TRANSP CORP (B2192</td>\n",
              "      <td>20</td>\n",
              "      <td>3</td>\n",
              "    </tr>\n",
              "    <tr>\n",
              "      <th>8</th>\n",
              "      <td>03004</td>\n",
              "      <td>2015-11-05 08:19:00</td>\n",
              "      <td>2015-11-05 08:20:00</td>\n",
              "      <td>Manhattan</td>\n",
              "      <td>LEESEL TRANSP CORP (B2192</td>\n",
              "      <td>20</td>\n",
              "      <td>3</td>\n",
              "    </tr>\n",
              "    <tr>\n",
              "      <th>9</th>\n",
              "      <td>C601</td>\n",
              "      <td>2015-11-05 08:19:00</td>\n",
              "      <td>2015-11-05 08:20:00</td>\n",
              "      <td>Bronx</td>\n",
              "      <td>G.V.C., LTD.</td>\n",
              "      <td>30 MINS</td>\n",
              "      <td>13</td>\n",
              "    </tr>\n",
              "  </tbody>\n",
              "</table>\n",
              "</div>\n",
              "      <button class=\"colab-df-convert\" onclick=\"convertToInteractive('df-1b88189f-44e6-40be-b945-37c8830ded21')\"\n",
              "              title=\"Convert this dataframe to an interactive table.\"\n",
              "              style=\"display:none;\">\n",
              "        \n",
              "  <svg xmlns=\"http://www.w3.org/2000/svg\" height=\"24px\"viewBox=\"0 0 24 24\"\n",
              "       width=\"24px\">\n",
              "    <path d=\"M0 0h24v24H0V0z\" fill=\"none\"/>\n",
              "    <path d=\"M18.56 5.44l.94 2.06.94-2.06 2.06-.94-2.06-.94-.94-2.06-.94 2.06-2.06.94zm-11 1L8.5 8.5l.94-2.06 2.06-.94-2.06-.94L8.5 2.5l-.94 2.06-2.06.94zm10 10l.94 2.06.94-2.06 2.06-.94-2.06-.94-.94-2.06-.94 2.06-2.06.94z\"/><path d=\"M17.41 7.96l-1.37-1.37c-.4-.4-.92-.59-1.43-.59-.52 0-1.04.2-1.43.59L10.3 9.45l-7.72 7.72c-.78.78-.78 2.05 0 2.83L4 21.41c.39.39.9.59 1.41.59.51 0 1.02-.2 1.41-.59l7.78-7.78 2.81-2.81c.8-.78.8-2.07 0-2.86zM5.41 20L4 18.59l7.72-7.72 1.47 1.35L5.41 20z\"/>\n",
              "  </svg>\n",
              "      </button>\n",
              "      \n",
              "  <style>\n",
              "    .colab-df-container {\n",
              "      display:flex;\n",
              "      flex-wrap:wrap;\n",
              "      gap: 12px;\n",
              "    }\n",
              "\n",
              "    .colab-df-convert {\n",
              "      background-color: #E8F0FE;\n",
              "      border: none;\n",
              "      border-radius: 50%;\n",
              "      cursor: pointer;\n",
              "      display: none;\n",
              "      fill: #1967D2;\n",
              "      height: 32px;\n",
              "      padding: 0 0 0 0;\n",
              "      width: 32px;\n",
              "    }\n",
              "\n",
              "    .colab-df-convert:hover {\n",
              "      background-color: #E2EBFA;\n",
              "      box-shadow: 0px 1px 2px rgba(60, 64, 67, 0.3), 0px 1px 3px 1px rgba(60, 64, 67, 0.15);\n",
              "      fill: #174EA6;\n",
              "    }\n",
              "\n",
              "    [theme=dark] .colab-df-convert {\n",
              "      background-color: #3B4455;\n",
              "      fill: #D2E3FC;\n",
              "    }\n",
              "\n",
              "    [theme=dark] .colab-df-convert:hover {\n",
              "      background-color: #434B5C;\n",
              "      box-shadow: 0px 1px 3px 1px rgba(0, 0, 0, 0.15);\n",
              "      filter: drop-shadow(0px 1px 2px rgba(0, 0, 0, 0.3));\n",
              "      fill: #FFFFFF;\n",
              "    }\n",
              "  </style>\n",
              "\n",
              "      <script>\n",
              "        const buttonEl =\n",
              "          document.querySelector('#df-1b88189f-44e6-40be-b945-37c8830ded21 button.colab-df-convert');\n",
              "        buttonEl.style.display =\n",
              "          google.colab.kernel.accessAllowed ? 'block' : 'none';\n",
              "\n",
              "        async function convertToInteractive(key) {\n",
              "          const element = document.querySelector('#df-1b88189f-44e6-40be-b945-37c8830ded21');\n",
              "          const dataTable =\n",
              "            await google.colab.kernel.invokeFunction('convertToInteractive',\n",
              "                                                     [key], {});\n",
              "          if (!dataTable) return;\n",
              "\n",
              "          const docLinkHtml = 'Like what you see? Visit the ' +\n",
              "            '<a target=\"_blank\" href=https://colab.research.google.com/notebooks/data_table.ipynb>data table notebook</a>'\n",
              "            + ' to learn more about interactive tables.';\n",
              "          element.innerHTML = '';\n",
              "          dataTable['output_type'] = 'display_data';\n",
              "          await google.colab.output.renderOutput(dataTable, element);\n",
              "          const docLink = document.createElement('div');\n",
              "          docLink.innerHTML = docLinkHtml;\n",
              "          element.appendChild(docLink);\n",
              "        }\n",
              "      </script>\n",
              "    </div>\n",
              "  </div>\n",
              "  "
            ]
          },
          "metadata": {},
          "execution_count": 18
        }
      ]
    },
    {
      "cell_type": "code",
      "source": [
        "df2['How_Long_Delayed'].value_counts().tail(20)"
      ],
      "metadata": {
        "id": "xkikXpRSNesM",
        "colab": {
          "base_uri": "https://localhost:8080/"
        },
        "outputId": "802ef2ab-5ab1-4ce9-f56b-7960437b2da1"
      },
      "execution_count": null,
      "outputs": [
        {
          "output_type": "execute_result",
          "data": {
            "text/plain": [
              "1hr/15min     1\n",
              "218           1\n",
              "75MINS        1\n",
              "45 MIN S      1\n",
              "NI0933        1\n",
              "30mini        1\n",
              "20-30 mn      1\n",
              "30 mmins.     1\n",
              "15-250        1\n",
              "75 MINS       1\n",
              "20 MI N       1\n",
              "1hrs 20mnt    1\n",
              "35 mnis       1\n",
              "10 mims       1\n",
              "35 MINSS      1\n",
              "190mins       1\n",
              "25-30 MN      1\n",
              "45 INUTES     1\n",
              "45min -1hr    1\n",
              "45 MINIUTE    1\n",
              "Name: How_Long_Delayed, dtype: int64"
            ]
          },
          "metadata": {},
          "execution_count": 19
        }
      ]
    },
    {
      "cell_type": "code",
      "source": [
        "#making them all lower for cleaning\n",
        "df2['How_Long_Delayed']=df2['How_Long_Delayed'].str.lower()"
      ],
      "metadata": {
        "id": "58E3un2NP8in"
      },
      "execution_count": null,
      "outputs": []
    },
    {
      "cell_type": "code",
      "source": [
        "#splitting them for cleaning easier\n",
        "hours_df = df2.loc[df2['How_Long_Delayed'].str.contains('h')]"
      ],
      "metadata": {
        "id": "5WIkM9M8XJ_N"
      },
      "execution_count": null,
      "outputs": []
    },
    {
      "cell_type": "code",
      "source": [
        "minute_df = df2.drop(hours_df.index)"
      ],
      "metadata": {
        "id": "knNhHjJFeCwF"
      },
      "execution_count": null,
      "outputs": []
    },
    {
      "cell_type": "code",
      "source": [
        "minute_df['How_Long_Delayed'].value_counts()"
      ],
      "metadata": {
        "id": "wqb9WsSsfgZP",
        "colab": {
          "base_uri": "https://localhost:8080/"
        },
        "outputId": "dff63a61-1511-496f-c0de-b123d3467b7a"
      },
      "execution_count": null,
      "outputs": [
        {
          "output_type": "execute_result",
          "data": {
            "text/plain": [
              "31-45 min     119486\n",
              "16-30 min     111475\n",
              "46-60 min      64958\n",
              "0-15 min       40152\n",
              "61-90 min      27713\n",
              "               ...  \n",
              "6 mis              1\n",
              "30 mmins.          1\n",
              "15-250             1\n",
              "20 mi n            1\n",
              "45 miniute         1\n",
              "Name: How_Long_Delayed, Length: 1284, dtype: int64"
            ]
          },
          "metadata": {},
          "execution_count": 23
        }
      ]
    },
    {
      "cell_type": "code",
      "source": [
        "import re\n",
        "# Iterate through each row of the dataframe\n",
        "for i, row in minute_df.iterrows():\n",
        "    if '-' in row['How_Long_Delayed'] or '/' in row['How_Long_Delayed']:\n",
        "        # If there is \"-\" or \"/\", split the value and append a new column\n",
        "        parts = re.split(r'-|/', row['How_Long_Delayed'])\n",
        "        minute_df.at[i, 'How_Long_Delayed'] = parts[0]\n",
        "        minute_df.at[i, 'Second_Delayed'] = parts[1]\n",
        "    else:\n",
        "        # If there is no \"-\" or \"/\", append the data itself to the new column\n",
        "        minute_df.at[i, 'Second_Delayed'] = row['How_Long_Delayed']"
      ],
      "metadata": {
        "id": "qoSoJNTNxPvp"
      },
      "execution_count": null,
      "outputs": []
    },
    {
      "cell_type": "code",
      "source": [
        "minute_df.columns"
      ],
      "metadata": {
        "id": "ZK8Ld-E_2hBO",
        "colab": {
          "base_uri": "https://localhost:8080/"
        },
        "outputId": "d26edaa9-917f-4ce5-e621-71e1221914c7"
      },
      "execution_count": null,
      "outputs": [
        {
          "output_type": "execute_result",
          "data": {
            "text/plain": [
              "Index(['Busbreakdown_ID', 'Run_Type', 'Bus_No', 'Route_Number', 'Reason',\n",
              "       'Schools_Serviced', 'Occurred_On', 'Created_On', 'Borough',\n",
              "       'Bus_Company_Name', 'How_Long_Delayed', 'Number_Of_Students_On_The_Bus',\n",
              "       'Has_Contractor_Notified_Schools', 'Has_Contractor_Notified_Parents',\n",
              "       'Have_You_Alerted_OPT', 'Informed_On', 'Last_Updated_On',\n",
              "       'Breakdown_or_Running_Late', 'School_Age_or_PreK', 'school_start_year',\n",
              "       'school_end_year', 'Second_Delayed'],\n",
              "      dtype='object')"
            ]
          },
          "metadata": {},
          "execution_count": 25
        }
      ]
    },
    {
      "cell_type": "code",
      "source": [
        "minute_df['Second_Delayed'].head(20)"
      ],
      "metadata": {
        "id": "t_N-snfA26VU",
        "colab": {
          "base_uri": "https://localhost:8080/"
        },
        "outputId": "094a74dc-51a7-4c35-bfab-8353a7c80799"
      },
      "execution_count": null,
      "outputs": [
        {
          "output_type": "execute_result",
          "data": {
            "text/plain": [
              "0         20mns\n",
              "1         15min\n",
              "2        15 min\n",
              "3        30 min\n",
              "4        20mins\n",
              "5            15\n",
              "6       30 mins\n",
              "7            20\n",
              "8            20\n",
              "9       30 mins\n",
              "10       30 min\n",
              "11       15 min\n",
              "12      40 miin\n",
              "13       10 min\n",
              "14       15 min\n",
              "15        10min\n",
              "16       20 min\n",
              "17    10minutes\n",
              "18      30 mins\n",
              "19      15 mins\n",
              "Name: Second_Delayed, dtype: object"
            ]
          },
          "metadata": {},
          "execution_count": 26
        }
      ]
    },
    {
      "cell_type": "code",
      "source": [
        "minute_df['How_Long_Delayed'].head(20)"
      ],
      "metadata": {
        "id": "2OMCI_rA3cko",
        "colab": {
          "base_uri": "https://localhost:8080/"
        },
        "outputId": "0624fd9a-1733-431b-ebcd-eb6b50bae00d"
      },
      "execution_count": null,
      "outputs": [
        {
          "output_type": "execute_result",
          "data": {
            "text/plain": [
              "0         20mns\n",
              "1         15min\n",
              "2        15 min\n",
              "3        30 min\n",
              "4        20mins\n",
              "5            15\n",
              "6       30 mins\n",
              "7            20\n",
              "8            20\n",
              "9       30 mins\n",
              "10       30 min\n",
              "11       15 min\n",
              "12      40 miin\n",
              "13       10 min\n",
              "14       15 min\n",
              "15        10min\n",
              "16       20 min\n",
              "17    10minutes\n",
              "18      30 mins\n",
              "19           10\n",
              "Name: How_Long_Delayed, dtype: object"
            ]
          },
          "metadata": {},
          "execution_count": 27
        }
      ]
    },
    {
      "cell_type": "code",
      "source": [
        "# Use regular expressions to extract only the numeric values\n",
        "minute_df['How_Long_Delayed'] = minute_df['How_Long_Delayed'].apply(lambda x: re.sub(\"[^0-9]\", \"\", x))\n",
        "minute_df['Second_Delayed'] = minute_df['Second_Delayed'].apply(lambda x: re.sub(\"[^0-9]\", \"\", x))\n"
      ],
      "metadata": {
        "id": "hxLtLnEv3ynK"
      },
      "execution_count": null,
      "outputs": []
    },
    {
      "cell_type": "code",
      "source": [
        "minute_df['How_Long_Delayed'].head()"
      ],
      "metadata": {
        "colab": {
          "base_uri": "https://localhost:8080/"
        },
        "id": "nznMZeJ1Gq3r",
        "outputId": "b2b3ff7b-c456-4135-e6dd-e4ea2409413e"
      },
      "execution_count": null,
      "outputs": [
        {
          "output_type": "execute_result",
          "data": {
            "text/plain": [
              "0    20\n",
              "1    15\n",
              "2    15\n",
              "3    30\n",
              "4    20\n",
              "Name: How_Long_Delayed, dtype: object"
            ]
          },
          "metadata": {},
          "execution_count": 29
        }
      ]
    },
    {
      "cell_type": "code",
      "source": [
        "empty_rows = minute_df[minute_df['How_Long_Delayed'] == '']\n",
        "empty_rows1 = minute_df[minute_df['Second_Delayed'] == '']\n",
        "\n",
        "\n",
        "\n",
        "print(empty_rows)"
      ],
      "metadata": {
        "colab": {
          "base_uri": "https://localhost:8080/"
        },
        "id": "xuk7j_QAIlWt",
        "outputId": "e5bd87f7-5a2e-4daa-b7c3-40208bc2818e"
      },
      "execution_count": null,
      "outputs": [
        {
          "output_type": "stream",
          "name": "stdout",
          "text": [
            "        Busbreakdown_ID           Run_Type  Bus_No Route_Number  \\\n",
            "3865            1234847           Pre-K/EI  GV0811            1   \n",
            "5938            1234854           Pre-K/EI  GV9307            3   \n",
            "144957          1273933  Special Ed AM Run    6014         R052   \n",
            "\n",
            "               Reason Schools_Serviced         Occurred_On  \\\n",
            "3865    Heavy Traffic             C195 2015-12-08 07:43:00   \n",
            "5938    Heavy Traffic             C195 2015-12-08 07:46:00   \n",
            "144957  Heavy Traffic            31059 2016-06-07 07:59:00   \n",
            "\n",
            "                Created_On        Borough           Bus_Company_Name  ...  \\\n",
            "3865   2015-12-08 07:41:00          Bronx               G.V.C., LTD.  ...   \n",
            "5938   2015-12-08 07:44:00          Bronx               G.V.C., LTD.  ...   \n",
            "144957 2016-06-07 08:04:00  Staten Island  PIONEER TRANSPORTATION CO  ...   \n",
            "\n",
            "       Has_Contractor_Notified_Schools  Has_Contractor_Notified_Parents  \\\n",
            "3865                               Yes                              Yes   \n",
            "5938                               Yes                              Yes   \n",
            "144957                             Yes                               No   \n",
            "\n",
            "       Have_You_Alerted_OPT         Informed_On     Last_Updated_On  \\\n",
            "3865                    Yes 2015-12-08 07:41:00 2015-12-08 08:09:39   \n",
            "5938                    Yes 2015-12-08 07:44:00 2015-12-08 07:50:12   \n",
            "144957                   No 2016-06-07 08:04:00 2016-06-07 08:04:15   \n",
            "\n",
            "       Breakdown_or_Running_Late School_Age_or_PreK school_start_year  \\\n",
            "3865                Running Late              Pre-K              2015   \n",
            "5938                Running Late              Pre-K              2015   \n",
            "144957              Running Late         School-Age              2015   \n",
            "\n",
            "       school_end_year  Second_Delayed  \n",
            "3865              2016              10  \n",
            "5938              2016              10  \n",
            "144957            2016              10  \n",
            "\n",
            "[3 rows x 22 columns]\n"
          ]
        }
      ]
    },
    {
      "cell_type": "code",
      "source": [
        "#drop empty rows\n",
        "minute_df.drop(empty_rows.index, inplace=True)\n",
        "minute_df.drop(empty_rows1.index, inplace=True)\n",
        "# Convert 'How_Long_Delayed' and 'Second_Delayed' columns to float data type\n",
        "minute_df['How_Long_Delayed'] = minute_df['How_Long_Delayed'].astype(float)\n",
        "minute_df['Second_Delayed'] = minute_df['Second_Delayed'].astype(float)\n",
        "\n",
        "# Calculate the average of 'How_Long_Delayed' and 'Second_Delayed' columns and store in a new column 'Minute_Delayed'\n",
        "minute_df['Minute_Delayed'] = (minute_df['How_Long_Delayed'] + minute_df['Second_Delayed']) / 2\n",
        "\n",
        "# Drop the 'How_Long_Delayed' and 'Second_Delayed' columns\n",
        "minute_df.drop(columns=['How_Long_Delayed', 'Second_Delayed'], inplace=True)\n",
        "\n",
        "# Rename the 'Minute_Delayed' column to 'How_Long_Delayed'\n",
        "minute_df.rename(columns={'Minute_Delayed': 'How_Long_Delayed'}, inplace=True)\n"
      ],
      "metadata": {
        "id": "36HTRp3IGyg6"
      },
      "execution_count": null,
      "outputs": []
    },
    {
      "cell_type": "code",
      "source": [
        "minute_df['How_Long_Delayed'].head(20)"
      ],
      "metadata": {
        "colab": {
          "base_uri": "https://localhost:8080/"
        },
        "id": "yZvb6CbwJRNp",
        "outputId": "c93346c0-21e0-4511-8cb7-8a8d0e968e52"
      },
      "execution_count": null,
      "outputs": [
        {
          "output_type": "execute_result",
          "data": {
            "text/plain": [
              "0     20.0\n",
              "1     15.0\n",
              "2     15.0\n",
              "3     30.0\n",
              "4     20.0\n",
              "5     15.0\n",
              "6     30.0\n",
              "7     20.0\n",
              "8     20.0\n",
              "9     30.0\n",
              "10    30.0\n",
              "11    15.0\n",
              "12    40.0\n",
              "13    10.0\n",
              "14    15.0\n",
              "15    10.0\n",
              "16    20.0\n",
              "17    10.0\n",
              "18    30.0\n",
              "19    12.5\n",
              "Name: How_Long_Delayed, dtype: float64"
            ]
          },
          "metadata": {},
          "execution_count": 32
        }
      ]
    },
    {
      "cell_type": "markdown",
      "source": [
        "nice it all works nicely for minute now it is time for hour dataframe before i split"
      ],
      "metadata": {
        "id": "pQtvFVFZLcXE"
      }
    },
    {
      "cell_type": "code",
      "source": [
        "\n",
        "hours_df['How_Long_Delayed'].value_counts()"
      ],
      "metadata": {
        "id": "WhLW3grhLQwZ",
        "colab": {
          "base_uri": "https://localhost:8080/"
        },
        "outputId": "f081bf32-858b-41a8-a4a3-fc952f03fa62"
      },
      "execution_count": null,
      "outputs": [
        {
          "output_type": "execute_result",
          "data": {
            "text/plain": [
              "1 hour        1423\n",
              "1 hr          1349\n",
              "1hr            625\n",
              "1/2 hour       135\n",
              "1hour          118\n",
              "              ... \n",
              "45min -1hr       1\n",
              "1hrs 20mnt       1\n",
              "1hr/15min        1\n",
              "1hr45min         1\n",
              "1:00 hour        1\n",
              "Name: How_Long_Delayed, Length: 134, dtype: int64"
            ]
          },
          "metadata": {},
          "execution_count": 33
        }
      ]
    },
    {
      "cell_type": "code",
      "source": [
        "hours_df.info()"
      ],
      "metadata": {
        "colab": {
          "base_uri": "https://localhost:8080/"
        },
        "id": "MiUD_f1NUBBb",
        "outputId": "a390db34-d59a-4884-bc3e-fab99329d697"
      },
      "execution_count": null,
      "outputs": [
        {
          "output_type": "stream",
          "name": "stdout",
          "text": [
            "<class 'pandas.core.frame.DataFrame'>\n",
            "Int64Index: 4247 entries, 64 to 274541\n",
            "Data columns (total 21 columns):\n",
            " #   Column                           Non-Null Count  Dtype         \n",
            "---  ------                           --------------  -----         \n",
            " 0   Busbreakdown_ID                  4247 non-null   int64         \n",
            " 1   Run_Type                         4247 non-null   object        \n",
            " 2   Bus_No                           4247 non-null   object        \n",
            " 3   Route_Number                     4247 non-null   object        \n",
            " 4   Reason                           4247 non-null   object        \n",
            " 5   Schools_Serviced                 4247 non-null   object        \n",
            " 6   Occurred_On                      4247 non-null   datetime64[ns]\n",
            " 7   Created_On                       4247 non-null   datetime64[ns]\n",
            " 8   Borough                          4145 non-null   object        \n",
            " 9   Bus_Company_Name                 4247 non-null   object        \n",
            " 10  How_Long_Delayed                 4247 non-null   object        \n",
            " 11  Number_Of_Students_On_The_Bus    4247 non-null   int64         \n",
            " 12  Has_Contractor_Notified_Schools  4247 non-null   object        \n",
            " 13  Has_Contractor_Notified_Parents  4247 non-null   object        \n",
            " 14  Have_You_Alerted_OPT             4247 non-null   object        \n",
            " 15  Informed_On                      4247 non-null   datetime64[ns]\n",
            " 16  Last_Updated_On                  4247 non-null   datetime64[ns]\n",
            " 17  Breakdown_or_Running_Late        4247 non-null   object        \n",
            " 18  School_Age_or_PreK               4247 non-null   object        \n",
            " 19  school_start_year                4247 non-null   int64         \n",
            " 20  school_end_year                  4247 non-null   int64         \n",
            "dtypes: datetime64[ns](4), int64(4), object(13)\n",
            "memory usage: 730.0+ KB\n"
          ]
        }
      ]
    },
    {
      "cell_type": "code",
      "source": [
        "hours_df['How_Long_Delayed'].value_counts().head(50)"
      ],
      "metadata": {
        "id": "94yVwDrtWkLB",
        "colab": {
          "base_uri": "https://localhost:8080/"
        },
        "outputId": "860fb608-adce-41f4-be72-a7a5f0adbfda"
      },
      "execution_count": null,
      "outputs": [
        {
          "output_type": "execute_result",
          "data": {
            "text/plain": [
              "1 hour        1423\n",
              "1 hr          1349\n",
              "1hr            625\n",
              "1/2 hour       135\n",
              "1hour          118\n",
              "2hrs            46\n",
              "45min/1hr       35\n",
              "1 hr 30min      30\n",
              "1 hr 30 mi      28\n",
              "1/2 hr          28\n",
              "1hrs            25\n",
              "1 hr.           24\n",
              "2 hours         24\n",
              "2 hrs           23\n",
              "45-1hr          17\n",
              "1hr 30mins      16\n",
              "1hr 15mins      15\n",
              "1/2 hour?       15\n",
              "1hr 20mins      14\n",
              "45 min-1 h      14\n",
              "1hr 30 min      12\n",
              "1.5 hour        10\n",
              "1 1/2 hr         9\n",
              "45min-1hr        9\n",
              "45 min-1hr       7\n",
              "1 hrs            7\n",
              "1 hr 30          7\n",
              "1hr 30min        6\n",
              "1hr?????         6\n",
              "2 hour           5\n",
              "45-1hour         5\n",
              "45 -1 hour       5\n",
              "1hr/30min        5\n",
              "1 hours          4\n",
              "2hr              4\n",
              "1hr????          4\n",
              "2 hr             4\n",
              "2:hr             4\n",
              "1:hr             4\n",
              "45-1 hr          3\n",
              "1 hour 15m       3\n",
              "45min-1 hr       3\n",
              "50-1hr           3\n",
              "1hr-1 1/2        3\n",
              "1.5 hrs          3\n",
              "1/2hour          3\n",
              "45mins 1hr       2\n",
              "1hr +            2\n",
              "2:hrs            2\n",
              "1 1/2 hour       2\n",
              "Name: How_Long_Delayed, dtype: int64"
            ]
          },
          "metadata": {},
          "execution_count": 35
        }
      ]
    },
    {
      "cell_type": "code",
      "source": [
        "hours_df['How_Long_Delayed'].value_counts().tail(50)"
      ],
      "metadata": {
        "colab": {
          "base_uri": "https://localhost:8080/"
        },
        "id": "HvJZn1X30swA",
        "outputId": "be26bab5-ec1c-4a02-e1d2-b1bc33f3822d"
      },
      "execution_count": null,
      "outputs": [
        {
          "output_type": "execute_result",
          "data": {
            "text/plain": [
              "1hoiur        1\n",
              "2hours        1\n",
              "1hr/30min?    1\n",
              "3 hour        1\n",
              "30 hr         1\n",
              "1hr 10mins    1\n",
              "1hr 20 min    1\n",
              "1hour 30mi    1\n",
              "4 hrs         1\n",
              "1 hourr       1\n",
              "1-hours       1\n",
              "1 hourhalf    1\n",
              "1hr20min      1\n",
              "1 houir       1\n",
              "50-1 hour     1\n",
              "hr1           1\n",
              "1-hour        1\n",
              "1hr - 11/2    1\n",
              "ha 9944       1\n",
              "ihr40min      1\n",
              "30mins-1hr    1\n",
              "1 hour lat    1\n",
              "45min - 1h    1\n",
              "45minto 1h    1\n",
              "30hr          1\n",
              "1hr/????mi    1\n",
              "451hr         1\n",
              "40/1hr        1\n",
              "4 hours       1\n",
              "1h15min       1\n",
              "1hr20 mins    1\n",
              "1h            1\n",
              "45/1hr        1\n",
              "1hr 45mins    1\n",
              "45 -1hour     1\n",
              "1hr&30min     1\n",
              "1:00 h        1\n",
              "1 hr+         1\n",
              "45mini/1hr    1\n",
              "1:30 h        1\n",
              "30hour        1\n",
              "1 hour1/2     1\n",
              "1/2  hour     1\n",
              "1hr 45min     1\n",
              "45hr          1\n",
              "45min -1hr    1\n",
              "1hrs 20mnt    1\n",
              "1hr/15min     1\n",
              "1hr45min      1\n",
              "1:00 hour     1\n",
              "Name: How_Long_Delayed, dtype: int64"
            ]
          },
          "metadata": {},
          "execution_count": 36
        }
      ]
    },
    {
      "cell_type": "code",
      "source": [
        "hours_df['How_Long_Delayed'].value_counts()[50:100]"
      ],
      "metadata": {
        "colab": {
          "base_uri": "https://localhost:8080/"
        },
        "id": "yHQoyo8k08uE",
        "outputId": "4cde5d1c-37b3-4589-84c7-90b8c3946d21"
      },
      "execution_count": null,
      "outputs": [
        {
          "output_type": "execute_result",
          "data": {
            "text/plain": [
              "1hr. 20 mi    2\n",
              "1hr 40 min    2\n",
              "50min 1hr     2\n",
              "1 hr 15       2\n",
              "1hr???        2\n",
              "1hr 45 min    2\n",
              "1hr/20min     2\n",
              "1 hour?       2\n",
              "1hr/1hr 30    2\n",
              "40-1hr        2\n",
              "1 h           2\n",
              "2 hrs.        2\n",
              "1hour 20mi    2\n",
              "1hr - 1:45    1\n",
              "2.0 hrs       1\n",
              "1hr late      1\n",
              "1 hr 15min    1\n",
              "1:30 hr       1\n",
              "45/1hour      1\n",
              "1hour15min    1\n",
              "1hour45min    1\n",
              "3 hrs         1\n",
              "\\1 hr-        1\n",
              "40-1 hour     1\n",
              "1hr++         1\n",
              "45 min/1hr    1\n",
              "1hr /30min    1\n",
              "1 hour 15     1\n",
              "1ho           1\n",
              "1hr??         1\n",
              "3 hr          1\n",
              "2 hours tr    1\n",
              "1:45hr        1\n",
              "1:30 h/       1\n",
              "1hoiur        1\n",
              "2hours        1\n",
              "1hr/30min?    1\n",
              "3 hour        1\n",
              "30 hr         1\n",
              "1hr 10mins    1\n",
              "1hr 20 min    1\n",
              "1hour 30mi    1\n",
              "4 hrs         1\n",
              "1 hourr       1\n",
              "1-hours       1\n",
              "1 hourhalf    1\n",
              "1hr20min      1\n",
              "1 houir       1\n",
              "50-1 hour     1\n",
              "hr1           1\n",
              "Name: How_Long_Delayed, dtype: int64"
            ]
          },
          "metadata": {},
          "execution_count": 37
        }
      ]
    },
    {
      "cell_type": "code",
      "source": [
        "hours_df_copy1=hours_df.copy()\n",
        "# create a new column 'How_Long_Delayed_Cleaned'\n",
        "hours_df_copy1['How_Long_Delayed_Cleaned'] = hours_df_copy1['How_Long_Delayed']\n",
        "\n",
        "# iterate through each row of the dataframe\n",
        "for i, row in hours_df_copy1.iterrows():\n",
        "    delay = row['How_Long_Delayed_Cleaned']\n",
        "\n",
        "    # check if delay contains '/' or '-'\n",
        "    if '/' in delay or '-' in delay:\n",
        "        # split the delay by '/' or '-'\n",
        "        parts = delay.split('/' if '/' in delay else '-')\n",
        "\n",
        "        # replace original delay with first splitted part\n",
        "        hours_df_copy1.at[i, 'How_Long_Delayed_Cleaned'] = parts[0].strip()\n",
        "\n",
        "        # append second splitted part to new column\n",
        "        hours_df_copy1.at[i, 'How_Long_Delayed_Additional'] = parts[1].strip() if len(parts) > 1 else '0'\n",
        "    else:\n",
        "        # append the data itself to new column if delay does not contain '/' or '-'\n",
        "        hours_df_copy1.at[i, 'How_Long_Delayed_Additional'] = delay.strip()\n"
      ],
      "metadata": {
        "id": "GvW7VdGa4y57"
      },
      "execution_count": null,
      "outputs": []
    },
    {
      "cell_type": "code",
      "source": [
        "hours_df_copy1['How_Long_Delayed_Cleaned'].head()"
      ],
      "metadata": {
        "colab": {
          "base_uri": "https://localhost:8080/"
        },
        "id": "PuMiZEcSPyqq",
        "outputId": "427c46d6-1dd5-40c1-fde0-59335eeb7b53"
      },
      "execution_count": null,
      "outputs": [
        {
          "output_type": "execute_result",
          "data": {
            "text/plain": [
              "64        1hr\n",
              "77        1hr\n",
              "272       1hr\n",
              "365    1 hour\n",
              "370    1 hour\n",
              "Name: How_Long_Delayed_Cleaned, dtype: object"
            ]
          },
          "metadata": {},
          "execution_count": 39
        }
      ]
    },
    {
      "cell_type": "code",
      "source": [
        "hours_df['How_Long_Delayed'].head()"
      ],
      "metadata": {
        "colab": {
          "base_uri": "https://localhost:8080/"
        },
        "id": "xMehSpSgP3nR",
        "outputId": "d158a6a1-b600-432d-df29-7b1e3c0e1c92"
      },
      "execution_count": null,
      "outputs": [
        {
          "output_type": "execute_result",
          "data": {
            "text/plain": [
              "64           1hr\n",
              "77           1hr\n",
              "272    1hr/30min\n",
              "365       1 hour\n",
              "370       1 hour\n",
              "Name: How_Long_Delayed, dtype: object"
            ]
          },
          "metadata": {},
          "execution_count": 40
        }
      ]
    },
    {
      "cell_type": "code",
      "source": [
        "hours_df_copy1['How_Long_Delayed_Additional'].head()"
      ],
      "metadata": {
        "colab": {
          "base_uri": "https://localhost:8080/"
        },
        "id": "c6D22CWmP9e4",
        "outputId": "5ae7a425-860c-42df-9e1d-24d9718302b3"
      },
      "execution_count": null,
      "outputs": [
        {
          "output_type": "execute_result",
          "data": {
            "text/plain": [
              "64        1hr\n",
              "77        1hr\n",
              "272     30min\n",
              "365    1 hour\n",
              "370    1 hour\n",
              "Name: How_Long_Delayed_Additional, dtype: object"
            ]
          },
          "metadata": {},
          "execution_count": 41
        }
      ]
    },
    {
      "cell_type": "code",
      "source": [
        "\n",
        "# replace any characters that are not numbers, '-', '/', 'h', or 'm'\n",
        "hours_df_copy1['How_Long_Delayed_Cleaned'] = hours_df_copy1['How_Long_Delayed_Cleaned'].str.replace(r'[^\\d\\-\\/hm]', '')\n",
        "\n",
        "# add a space before 'h' and 'm'\n",
        "hours_df_copy1['How_Long_Delayed_Cleaned'] = hours_df_copy1['How_Long_Delayed_Cleaned'].str.replace(r'(h|m)', r' \\1').str.strip()\n",
        "\n",
        "# replace any characters that are not numbers, '-', '/', 'h', or 'm'\n",
        "hours_df_copy1['How_Long_Delayed_Additional'] = hours_df_copy1['How_Long_Delayed_Additional'].str.replace(r'[^\\d\\-\\/hm]', '')\n",
        "\n",
        "# add a space before 'h' and 'm'\n",
        "hours_df_copy1['How_Long_Delayed_Additional'] = hours_df_copy1['How_Long_Delayed_Additional'].str.replace(r'(h|m)', r' \\1').str.strip()\n",
        "\n",
        "# display the updated dataframe\n",
        "hours_df_copy1['How_Long_Delayed_Additional'].value_counts().head(50)\n",
        "\n",
        "\n"
      ],
      "metadata": {
        "id": "NYjTSTkQVi_t",
        "colab": {
          "base_uri": "https://localhost:8080/"
        },
        "outputId": "84fd46a5-d721-4ae5-c6de-b8badd9bf0e9"
      },
      "execution_count": null,
      "outputs": [
        {
          "output_type": "stream",
          "name": "stderr",
          "text": [
            "<ipython-input-42-6c91c64e538e>:2: FutureWarning: The default value of regex will change from True to False in a future version.\n",
            "  hours_df_copy1['How_Long_Delayed_Cleaned'] = hours_df_copy1['How_Long_Delayed_Cleaned'].str.replace(r'[^\\d\\-\\/hm]', '')\n",
            "<ipython-input-42-6c91c64e538e>:5: FutureWarning: The default value of regex will change from True to False in a future version.\n",
            "  hours_df_copy1['How_Long_Delayed_Cleaned'] = hours_df_copy1['How_Long_Delayed_Cleaned'].str.replace(r'(h|m)', r' \\1').str.strip()\n",
            "<ipython-input-42-6c91c64e538e>:8: FutureWarning: The default value of regex will change from True to False in a future version.\n",
            "  hours_df_copy1['How_Long_Delayed_Additional'] = hours_df_copy1['How_Long_Delayed_Additional'].str.replace(r'[^\\d\\-\\/hm]', '')\n",
            "<ipython-input-42-6c91c64e538e>:11: FutureWarning: The default value of regex will change from True to False in a future version.\n",
            "  hours_df_copy1['How_Long_Delayed_Additional'] = hours_df_copy1['How_Long_Delayed_Additional'].str.replace(r'(h|m)', r' \\1').str.strip()\n"
          ]
        },
        {
          "output_type": "execute_result",
          "data": {
            "text/plain": [
              "1 h        3721\n",
              "2 h         309\n",
              "1 h30 m      94\n",
              "1 h20 m      22\n",
              "1 h15 m      21\n",
              "15 h         13\n",
              "1 h30         9\n",
              "30 m          7\n",
              "1 h45 m       6\n",
              "2             5\n",
              "1 h15         3\n",
              "3 h           3\n",
              "30 h          3\n",
              "45 m1 h       3\n",
              "20 m          2\n",
              "1 h40 m       2\n",
              "100 h         2\n",
              "h             2\n",
              "130 h         2\n",
              "              2\n",
              "50 m1 h       2\n",
              "4 h           2\n",
              "1 h10 m       1\n",
              "145 h         1\n",
              "145           1\n",
              "h9944         1\n",
              "45 h          1\n",
              "15 m          1\n",
              "h1            1\n",
              "h40 m         1\n",
              "451 h         1\n",
              "1 h h         1\n",
              "m             1\n",
              "20 h          1\n",
              "Name: How_Long_Delayed_Additional, dtype: int64"
            ]
          },
          "metadata": {},
          "execution_count": 42
        }
      ]
    },
    {
      "cell_type": "code",
      "source": [
        "hours_df_copy1['How_Long_Delayed_Cleaned'].value_counts().head(50)\n",
        "hours_df_copy1 = hours_df_copy1.drop(hours_df_copy1[hours_df_copy1['How_Long_Delayed_Cleaned'] == '45 m1 '].index)"
      ],
      "metadata": {
        "id": "QqipR8GDZ__Q"
      },
      "execution_count": null,
      "outputs": []
    },
    {
      "cell_type": "code",
      "source": [
        "def split_hours_minutes(dataframe, column_name):\n",
        "    # create two new columns to hold the hours and minutes values\n",
        "    dataframe['Hours_Delayed'] = 0\n",
        "    dataframe['Minutes_Delayed'] = 0\n",
        "\n",
        "    for index, row in dataframe.iterrows():\n",
        "        # check if the value contains both \"h\" and \"m\"\n",
        "        if 'h' in row[column_name] and 'm' in row[column_name]:\n",
        "            # split the value by \"h\" and extract the hours and minutes parts\n",
        "            parts = row[column_name].split('h')\n",
        "            hours = parts[0]\n",
        "            minutes = parts[1].strip().split('m')[0]\n",
        "            # assign the values to the corresponding columns\n",
        "            dataframe.at[index, 'Hours_Delayed'] = hours\n",
        "            dataframe.at[index, 'Minutes_Delayed'] = minutes\n",
        "        # if the value only contains \"h\", extract the hours part and set minutes to 0\n",
        "        elif 'h' in row[column_name]:\n",
        "            hours = row[column_name].split('h')[0]\n",
        "            dataframe.at[index, 'Hours_Delayed'] = hours\n",
        "        # if the value only contains \"m\", extract the minutes part and set hours to 0\n",
        "        elif 'm' in row[column_name]:\n",
        "            minutes = row[column_name].split('m')[0]\n",
        "            dataframe.at[index, 'Minutes_Delayed'] = minutes\n",
        "        # if the value doesn't contain either \"h\" or \"m\", set both hours and minutes to 0\n",
        "        else:\n",
        "            dataframe.at[index, 'Hours_Delayed'] = 0\n",
        "            dataframe.at[index, 'Minutes_Delayed'] = 0\n",
        "    return dataframe\n"
      ],
      "metadata": {
        "id": "wWdiTXie8vwg"
      },
      "execution_count": null,
      "outputs": []
    },
    {
      "cell_type": "code",
      "source": [
        "split_hours_minutes(hours_df_copy1,'How_Long_Delayed_Cleaned')\n",
        "hours_df_copy1['How_Long_Delayed_Cleaned'].value_counts().head(50)\n"
      ],
      "metadata": {
        "colab": {
          "base_uri": "https://localhost:8080/"
        },
        "id": "VKQ8ydlz-1mf",
        "outputId": "5bfb9b26-e1a8-47a0-ce9b-d06b2497b7d4"
      },
      "execution_count": null,
      "outputs": [
        {
          "output_type": "execute_result",
          "data": {
            "text/plain": [
              "1 h        3622\n",
              "1           184\n",
              "2 h         116\n",
              "1 h30 m      94\n",
              "45 m         72\n",
              "45           33\n",
              "1 h20 m      22\n",
              "1 h15 m      21\n",
              "15 h         13\n",
              "11           11\n",
              "1 h30         7\n",
              "1 h45 m       6\n",
              "40            4\n",
              "1 h-11        4\n",
              "50            4\n",
              "3 h           3\n",
              "130 h         3\n",
              "45 m1 h       3\n",
              "30 h          3\n",
              "1 h15         3\n",
              "4 h           2\n",
              "50 m1 h       2\n",
              "100 h         2\n",
              "1 h40 m       2\n",
              "145 h         1\n",
              "1 h10 m       1\n",
              "1 h h         1\n",
              "30 m          1\n",
              "h40 m         1\n",
              "1 h1          1\n",
              "45 h          1\n",
              "h1            1\n",
              "451 h         1\n",
              "h9944         1\n",
              "20 h          1\n",
              "Name: How_Long_Delayed_Cleaned, dtype: int64"
            ]
          },
          "metadata": {},
          "execution_count": 45
        }
      ]
    },
    {
      "cell_type": "code",
      "source": [
        "hours_df_copy1['Minutes_Delayed'].value_counts().head(50)\n"
      ],
      "metadata": {
        "colab": {
          "base_uri": "https://localhost:8080/"
        },
        "id": "-KYF4-hz_2R3",
        "outputId": "20982bd4-bb44-4aa0-d967-a7dfbd4093b0"
      },
      "execution_count": null,
      "outputs": [
        {
          "output_type": "execute_result",
          "data": {
            "text/plain": [
              "0      4022\n",
              "30       95\n",
              "45       78\n",
              "20       22\n",
              "15       21\n",
              "          5\n",
              "40        3\n",
              "10        1\n",
              "Name: Minutes_Delayed, dtype: int64"
            ]
          },
          "metadata": {},
          "execution_count": 46
        }
      ]
    },
    {
      "cell_type": "code",
      "source": [
        "#there are some empty rows drop these\n",
        "hours_df_copy1['Hours_Delayed'].value_counts().head(50)\n",
        "empty_rows = hours_df_copy1[hours_df_copy1['Minutes_Delayed'] == '']\n",
        "empty_rows1 = hours_df_copy1[hours_df_copy1['Hours_Delayed'] == '']\n",
        "hours_df_copy1.drop(empty_rows.index, inplace=True)\n",
        "hours_df_copy1.drop(empty_rows1.index, inplace=True)\n"
      ],
      "metadata": {
        "id": "rkkjMLAfAE3k"
      },
      "execution_count": null,
      "outputs": []
    },
    {
      "cell_type": "code",
      "source": [
        "hours_df_copy1['Minutes_Delayed'].value_counts()"
      ],
      "metadata": {
        "id": "94tiiIaUAPPB",
        "colab": {
          "base_uri": "https://localhost:8080/"
        },
        "outputId": "4ba806af-84d4-4c01-aa49-641765f4715d"
      },
      "execution_count": null,
      "outputs": [
        {
          "output_type": "execute_result",
          "data": {
            "text/plain": [
              "0      4020\n",
              "30       95\n",
              "45       78\n",
              "20       22\n",
              "15       21\n",
              "40        2\n",
              "10        1\n",
              "Name: Minutes_Delayed, dtype: int64"
            ]
          },
          "metadata": {},
          "execution_count": 48
        }
      ]
    },
    {
      "cell_type": "code",
      "source": [
        "hours_df_copy1['Hours_Delayed'].value_counts()"
      ],
      "metadata": {
        "id": "_y0BfNRJBAhj",
        "colab": {
          "base_uri": "https://localhost:8080/"
        },
        "outputId": "a98e28da-ec14-4fee-a4cf-28d82b89945f"
      },
      "execution_count": null,
      "outputs": [
        {
          "output_type": "execute_result",
          "data": {
            "text/plain": [
              "1       3784\n",
              "0        309\n",
              "2        116\n",
              "15        13\n",
              "30         3\n",
              "130        3\n",
              "3          3\n",
              "4          2\n",
              "100        2\n",
              "451        1\n",
              "45         1\n",
              "145        1\n",
              "20         1\n",
              "Name: Hours_Delayed, dtype: int64"
            ]
          },
          "metadata": {},
          "execution_count": 49
        }
      ]
    },
    {
      "cell_type": "code",
      "source": [
        "hours_df_copy1['Hours_Delayed'] = hours_df_copy1['Hours_Delayed'].astype(float)\n",
        "# Create a new dataset to store the delayed flight records with modified Hours_Delayed values\n",
        "delayed_data = pd.DataFrame()\n",
        "\n",
        "# Filter the records with Hours_Delayed values of 130, 100, 451, and 145\n",
        "replace_values = hours_df_copy1[(hours_df_copy1['Hours_Delayed'] == 130) |\n",
        "                                (hours_df_copy1['Hours_Delayed'] == 100) |\n",
        "                                (hours_df_copy1['Hours_Delayed'] == 451) |\n",
        "                                (hours_df_copy1['Hours_Delayed'] == 145)]\n",
        "\n",
        "# Replace the Hours_Delayed values with their corresponding replacement values\n",
        "replace_values.loc[replace_values['Hours_Delayed'] == 130, 'Hours_Delayed'] = 90\n",
        "replace_values.loc[replace_values['Hours_Delayed'] == 100, 'Hours_Delayed'] = 60\n",
        "replace_values.loc[replace_values['Hours_Delayed'] == 451, 'Hours_Delayed'] = 52\n",
        "replace_values.loc[replace_values['Hours_Delayed'] == 145, 'Hours_Delayed'] = 105\n",
        "\n",
        "# Append the modified records to delayed_data\n",
        "delayed_data = delayed_data.append(replace_values)\n",
        "\n",
        "# Drop the records with Hours_Delayed values of 130, 100, 451, and 145 from the original dataset\n",
        "hours_df_copy1.drop(hours_df_copy1[(hours_df_copy1['Hours_Delayed'] == 130) |\n",
        "                                   (hours_df_copy1['Hours_Delayed'] == 100) |\n",
        "                                   (hours_df_copy1['Hours_Delayed'] == 451) |\n",
        "                                   (hours_df_copy1['Hours_Delayed'] == 145)].index, inplace=True)\n"
      ],
      "metadata": {
        "id": "WmAh6ujzHqxm",
        "colab": {
          "base_uri": "https://localhost:8080/"
        },
        "outputId": "81bb3e83-a46a-4070-d01e-9d714305d28e"
      },
      "execution_count": null,
      "outputs": [
        {
          "output_type": "stream",
          "name": "stderr",
          "text": [
            "<ipython-input-50-54b6f80ecbe2>:18: FutureWarning: The frame.append method is deprecated and will be removed from pandas in a future version. Use pandas.concat instead.\n",
            "  delayed_data = delayed_data.append(replace_values)\n"
          ]
        }
      ]
    },
    {
      "cell_type": "code",
      "source": [
        "hours_df_copy1['Hours_Delayed'] = hours_df_copy1['Hours_Delayed'] * 60\n",
        "hours_df_copy1['Hours_Delayed'].value_counts()\n"
      ],
      "metadata": {
        "id": "qG98y8rnJvYQ",
        "colab": {
          "base_uri": "https://localhost:8080/"
        },
        "outputId": "02ed3bc7-5251-4195-cd37-1d9b189fc125"
      },
      "execution_count": null,
      "outputs": [
        {
          "output_type": "execute_result",
          "data": {
            "text/plain": [
              "60.0      3784\n",
              "0.0        309\n",
              "120.0      116\n",
              "900.0       13\n",
              "1800.0       3\n",
              "180.0        3\n",
              "240.0        2\n",
              "2700.0       1\n",
              "1200.0       1\n",
              "Name: Hours_Delayed, dtype: int64"
            ]
          },
          "metadata": {},
          "execution_count": 51
        }
      ]
    },
    {
      "cell_type": "code",
      "source": [
        "hours_df_copy1['Minutes_Delayed'] = hours_df_copy1['Minutes_Delayed'].astype(float)\n",
        "hours_df_copy1['Minutes_Delayed'].value_counts()"
      ],
      "metadata": {
        "colab": {
          "base_uri": "https://localhost:8080/"
        },
        "id": "9Tndn7WUP20j",
        "outputId": "96a6f1f8-6d58-41ed-9c99-2cea8e066503"
      },
      "execution_count": null,
      "outputs": [
        {
          "output_type": "execute_result",
          "data": {
            "text/plain": [
              "0.0     4013\n",
              "30.0      95\n",
              "45.0      78\n",
              "20.0      22\n",
              "15.0      21\n",
              "40.0       2\n",
              "10.0       1\n",
              "Name: Minutes_Delayed, dtype: int64"
            ]
          },
          "metadata": {},
          "execution_count": 52
        }
      ]
    },
    {
      "cell_type": "code",
      "source": [
        "#add hours and minutes\n",
        "hours_df_copy1['Total_Delayed'] = hours_df_copy1['Hours_Delayed'] + hours_df_copy1['Minutes_Delayed']"
      ],
      "metadata": {
        "id": "BGXL8oBIP98M"
      },
      "execution_count": null,
      "outputs": []
    },
    {
      "cell_type": "code",
      "source": [
        "\n",
        "#drop done columns\n",
        "hours_df_copy1.drop('Minutes_Delayed',axis=1,inplace=True)\n",
        "hours_df_copy1.drop('Hours_Delayed',axis=1,inplace=True)"
      ],
      "metadata": {
        "id": "Hb4UbSx0ioEG"
      },
      "execution_count": null,
      "outputs": []
    },
    {
      "cell_type": "code",
      "source": [
        "hours_df_copy1['How_Long_Delayed_Additional'].value_counts()"
      ],
      "metadata": {
        "colab": {
          "base_uri": "https://localhost:8080/"
        },
        "id": "HFBgr5lLiv9z",
        "outputId": "3726b830-8832-4e01-d68c-6af0e5d6df0a"
      },
      "execution_count": null,
      "outputs": [
        {
          "output_type": "execute_result",
          "data": {
            "text/plain": [
              "1 h        3721\n",
              "2 h         309\n",
              "1 h30 m      94\n",
              "1 h20 m      22\n",
              "1 h15 m      21\n",
              "15 h         13\n",
              "1 h30         9\n",
              "30 m          7\n",
              "1 h45 m       6\n",
              "2             5\n",
              "30 h          3\n",
              "1 h15         3\n",
              "3 h           3\n",
              "4 h           2\n",
              "h             2\n",
              "20 m          2\n",
              "1 h40 m       2\n",
              "1 h h         1\n",
              "              1\n",
              "1 h10 m       1\n",
              "145           1\n",
              "15 m          1\n",
              "45 h          1\n",
              "m             1\n",
              "20 h          1\n",
              "Name: How_Long_Delayed_Additional, dtype: int64"
            ]
          },
          "metadata": {},
          "execution_count": 55
        }
      ]
    },
    {
      "cell_type": "code",
      "source": [
        "split_hours_minutes(hours_df_copy1,'How_Long_Delayed_Additional')"
      ],
      "metadata": {
        "id": "UK6p59sBi65w",
        "colab": {
          "base_uri": "https://localhost:8080/",
          "height": 748
        },
        "outputId": "6cd8ef63-1b45-4c9a-ff06-c12c9f3b64a5"
      },
      "execution_count": null,
      "outputs": [
        {
          "output_type": "execute_result",
          "data": {
            "text/plain": [
              "        Busbreakdown_ID             Run_Type Bus_No Route_Number  \\\n",
              "64              1227639  Project Read PM Run   2033         X901   \n",
              "77              1227656    General Ed AM Run   2706        K1606   \n",
              "272             1227971    Special Ed AM Run   6250         P423   \n",
              "365             1228871    Special Ed AM Run  54065         M123   \n",
              "370             1228881    Special Ed AM Run  10271         X199   \n",
              "...                 ...                  ...    ...          ...   \n",
              "274444          1334975             Pre-K/EI   6147        0118A   \n",
              "274447          1342022             Pre-K/EI   0057         23AM   \n",
              "274484          1244822             Pre-K/EI   0017        51 AM   \n",
              "274527          1290896             Pre-K/EI   9005        3404A   \n",
              "274541          1324328             Pre-K/EI   7015       B0253A   \n",
              "\n",
              "                    Reason Schools_Serviced         Occurred_On  \\\n",
              "64      Mechanical Problem            11455 2015-11-05 18:35:00   \n",
              "77           Heavy Traffic            16005 2015-11-06 06:21:00   \n",
              "272          Heavy Traffic      27042,27874 2015-11-09 06:27:00   \n",
              "365     Mechanical Problem            02051 2015-11-12 07:00:00   \n",
              "370     Mechanical Problem            12486 2015-11-12 07:05:00   \n",
              "...                    ...              ...                 ...   \n",
              "274444               Other             C568 2017-03-28 07:15:00   \n",
              "274447         Problem Run             C273 2017-04-25 06:30:00   \n",
              "274484               Other             C092 2016-01-25 06:30:00   \n",
              "274527               Other             C505 2016-10-07 05:58:00   \n",
              "274541               Other             E083 2017-02-15 07:05:00   \n",
              "\n",
              "                Created_On    Borough           Bus_Company_Name  ...  \\\n",
              "64     2015-11-05 18:45:00      Bronx  PRIDE TRANSPORTATION (SCH  ...   \n",
              "77     2015-11-06 06:23:00   Brooklyn    MV TRANSPORTATION, INC.  ...   \n",
              "272    2015-11-09 06:31:00     Queens  JOFAZ TRANSPORTATION INC.  ...   \n",
              "365    2015-11-12 07:17:00  Manhattan  CONSOLIDATED BUS TRANS. I  ...   \n",
              "370    2015-11-12 07:19:00      Bronx  CONSOLIDATED BUS TRANS. I  ...   \n",
              "...                    ...        ...                        ...  ...   \n",
              "274444 2017-03-28 07:28:00   Brooklyn            L & M BUS CORP.  ...   \n",
              "274447 2017-04-25 08:35:00   Brooklyn                 SMART PICK  ...   \n",
              "274484 2016-01-25 09:02:00   Brooklyn                 SMART PICK  ...   \n",
              "274527 2016-10-07 06:03:00   Brooklyn                    MJT BUS  ...   \n",
              "274541 2017-02-15 07:20:00   Brooklyn            L & M BUS CORP.  ...   \n",
              "\n",
              "           Last_Updated_On  Breakdown_or_Running_Late School_Age_or_PreK  \\\n",
              "64     2015-11-05 18:45:40               Running Late         School-Age   \n",
              "77     2015-11-06 06:23:03               Running Late         School-Age   \n",
              "272    2015-11-09 06:31:46               Running Late         School-Age   \n",
              "365    2015-11-12 07:17:06               Running Late         School-Age   \n",
              "370    2015-11-12 07:19:44               Running Late         School-Age   \n",
              "...                    ...                        ...                ...   \n",
              "274444 2017-03-28 10:06:13               Running Late              Pre-K   \n",
              "274447 2017-04-25 10:08:07               Running Late              Pre-K   \n",
              "274484 2016-01-25 09:02:10               Running Late              Pre-K   \n",
              "274527 2016-10-07 14:48:01               Running Late              Pre-K   \n",
              "274541 2017-02-15 17:41:15               Running Late              Pre-K   \n",
              "\n",
              "       school_start_year school_end_year How_Long_Delayed_Cleaned  \\\n",
              "64                  2015            2016                      1 h   \n",
              "77                  2015            2016                      1 h   \n",
              "272                 2015            2016                      1 h   \n",
              "365                 2015            2016                      1 h   \n",
              "370                 2015            2016                      1 h   \n",
              "...                  ...             ...                      ...   \n",
              "274444              2016            2017                      1 h   \n",
              "274447              2016            2017                      1 h   \n",
              "274484              2015            2016                      1 h   \n",
              "274527              2016            2017                      1 h   \n",
              "274541              2016            2017                      1 h   \n",
              "\n",
              "       How_Long_Delayed_Additional Total_Delayed Hours_Delayed  \\\n",
              "64                             1 h          60.0            1    \n",
              "77                             1 h          60.0            1    \n",
              "272                           30 m          60.0             0   \n",
              "365                            1 h          60.0            1    \n",
              "370                            1 h          60.0            1    \n",
              "...                            ...           ...           ...   \n",
              "274444                         1 h          60.0            1    \n",
              "274447                         1 h          60.0            1    \n",
              "274484                         1 h          60.0            1    \n",
              "274527                         1 h          60.0            1    \n",
              "274541                         1 h          60.0            1    \n",
              "\n",
              "        Minutes_Delayed  \n",
              "64                    0  \n",
              "77                    0  \n",
              "272                 30   \n",
              "365                   0  \n",
              "370                   0  \n",
              "...                 ...  \n",
              "274444                0  \n",
              "274447                0  \n",
              "274484                0  \n",
              "274527                0  \n",
              "274541                0  \n",
              "\n",
              "[4232 rows x 26 columns]"
            ],
            "text/html": [
              "\n",
              "  <div id=\"df-02b894d7-542b-41a6-960a-f992b00efb23\">\n",
              "    <div class=\"colab-df-container\">\n",
              "      <div>\n",
              "<style scoped>\n",
              "    .dataframe tbody tr th:only-of-type {\n",
              "        vertical-align: middle;\n",
              "    }\n",
              "\n",
              "    .dataframe tbody tr th {\n",
              "        vertical-align: top;\n",
              "    }\n",
              "\n",
              "    .dataframe thead th {\n",
              "        text-align: right;\n",
              "    }\n",
              "</style>\n",
              "<table border=\"1\" class=\"dataframe\">\n",
              "  <thead>\n",
              "    <tr style=\"text-align: right;\">\n",
              "      <th></th>\n",
              "      <th>Busbreakdown_ID</th>\n",
              "      <th>Run_Type</th>\n",
              "      <th>Bus_No</th>\n",
              "      <th>Route_Number</th>\n",
              "      <th>Reason</th>\n",
              "      <th>Schools_Serviced</th>\n",
              "      <th>Occurred_On</th>\n",
              "      <th>Created_On</th>\n",
              "      <th>Borough</th>\n",
              "      <th>Bus_Company_Name</th>\n",
              "      <th>...</th>\n",
              "      <th>Last_Updated_On</th>\n",
              "      <th>Breakdown_or_Running_Late</th>\n",
              "      <th>School_Age_or_PreK</th>\n",
              "      <th>school_start_year</th>\n",
              "      <th>school_end_year</th>\n",
              "      <th>How_Long_Delayed_Cleaned</th>\n",
              "      <th>How_Long_Delayed_Additional</th>\n",
              "      <th>Total_Delayed</th>\n",
              "      <th>Hours_Delayed</th>\n",
              "      <th>Minutes_Delayed</th>\n",
              "    </tr>\n",
              "  </thead>\n",
              "  <tbody>\n",
              "    <tr>\n",
              "      <th>64</th>\n",
              "      <td>1227639</td>\n",
              "      <td>Project Read PM Run</td>\n",
              "      <td>2033</td>\n",
              "      <td>X901</td>\n",
              "      <td>Mechanical Problem</td>\n",
              "      <td>11455</td>\n",
              "      <td>2015-11-05 18:35:00</td>\n",
              "      <td>2015-11-05 18:45:00</td>\n",
              "      <td>Bronx</td>\n",
              "      <td>PRIDE TRANSPORTATION (SCH</td>\n",
              "      <td>...</td>\n",
              "      <td>2015-11-05 18:45:40</td>\n",
              "      <td>Running Late</td>\n",
              "      <td>School-Age</td>\n",
              "      <td>2015</td>\n",
              "      <td>2016</td>\n",
              "      <td>1 h</td>\n",
              "      <td>1 h</td>\n",
              "      <td>60.0</td>\n",
              "      <td>1</td>\n",
              "      <td>0</td>\n",
              "    </tr>\n",
              "    <tr>\n",
              "      <th>77</th>\n",
              "      <td>1227656</td>\n",
              "      <td>General Ed AM Run</td>\n",
              "      <td>2706</td>\n",
              "      <td>K1606</td>\n",
              "      <td>Heavy Traffic</td>\n",
              "      <td>16005</td>\n",
              "      <td>2015-11-06 06:21:00</td>\n",
              "      <td>2015-11-06 06:23:00</td>\n",
              "      <td>Brooklyn</td>\n",
              "      <td>MV TRANSPORTATION, INC.</td>\n",
              "      <td>...</td>\n",
              "      <td>2015-11-06 06:23:03</td>\n",
              "      <td>Running Late</td>\n",
              "      <td>School-Age</td>\n",
              "      <td>2015</td>\n",
              "      <td>2016</td>\n",
              "      <td>1 h</td>\n",
              "      <td>1 h</td>\n",
              "      <td>60.0</td>\n",
              "      <td>1</td>\n",
              "      <td>0</td>\n",
              "    </tr>\n",
              "    <tr>\n",
              "      <th>272</th>\n",
              "      <td>1227971</td>\n",
              "      <td>Special Ed AM Run</td>\n",
              "      <td>6250</td>\n",
              "      <td>P423</td>\n",
              "      <td>Heavy Traffic</td>\n",
              "      <td>27042,27874</td>\n",
              "      <td>2015-11-09 06:27:00</td>\n",
              "      <td>2015-11-09 06:31:00</td>\n",
              "      <td>Queens</td>\n",
              "      <td>JOFAZ TRANSPORTATION INC.</td>\n",
              "      <td>...</td>\n",
              "      <td>2015-11-09 06:31:46</td>\n",
              "      <td>Running Late</td>\n",
              "      <td>School-Age</td>\n",
              "      <td>2015</td>\n",
              "      <td>2016</td>\n",
              "      <td>1 h</td>\n",
              "      <td>30 m</td>\n",
              "      <td>60.0</td>\n",
              "      <td>0</td>\n",
              "      <td>30</td>\n",
              "    </tr>\n",
              "    <tr>\n",
              "      <th>365</th>\n",
              "      <td>1228871</td>\n",
              "      <td>Special Ed AM Run</td>\n",
              "      <td>54065</td>\n",
              "      <td>M123</td>\n",
              "      <td>Mechanical Problem</td>\n",
              "      <td>02051</td>\n",
              "      <td>2015-11-12 07:00:00</td>\n",
              "      <td>2015-11-12 07:17:00</td>\n",
              "      <td>Manhattan</td>\n",
              "      <td>CONSOLIDATED BUS TRANS. I</td>\n",
              "      <td>...</td>\n",
              "      <td>2015-11-12 07:17:06</td>\n",
              "      <td>Running Late</td>\n",
              "      <td>School-Age</td>\n",
              "      <td>2015</td>\n",
              "      <td>2016</td>\n",
              "      <td>1 h</td>\n",
              "      <td>1 h</td>\n",
              "      <td>60.0</td>\n",
              "      <td>1</td>\n",
              "      <td>0</td>\n",
              "    </tr>\n",
              "    <tr>\n",
              "      <th>370</th>\n",
              "      <td>1228881</td>\n",
              "      <td>Special Ed AM Run</td>\n",
              "      <td>10271</td>\n",
              "      <td>X199</td>\n",
              "      <td>Mechanical Problem</td>\n",
              "      <td>12486</td>\n",
              "      <td>2015-11-12 07:05:00</td>\n",
              "      <td>2015-11-12 07:19:00</td>\n",
              "      <td>Bronx</td>\n",
              "      <td>CONSOLIDATED BUS TRANS. I</td>\n",
              "      <td>...</td>\n",
              "      <td>2015-11-12 07:19:44</td>\n",
              "      <td>Running Late</td>\n",
              "      <td>School-Age</td>\n",
              "      <td>2015</td>\n",
              "      <td>2016</td>\n",
              "      <td>1 h</td>\n",
              "      <td>1 h</td>\n",
              "      <td>60.0</td>\n",
              "      <td>1</td>\n",
              "      <td>0</td>\n",
              "    </tr>\n",
              "    <tr>\n",
              "      <th>...</th>\n",
              "      <td>...</td>\n",
              "      <td>...</td>\n",
              "      <td>...</td>\n",
              "      <td>...</td>\n",
              "      <td>...</td>\n",
              "      <td>...</td>\n",
              "      <td>...</td>\n",
              "      <td>...</td>\n",
              "      <td>...</td>\n",
              "      <td>...</td>\n",
              "      <td>...</td>\n",
              "      <td>...</td>\n",
              "      <td>...</td>\n",
              "      <td>...</td>\n",
              "      <td>...</td>\n",
              "      <td>...</td>\n",
              "      <td>...</td>\n",
              "      <td>...</td>\n",
              "      <td>...</td>\n",
              "      <td>...</td>\n",
              "      <td>...</td>\n",
              "    </tr>\n",
              "    <tr>\n",
              "      <th>274444</th>\n",
              "      <td>1334975</td>\n",
              "      <td>Pre-K/EI</td>\n",
              "      <td>6147</td>\n",
              "      <td>0118A</td>\n",
              "      <td>Other</td>\n",
              "      <td>C568</td>\n",
              "      <td>2017-03-28 07:15:00</td>\n",
              "      <td>2017-03-28 07:28:00</td>\n",
              "      <td>Brooklyn</td>\n",
              "      <td>L &amp; M BUS CORP.</td>\n",
              "      <td>...</td>\n",
              "      <td>2017-03-28 10:06:13</td>\n",
              "      <td>Running Late</td>\n",
              "      <td>Pre-K</td>\n",
              "      <td>2016</td>\n",
              "      <td>2017</td>\n",
              "      <td>1 h</td>\n",
              "      <td>1 h</td>\n",
              "      <td>60.0</td>\n",
              "      <td>1</td>\n",
              "      <td>0</td>\n",
              "    </tr>\n",
              "    <tr>\n",
              "      <th>274447</th>\n",
              "      <td>1342022</td>\n",
              "      <td>Pre-K/EI</td>\n",
              "      <td>0057</td>\n",
              "      <td>23AM</td>\n",
              "      <td>Problem Run</td>\n",
              "      <td>C273</td>\n",
              "      <td>2017-04-25 06:30:00</td>\n",
              "      <td>2017-04-25 08:35:00</td>\n",
              "      <td>Brooklyn</td>\n",
              "      <td>SMART PICK</td>\n",
              "      <td>...</td>\n",
              "      <td>2017-04-25 10:08:07</td>\n",
              "      <td>Running Late</td>\n",
              "      <td>Pre-K</td>\n",
              "      <td>2016</td>\n",
              "      <td>2017</td>\n",
              "      <td>1 h</td>\n",
              "      <td>1 h</td>\n",
              "      <td>60.0</td>\n",
              "      <td>1</td>\n",
              "      <td>0</td>\n",
              "    </tr>\n",
              "    <tr>\n",
              "      <th>274484</th>\n",
              "      <td>1244822</td>\n",
              "      <td>Pre-K/EI</td>\n",
              "      <td>0017</td>\n",
              "      <td>51 AM</td>\n",
              "      <td>Other</td>\n",
              "      <td>C092</td>\n",
              "      <td>2016-01-25 06:30:00</td>\n",
              "      <td>2016-01-25 09:02:00</td>\n",
              "      <td>Brooklyn</td>\n",
              "      <td>SMART PICK</td>\n",
              "      <td>...</td>\n",
              "      <td>2016-01-25 09:02:10</td>\n",
              "      <td>Running Late</td>\n",
              "      <td>Pre-K</td>\n",
              "      <td>2015</td>\n",
              "      <td>2016</td>\n",
              "      <td>1 h</td>\n",
              "      <td>1 h</td>\n",
              "      <td>60.0</td>\n",
              "      <td>1</td>\n",
              "      <td>0</td>\n",
              "    </tr>\n",
              "    <tr>\n",
              "      <th>274527</th>\n",
              "      <td>1290896</td>\n",
              "      <td>Pre-K/EI</td>\n",
              "      <td>9005</td>\n",
              "      <td>3404A</td>\n",
              "      <td>Other</td>\n",
              "      <td>C505</td>\n",
              "      <td>2016-10-07 05:58:00</td>\n",
              "      <td>2016-10-07 06:03:00</td>\n",
              "      <td>Brooklyn</td>\n",
              "      <td>MJT BUS</td>\n",
              "      <td>...</td>\n",
              "      <td>2016-10-07 14:48:01</td>\n",
              "      <td>Running Late</td>\n",
              "      <td>Pre-K</td>\n",
              "      <td>2016</td>\n",
              "      <td>2017</td>\n",
              "      <td>1 h</td>\n",
              "      <td>1 h</td>\n",
              "      <td>60.0</td>\n",
              "      <td>1</td>\n",
              "      <td>0</td>\n",
              "    </tr>\n",
              "    <tr>\n",
              "      <th>274541</th>\n",
              "      <td>1324328</td>\n",
              "      <td>Pre-K/EI</td>\n",
              "      <td>7015</td>\n",
              "      <td>B0253A</td>\n",
              "      <td>Other</td>\n",
              "      <td>E083</td>\n",
              "      <td>2017-02-15 07:05:00</td>\n",
              "      <td>2017-02-15 07:20:00</td>\n",
              "      <td>Brooklyn</td>\n",
              "      <td>L &amp; M BUS CORP.</td>\n",
              "      <td>...</td>\n",
              "      <td>2017-02-15 17:41:15</td>\n",
              "      <td>Running Late</td>\n",
              "      <td>Pre-K</td>\n",
              "      <td>2016</td>\n",
              "      <td>2017</td>\n",
              "      <td>1 h</td>\n",
              "      <td>1 h</td>\n",
              "      <td>60.0</td>\n",
              "      <td>1</td>\n",
              "      <td>0</td>\n",
              "    </tr>\n",
              "  </tbody>\n",
              "</table>\n",
              "<p>4232 rows × 26 columns</p>\n",
              "</div>\n",
              "      <button class=\"colab-df-convert\" onclick=\"convertToInteractive('df-02b894d7-542b-41a6-960a-f992b00efb23')\"\n",
              "              title=\"Convert this dataframe to an interactive table.\"\n",
              "              style=\"display:none;\">\n",
              "        \n",
              "  <svg xmlns=\"http://www.w3.org/2000/svg\" height=\"24px\"viewBox=\"0 0 24 24\"\n",
              "       width=\"24px\">\n",
              "    <path d=\"M0 0h24v24H0V0z\" fill=\"none\"/>\n",
              "    <path d=\"M18.56 5.44l.94 2.06.94-2.06 2.06-.94-2.06-.94-.94-2.06-.94 2.06-2.06.94zm-11 1L8.5 8.5l.94-2.06 2.06-.94-2.06-.94L8.5 2.5l-.94 2.06-2.06.94zm10 10l.94 2.06.94-2.06 2.06-.94-2.06-.94-.94-2.06-.94 2.06-2.06.94z\"/><path d=\"M17.41 7.96l-1.37-1.37c-.4-.4-.92-.59-1.43-.59-.52 0-1.04.2-1.43.59L10.3 9.45l-7.72 7.72c-.78.78-.78 2.05 0 2.83L4 21.41c.39.39.9.59 1.41.59.51 0 1.02-.2 1.41-.59l7.78-7.78 2.81-2.81c.8-.78.8-2.07 0-2.86zM5.41 20L4 18.59l7.72-7.72 1.47 1.35L5.41 20z\"/>\n",
              "  </svg>\n",
              "      </button>\n",
              "      \n",
              "  <style>\n",
              "    .colab-df-container {\n",
              "      display:flex;\n",
              "      flex-wrap:wrap;\n",
              "      gap: 12px;\n",
              "    }\n",
              "\n",
              "    .colab-df-convert {\n",
              "      background-color: #E8F0FE;\n",
              "      border: none;\n",
              "      border-radius: 50%;\n",
              "      cursor: pointer;\n",
              "      display: none;\n",
              "      fill: #1967D2;\n",
              "      height: 32px;\n",
              "      padding: 0 0 0 0;\n",
              "      width: 32px;\n",
              "    }\n",
              "\n",
              "    .colab-df-convert:hover {\n",
              "      background-color: #E2EBFA;\n",
              "      box-shadow: 0px 1px 2px rgba(60, 64, 67, 0.3), 0px 1px 3px 1px rgba(60, 64, 67, 0.15);\n",
              "      fill: #174EA6;\n",
              "    }\n",
              "\n",
              "    [theme=dark] .colab-df-convert {\n",
              "      background-color: #3B4455;\n",
              "      fill: #D2E3FC;\n",
              "    }\n",
              "\n",
              "    [theme=dark] .colab-df-convert:hover {\n",
              "      background-color: #434B5C;\n",
              "      box-shadow: 0px 1px 3px 1px rgba(0, 0, 0, 0.15);\n",
              "      filter: drop-shadow(0px 1px 2px rgba(0, 0, 0, 0.3));\n",
              "      fill: #FFFFFF;\n",
              "    }\n",
              "  </style>\n",
              "\n",
              "      <script>\n",
              "        const buttonEl =\n",
              "          document.querySelector('#df-02b894d7-542b-41a6-960a-f992b00efb23 button.colab-df-convert');\n",
              "        buttonEl.style.display =\n",
              "          google.colab.kernel.accessAllowed ? 'block' : 'none';\n",
              "\n",
              "        async function convertToInteractive(key) {\n",
              "          const element = document.querySelector('#df-02b894d7-542b-41a6-960a-f992b00efb23');\n",
              "          const dataTable =\n",
              "            await google.colab.kernel.invokeFunction('convertToInteractive',\n",
              "                                                     [key], {});\n",
              "          if (!dataTable) return;\n",
              "\n",
              "          const docLinkHtml = 'Like what you see? Visit the ' +\n",
              "            '<a target=\"_blank\" href=https://colab.research.google.com/notebooks/data_table.ipynb>data table notebook</a>'\n",
              "            + ' to learn more about interactive tables.';\n",
              "          element.innerHTML = '';\n",
              "          dataTable['output_type'] = 'display_data';\n",
              "          await google.colab.output.renderOutput(dataTable, element);\n",
              "          const docLink = document.createElement('div');\n",
              "          docLink.innerHTML = docLinkHtml;\n",
              "          element.appendChild(docLink);\n",
              "        }\n",
              "      </script>\n",
              "    </div>\n",
              "  </div>\n",
              "  "
            ]
          },
          "metadata": {},
          "execution_count": 56
        }
      ]
    },
    {
      "cell_type": "code",
      "source": [
        "hours_df_copy1['Minutes_Delayed'].value_counts()"
      ],
      "metadata": {
        "colab": {
          "base_uri": "https://localhost:8080/"
        },
        "id": "w4yyYcGj5RlF",
        "outputId": "537c8f2f-c458-42e7-8a0d-39c1132d5307"
      },
      "execution_count": null,
      "outputs": [
        {
          "output_type": "execute_result",
          "data": {
            "text/plain": [
              "0      4075\n",
              "30      101\n",
              "20       24\n",
              "15       22\n",
              "45        6\n",
              "40        2\n",
              "          1\n",
              "10        1\n",
              "Name: Minutes_Delayed, dtype: int64"
            ]
          },
          "metadata": {},
          "execution_count": 57
        }
      ]
    },
    {
      "cell_type": "code",
      "source": [
        "hours_df_copy1['Hours_Delayed'].value_counts()"
      ],
      "metadata": {
        "id": "daZlxHzx51yj",
        "outputId": "bbc34e76-f45b-4c7a-ae01-8b48acf9880c",
        "colab": {
          "base_uri": "https://localhost:8080/"
        }
      },
      "execution_count": null,
      "outputs": [
        {
          "output_type": "execute_result",
          "data": {
            "text/plain": [
              "1      3880\n",
              "2       309\n",
              "0        18\n",
              "15       13\n",
              "30        3\n",
              "3         3\n",
              "4         2\n",
              "          2\n",
              "45        1\n",
              "20        1\n",
              "Name: Hours_Delayed, dtype: int64"
            ]
          },
          "metadata": {},
          "execution_count": 58
        }
      ]
    },
    {
      "cell_type": "code",
      "source": [
        "#same process again\n",
        "hours_df_copy1['Hours_Delayed'].value_counts().head(50)\n",
        "empty_rows = hours_df_copy1[hours_df_copy1['Minutes_Delayed'] == '']\n",
        "empty_rows1 = hours_df_copy1[hours_df_copy1['Hours_Delayed'] == '']\n",
        "hours_df_copy1.drop(empty_rows.index, inplace=True)\n",
        "hours_df_copy1.drop(empty_rows1.index, inplace=True)"
      ],
      "metadata": {
        "id": "Bh2396Mf550Q"
      },
      "execution_count": null,
      "outputs": []
    },
    {
      "cell_type": "code",
      "source": [
        "#change data types\n",
        "hours_df_copy1['Hours_Delayed'] = hours_df_copy1['Hours_Delayed'].astype(float)\n",
        "hours_df_copy1['Minutes_Delayed'] = hours_df_copy1['Minutes_Delayed'].astype(float)\n",
        "#turn hours to minute\n",
        "hours_df_copy1['Hours_Delayed'] = hours_df_copy1['Hours_Delayed'] * 60\n",
        "hours_df_copy1['Hours_Delayed'].value_counts()"
      ],
      "metadata": {
        "colab": {
          "base_uri": "https://localhost:8080/"
        },
        "id": "vBGeNnaG7w5-",
        "outputId": "bbf584b1-e2be-4b70-a833-30fecd1924a2"
      },
      "execution_count": null,
      "outputs": [
        {
          "output_type": "execute_result",
          "data": {
            "text/plain": [
              "60.0      3880\n",
              "120.0      309\n",
              "0.0         17\n",
              "900.0       13\n",
              "1800.0       3\n",
              "180.0        3\n",
              "240.0        2\n",
              "2700.0       1\n",
              "1200.0       1\n",
              "Name: Hours_Delayed, dtype: int64"
            ]
          },
          "metadata": {},
          "execution_count": 60
        }
      ]
    },
    {
      "cell_type": "code",
      "source": [
        "#add again minutes abd hours\n",
        "hours_df_copy1['Total_Delayed2'] = hours_df_copy1['Hours_Delayed'] + hours_df_copy1['Minutes_Delayed']"
      ],
      "metadata": {
        "id": "xkdLxlu279YQ"
      },
      "execution_count": null,
      "outputs": []
    },
    {
      "cell_type": "code",
      "source": [
        "hours_df_copy1.drop('Minutes_Delayed',axis=1,inplace=True)\n",
        "hours_df_copy1.drop('Hours_Delayed',axis=1,inplace=True)\n",
        "hours_df_copy1.drop('How_Long_Delayed_Cleaned',axis=1,inplace=True)\n",
        "hours_df_copy1.drop('How_Long_Delayed_Additional',axis=1,inplace=True)\n",
        "\n",
        "hours_df_copy1['Total_Delayed2'].value_counts()"
      ],
      "metadata": {
        "colab": {
          "base_uri": "https://localhost:8080/"
        },
        "id": "Y-U6xzej8b1k",
        "outputId": "197c8d8b-9c9a-42b6-be7f-fcce5fbc598b"
      },
      "execution_count": null,
      "outputs": [
        {
          "output_type": "execute_result",
          "data": {
            "text/plain": [
              "60.0      3734\n",
              "120.0      309\n",
              "90.0        94\n",
              "80.0        22\n",
              "75.0        21\n",
              "900.0       13\n",
              "0.0          7\n",
              "30.0         7\n",
              "105.0        6\n",
              "180.0        3\n",
              "1800.0       3\n",
              "20.0         2\n",
              "100.0        2\n",
              "240.0        2\n",
              "15.0         1\n",
              "2700.0       1\n",
              "70.0         1\n",
              "1200.0       1\n",
              "Name: Total_Delayed2, dtype: int64"
            ]
          },
          "metadata": {},
          "execution_count": 62
        }
      ]
    },
    {
      "cell_type": "code",
      "source": [
        "#taking average\n",
        "hours_df_copy1['delay_cleaned'] = hours_df_copy1.apply(lambda row: (row['Total_Delayed'] + row['Total_Delayed2'])/2, axis=1)"
      ],
      "metadata": {
        "id": "cIlatvjk8irH"
      },
      "execution_count": null,
      "outputs": []
    },
    {
      "cell_type": "code",
      "source": [
        "hours_df_copy1['delay_cleaned'].value_counts()"
      ],
      "metadata": {
        "colab": {
          "base_uri": "https://localhost:8080/"
        },
        "id": "obew9IpW9ogq",
        "outputId": "6e2e917e-c42c-4c35-b276-49460b13bd7b"
      },
      "execution_count": null,
      "outputs": [
        {
          "output_type": "execute_result",
          "data": {
            "text/plain": [
              "60.0      3813\n",
              "120.0      116\n",
              "90.0        94\n",
              "52.5        72\n",
              "30.0        48\n",
              "80.0        22\n",
              "75.0        21\n",
              "900.0       13\n",
              "45.0         8\n",
              "105.0        6\n",
              "1800.0       3\n",
              "180.0        3\n",
              "240.0        2\n",
              "40.0         2\n",
              "100.0        2\n",
              "37.5         1\n",
              "2700.0       1\n",
              "70.0         1\n",
              "1200.0       1\n",
              "Name: delay_cleaned, dtype: int64"
            ]
          },
          "metadata": {},
          "execution_count": 64
        }
      ]
    },
    {
      "cell_type": "code",
      "source": [
        "hours_df_copy1.info()"
      ],
      "metadata": {
        "id": "-GGptf33_SDk",
        "colab": {
          "base_uri": "https://localhost:8080/"
        },
        "outputId": "0844f014-dd77-480a-b36c-178c8ae8d84b"
      },
      "execution_count": null,
      "outputs": [
        {
          "output_type": "stream",
          "name": "stdout",
          "text": [
            "<class 'pandas.core.frame.DataFrame'>\n",
            "Int64Index: 4229 entries, 64 to 274541\n",
            "Data columns (total 24 columns):\n",
            " #   Column                           Non-Null Count  Dtype         \n",
            "---  ------                           --------------  -----         \n",
            " 0   Busbreakdown_ID                  4229 non-null   int64         \n",
            " 1   Run_Type                         4229 non-null   object        \n",
            " 2   Bus_No                           4229 non-null   object        \n",
            " 3   Route_Number                     4229 non-null   object        \n",
            " 4   Reason                           4229 non-null   object        \n",
            " 5   Schools_Serviced                 4229 non-null   object        \n",
            " 6   Occurred_On                      4229 non-null   datetime64[ns]\n",
            " 7   Created_On                       4229 non-null   datetime64[ns]\n",
            " 8   Borough                          4127 non-null   object        \n",
            " 9   Bus_Company_Name                 4229 non-null   object        \n",
            " 10  How_Long_Delayed                 4229 non-null   object        \n",
            " 11  Number_Of_Students_On_The_Bus    4229 non-null   int64         \n",
            " 12  Has_Contractor_Notified_Schools  4229 non-null   object        \n",
            " 13  Has_Contractor_Notified_Parents  4229 non-null   object        \n",
            " 14  Have_You_Alerted_OPT             4229 non-null   object        \n",
            " 15  Informed_On                      4229 non-null   datetime64[ns]\n",
            " 16  Last_Updated_On                  4229 non-null   datetime64[ns]\n",
            " 17  Breakdown_or_Running_Late        4229 non-null   object        \n",
            " 18  School_Age_or_PreK               4229 non-null   object        \n",
            " 19  school_start_year                4229 non-null   int64         \n",
            " 20  school_end_year                  4229 non-null   int64         \n",
            " 21  Total_Delayed                    4229 non-null   float64       \n",
            " 22  Total_Delayed2                   4229 non-null   float64       \n",
            " 23  delay_cleaned                    4229 non-null   float64       \n",
            "dtypes: datetime64[ns](4), float64(3), int64(4), object(13)\n",
            "memory usage: 826.0+ KB\n"
          ]
        }
      ]
    },
    {
      "cell_type": "code",
      "source": [
        "minute_df['How_Long_Delayed'].value_counts()"
      ],
      "metadata": {
        "colab": {
          "base_uri": "https://localhost:8080/"
        },
        "id": "Kv4X4GT1NGew",
        "outputId": "7af26d3d-ca1d-431e-d7c9-7bbad376911c"
      },
      "execution_count": null,
      "outputs": [
        {
          "output_type": "execute_result",
          "data": {
            "text/plain": [
              "38.0     119486\n",
              "23.0     111494\n",
              "53.0      64958\n",
              "7.5       40651\n",
              "75.5      27713\n",
              "          ...  \n",
              "218.0         1\n",
              "933.0         1\n",
              "132.5         1\n",
              "190.0         1\n",
              "154.0         1\n",
              "Name: How_Long_Delayed, Length: 257, dtype: int64"
            ]
          },
          "metadata": {},
          "execution_count": 66
        }
      ]
    },
    {
      "cell_type": "code",
      "source": [
        "hours_df_copy2=hours_df_copy1.copy()\n",
        "hours_df_copy2.drop('Total_Delayed',axis=1,inplace=True)\n",
        "hours_df_copy2.drop('Total_Delayed2',axis=1,inplace=True)\n",
        "hours_df_copy2.drop('How_Long_Delayed',axis=1,inplace=True)\n",
        "# Rename the 'delay_cleaned' column to 'How_Long_Delayed'\n",
        "hours_df_copy2 = hours_df_copy2.rename(columns={'delay_cleaned': 'How_Long_Delayed2'})\n",
        "minute_df = minute_df.rename(columns={'How_Long_Delayed': 'How_Long_Delayed2'})\n",
        "hours_df_copy2.columns"
      ],
      "metadata": {
        "colab": {
          "base_uri": "https://localhost:8080/"
        },
        "id": "mqXasxJnNNLQ",
        "outputId": "91d1696e-d2dd-4fd3-815b-41b358067289"
      },
      "execution_count": null,
      "outputs": [
        {
          "output_type": "execute_result",
          "data": {
            "text/plain": [
              "Index(['Busbreakdown_ID', 'Run_Type', 'Bus_No', 'Route_Number', 'Reason',\n",
              "       'Schools_Serviced', 'Occurred_On', 'Created_On', 'Borough',\n",
              "       'Bus_Company_Name', 'Number_Of_Students_On_The_Bus',\n",
              "       'Has_Contractor_Notified_Schools', 'Has_Contractor_Notified_Parents',\n",
              "       'Have_You_Alerted_OPT', 'Informed_On', 'Last_Updated_On',\n",
              "       'Breakdown_or_Running_Late', 'School_Age_or_PreK', 'school_start_year',\n",
              "       'school_end_year', 'How_Long_Delayed2'],\n",
              "      dtype='object')"
            ]
          },
          "metadata": {},
          "execution_count": 67
        }
      ]
    },
    {
      "cell_type": "code",
      "source": [
        "#hours_df_copy2['How_Long_Delayed2']=hours_df_copy2['How_Long_Delayed2'].astype(float)\n",
        "#minute_df['How_Long_Delayed2']=minute_df['How_Long_Delayed2'].astype(float)\n",
        "#merged_df = pd.merge(minute_df, hours_df_copy2, on='How_Long_Delayed2', how='outer')\n",
        "merged_df = minute_df.merge(hours_df_copy2, on=['Busbreakdown_ID', 'Run_Type', 'Bus_No', 'Route_Number', 'Reason',\n",
        "       'Schools_Serviced', 'Occurred_On', 'Created_On', 'Borough',\n",
        "       'Bus_Company_Name', 'Number_Of_Students_On_The_Bus',\n",
        "       'Has_Contractor_Notified_Schools', 'Has_Contractor_Notified_Parents',\n",
        "       'Have_You_Alerted_OPT', 'Informed_On', 'Last_Updated_On',\n",
        "       'Breakdown_or_Running_Late', 'School_Age_or_PreK', 'school_start_year',\n",
        "       'school_end_year', 'How_Long_Delayed2'], how='outer')"
      ],
      "metadata": {
        "id": "5-9FALqlNZ3C"
      },
      "execution_count": null,
      "outputs": []
    },
    {
      "cell_type": "code",
      "source": [
        "merged_df.info()"
      ],
      "metadata": {
        "colab": {
          "base_uri": "https://localhost:8080/"
        },
        "id": "JRtr-MCKPDd_",
        "outputId": "f8362781-0b5a-4e32-e46f-10fa154f7e84"
      },
      "execution_count": null,
      "outputs": [
        {
          "output_type": "stream",
          "name": "stdout",
          "text": [
            "<class 'pandas.core.frame.DataFrame'>\n",
            "Int64Index: 491090 entries, 0 to 491089\n",
            "Data columns (total 21 columns):\n",
            " #   Column                           Non-Null Count   Dtype         \n",
            "---  ------                           --------------   -----         \n",
            " 0   Busbreakdown_ID                  491090 non-null  int64         \n",
            " 1   Run_Type                         491085 non-null  object        \n",
            " 2   Bus_No                           491078 non-null  object        \n",
            " 3   Route_Number                     491083 non-null  object        \n",
            " 4   Reason                           491088 non-null  object        \n",
            " 5   Schools_Serviced                 491083 non-null  object        \n",
            " 6   Occurred_On                      491090 non-null  datetime64[ns]\n",
            " 7   Created_On                       491090 non-null  datetime64[ns]\n",
            " 8   Borough                          480991 non-null  object        \n",
            " 9   Bus_Company_Name                 491090 non-null  object        \n",
            " 10  Number_Of_Students_On_The_Bus    491090 non-null  int64         \n",
            " 11  Has_Contractor_Notified_Schools  491090 non-null  object        \n",
            " 12  Has_Contractor_Notified_Parents  491090 non-null  object        \n",
            " 13  Have_You_Alerted_OPT             491090 non-null  object        \n",
            " 14  Informed_On                      491090 non-null  datetime64[ns]\n",
            " 15  Last_Updated_On                  491090 non-null  datetime64[ns]\n",
            " 16  Breakdown_or_Running_Late        491090 non-null  object        \n",
            " 17  School_Age_or_PreK               491090 non-null  object        \n",
            " 18  school_start_year                491090 non-null  int64         \n",
            " 19  school_end_year                  491090 non-null  int64         \n",
            " 20  How_Long_Delayed2                491090 non-null  float64       \n",
            "dtypes: datetime64[ns](4), float64(1), int64(4), object(12)\n",
            "memory usage: 82.4+ MB\n"
          ]
        }
      ]
    },
    {
      "cell_type": "code",
      "source": [
        "merged_df['Reason'].value_counts()"
      ],
      "metadata": {
        "id": "ZsGLPxZYPmTS",
        "colab": {
          "base_uri": "https://localhost:8080/"
        },
        "outputId": "49b5beae-eecd-4164-9dd6-a4004556ad46"
      },
      "execution_count": null,
      "outputs": [
        {
          "output_type": "execute_result",
          "data": {
            "text/plain": [
              "Heavy Traffic                  338538\n",
              "Other                           73593\n",
              "Mechanical Problem              26065\n",
              "Problem Run                     12686\n",
              "Weather Conditions              10144\n",
              "Late return from Field Trip      7981\n",
              "Won`t Start                      7025\n",
              "Flat Tire                        6995\n",
              "Accident                         4233\n",
              "Delayed by School                3828\n",
              "Name: Reason, dtype: int64"
            ]
          },
          "metadata": {},
          "execution_count": 70
        }
      ]
    },
    {
      "cell_type": "code",
      "source": [
        "merged_df.dropna(inplace=True)\n",
        "merged_df.head()"
      ],
      "metadata": {
        "id": "GegkxsgHRnJ3",
        "colab": {
          "base_uri": "https://localhost:8080/",
          "height": 455
        },
        "outputId": "5d4f38ee-4332-4e3d-8d5d-aedbfbc54d32"
      },
      "execution_count": null,
      "outputs": [
        {
          "output_type": "execute_result",
          "data": {
            "text/plain": [
              "   Busbreakdown_ID           Run_Type  Bus_No Route_Number         Reason  \\\n",
              "0          1227539  Special Ed AM Run    1260         M351  Heavy Traffic   \n",
              "1          1227540           Pre-K/EI     418            3  Heavy Traffic   \n",
              "2          1227541  Special Ed AM Run    4522         M271  Heavy Traffic   \n",
              "3          1227543  Special Ed AM Run  HT1502         W796  Heavy Traffic   \n",
              "4          1227544  Special Ed AM Run     142         W633  Heavy Traffic   \n",
              "\n",
              "  Schools_Serviced         Occurred_On          Created_On      Borough  \\\n",
              "0            06716 2015-11-05 08:10:00 2015-11-05 08:12:00    Manhattan   \n",
              "1             C445 2015-11-05 08:09:00 2015-11-05 08:13:00        Bronx   \n",
              "2            02699 2015-11-05 08:12:00 2015-11-05 08:14:00    Manhattan   \n",
              "3            75407 2015-11-05 07:58:00 2015-11-05 08:14:00  Westchester   \n",
              "4            75670 2015-11-05 08:24:00 2015-11-05 08:15:00  Westchester   \n",
              "\n",
              "            Bus_Company_Name  ...  Has_Contractor_Notified_Schools  \\\n",
              "0  HOYT TRANSPORTATION CORP.  ...                              Yes   \n",
              "1               G.V.C., LTD.  ...                              Yes   \n",
              "2  RELIANT TRANS, INC. (B232  ...                               No   \n",
              "3  CHILDREN`S TRANS INC. (B2  ...                              Yes   \n",
              "4  MAR-CAN TRANSPORT CO. INC  ...                              Yes   \n",
              "\n",
              "  Has_Contractor_Notified_Parents Have_You_Alerted_OPT         Informed_On  \\\n",
              "0                             Yes                   No 2015-11-05 08:12:00   \n",
              "1                             Yes                  Yes 2015-11-05 08:13:00   \n",
              "2                              No                   No 2015-11-05 08:14:00   \n",
              "3                             Yes                  Yes 2015-11-05 08:14:00   \n",
              "4                              No                   No 2015-11-05 08:15:00   \n",
              "\n",
              "      Last_Updated_On Breakdown_or_Running_Late School_Age_or_PreK  \\\n",
              "0 2015-11-05 08:13:34              Running Late         School-Age   \n",
              "1 2015-11-05 08:13:22              Running Late              Pre-K   \n",
              "2 2015-11-05 08:14:04              Running Late         School-Age   \n",
              "3 2015-11-05 08:14:15              Running Late         School-Age   \n",
              "4 2015-11-05 08:16:53              Running Late         School-Age   \n",
              "\n",
              "  school_start_year  school_end_year  How_Long_Delayed2  \n",
              "0              2015             2016               20.0  \n",
              "1              2015             2016               15.0  \n",
              "2              2015             2016               15.0  \n",
              "3              2015             2016               30.0  \n",
              "4              2015             2016               20.0  \n",
              "\n",
              "[5 rows x 21 columns]"
            ],
            "text/html": [
              "\n",
              "  <div id=\"df-1271eb5e-9381-4b5c-9c0a-d351fbbee639\">\n",
              "    <div class=\"colab-df-container\">\n",
              "      <div>\n",
              "<style scoped>\n",
              "    .dataframe tbody tr th:only-of-type {\n",
              "        vertical-align: middle;\n",
              "    }\n",
              "\n",
              "    .dataframe tbody tr th {\n",
              "        vertical-align: top;\n",
              "    }\n",
              "\n",
              "    .dataframe thead th {\n",
              "        text-align: right;\n",
              "    }\n",
              "</style>\n",
              "<table border=\"1\" class=\"dataframe\">\n",
              "  <thead>\n",
              "    <tr style=\"text-align: right;\">\n",
              "      <th></th>\n",
              "      <th>Busbreakdown_ID</th>\n",
              "      <th>Run_Type</th>\n",
              "      <th>Bus_No</th>\n",
              "      <th>Route_Number</th>\n",
              "      <th>Reason</th>\n",
              "      <th>Schools_Serviced</th>\n",
              "      <th>Occurred_On</th>\n",
              "      <th>Created_On</th>\n",
              "      <th>Borough</th>\n",
              "      <th>Bus_Company_Name</th>\n",
              "      <th>...</th>\n",
              "      <th>Has_Contractor_Notified_Schools</th>\n",
              "      <th>Has_Contractor_Notified_Parents</th>\n",
              "      <th>Have_You_Alerted_OPT</th>\n",
              "      <th>Informed_On</th>\n",
              "      <th>Last_Updated_On</th>\n",
              "      <th>Breakdown_or_Running_Late</th>\n",
              "      <th>School_Age_or_PreK</th>\n",
              "      <th>school_start_year</th>\n",
              "      <th>school_end_year</th>\n",
              "      <th>How_Long_Delayed2</th>\n",
              "    </tr>\n",
              "  </thead>\n",
              "  <tbody>\n",
              "    <tr>\n",
              "      <th>0</th>\n",
              "      <td>1227539</td>\n",
              "      <td>Special Ed AM Run</td>\n",
              "      <td>1260</td>\n",
              "      <td>M351</td>\n",
              "      <td>Heavy Traffic</td>\n",
              "      <td>06716</td>\n",
              "      <td>2015-11-05 08:10:00</td>\n",
              "      <td>2015-11-05 08:12:00</td>\n",
              "      <td>Manhattan</td>\n",
              "      <td>HOYT TRANSPORTATION CORP.</td>\n",
              "      <td>...</td>\n",
              "      <td>Yes</td>\n",
              "      <td>Yes</td>\n",
              "      <td>No</td>\n",
              "      <td>2015-11-05 08:12:00</td>\n",
              "      <td>2015-11-05 08:13:34</td>\n",
              "      <td>Running Late</td>\n",
              "      <td>School-Age</td>\n",
              "      <td>2015</td>\n",
              "      <td>2016</td>\n",
              "      <td>20.0</td>\n",
              "    </tr>\n",
              "    <tr>\n",
              "      <th>1</th>\n",
              "      <td>1227540</td>\n",
              "      <td>Pre-K/EI</td>\n",
              "      <td>418</td>\n",
              "      <td>3</td>\n",
              "      <td>Heavy Traffic</td>\n",
              "      <td>C445</td>\n",
              "      <td>2015-11-05 08:09:00</td>\n",
              "      <td>2015-11-05 08:13:00</td>\n",
              "      <td>Bronx</td>\n",
              "      <td>G.V.C., LTD.</td>\n",
              "      <td>...</td>\n",
              "      <td>Yes</td>\n",
              "      <td>Yes</td>\n",
              "      <td>Yes</td>\n",
              "      <td>2015-11-05 08:13:00</td>\n",
              "      <td>2015-11-05 08:13:22</td>\n",
              "      <td>Running Late</td>\n",
              "      <td>Pre-K</td>\n",
              "      <td>2015</td>\n",
              "      <td>2016</td>\n",
              "      <td>15.0</td>\n",
              "    </tr>\n",
              "    <tr>\n",
              "      <th>2</th>\n",
              "      <td>1227541</td>\n",
              "      <td>Special Ed AM Run</td>\n",
              "      <td>4522</td>\n",
              "      <td>M271</td>\n",
              "      <td>Heavy Traffic</td>\n",
              "      <td>02699</td>\n",
              "      <td>2015-11-05 08:12:00</td>\n",
              "      <td>2015-11-05 08:14:00</td>\n",
              "      <td>Manhattan</td>\n",
              "      <td>RELIANT TRANS, INC. (B232</td>\n",
              "      <td>...</td>\n",
              "      <td>No</td>\n",
              "      <td>No</td>\n",
              "      <td>No</td>\n",
              "      <td>2015-11-05 08:14:00</td>\n",
              "      <td>2015-11-05 08:14:04</td>\n",
              "      <td>Running Late</td>\n",
              "      <td>School-Age</td>\n",
              "      <td>2015</td>\n",
              "      <td>2016</td>\n",
              "      <td>15.0</td>\n",
              "    </tr>\n",
              "    <tr>\n",
              "      <th>3</th>\n",
              "      <td>1227543</td>\n",
              "      <td>Special Ed AM Run</td>\n",
              "      <td>HT1502</td>\n",
              "      <td>W796</td>\n",
              "      <td>Heavy Traffic</td>\n",
              "      <td>75407</td>\n",
              "      <td>2015-11-05 07:58:00</td>\n",
              "      <td>2015-11-05 08:14:00</td>\n",
              "      <td>Westchester</td>\n",
              "      <td>CHILDREN`S TRANS INC. (B2</td>\n",
              "      <td>...</td>\n",
              "      <td>Yes</td>\n",
              "      <td>Yes</td>\n",
              "      <td>Yes</td>\n",
              "      <td>2015-11-05 08:14:00</td>\n",
              "      <td>2015-11-05 08:14:15</td>\n",
              "      <td>Running Late</td>\n",
              "      <td>School-Age</td>\n",
              "      <td>2015</td>\n",
              "      <td>2016</td>\n",
              "      <td>30.0</td>\n",
              "    </tr>\n",
              "    <tr>\n",
              "      <th>4</th>\n",
              "      <td>1227544</td>\n",
              "      <td>Special Ed AM Run</td>\n",
              "      <td>142</td>\n",
              "      <td>W633</td>\n",
              "      <td>Heavy Traffic</td>\n",
              "      <td>75670</td>\n",
              "      <td>2015-11-05 08:24:00</td>\n",
              "      <td>2015-11-05 08:15:00</td>\n",
              "      <td>Westchester</td>\n",
              "      <td>MAR-CAN TRANSPORT CO. INC</td>\n",
              "      <td>...</td>\n",
              "      <td>Yes</td>\n",
              "      <td>No</td>\n",
              "      <td>No</td>\n",
              "      <td>2015-11-05 08:15:00</td>\n",
              "      <td>2015-11-05 08:16:53</td>\n",
              "      <td>Running Late</td>\n",
              "      <td>School-Age</td>\n",
              "      <td>2015</td>\n",
              "      <td>2016</td>\n",
              "      <td>20.0</td>\n",
              "    </tr>\n",
              "  </tbody>\n",
              "</table>\n",
              "<p>5 rows × 21 columns</p>\n",
              "</div>\n",
              "      <button class=\"colab-df-convert\" onclick=\"convertToInteractive('df-1271eb5e-9381-4b5c-9c0a-d351fbbee639')\"\n",
              "              title=\"Convert this dataframe to an interactive table.\"\n",
              "              style=\"display:none;\">\n",
              "        \n",
              "  <svg xmlns=\"http://www.w3.org/2000/svg\" height=\"24px\"viewBox=\"0 0 24 24\"\n",
              "       width=\"24px\">\n",
              "    <path d=\"M0 0h24v24H0V0z\" fill=\"none\"/>\n",
              "    <path d=\"M18.56 5.44l.94 2.06.94-2.06 2.06-.94-2.06-.94-.94-2.06-.94 2.06-2.06.94zm-11 1L8.5 8.5l.94-2.06 2.06-.94-2.06-.94L8.5 2.5l-.94 2.06-2.06.94zm10 10l.94 2.06.94-2.06 2.06-.94-2.06-.94-.94-2.06-.94 2.06-2.06.94z\"/><path d=\"M17.41 7.96l-1.37-1.37c-.4-.4-.92-.59-1.43-.59-.52 0-1.04.2-1.43.59L10.3 9.45l-7.72 7.72c-.78.78-.78 2.05 0 2.83L4 21.41c.39.39.9.59 1.41.59.51 0 1.02-.2 1.41-.59l7.78-7.78 2.81-2.81c.8-.78.8-2.07 0-2.86zM5.41 20L4 18.59l7.72-7.72 1.47 1.35L5.41 20z\"/>\n",
              "  </svg>\n",
              "      </button>\n",
              "      \n",
              "  <style>\n",
              "    .colab-df-container {\n",
              "      display:flex;\n",
              "      flex-wrap:wrap;\n",
              "      gap: 12px;\n",
              "    }\n",
              "\n",
              "    .colab-df-convert {\n",
              "      background-color: #E8F0FE;\n",
              "      border: none;\n",
              "      border-radius: 50%;\n",
              "      cursor: pointer;\n",
              "      display: none;\n",
              "      fill: #1967D2;\n",
              "      height: 32px;\n",
              "      padding: 0 0 0 0;\n",
              "      width: 32px;\n",
              "    }\n",
              "\n",
              "    .colab-df-convert:hover {\n",
              "      background-color: #E2EBFA;\n",
              "      box-shadow: 0px 1px 2px rgba(60, 64, 67, 0.3), 0px 1px 3px 1px rgba(60, 64, 67, 0.15);\n",
              "      fill: #174EA6;\n",
              "    }\n",
              "\n",
              "    [theme=dark] .colab-df-convert {\n",
              "      background-color: #3B4455;\n",
              "      fill: #D2E3FC;\n",
              "    }\n",
              "\n",
              "    [theme=dark] .colab-df-convert:hover {\n",
              "      background-color: #434B5C;\n",
              "      box-shadow: 0px 1px 3px 1px rgba(0, 0, 0, 0.15);\n",
              "      filter: drop-shadow(0px 1px 2px rgba(0, 0, 0, 0.3));\n",
              "      fill: #FFFFFF;\n",
              "    }\n",
              "  </style>\n",
              "\n",
              "      <script>\n",
              "        const buttonEl =\n",
              "          document.querySelector('#df-1271eb5e-9381-4b5c-9c0a-d351fbbee639 button.colab-df-convert');\n",
              "        buttonEl.style.display =\n",
              "          google.colab.kernel.accessAllowed ? 'block' : 'none';\n",
              "\n",
              "        async function convertToInteractive(key) {\n",
              "          const element = document.querySelector('#df-1271eb5e-9381-4b5c-9c0a-d351fbbee639');\n",
              "          const dataTable =\n",
              "            await google.colab.kernel.invokeFunction('convertToInteractive',\n",
              "                                                     [key], {});\n",
              "          if (!dataTable) return;\n",
              "\n",
              "          const docLinkHtml = 'Like what you see? Visit the ' +\n",
              "            '<a target=\"_blank\" href=https://colab.research.google.com/notebooks/data_table.ipynb>data table notebook</a>'\n",
              "            + ' to learn more about interactive tables.';\n",
              "          element.innerHTML = '';\n",
              "          dataTable['output_type'] = 'display_data';\n",
              "          await google.colab.output.renderOutput(dataTable, element);\n",
              "          const docLink = document.createElement('div');\n",
              "          docLink.innerHTML = docLinkHtml;\n",
              "          element.appendChild(docLink);\n",
              "        }\n",
              "      </script>\n",
              "    </div>\n",
              "  </div>\n",
              "  "
            ]
          },
          "metadata": {},
          "execution_count": 71
        }
      ]
    },
    {
      "cell_type": "markdown",
      "source": [
        "# detecting outliers\n",
        "this is the blog posts i think useful for outliers\n",
        "https://towardsdatascience.com/5-ways-to-detect-outliers-that-every-data-scientist-should-know-python-code-70a54335a623\n",
        "\n",
        "second\n",
        "https://www.analyticsvidhya.com/blog/2021/05/why-you-shouldnt-just-delete-outliers/\n",
        "\n",
        "third https://statisticsbyjim.com/basics/outliers/\n",
        "\n",
        "\n",
        "fourth  https://statisticsbyjim.com/basics/remove-outliers/"
      ],
      "metadata": {
        "id": "Fa4VB554X5Kg"
      }
    },
    {
      "cell_type": "code",
      "source": [
        "import matplotlib.pyplot as plt\n",
        "grouped_data = merged_df.groupby('Breakdown_or_Running_Late')['How_Long_Delayed2'].mean()\n",
        "\n",
        "# create a bar plot\n",
        "plt.figure(figsize=(10, 6))\n",
        "plt.bar(grouped_data.index, grouped_data.values)\n",
        "plt.xticks(rotation=90)\n",
        "plt.xlabel('Breakdown_or_Running_Late')\n",
        "plt.ylabel('Average How Long Delayed')\n",
        "plt.title('Average How Long Delayed by Breakdown_or_Running_Late')\n",
        "plt.show()\n"
      ],
      "metadata": {
        "colab": {
          "base_uri": "https://localhost:8080/",
          "height": 642
        },
        "id": "4hMgiUM20nMu",
        "outputId": "1f18fb55-3d70-4df9-c4d0-f1ff09824ab4"
      },
      "execution_count": null,
      "outputs": [
        {
          "output_type": "display_data",
          "data": {
            "text/plain": [
              "<Figure size 1000x600 with 1 Axes>"
            ],
            "image/png": "[encoded data removed]"
          },
          "metadata": {}
        }
      ]
    },
    {
      "cell_type": "code",
      "source": [
        "import matplotlib.pyplot as plt\n",
        "# calculate average of 'How_Long_Delayed' column by reason\n",
        "grouped_data = merged_df.groupby('Reason')['How_Long_Delayed2'].mean()\n",
        "\n",
        "# create a bar plot\n",
        "plt.figure(figsize=(10, 6))\n",
        "plt.bar(grouped_data.index, grouped_data.values)\n",
        "plt.xticks(rotation=90)\n",
        "plt.xlabel('Reason')\n",
        "plt.ylabel('Average How Long Delayed')\n",
        "plt.title('Average How Long Delayed by Reason')\n",
        "\n",
        "# add annotations for average values on each bar\n",
        "for i, v in enumerate(grouped_data.values):\n",
        "    plt.text(i, v, f'{v:.2f}', ha='center', fontweight='bold')\n",
        "\n",
        "plt.show()\n",
        "\n"
      ],
      "metadata": {
        "id": "Arrxe_t84Y1_",
        "colab": {
          "base_uri": "https://localhost:8080/",
          "height": 730
        },
        "outputId": "b2a9ab60-2257-4e60-ed2b-8bc7493ceaa2"
      },
      "execution_count": null,
      "outputs": [
        {
          "output_type": "display_data",
          "data": {
            "text/plain": [
              "<Figure size 1000x600 with 1 Axes>"
            ],
            "image/png": "[encoded data removed]"
          },
          "metadata": {}
        }
      ]
    },
    {
      "cell_type": "code",
      "source": [
        "import matplotlib.pyplot as plt\n",
        "\n",
        "# Create a scatter plot of How_Long_Delayed vs. index\n",
        "plt.scatter(merged_df['Reason'], merged_df['How_Long_Delayed2'])\n",
        "\n",
        "# Set the x-axis label\n",
        "plt.xlabel('Reason')\n",
        "\n",
        "# Set the y-axis label\n",
        "plt.ylabel('How_Long_Delayed')\n",
        "\n",
        "# Set the plot title\n",
        "plt.title('Outliers in How_Long_Delayed column')\n",
        "\n",
        "# Display the plot\n",
        "plt.show()\n"
      ],
      "metadata": {
        "colab": {
          "base_uri": "https://localhost:8080/",
          "height": 472
        },
        "id": "nNLeRXgTqNnZ",
        "outputId": "a0397be4-ac2e-4cd6-a801-4319aa3a91bb"
      },
      "execution_count": null,
      "outputs": [
        {
          "output_type": "display_data",
          "data": {
            "text/plain": [
              "<Figure size 640x480 with 1 Axes>"
            ],
            "image/png": "[encoded data removed]"
          },
          "metadata": {}
        }
      ]
    },
    {
      "cell_type": "code",
      "source": [
        "merged_df['How_Long_Delayed2'].describe()"
      ],
      "metadata": {
        "colab": {
          "base_uri": "https://localhost:8080/"
        },
        "id": "pjQWMESEw-q1",
        "outputId": "698cfabb-cfa8-44a3-b3eb-f8f214c40793"
      },
      "execution_count": null,
      "outputs": [
        {
          "output_type": "execute_result",
          "data": {
            "text/plain": [
              "count    480967.000000\n",
              "mean         35.206756\n",
              "std         322.436808\n",
              "min           0.000000\n",
              "25%          23.000000\n",
              "50%          30.000000\n",
              "75%          38.000000\n",
              "max      202340.000000\n",
              "Name: How_Long_Delayed2, dtype: float64"
            ]
          },
          "metadata": {},
          "execution_count": 75
        }
      ]
    },
    {
      "cell_type": "code",
      "source": [
        "import numpy as np\n",
        "from scipy import stats\n",
        "\n",
        "# calculate z-scores for the How_Long_Delayed2 column\n",
        "z_scores = np.abs(stats.zscore(merged_df['How_Long_Delayed2']))\n",
        "\n",
        "# find indices of outliers using a threshold of 3 standard deviations\n",
        "threshold = 3\n",
        "outlier_indices = np.where(z_scores > threshold)\n",
        "\n",
        "# print the outlier rows with only \"Reason\" and \"How_Long_Delayed2\" columns\n",
        "print(merged_df.iloc[outlier_indices][['Reason', 'How_Long_Delayed2']])\n"
      ],
      "metadata": {
        "id": "aSw4g3xiaGcl",
        "colab": {
          "base_uri": "https://localhost:8080/"
        },
        "outputId": "b0279db5-68ac-485b-bd19-2f7bb1561765"
      },
      "execution_count": null,
      "outputs": [
        {
          "output_type": "stream",
          "name": "stdout",
          "text": [
            "                    Reason  How_Long_Delayed2\n",
            "106          Heavy Traffic             1354.0\n",
            "107          Heavy Traffic             1388.0\n",
            "115          Heavy Traffic             1603.0\n",
            "132          Heavy Traffic             1425.0\n",
            "731          Heavy Traffic             1403.0\n",
            "...                    ...                ...\n",
            "487399       Heavy Traffic             1800.0\n",
            "487928  Weather Conditions             2700.0\n",
            "488635               Other             1800.0\n",
            "489860       Heavy Traffic             1800.0\n",
            "490710               Other             1200.0\n",
            "\n",
            "[185 rows x 2 columns]\n"
          ]
        }
      ]
    },
    {
      "cell_type": "markdown",
      "source": [
        "this is acceptable amount of outlier i will drop these because i think this is miss type or other reasons"
      ],
      "metadata": {
        "id": "nQWBJUkWd81A"
      }
    },
    {
      "cell_type": "code",
      "source": [
        "# drop the outlier rows from the merged_df\n",
        "merged_df = merged_df.drop(merged_df.index[outlier_indices], axis=0)\n",
        "merged_df.isna().sum()"
      ],
      "metadata": {
        "colab": {
          "base_uri": "https://localhost:8080/"
        },
        "id": "PbX7ZEnrf51r",
        "outputId": "46952a71-e347-4848-e602-c68725951eb4"
      },
      "execution_count": null,
      "outputs": [
        {
          "output_type": "execute_result",
          "data": {
            "text/plain": [
              "Busbreakdown_ID                    0\n",
              "Run_Type                           0\n",
              "Bus_No                             0\n",
              "Route_Number                       0\n",
              "Reason                             0\n",
              "Schools_Serviced                   0\n",
              "Occurred_On                        0\n",
              "Created_On                         0\n",
              "Borough                            0\n",
              "Bus_Company_Name                   0\n",
              "Number_Of_Students_On_The_Bus      0\n",
              "Has_Contractor_Notified_Schools    0\n",
              "Has_Contractor_Notified_Parents    0\n",
              "Have_You_Alerted_OPT               0\n",
              "Informed_On                        0\n",
              "Last_Updated_On                    0\n",
              "Breakdown_or_Running_Late          0\n",
              "School_Age_or_PreK                 0\n",
              "school_start_year                  0\n",
              "school_end_year                    0\n",
              "How_Long_Delayed2                  0\n",
              "dtype: int64"
            ]
          },
          "metadata": {},
          "execution_count": 77
        }
      ]
    },
    {
      "cell_type": "code",
      "source": [
        "# calculate average of 'How_Long_Delayed' column by reason\n",
        "grouped_data = merged_df.groupby('Reason')['How_Long_Delayed2'].mean()\n",
        "\n",
        "# create a bar plot\n",
        "plt.figure(figsize=(10, 6))\n",
        "plt.bar(grouped_data.index, grouped_data.values)\n",
        "plt.xticks(rotation=90)\n",
        "plt.xlabel('Reason')\n",
        "plt.ylabel('Average How Long Delayed')\n",
        "plt.title('Average How Long Delayed by Reason')\n",
        "\n",
        "# add annotations for average values on each bar\n",
        "for i, v in enumerate(grouped_data.values):\n",
        "    plt.text(i, v, f'{v:.2f}', ha='center', fontweight='bold')\n",
        "\n",
        "plt.show()\n",
        "\n"
      ],
      "metadata": {
        "colab": {
          "base_uri": "https://localhost:8080/",
          "height": 730
        },
        "id": "z8vtLs_zf-Tc",
        "outputId": "3be3b7bb-0bd5-4e43-9de8-8e6742ba164b"
      },
      "execution_count": null,
      "outputs": [
        {
          "output_type": "display_data",
          "data": {
            "text/plain": [
              "<Figure size 1000x600 with 1 Axes>"
            ],
            "image/png": "[encoded data removed]"
          },
          "metadata": {}
        }
      ]
    },
    {
      "cell_type": "markdown",
      "source": [
        "that is some big differance"
      ],
      "metadata": {
        "id": "Ajfpn8hIn3Mx"
      }
    },
    {
      "cell_type": "code",
      "source": [
        "merged_df.info()"
      ],
      "metadata": {
        "colab": {
          "base_uri": "https://localhost:8080/"
        },
        "id": "qIbNfRCQnx8O",
        "outputId": "dc01d9b7-72c9-48eb-dffd-ee3fca4c305e"
      },
      "execution_count": null,
      "outputs": [
        {
          "output_type": "stream",
          "name": "stdout",
          "text": [
            "<class 'pandas.core.frame.DataFrame'>\n",
            "Int64Index: 480782 entries, 0 to 491089\n",
            "Data columns (total 21 columns):\n",
            " #   Column                           Non-Null Count   Dtype         \n",
            "---  ------                           --------------   -----         \n",
            " 0   Busbreakdown_ID                  480782 non-null  int64         \n",
            " 1   Run_Type                         480782 non-null  object        \n",
            " 2   Bus_No                           480782 non-null  object        \n",
            " 3   Route_Number                     480782 non-null  object        \n",
            " 4   Reason                           480782 non-null  object        \n",
            " 5   Schools_Serviced                 480782 non-null  object        \n",
            " 6   Occurred_On                      480782 non-null  datetime64[ns]\n",
            " 7   Created_On                       480782 non-null  datetime64[ns]\n",
            " 8   Borough                          480782 non-null  object        \n",
            " 9   Bus_Company_Name                 480782 non-null  object        \n",
            " 10  Number_Of_Students_On_The_Bus    480782 non-null  int64         \n",
            " 11  Has_Contractor_Notified_Schools  480782 non-null  object        \n",
            " 12  Has_Contractor_Notified_Parents  480782 non-null  object        \n",
            " 13  Have_You_Alerted_OPT             480782 non-null  object        \n",
            " 14  Informed_On                      480782 non-null  datetime64[ns]\n",
            " 15  Last_Updated_On                  480782 non-null  datetime64[ns]\n",
            " 16  Breakdown_or_Running_Late        480782 non-null  object        \n",
            " 17  School_Age_or_PreK               480782 non-null  object        \n",
            " 18  school_start_year                480782 non-null  int64         \n",
            " 19  school_end_year                  480782 non-null  int64         \n",
            " 20  How_Long_Delayed2                480782 non-null  float64       \n",
            "dtypes: datetime64[ns](4), float64(1), int64(4), object(12)\n",
            "memory usage: 80.7+ MB\n"
          ]
        }
      ]
    },
    {
      "cell_type": "markdown",
      "source": [
        "### taking a output for a visalization\n",
        "but before taking a output change some datatype and splitting year and hours to new column"
      ],
      "metadata": {
        "id": "rg3Je-NQTMQs"
      }
    },
    {
      "cell_type": "code",
      "source": [
        "\n",
        "merged_df.head()"
      ],
      "metadata": {
        "colab": {
          "base_uri": "https://localhost:8080/",
          "height": 455
        },
        "id": "uuYznOvJTaji",
        "outputId": "9003d6d1-ac28-47a2-e583-91533d459d6f"
      },
      "execution_count": null,
      "outputs": [
        {
          "output_type": "execute_result",
          "data": {
            "text/plain": [
              "   Busbreakdown_ID           Run_Type  Bus_No Route_Number         Reason  \\\n",
              "0          1227539  Special Ed AM Run    1260         M351  Heavy Traffic   \n",
              "1          1227540           Pre-K/EI     418            3  Heavy Traffic   \n",
              "2          1227541  Special Ed AM Run    4522         M271  Heavy Traffic   \n",
              "3          1227543  Special Ed AM Run  HT1502         W796  Heavy Traffic   \n",
              "4          1227544  Special Ed AM Run     142         W633  Heavy Traffic   \n",
              "\n",
              "  Schools_Serviced         Occurred_On          Created_On      Borough  \\\n",
              "0            06716 2015-11-05 08:10:00 2015-11-05 08:12:00    Manhattan   \n",
              "1             C445 2015-11-05 08:09:00 2015-11-05 08:13:00        Bronx   \n",
              "2            02699 2015-11-05 08:12:00 2015-11-05 08:14:00    Manhattan   \n",
              "3            75407 2015-11-05 07:58:00 2015-11-05 08:14:00  Westchester   \n",
              "4            75670 2015-11-05 08:24:00 2015-11-05 08:15:00  Westchester   \n",
              "\n",
              "            Bus_Company_Name  ...  Has_Contractor_Notified_Schools  \\\n",
              "0  HOYT TRANSPORTATION CORP.  ...                              Yes   \n",
              "1               G.V.C., LTD.  ...                              Yes   \n",
              "2  RELIANT TRANS, INC. (B232  ...                               No   \n",
              "3  CHILDREN`S TRANS INC. (B2  ...                              Yes   \n",
              "4  MAR-CAN TRANSPORT CO. INC  ...                              Yes   \n",
              "\n",
              "  Has_Contractor_Notified_Parents Have_You_Alerted_OPT         Informed_On  \\\n",
              "0                             Yes                   No 2015-11-05 08:12:00   \n",
              "1                             Yes                  Yes 2015-11-05 08:13:00   \n",
              "2                              No                   No 2015-11-05 08:14:00   \n",
              "3                             Yes                  Yes 2015-11-05 08:14:00   \n",
              "4                              No                   No 2015-11-05 08:15:00   \n",
              "\n",
              "      Last_Updated_On Breakdown_or_Running_Late School_Age_or_PreK  \\\n",
              "0 2015-11-05 08:13:34              Running Late         School-Age   \n",
              "1 2015-11-05 08:13:22              Running Late              Pre-K   \n",
              "2 2015-11-05 08:14:04              Running Late         School-Age   \n",
              "3 2015-11-05 08:14:15              Running Late         School-Age   \n",
              "4 2015-11-05 08:16:53              Running Late         School-Age   \n",
              "\n",
              "  school_start_year  school_end_year  How_Long_Delayed2  \n",
              "0              2015             2016               20.0  \n",
              "1              2015             2016               15.0  \n",
              "2              2015             2016               15.0  \n",
              "3              2015             2016               30.0  \n",
              "4              2015             2016               20.0  \n",
              "\n",
              "[5 rows x 21 columns]"
            ],
            "text/html": [
              "\n",
              "  <div id=\"df-ad74e3bb-823b-4574-a01c-d482fcd6c515\">\n",
              "    <div class=\"colab-df-container\">\n",
              "      <div>\n",
              "<style scoped>\n",
              "    .dataframe tbody tr th:only-of-type {\n",
              "        vertical-align: middle;\n",
              "    }\n",
              "\n",
              "    .dataframe tbody tr th {\n",
              "        vertical-align: top;\n",
              "    }\n",
              "\n",
              "    .dataframe thead th {\n",
              "        text-align: right;\n",
              "    }\n",
              "</style>\n",
              "<table border=\"1\" class=\"dataframe\">\n",
              "  <thead>\n",
              "    <tr style=\"text-align: right;\">\n",
              "      <th></th>\n",
              "      <th>Busbreakdown_ID</th>\n",
              "      <th>Run_Type</th>\n",
              "      <th>Bus_No</th>\n",
              "      <th>Route_Number</th>\n",
              "      <th>Reason</th>\n",
              "      <th>Schools_Serviced</th>\n",
              "      <th>Occurred_On</th>\n",
              "      <th>Created_On</th>\n",
              "      <th>Borough</th>\n",
              "      <th>Bus_Company_Name</th>\n",
              "      <th>...</th>\n",
              "      <th>Has_Contractor_Notified_Schools</th>\n",
              "      <th>Has_Contractor_Notified_Parents</th>\n",
              "      <th>Have_You_Alerted_OPT</th>\n",
              "      <th>Informed_On</th>\n",
              "      <th>Last_Updated_On</th>\n",
              "      <th>Breakdown_or_Running_Late</th>\n",
              "      <th>School_Age_or_PreK</th>\n",
              "      <th>school_start_year</th>\n",
              "      <th>school_end_year</th>\n",
              "      <th>How_Long_Delayed2</th>\n",
              "    </tr>\n",
              "  </thead>\n",
              "  <tbody>\n",
              "    <tr>\n",
              "      <th>0</th>\n",
              "      <td>1227539</td>\n",
              "      <td>Special Ed AM Run</td>\n",
              "      <td>1260</td>\n",
              "      <td>M351</td>\n",
              "      <td>Heavy Traffic</td>\n",
              "      <td>06716</td>\n",
              "      <td>2015-11-05 08:10:00</td>\n",
              "      <td>2015-11-05 08:12:00</td>\n",
              "      <td>Manhattan</td>\n",
              "      <td>HOYT TRANSPORTATION CORP.</td>\n",
              "      <td>...</td>\n",
              "      <td>Yes</td>\n",
              "      <td>Yes</td>\n",
              "      <td>No</td>\n",
              "      <td>2015-11-05 08:12:00</td>\n",
              "      <td>2015-11-05 08:13:34</td>\n",
              "      <td>Running Late</td>\n",
              "      <td>School-Age</td>\n",
              "      <td>2015</td>\n",
              "      <td>2016</td>\n",
              "      <td>20.0</td>\n",
              "    </tr>\n",
              "    <tr>\n",
              "      <th>1</th>\n",
              "      <td>1227540</td>\n",
              "      <td>Pre-K/EI</td>\n",
              "      <td>418</td>\n",
              "      <td>3</td>\n",
              "      <td>Heavy Traffic</td>\n",
              "      <td>C445</td>\n",
              "      <td>2015-11-05 08:09:00</td>\n",
              "      <td>2015-11-05 08:13:00</td>\n",
              "      <td>Bronx</td>\n",
              "      <td>G.V.C., LTD.</td>\n",
              "      <td>...</td>\n",
              "      <td>Yes</td>\n",
              "      <td>Yes</td>\n",
              "      <td>Yes</td>\n",
              "      <td>2015-11-05 08:13:00</td>\n",
              "      <td>2015-11-05 08:13:22</td>\n",
              "      <td>Running Late</td>\n",
              "      <td>Pre-K</td>\n",
              "      <td>2015</td>\n",
              "      <td>2016</td>\n",
              "      <td>15.0</td>\n",
              "    </tr>\n",
              "    <tr>\n",
              "      <th>2</th>\n",
              "      <td>1227541</td>\n",
              "      <td>Special Ed AM Run</td>\n",
              "      <td>4522</td>\n",
              "      <td>M271</td>\n",
              "      <td>Heavy Traffic</td>\n",
              "      <td>02699</td>\n",
              "      <td>2015-11-05 08:12:00</td>\n",
              "      <td>2015-11-05 08:14:00</td>\n",
              "      <td>Manhattan</td>\n",
              "      <td>RELIANT TRANS, INC. (B232</td>\n",
              "      <td>...</td>\n",
              "      <td>No</td>\n",
              "      <td>No</td>\n",
              "      <td>No</td>\n",
              "      <td>2015-11-05 08:14:00</td>\n",
              "      <td>2015-11-05 08:14:04</td>\n",
              "      <td>Running Late</td>\n",
              "      <td>School-Age</td>\n",
              "      <td>2015</td>\n",
              "      <td>2016</td>\n",
              "      <td>15.0</td>\n",
              "    </tr>\n",
              "    <tr>\n",
              "      <th>3</th>\n",
              "      <td>1227543</td>\n",
              "      <td>Special Ed AM Run</td>\n",
              "      <td>HT1502</td>\n",
              "      <td>W796</td>\n",
              "      <td>Heavy Traffic</td>\n",
              "      <td>75407</td>\n",
              "      <td>2015-11-05 07:58:00</td>\n",
              "      <td>2015-11-05 08:14:00</td>\n",
              "      <td>Westchester</td>\n",
              "      <td>CHILDREN`S TRANS INC. (B2</td>\n",
              "      <td>...</td>\n",
              "      <td>Yes</td>\n",
              "      <td>Yes</td>\n",
              "      <td>Yes</td>\n",
              "      <td>2015-11-05 08:14:00</td>\n",
              "      <td>2015-11-05 08:14:15</td>\n",
              "      <td>Running Late</td>\n",
              "      <td>School-Age</td>\n",
              "      <td>2015</td>\n",
              "      <td>2016</td>\n",
              "      <td>30.0</td>\n",
              "    </tr>\n",
              "    <tr>\n",
              "      <th>4</th>\n",
              "      <td>1227544</td>\n",
              "      <td>Special Ed AM Run</td>\n",
              "      <td>142</td>\n",
              "      <td>W633</td>\n",
              "      <td>Heavy Traffic</td>\n",
              "      <td>75670</td>\n",
              "      <td>2015-11-05 08:24:00</td>\n",
              "      <td>2015-11-05 08:15:00</td>\n",
              "      <td>Westchester</td>\n",
              "      <td>MAR-CAN TRANSPORT CO. INC</td>\n",
              "      <td>...</td>\n",
              "      <td>Yes</td>\n",
              "      <td>No</td>\n",
              "      <td>No</td>\n",
              "      <td>2015-11-05 08:15:00</td>\n",
              "      <td>2015-11-05 08:16:53</td>\n",
              "      <td>Running Late</td>\n",
              "      <td>School-Age</td>\n",
              "      <td>2015</td>\n",
              "      <td>2016</td>\n",
              "      <td>20.0</td>\n",
              "    </tr>\n",
              "  </tbody>\n",
              "</table>\n",
              "<p>5 rows × 21 columns</p>\n",
              "</div>\n",
              "      <button class=\"colab-df-convert\" onclick=\"convertToInteractive('df-ad74e3bb-823b-4574-a01c-d482fcd6c515')\"\n",
              "              title=\"Convert this dataframe to an interactive table.\"\n",
              "              style=\"display:none;\">\n",
              "        \n",
              "  <svg xmlns=\"http://www.w3.org/2000/svg\" height=\"24px\"viewBox=\"0 0 24 24\"\n",
              "       width=\"24px\">\n",
              "    <path d=\"M0 0h24v24H0V0z\" fill=\"none\"/>\n",
              "    <path d=\"M18.56 5.44l.94 2.06.94-2.06 2.06-.94-2.06-.94-.94-2.06-.94 2.06-2.06.94zm-11 1L8.5 8.5l.94-2.06 2.06-.94-2.06-.94L8.5 2.5l-.94 2.06-2.06.94zm10 10l.94 2.06.94-2.06 2.06-.94-2.06-.94-.94-2.06-.94 2.06-2.06.94z\"/><path d=\"M17.41 7.96l-1.37-1.37c-.4-.4-.92-.59-1.43-.59-.52 0-1.04.2-1.43.59L10.3 9.45l-7.72 7.72c-.78.78-.78 2.05 0 2.83L4 21.41c.39.39.9.59 1.41.59.51 0 1.02-.2 1.41-.59l7.78-7.78 2.81-2.81c.8-.78.8-2.07 0-2.86zM5.41 20L4 18.59l7.72-7.72 1.47 1.35L5.41 20z\"/>\n",
              "  </svg>\n",
              "      </button>\n",
              "      \n",
              "  <style>\n",
              "    .colab-df-container {\n",
              "      display:flex;\n",
              "      flex-wrap:wrap;\n",
              "      gap: 12px;\n",
              "    }\n",
              "\n",
              "    .colab-df-convert {\n",
              "      background-color: #E8F0FE;\n",
              "      border: none;\n",
              "      border-radius: 50%;\n",
              "      cursor: pointer;\n",
              "      display: none;\n",
              "      fill: #1967D2;\n",
              "      height: 32px;\n",
              "      padding: 0 0 0 0;\n",
              "      width: 32px;\n",
              "    }\n",
              "\n",
              "    .colab-df-convert:hover {\n",
              "      background-color: #E2EBFA;\n",
              "      box-shadow: 0px 1px 2px rgba(60, 64, 67, 0.3), 0px 1px 3px 1px rgba(60, 64, 67, 0.15);\n",
              "      fill: #174EA6;\n",
              "    }\n",
              "\n",
              "    [theme=dark] .colab-df-convert {\n",
              "      background-color: #3B4455;\n",
              "      fill: #D2E3FC;\n",
              "    }\n",
              "\n",
              "    [theme=dark] .colab-df-convert:hover {\n",
              "      background-color: #434B5C;\n",
              "      box-shadow: 0px 1px 3px 1px rgba(0, 0, 0, 0.15);\n",
              "      filter: drop-shadow(0px 1px 2px rgba(0, 0, 0, 0.3));\n",
              "      fill: #FFFFFF;\n",
              "    }\n",
              "  </style>\n",
              "\n",
              "      <script>\n",
              "        const buttonEl =\n",
              "          document.querySelector('#df-ad74e3bb-823b-4574-a01c-d482fcd6c515 button.colab-df-convert');\n",
              "        buttonEl.style.display =\n",
              "          google.colab.kernel.accessAllowed ? 'block' : 'none';\n",
              "\n",
              "        async function convertToInteractive(key) {\n",
              "          const element = document.querySelector('#df-ad74e3bb-823b-4574-a01c-d482fcd6c515');\n",
              "          const dataTable =\n",
              "            await google.colab.kernel.invokeFunction('convertToInteractive',\n",
              "                                                     [key], {});\n",
              "          if (!dataTable) return;\n",
              "\n",
              "          const docLinkHtml = 'Like what you see? Visit the ' +\n",
              "            '<a target=\"_blank\" href=https://colab.research.google.com/notebooks/data_table.ipynb>data table notebook</a>'\n",
              "            + ' to learn more about interactive tables.';\n",
              "          element.innerHTML = '';\n",
              "          dataTable['output_type'] = 'display_data';\n",
              "          await google.colab.output.renderOutput(dataTable, element);\n",
              "          const docLink = document.createElement('div');\n",
              "          docLink.innerHTML = docLinkHtml;\n",
              "          element.appendChild(docLink);\n",
              "        }\n",
              "      </script>\n",
              "    </div>\n",
              "  </div>\n",
              "  "
            ]
          },
          "metadata": {},
          "execution_count": 80
        }
      ]
    },
    {
      "cell_type": "code",
      "source": [
        "merged_df.to_csv('finished_data.csv', index=False)"
      ],
      "metadata": {
        "id": "wU0tnSqRW5G3"
      },
      "execution_count": null,
      "outputs": []
    },
    {
      "cell_type": "markdown",
      "source": [
        "# time for detecting  correlation\n",
        "\n",
        "same with this i put down here i find usefull articles\n",
        "\n",
        "this is the most basic one\n",
        "https://towardsdatascience.com/correlation-is-simple-with-seaborn-and-pandas-28c28e92701e\n",
        "\n",
        "\n",
        "this is great https://medium.com/@outside2SDs/an-overview-of-correlation-measures-between-categorical-and-continuous-variables-4c7f85610365\n",
        "\n",
        "\n",
        "\n",
        "also this is great with examples and explanations:http://www.sefidian.com/2020/08/02/measure-the-correlation-between-numerical-and-categorical-variables-and-the-correlation-between-two-categorical-variables-in-python-chi-square-and-anova/\n",
        "\n"
      ],
      "metadata": {
        "id": "c43hA76gwXLG"
      }
    },
    {
      "cell_type": "code",
      "source": [
        "import pandas as pd\n",
        "import scipy.stats as stats\n",
        "\n",
        "# create a list of categorical column names\n",
        "categorical_columns = ['Run_Type', 'Bus_No', 'Route_Number', 'Schools_Serviced', 'Borough', 'Bus_Company_Name',\n",
        "                       'Has_Contractor_Notified_Schools', 'Has_Contractor_Notified_Parents', 'Have_You_Alerted_OPT',\n",
        "                       'Breakdown_or_Running_Late', 'School_Age_or_PreK']\n",
        "\n",
        "# loop through each categorical column and perform ANOVA test with 'How_Long_Delayed2'\n",
        "for column in categorical_columns:\n",
        "    if column != 'Reason':\n",
        "        anova = stats.f_oneway(*(group['How_Long_Delayed2'] for name, group in merged_df.groupby(column)))\n",
        "        print(f\"ANOVA results for {column}: F-value = {anova.statistic}, p-value = {anova.pvalue}\")\n"
      ],
      "metadata": {
        "id": "kes70U6BwWjg",
        "colab": {
          "base_uri": "https://localhost:8080/"
        },
        "outputId": "818d5cef-2076-472b-9bfa-203f599793b2"
      },
      "execution_count": null,
      "outputs": [
        {
          "output_type": "stream",
          "name": "stdout",
          "text": [
            "ANOVA results for Run_Type: F-value = 1121.959853654371, p-value = 0.0\n",
            "ANOVA results for Bus_No: F-value = 10.670203403581871, p-value = 0.0\n",
            "ANOVA results for Route_Number: F-value = 12.281058163199807, p-value = 0.0\n",
            "ANOVA results for Schools_Serviced: F-value = 8.116445074249082, p-value = 0.0\n",
            "ANOVA results for Borough: F-value = 1969.465622044671, p-value = 0.0\n",
            "ANOVA results for Bus_Company_Name: F-value = 1424.5527265014368, p-value = 0.0\n",
            "ANOVA results for Has_Contractor_Notified_Schools: F-value = 347.4321504660149, p-value = 1.6366992177233881e-77\n",
            "ANOVA results for Has_Contractor_Notified_Parents: F-value = 4813.7421908362185, p-value = 0.0\n",
            "ANOVA results for Have_You_Alerted_OPT: F-value = 0.26026360154061556, p-value = 0.6099393511796929\n",
            "ANOVA results for Breakdown_or_Running_Late: F-value = 0.09824195986884751, p-value = 0.7539497757143949\n",
            "ANOVA results for School_Age_or_PreK: F-value = 118.89131698595949, p-value = 1.114647001135096e-27\n"
          ]
        }
      ]
    },
    {
      "cell_type": "code",
      "source": [
        "# group the data by Reason and select the How_Long_Delayed2 column\n",
        "from scipy.stats import f_oneway\n",
        "grouped_data = merged_df.groupby('Reason')['How_Long_Delayed2'].apply(list)\n",
        "\n",
        "# perform ANOVA between groups\n",
        "f_statistic, p_value = f_oneway(*grouped_data)\n",
        "\n",
        "print(\"F-Statistic:\", f_statistic)\n",
        "print(\"P-Value:\", p_value)"
      ],
      "metadata": {
        "colab": {
          "base_uri": "https://localhost:8080/"
        },
        "id": "RhzH7Lv0UjCd",
        "outputId": "b736f1c2-f31c-4088-e601-a13072dd3567"
      },
      "execution_count": null,
      "outputs": [
        {
          "output_type": "stream",
          "name": "stdout",
          "text": [
            "F-Statistic: 1409.793434169742\n",
            "P-Value: 0.0\n"
          ]
        }
      ]
    },
    {
      "cell_type": "code",
      "source": [
        "# List of categorical variables with p-value < 0.05\n",
        "selected_categorical_vars = ['Run_Type', 'Bus_No', 'Route_Number', 'Schools_Serviced', 'Borough', 'Bus_Company_Name',\n",
        "                             'Has_Contractor_Notified_Schools', 'Has_Contractor_Notified_Parents',\n",
        "                             'Have_You_Alerted_OPT', 'School_Age_or_PreK', 'Reason']\n",
        "\n",
        "# Create a new dataset with selected categorical variabl\n",
        "models_df = merged_df[selected_categorical_vars + ['How_Long_Delayed2']].copy()"
      ],
      "metadata": {
        "id": "TeZ1-RYJVb-K"
      },
      "execution_count": null,
      "outputs": []
    },
    {
      "cell_type": "markdown",
      "source": [
        "#Data preprocessing time\n",
        "\n",
        "\n",
        "this is good for encoding https://towardsdatascience.com/all-about-categorical-variable-encoding-305f3361fd02"
      ],
      "metadata": {
        "id": "ZgJ0dseQVHF_"
      }
    },
    {
      "cell_type": "code",
      "source": [
        "models_df.info()"
      ],
      "metadata": {
        "colab": {
          "base_uri": "https://localhost:8080/"
        },
        "id": "I-lawmbxTfNH",
        "outputId": "26ef9d8e-60d1-41ee-eed0-9b8a716d2204"
      },
      "execution_count": null,
      "outputs": [
        {
          "output_type": "stream",
          "name": "stdout",
          "text": [
            "<class 'pandas.core.frame.DataFrame'>\n",
            "Int64Index: 480782 entries, 0 to 491089\n",
            "Data columns (total 12 columns):\n",
            " #   Column                           Non-Null Count   Dtype  \n",
            "---  ------                           --------------   -----  \n",
            " 0   Run_Type                         480782 non-null  object \n",
            " 1   Bus_No                           480782 non-null  object \n",
            " 2   Route_Number                     480782 non-null  object \n",
            " 3   Schools_Serviced                 480782 non-null  object \n",
            " 4   Borough                          480782 non-null  object \n",
            " 5   Bus_Company_Name                 480782 non-null  object \n",
            " 6   Has_Contractor_Notified_Schools  480782 non-null  object \n",
            " 7   Has_Contractor_Notified_Parents  480782 non-null  object \n",
            " 8   Have_You_Alerted_OPT             480782 non-null  object \n",
            " 9   School_Age_or_PreK               480782 non-null  object \n",
            " 10  Reason                           480782 non-null  object \n",
            " 11  How_Long_Delayed2                480782 non-null  float64\n",
            "dtypes: float64(1), object(11)\n",
            "memory usage: 47.7+ MB\n"
          ]
        }
      ]
    },
    {
      "cell_type": "code",
      "source": [
        "models_df.head()"
      ],
      "metadata": {
        "colab": {
          "base_uri": "https://localhost:8080/",
          "height": 426
        },
        "id": "pkXNN9KST2fW",
        "outputId": "b721bc5f-e887-4931-f049-a8981a07fceb"
      },
      "execution_count": null,
      "outputs": [
        {
          "output_type": "execute_result",
          "data": {
            "text/plain": [
              "            Run_Type  Bus_No Route_Number Schools_Serviced      Borough  \\\n",
              "0  Special Ed AM Run    1260         M351            06716    Manhattan   \n",
              "1           Pre-K/EI     418            3             C445        Bronx   \n",
              "2  Special Ed AM Run    4522         M271            02699    Manhattan   \n",
              "3  Special Ed AM Run  HT1502         W796            75407  Westchester   \n",
              "4  Special Ed AM Run     142         W633            75670  Westchester   \n",
              "\n",
              "            Bus_Company_Name Has_Contractor_Notified_Schools  \\\n",
              "0  HOYT TRANSPORTATION CORP.                             Yes   \n",
              "1               G.V.C., LTD.                             Yes   \n",
              "2  RELIANT TRANS, INC. (B232                              No   \n",
              "3  CHILDREN`S TRANS INC. (B2                             Yes   \n",
              "4  MAR-CAN TRANSPORT CO. INC                             Yes   \n",
              "\n",
              "  Has_Contractor_Notified_Parents Have_You_Alerted_OPT School_Age_or_PreK  \\\n",
              "0                             Yes                   No         School-Age   \n",
              "1                             Yes                  Yes              Pre-K   \n",
              "2                              No                   No         School-Age   \n",
              "3                             Yes                  Yes         School-Age   \n",
              "4                              No                   No         School-Age   \n",
              "\n",
              "          Reason  How_Long_Delayed2  \n",
              "0  Heavy Traffic               20.0  \n",
              "1  Heavy Traffic               15.0  \n",
              "2  Heavy Traffic               15.0  \n",
              "3  Heavy Traffic               30.0  \n",
              "4  Heavy Traffic               20.0  "
            ],
            "text/html": [
              "\n",
              "  <div id=\"df-d155bfc1-635b-4a5f-a4b9-33c783cce158\">\n",
              "    <div class=\"colab-df-container\">\n",
              "      <div>\n",
              "<style scoped>\n",
              "    .dataframe tbody tr th:only-of-type {\n",
              "        vertical-align: middle;\n",
              "    }\n",
              "\n",
              "    .dataframe tbody tr th {\n",
              "        vertical-align: top;\n",
              "    }\n",
              "\n",
              "    .dataframe thead th {\n",
              "        text-align: right;\n",
              "    }\n",
              "</style>\n",
              "<table border=\"1\" class=\"dataframe\">\n",
              "  <thead>\n",
              "    <tr style=\"text-align: right;\">\n",
              "      <th></th>\n",
              "      <th>Run_Type</th>\n",
              "      <th>Bus_No</th>\n",
              "      <th>Route_Number</th>\n",
              "      <th>Schools_Serviced</th>\n",
              "      <th>Borough</th>\n",
              "      <th>Bus_Company_Name</th>\n",
              "      <th>Has_Contractor_Notified_Schools</th>\n",
              "      <th>Has_Contractor_Notified_Parents</th>\n",
              "      <th>Have_You_Alerted_OPT</th>\n",
              "      <th>School_Age_or_PreK</th>\n",
              "      <th>Reason</th>\n",
              "      <th>How_Long_Delayed2</th>\n",
              "    </tr>\n",
              "  </thead>\n",
              "  <tbody>\n",
              "    <tr>\n",
              "      <th>0</th>\n",
              "      <td>Special Ed AM Run</td>\n",
              "      <td>1260</td>\n",
              "      <td>M351</td>\n",
              "      <td>06716</td>\n",
              "      <td>Manhattan</td>\n",
              "      <td>HOYT TRANSPORTATION CORP.</td>\n",
              "      <td>Yes</td>\n",
              "      <td>Yes</td>\n",
              "      <td>No</td>\n",
              "      <td>School-Age</td>\n",
              "      <td>Heavy Traffic</td>\n",
              "      <td>20.0</td>\n",
              "    </tr>\n",
              "    <tr>\n",
              "      <th>1</th>\n",
              "      <td>Pre-K/EI</td>\n",
              "      <td>418</td>\n",
              "      <td>3</td>\n",
              "      <td>C445</td>\n",
              "      <td>Bronx</td>\n",
              "      <td>G.V.C., LTD.</td>\n",
              "      <td>Yes</td>\n",
              "      <td>Yes</td>\n",
              "      <td>Yes</td>\n",
              "      <td>Pre-K</td>\n",
              "      <td>Heavy Traffic</td>\n",
              "      <td>15.0</td>\n",
              "    </tr>\n",
              "    <tr>\n",
              "      <th>2</th>\n",
              "      <td>Special Ed AM Run</td>\n",
              "      <td>4522</td>\n",
              "      <td>M271</td>\n",
              "      <td>02699</td>\n",
              "      <td>Manhattan</td>\n",
              "      <td>RELIANT TRANS, INC. (B232</td>\n",
              "      <td>No</td>\n",
              "      <td>No</td>\n",
              "      <td>No</td>\n",
              "      <td>School-Age</td>\n",
              "      <td>Heavy Traffic</td>\n",
              "      <td>15.0</td>\n",
              "    </tr>\n",
              "    <tr>\n",
              "      <th>3</th>\n",
              "      <td>Special Ed AM Run</td>\n",
              "      <td>HT1502</td>\n",
              "      <td>W796</td>\n",
              "      <td>75407</td>\n",
              "      <td>Westchester</td>\n",
              "      <td>CHILDREN`S TRANS INC. (B2</td>\n",
              "      <td>Yes</td>\n",
              "      <td>Yes</td>\n",
              "      <td>Yes</td>\n",
              "      <td>School-Age</td>\n",
              "      <td>Heavy Traffic</td>\n",
              "      <td>30.0</td>\n",
              "    </tr>\n",
              "    <tr>\n",
              "      <th>4</th>\n",
              "      <td>Special Ed AM Run</td>\n",
              "      <td>142</td>\n",
              "      <td>W633</td>\n",
              "      <td>75670</td>\n",
              "      <td>Westchester</td>\n",
              "      <td>MAR-CAN TRANSPORT CO. INC</td>\n",
              "      <td>Yes</td>\n",
              "      <td>No</td>\n",
              "      <td>No</td>\n",
              "      <td>School-Age</td>\n",
              "      <td>Heavy Traffic</td>\n",
              "      <td>20.0</td>\n",
              "    </tr>\n",
              "  </tbody>\n",
              "</table>\n",
              "</div>\n",
              "      <button class=\"colab-df-convert\" onclick=\"convertToInteractive('df-d155bfc1-635b-4a5f-a4b9-33c783cce158')\"\n",
              "              title=\"Convert this dataframe to an interactive table.\"\n",
              "              style=\"display:none;\">\n",
              "        \n",
              "  <svg xmlns=\"http://www.w3.org/2000/svg\" height=\"24px\"viewBox=\"0 0 24 24\"\n",
              "       width=\"24px\">\n",
              "    <path d=\"M0 0h24v24H0V0z\" fill=\"none\"/>\n",
              "    <path d=\"M18.56 5.44l.94 2.06.94-2.06 2.06-.94-2.06-.94-.94-2.06-.94 2.06-2.06.94zm-11 1L8.5 8.5l.94-2.06 2.06-.94-2.06-.94L8.5 2.5l-.94 2.06-2.06.94zm10 10l.94 2.06.94-2.06 2.06-.94-2.06-.94-.94-2.06-.94 2.06-2.06.94z\"/><path d=\"M17.41 7.96l-1.37-1.37c-.4-.4-.92-.59-1.43-.59-.52 0-1.04.2-1.43.59L10.3 9.45l-7.72 7.72c-.78.78-.78 2.05 0 2.83L4 21.41c.39.39.9.59 1.41.59.51 0 1.02-.2 1.41-.59l7.78-7.78 2.81-2.81c.8-.78.8-2.07 0-2.86zM5.41 20L4 18.59l7.72-7.72 1.47 1.35L5.41 20z\"/>\n",
              "  </svg>\n",
              "      </button>\n",
              "      \n",
              "  <style>\n",
              "    .colab-df-container {\n",
              "      display:flex;\n",
              "      flex-wrap:wrap;\n",
              "      gap: 12px;\n",
              "    }\n",
              "\n",
              "    .colab-df-convert {\n",
              "      background-color: #E8F0FE;\n",
              "      border: none;\n",
              "      border-radius: 50%;\n",
              "      cursor: pointer;\n",
              "      display: none;\n",
              "      fill: #1967D2;\n",
              "      height: 32px;\n",
              "      padding: 0 0 0 0;\n",
              "      width: 32px;\n",
              "    }\n",
              "\n",
              "    .colab-df-convert:hover {\n",
              "      background-color: #E2EBFA;\n",
              "      box-shadow: 0px 1px 2px rgba(60, 64, 67, 0.3), 0px 1px 3px 1px rgba(60, 64, 67, 0.15);\n",
              "      fill: #174EA6;\n",
              "    }\n",
              "\n",
              "    [theme=dark] .colab-df-convert {\n",
              "      background-color: #3B4455;\n",
              "      fill: #D2E3FC;\n",
              "    }\n",
              "\n",
              "    [theme=dark] .colab-df-convert:hover {\n",
              "      background-color: #434B5C;\n",
              "      box-shadow: 0px 1px 3px 1px rgba(0, 0, 0, 0.15);\n",
              "      filter: drop-shadow(0px 1px 2px rgba(0, 0, 0, 0.3));\n",
              "      fill: #FFFFFF;\n",
              "    }\n",
              "  </style>\n",
              "\n",
              "      <script>\n",
              "        const buttonEl =\n",
              "          document.querySelector('#df-d155bfc1-635b-4a5f-a4b9-33c783cce158 button.colab-df-convert');\n",
              "        buttonEl.style.display =\n",
              "          google.colab.kernel.accessAllowed ? 'block' : 'none';\n",
              "\n",
              "        async function convertToInteractive(key) {\n",
              "          const element = document.querySelector('#df-d155bfc1-635b-4a5f-a4b9-33c783cce158');\n",
              "          const dataTable =\n",
              "            await google.colab.kernel.invokeFunction('convertToInteractive',\n",
              "                                                     [key], {});\n",
              "          if (!dataTable) return;\n",
              "\n",
              "          const docLinkHtml = 'Like what you see? Visit the ' +\n",
              "            '<a target=\"_blank\" href=https://colab.research.google.com/notebooks/data_table.ipynb>data table notebook</a>'\n",
              "            + ' to learn more about interactive tables.';\n",
              "          element.innerHTML = '';\n",
              "          dataTable['output_type'] = 'display_data';\n",
              "          await google.colab.output.renderOutput(dataTable, element);\n",
              "          const docLink = document.createElement('div');\n",
              "          docLink.innerHTML = docLinkHtml;\n",
              "          element.appendChild(docLink);\n",
              "        }\n",
              "      </script>\n",
              "    </div>\n",
              "  </div>\n",
              "  "
            ]
          },
          "metadata": {},
          "execution_count": 82
        }
      ]
    },
    {
      "cell_type": "code",
      "source": [
        "models_df.value_counts('Bus_Company_Name')"
      ],
      "metadata": {
        "colab": {
          "base_uri": "https://localhost:8080/"
        },
        "id": "f_hZY7IWUe3g",
        "outputId": "8bc85463-fd0b-4c1a-c391-0bc544d5d0da"
      },
      "execution_count": null,
      "outputs": [
        {
          "output_type": "execute_result",
          "data": {
            "text/plain": [
              "Bus_Company_Name\n",
              "LEESEL TRANSPORTATION CORP (B2192)     67576\n",
              "PIONEER TRANSPORTATION CORP            33212\n",
              "G.V.C., LTD.                           28501\n",
              "BORO TRANSIT, INC.                     22788\n",
              "RELIANT TRANSPORTATION, INC (B2321)    21915\n",
              "                                       ...  \n",
              "Phillip Bus Service                        1\n",
              "Ms.                                        1\n",
              "IY                                         1\n",
              "IC BUS INC.                                1\n",
              "phillip bus service                        1\n",
              "Length: 132, dtype: int64"
            ]
          },
          "metadata": {},
          "execution_count": 83
        }
      ]
    },
    {
      "cell_type": "markdown",
      "source": [
        "+ Runtype label encoding\n",
        "+ Bus_No mean encoding\n",
        "+ Route_Number mean encoding\n",
        "+ Schools_Serviced mean  \n",
        "+ Borough label encoding\n",
        "+ Bus_Company_Name mean encoding\n",
        "+ Has_Contractor_Notified_Schools One hot encoding\n",
        "+ Has_Contractor_Notified_Parents\tone hot encoding\n",
        "+ Have_You_Alerted_OPT one hot encoding\n",
        "+ School_Age_or_PreK one hot encoding\n",
        "+ Reason label encoding\n",
        "\n",
        "\n",
        "this is the list of encodings\n"
      ],
      "metadata": {
        "id": "QKtoGTO1DrMQ"
      }
    },
    {
      "cell_type": "code",
      "source": [
        "! pip install --upgrade category_encoders"
      ],
      "metadata": {
        "colab": {
          "base_uri": "https://localhost:8080/"
        },
        "id": "U913mCLhGamd",
        "outputId": "5064ff4c-e06b-42ae-c94f-4d25d50bbc26"
      },
      "execution_count": null,
      "outputs": [
        {
          "output_type": "stream",
          "name": "stdout",
          "text": [
            "Looking in indexes: https://pypi.org/simple, https://us-python.pkg.dev/colab-wheels/public/simple/\n",
            "Collecting category_encoders\n",
            "  Downloading category_encoders-2.6.1-py2.py3-none-any.whl (81 kB)\n",
            "\u001b[2K     \u001b[90m━━━━━━━━━━━━━━━━━━━━━━━━━━━━━━━━━━━━━━━━\u001b[0m \u001b[32m81.9/81.9 kB\u001b[0m \u001b[31m4.0 MB/s\u001b[0m eta \u001b[36m0:00:00\u001b[0m\n",
            "\u001b[?25hRequirement already satisfied: numpy>=1.14.0 in /usr/local/lib/python3.10/dist-packages (from category_encoders) (1.22.4)\n",
            "Requirement already satisfied: scikit-learn>=0.20.0 in /usr/local/lib/python3.10/dist-packages (from category_encoders) (1.2.2)\n",
            "Requirement already satisfied: scipy>=1.0.0 in /usr/local/lib/python3.10/dist-packages (from category_encoders) (1.10.1)\n",
            "Requirement already satisfied: statsmodels>=0.9.0 in /usr/local/lib/python3.10/dist-packages (from category_encoders) (0.13.5)\n",
            "Requirement already satisfied: pandas>=1.0.5 in /usr/local/lib/python3.10/dist-packages (from category_encoders) (1.5.3)\n",
            "Requirement already satisfied: patsy>=0.5.1 in /usr/local/lib/python3.10/dist-packages (from category_encoders) (0.5.3)\n",
            "Requirement already satisfied: python-dateutil>=2.8.1 in /usr/local/lib/python3.10/dist-packages (from pandas>=1.0.5->category_encoders) (2.8.2)\n",
            "Requirement already satisfied: pytz>=2020.1 in /usr/local/lib/python3.10/dist-packages (from pandas>=1.0.5->category_encoders) (2022.7.1)\n",
            "Requirement already satisfied: six in /usr/local/lib/python3.10/dist-packages (from patsy>=0.5.1->category_encoders) (1.16.0)\n",
            "Requirement already satisfied: joblib>=1.1.1 in /usr/local/lib/python3.10/dist-packages (from scikit-learn>=0.20.0->category_encoders) (1.2.0)\n",
            "Requirement already satisfied: threadpoolctl>=2.0.0 in /usr/local/lib/python3.10/dist-packages (from scikit-learn>=0.20.0->category_encoders) (3.1.0)\n",
            "Requirement already satisfied: packaging>=21.3 in /usr/local/lib/python3.10/dist-packages (from statsmodels>=0.9.0->category_encoders) (23.1)\n",
            "Installing collected packages: category_encoders\n",
            "Successfully installed category_encoders-2.6.1\n"
          ]
        }
      ]
    },
    {
      "cell_type": "code",
      "source": [
        "from sklearn.preprocessing import LabelEncoder, OneHotEncoder\n",
        "from category_encoders import TargetEncoder\n",
        "\n",
        "# Label Encoding\n",
        "label_encoder = LabelEncoder()\n",
        "models_df['Run_Type'] = label_encoder.fit_transform(models_df['Run_Type'])\n",
        "models_df['Borough'] = label_encoder.fit_transform(models_df['Borough'])\n",
        "models_df['Reason'] = label_encoder.fit_transform(models_df['Reason'])\n",
        "\n",
        "# Target Encoding\n",
        "target_encoder = TargetEncoder()\n",
        "models_df['Bus_No'] = target_encoder.fit_transform(models_df['Bus_No'], models_df['How_Long_Delayed2'])\n",
        "models_df['Route_Number'] = target_encoder.fit_transform(models_df['Route_Number'], models_df['How_Long_Delayed2'])\n",
        "models_df['Schools_Serviced'] = target_encoder.fit_transform(models_df['Schools_Serviced'], models_df['How_Long_Delayed2'])\n",
        "models_df['Bus_Company_Name'] = target_encoder.fit_transform(models_df['Bus_Company_Name'], models_df['How_Long_Delayed2'])\n"
      ],
      "metadata": {
        "id": "dVXMoVe2Uk6s"
      },
      "execution_count": null,
      "outputs": []
    },
    {
      "cell_type": "code",
      "source": [
        "# One-Hot Encoding using get_dummies\n",
        "models_df = pd.get_dummies(models_df, columns=['Has_Contractor_Notified_Schools',\n",
        "                                               'Has_Contractor_Notified_Parents',\n",
        "                                               'Have_You_Alerted_OPT',\n",
        "                                               'School_Age_or_PreK'], drop_first=True)"
      ],
      "metadata": {
        "id": "724ZTRtW5RgI"
      },
      "execution_count": null,
      "outputs": []
    },
    {
      "cell_type": "code",
      "source": [
        "models_df.head()"
      ],
      "metadata": {
        "colab": {
          "base_uri": "https://localhost:8080/",
          "height": 287
        },
        "id": "nwFKYpO5mdsT",
        "outputId": "456a5e55-e411-4faf-aebf-0f78b40d0e96"
      },
      "execution_count": null,
      "outputs": [
        {
          "output_type": "execute_result",
          "data": {
            "text/plain": [
              "   Run_Type     Bus_No  Route_Number  Schools_Serviced  Borough  \\\n",
              "0         7  35.913115     28.926500         44.588950        4   \n",
              "1         3  24.504225     24.511791         24.754882        1   \n",
              "2         7  29.127892     29.698858         38.626478        4   \n",
              "3         7  32.632551     43.779185         31.656151       10   \n",
              "4         7  29.047068     34.595809         28.630233       10   \n",
              "\n",
              "   Bus_Company_Name  Reason  How_Long_Delayed2  \\\n",
              "0         18.508876       3               20.0   \n",
              "1         24.572699       3               15.0   \n",
              "2         22.292741       3               15.0   \n",
              "3         33.744186       3               30.0   \n",
              "4         31.607760       3               20.0   \n",
              "\n",
              "   Has_Contractor_Notified_Schools_Yes  Has_Contractor_Notified_Parents_Yes  \\\n",
              "0                                    1                                    1   \n",
              "1                                    1                                    1   \n",
              "2                                    0                                    0   \n",
              "3                                    1                                    1   \n",
              "4                                    1                                    0   \n",
              "\n",
              "   Have_You_Alerted_OPT_Yes  School_Age_or_PreK_School-Age  \n",
              "0                         0                              1  \n",
              "1                         1                              0  \n",
              "2                         0                              1  \n",
              "3                         1                              1  \n",
              "4                         0                              1  "
            ],
            "text/html": [
              "\n",
              "  <div id=\"df-d66c30e1-2be8-426a-9856-a2b051f500b3\">\n",
              "    <div class=\"colab-df-container\">\n",
              "      <div>\n",
              "<style scoped>\n",
              "    .dataframe tbody tr th:only-of-type {\n",
              "        vertical-align: middle;\n",
              "    }\n",
              "\n",
              "    .dataframe tbody tr th {\n",
              "        vertical-align: top;\n",
              "    }\n",
              "\n",
              "    .dataframe thead th {\n",
              "        text-align: right;\n",
              "    }\n",
              "</style>\n",
              "<table border=\"1\" class=\"dataframe\">\n",
              "  <thead>\n",
              "    <tr style=\"text-align: right;\">\n",
              "      <th></th>\n",
              "      <th>Run_Type</th>\n",
              "      <th>Bus_No</th>\n",
              "      <th>Route_Number</th>\n",
              "      <th>Schools_Serviced</th>\n",
              "      <th>Borough</th>\n",
              "      <th>Bus_Company_Name</th>\n",
              "      <th>Reason</th>\n",
              "      <th>How_Long_Delayed2</th>\n",
              "      <th>Has_Contractor_Notified_Schools_Yes</th>\n",
              "      <th>Has_Contractor_Notified_Parents_Yes</th>\n",
              "      <th>Have_You_Alerted_OPT_Yes</th>\n",
              "      <th>School_Age_or_PreK_School-Age</th>\n",
              "    </tr>\n",
              "  </thead>\n",
              "  <tbody>\n",
              "    <tr>\n",
              "      <th>0</th>\n",
              "      <td>7</td>\n",
              "      <td>35.913115</td>\n",
              "      <td>28.926500</td>\n",
              "      <td>44.588950</td>\n",
              "      <td>4</td>\n",
              "      <td>18.508876</td>\n",
              "      <td>3</td>\n",
              "      <td>20.0</td>\n",
              "      <td>1</td>\n",
              "      <td>1</td>\n",
              "      <td>0</td>\n",
              "      <td>1</td>\n",
              "    </tr>\n",
              "    <tr>\n",
              "      <th>1</th>\n",
              "      <td>3</td>\n",
              "      <td>24.504225</td>\n",
              "      <td>24.511791</td>\n",
              "      <td>24.754882</td>\n",
              "      <td>1</td>\n",
              "      <td>24.572699</td>\n",
              "      <td>3</td>\n",
              "      <td>15.0</td>\n",
              "      <td>1</td>\n",
              "      <td>1</td>\n",
              "      <td>1</td>\n",
              "      <td>0</td>\n",
              "    </tr>\n",
              "    <tr>\n",
              "      <th>2</th>\n",
              "      <td>7</td>\n",
              "      <td>29.127892</td>\n",
              "      <td>29.698858</td>\n",
              "      <td>38.626478</td>\n",
              "      <td>4</td>\n",
              "      <td>22.292741</td>\n",
              "      <td>3</td>\n",
              "      <td>15.0</td>\n",
              "      <td>0</td>\n",
              "      <td>0</td>\n",
              "      <td>0</td>\n",
              "      <td>1</td>\n",
              "    </tr>\n",
              "    <tr>\n",
              "      <th>3</th>\n",
              "      <td>7</td>\n",
              "      <td>32.632551</td>\n",
              "      <td>43.779185</td>\n",
              "      <td>31.656151</td>\n",
              "      <td>10</td>\n",
              "      <td>33.744186</td>\n",
              "      <td>3</td>\n",
              "      <td>30.0</td>\n",
              "      <td>1</td>\n",
              "      <td>1</td>\n",
              "      <td>1</td>\n",
              "      <td>1</td>\n",
              "    </tr>\n",
              "    <tr>\n",
              "      <th>4</th>\n",
              "      <td>7</td>\n",
              "      <td>29.047068</td>\n",
              "      <td>34.595809</td>\n",
              "      <td>28.630233</td>\n",
              "      <td>10</td>\n",
              "      <td>31.607760</td>\n",
              "      <td>3</td>\n",
              "      <td>20.0</td>\n",
              "      <td>1</td>\n",
              "      <td>0</td>\n",
              "      <td>0</td>\n",
              "      <td>1</td>\n",
              "    </tr>\n",
              "  </tbody>\n",
              "</table>\n",
              "</div>\n",
              "      <button class=\"colab-df-convert\" onclick=\"convertToInteractive('df-d66c30e1-2be8-426a-9856-a2b051f500b3')\"\n",
              "              title=\"Convert this dataframe to an interactive table.\"\n",
              "              style=\"display:none;\">\n",
              "        \n",
              "  <svg xmlns=\"http://www.w3.org/2000/svg\" height=\"24px\"viewBox=\"0 0 24 24\"\n",
              "       width=\"24px\">\n",
              "    <path d=\"M0 0h24v24H0V0z\" fill=\"none\"/>\n",
              "    <path d=\"M18.56 5.44l.94 2.06.94-2.06 2.06-.94-2.06-.94-.94-2.06-.94 2.06-2.06.94zm-11 1L8.5 8.5l.94-2.06 2.06-.94-2.06-.94L8.5 2.5l-.94 2.06-2.06.94zm10 10l.94 2.06.94-2.06 2.06-.94-2.06-.94-.94-2.06-.94 2.06-2.06.94z\"/><path d=\"M17.41 7.96l-1.37-1.37c-.4-.4-.92-.59-1.43-.59-.52 0-1.04.2-1.43.59L10.3 9.45l-7.72 7.72c-.78.78-.78 2.05 0 2.83L4 21.41c.39.39.9.59 1.41.59.51 0 1.02-.2 1.41-.59l7.78-7.78 2.81-2.81c.8-.78.8-2.07 0-2.86zM5.41 20L4 18.59l7.72-7.72 1.47 1.35L5.41 20z\"/>\n",
              "  </svg>\n",
              "      </button>\n",
              "      \n",
              "  <style>\n",
              "    .colab-df-container {\n",
              "      display:flex;\n",
              "      flex-wrap:wrap;\n",
              "      gap: 12px;\n",
              "    }\n",
              "\n",
              "    .colab-df-convert {\n",
              "      background-color: #E8F0FE;\n",
              "      border: none;\n",
              "      border-radius: 50%;\n",
              "      cursor: pointer;\n",
              "      display: none;\n",
              "      fill: #1967D2;\n",
              "      height: 32px;\n",
              "      padding: 0 0 0 0;\n",
              "      width: 32px;\n",
              "    }\n",
              "\n",
              "    .colab-df-convert:hover {\n",
              "      background-color: #E2EBFA;\n",
              "      box-shadow: 0px 1px 2px rgba(60, 64, 67, 0.3), 0px 1px 3px 1px rgba(60, 64, 67, 0.15);\n",
              "      fill: #174EA6;\n",
              "    }\n",
              "\n",
              "    [theme=dark] .colab-df-convert {\n",
              "      background-color: #3B4455;\n",
              "      fill: #D2E3FC;\n",
              "    }\n",
              "\n",
              "    [theme=dark] .colab-df-convert:hover {\n",
              "      background-color: #434B5C;\n",
              "      box-shadow: 0px 1px 3px 1px rgba(0, 0, 0, 0.15);\n",
              "      filter: drop-shadow(0px 1px 2px rgba(0, 0, 0, 0.3));\n",
              "      fill: #FFFFFF;\n",
              "    }\n",
              "  </style>\n",
              "\n",
              "      <script>\n",
              "        const buttonEl =\n",
              "          document.querySelector('#df-d66c30e1-2be8-426a-9856-a2b051f500b3 button.colab-df-convert');\n",
              "        buttonEl.style.display =\n",
              "          google.colab.kernel.accessAllowed ? 'block' : 'none';\n",
              "\n",
              "        async function convertToInteractive(key) {\n",
              "          const element = document.querySelector('#df-d66c30e1-2be8-426a-9856-a2b051f500b3');\n",
              "          const dataTable =\n",
              "            await google.colab.kernel.invokeFunction('convertToInteractive',\n",
              "                                                     [key], {});\n",
              "          if (!dataTable) return;\n",
              "\n",
              "          const docLinkHtml = 'Like what you see? Visit the ' +\n",
              "            '<a target=\"_blank\" href=https://colab.research.google.com/notebooks/data_table.ipynb>data table notebook</a>'\n",
              "            + ' to learn more about interactive tables.';\n",
              "          element.innerHTML = '';\n",
              "          dataTable['output_type'] = 'display_data';\n",
              "          await google.colab.output.renderOutput(dataTable, element);\n",
              "          const docLink = document.createElement('div');\n",
              "          docLink.innerHTML = docLinkHtml;\n",
              "          element.appendChild(docLink);\n",
              "        }\n",
              "      </script>\n",
              "    </div>\n",
              "  </div>\n",
              "  "
            ]
          },
          "metadata": {},
          "execution_count": 87
        }
      ]
    },
    {
      "cell_type": "code",
      "source": [
        "\n",
        "from sklearn.model_selection import train_test_split\n",
        "X_train, X_test, y_train, y_test = train_test_split(models_df.drop('How_Long_Delayed2',axis=1), models_df['How_Long_Delayed2'], test_size=0.33, random_state=42)"
      ],
      "metadata": {
        "id": "NL1gOrAjmqPN"
      },
      "execution_count": null,
      "outputs": []
    },
    {
      "cell_type": "code",
      "source": [
        "X_train.head()"
      ],
      "metadata": {
        "colab": {
          "base_uri": "https://localhost:8080/",
          "height": 287
        },
        "id": "UAXRPqJq9KW7",
        "outputId": "a8d0a8a8-fbc7-44a6-a2d3-9b01eb8f3ece"
      },
      "execution_count": null,
      "outputs": [
        {
          "output_type": "execute_result",
          "data": {
            "text/plain": [
              "        Run_Type     Bus_No  Route_Number  Schools_Serviced  Borough  \\\n",
              "220506         3  26.730311     23.222030         25.982569        1   \n",
              "412289         7  33.362881     35.018430         35.099129       10   \n",
              "63579          0  27.929325     31.048908         24.587824        7   \n",
              "330466         7  23.840824     23.744361         28.182082        7   \n",
              "157784         7  37.446779     35.996212         36.451031        4   \n",
              "\n",
              "        Bus_Company_Name  Reason  Has_Contractor_Notified_Schools_Yes  \\\n",
              "220506         24.572699       3                                    0   \n",
              "412289         31.979660       6                                    0   \n",
              "63579          26.545077       5                                    0   \n",
              "330466         25.787401       5                                    0   \n",
              "157784         35.648043       3                                    1   \n",
              "\n",
              "        Has_Contractor_Notified_Parents_Yes  Have_You_Alerted_OPT_Yes  \\\n",
              "220506                                    0                         0   \n",
              "412289                                    1                         0   \n",
              "63579                                     0                         0   \n",
              "330466                                    0                         0   \n",
              "157784                                    1                         0   \n",
              "\n",
              "        School_Age_or_PreK_School-Age  \n",
              "220506                              0  \n",
              "412289                              1  \n",
              "63579                               1  \n",
              "330466                              1  \n",
              "157784                              1  "
            ],
            "text/html": [
              "\n",
              "  <div id=\"df-a288e54d-f4ec-4086-b138-6e9aa73fe737\">\n",
              "    <div class=\"colab-df-container\">\n",
              "      <div>\n",
              "<style scoped>\n",
              "    .dataframe tbody tr th:only-of-type {\n",
              "        vertical-align: middle;\n",
              "    }\n",
              "\n",
              "    .dataframe tbody tr th {\n",
              "        vertical-align: top;\n",
              "    }\n",
              "\n",
              "    .dataframe thead th {\n",
              "        text-align: right;\n",
              "    }\n",
              "</style>\n",
              "<table border=\"1\" class=\"dataframe\">\n",
              "  <thead>\n",
              "    <tr style=\"text-align: right;\">\n",
              "      <th></th>\n",
              "      <th>Run_Type</th>\n",
              "      <th>Bus_No</th>\n",
              "      <th>Route_Number</th>\n",
              "      <th>Schools_Serviced</th>\n",
              "      <th>Borough</th>\n",
              "      <th>Bus_Company_Name</th>\n",
              "      <th>Reason</th>\n",
              "      <th>Has_Contractor_Notified_Schools_Yes</th>\n",
              "      <th>Has_Contractor_Notified_Parents_Yes</th>\n",
              "      <th>Have_You_Alerted_OPT_Yes</th>\n",
              "      <th>School_Age_or_PreK_School-Age</th>\n",
              "    </tr>\n",
              "  </thead>\n",
              "  <tbody>\n",
              "    <tr>\n",
              "      <th>220506</th>\n",
              "      <td>3</td>\n",
              "      <td>26.730311</td>\n",
              "      <td>23.222030</td>\n",
              "      <td>25.982569</td>\n",
              "      <td>1</td>\n",
              "      <td>24.572699</td>\n",
              "      <td>3</td>\n",
              "      <td>0</td>\n",
              "      <td>0</td>\n",
              "      <td>0</td>\n",
              "      <td>0</td>\n",
              "    </tr>\n",
              "    <tr>\n",
              "      <th>412289</th>\n",
              "      <td>7</td>\n",
              "      <td>33.362881</td>\n",
              "      <td>35.018430</td>\n",
              "      <td>35.099129</td>\n",
              "      <td>10</td>\n",
              "      <td>31.979660</td>\n",
              "      <td>6</td>\n",
              "      <td>0</td>\n",
              "      <td>1</td>\n",
              "      <td>0</td>\n",
              "      <td>1</td>\n",
              "    </tr>\n",
              "    <tr>\n",
              "      <th>63579</th>\n",
              "      <td>0</td>\n",
              "      <td>27.929325</td>\n",
              "      <td>31.048908</td>\n",
              "      <td>24.587824</td>\n",
              "      <td>7</td>\n",
              "      <td>26.545077</td>\n",
              "      <td>5</td>\n",
              "      <td>0</td>\n",
              "      <td>0</td>\n",
              "      <td>0</td>\n",
              "      <td>1</td>\n",
              "    </tr>\n",
              "    <tr>\n",
              "      <th>330466</th>\n",
              "      <td>7</td>\n",
              "      <td>23.840824</td>\n",
              "      <td>23.744361</td>\n",
              "      <td>28.182082</td>\n",
              "      <td>7</td>\n",
              "      <td>25.787401</td>\n",
              "      <td>5</td>\n",
              "      <td>0</td>\n",
              "      <td>0</td>\n",
              "      <td>0</td>\n",
              "      <td>1</td>\n",
              "    </tr>\n",
              "    <tr>\n",
              "      <th>157784</th>\n",
              "      <td>7</td>\n",
              "      <td>37.446779</td>\n",
              "      <td>35.996212</td>\n",
              "      <td>36.451031</td>\n",
              "      <td>4</td>\n",
              "      <td>35.648043</td>\n",
              "      <td>3</td>\n",
              "      <td>1</td>\n",
              "      <td>1</td>\n",
              "      <td>0</td>\n",
              "      <td>1</td>\n",
              "    </tr>\n",
              "  </tbody>\n",
              "</table>\n",
              "</div>\n",
              "      <button class=\"colab-df-convert\" onclick=\"convertToInteractive('df-a288e54d-f4ec-4086-b138-6e9aa73fe737')\"\n",
              "              title=\"Convert this dataframe to an interactive table.\"\n",
              "              style=\"display:none;\">\n",
              "        \n",
              "  <svg xmlns=\"http://www.w3.org/2000/svg\" height=\"24px\"viewBox=\"0 0 24 24\"\n",
              "       width=\"24px\">\n",
              "    <path d=\"M0 0h24v24H0V0z\" fill=\"none\"/>\n",
              "    <path d=\"M18.56 5.44l.94 2.06.94-2.06 2.06-.94-2.06-.94-.94-2.06-.94 2.06-2.06.94zm-11 1L8.5 8.5l.94-2.06 2.06-.94-2.06-.94L8.5 2.5l-.94 2.06-2.06.94zm10 10l.94 2.06.94-2.06 2.06-.94-2.06-.94-.94-2.06-.94 2.06-2.06.94z\"/><path d=\"M17.41 7.96l-1.37-1.37c-.4-.4-.92-.59-1.43-.59-.52 0-1.04.2-1.43.59L10.3 9.45l-7.72 7.72c-.78.78-.78 2.05 0 2.83L4 21.41c.39.39.9.59 1.41.59.51 0 1.02-.2 1.41-.59l7.78-7.78 2.81-2.81c.8-.78.8-2.07 0-2.86zM5.41 20L4 18.59l7.72-7.72 1.47 1.35L5.41 20z\"/>\n",
              "  </svg>\n",
              "      </button>\n",
              "      \n",
              "  <style>\n",
              "    .colab-df-container {\n",
              "      display:flex;\n",
              "      flex-wrap:wrap;\n",
              "      gap: 12px;\n",
              "    }\n",
              "\n",
              "    .colab-df-convert {\n",
              "      background-color: #E8F0FE;\n",
              "      border: none;\n",
              "      border-radius: 50%;\n",
              "      cursor: pointer;\n",
              "      display: none;\n",
              "      fill: #1967D2;\n",
              "      height: 32px;\n",
              "      padding: 0 0 0 0;\n",
              "      width: 32px;\n",
              "    }\n",
              "\n",
              "    .colab-df-convert:hover {\n",
              "      background-color: #E2EBFA;\n",
              "      box-shadow: 0px 1px 2px rgba(60, 64, 67, 0.3), 0px 1px 3px 1px rgba(60, 64, 67, 0.15);\n",
              "      fill: #174EA6;\n",
              "    }\n",
              "\n",
              "    [theme=dark] .colab-df-convert {\n",
              "      background-color: #3B4455;\n",
              "      fill: #D2E3FC;\n",
              "    }\n",
              "\n",
              "    [theme=dark] .colab-df-convert:hover {\n",
              "      background-color: #434B5C;\n",
              "      box-shadow: 0px 1px 3px 1px rgba(0, 0, 0, 0.15);\n",
              "      filter: drop-shadow(0px 1px 2px rgba(0, 0, 0, 0.3));\n",
              "      fill: #FFFFFF;\n",
              "    }\n",
              "  </style>\n",
              "\n",
              "      <script>\n",
              "        const buttonEl =\n",
              "          document.querySelector('#df-a288e54d-f4ec-4086-b138-6e9aa73fe737 button.colab-df-convert');\n",
              "        buttonEl.style.display =\n",
              "          google.colab.kernel.accessAllowed ? 'block' : 'none';\n",
              "\n",
              "        async function convertToInteractive(key) {\n",
              "          const element = document.querySelector('#df-a288e54d-f4ec-4086-b138-6e9aa73fe737');\n",
              "          const dataTable =\n",
              "            await google.colab.kernel.invokeFunction('convertToInteractive',\n",
              "                                                     [key], {});\n",
              "          if (!dataTable) return;\n",
              "\n",
              "          const docLinkHtml = 'Like what you see? Visit the ' +\n",
              "            '<a target=\"_blank\" href=https://colab.research.google.com/notebooks/data_table.ipynb>data table notebook</a>'\n",
              "            + ' to learn more about interactive tables.';\n",
              "          element.innerHTML = '';\n",
              "          dataTable['output_type'] = 'display_data';\n",
              "          await google.colab.output.renderOutput(dataTable, element);\n",
              "          const docLink = document.createElement('div');\n",
              "          docLink.innerHTML = docLinkHtml;\n",
              "          element.appendChild(docLink);\n",
              "        }\n",
              "      </script>\n",
              "    </div>\n",
              "  </div>\n",
              "  "
            ]
          },
          "metadata": {},
          "execution_count": 89
        }
      ]
    },
    {
      "cell_type": "code",
      "source": [
        "y_train.head()"
      ],
      "metadata": {
        "colab": {
          "base_uri": "https://localhost:8080/"
        },
        "id": "KabkDqMr9cEa",
        "outputId": "71aabfff-994f-4b66-fac0-a8d6646d9524"
      },
      "execution_count": null,
      "outputs": [
        {
          "output_type": "execute_result",
          "data": {
            "text/plain": [
              "220506    30.0\n",
              "412289    23.0\n",
              "63579     20.0\n",
              "330466    23.0\n",
              "157784    23.0\n",
              "Name: How_Long_Delayed2, dtype: float64"
            ]
          },
          "metadata": {},
          "execution_count": 90
        }
      ]
    },
    {
      "cell_type": "markdown",
      "source": [
        "# at this point i need to build multiple models on it and evaluate and define best one in it\n",
        "+ this is good article https://medium.com/bitgrit-data-science-publication/10-tips-to-improve-your-regression-modeling-f1af297c505a"
      ],
      "metadata": {
        "id": "0TO7TxKpQqES"
      }
    },
    {
      "cell_type": "code",
      "source": [
        "#build a two  basic model\n",
        "from sklearn.linear_model import LinearRegression\n",
        "from sklearn.metrics import mean_squared_error, r2_score\n",
        "# Initialize the Linear Regression model\n",
        "model = LinearRegression()\n",
        "\n",
        "# Fit the model to the training data\n",
        "model.fit(X_train, y_train)\n",
        "\n",
        "# Make predictions on the test set\n",
        "y_pred = model.predict(X_test)\n",
        "\n",
        "# Evaluate the model\n",
        "mse = mean_squared_error(y_test, y_pred)\n",
        "r2 = r2_score(y_test, y_pred)\n",
        "print('Mean Squared Error:', mse)\n",
        "print('R-squared:', r2)"
      ],
      "metadata": {
        "colab": {
          "base_uri": "https://localhost:8080/"
        },
        "id": "VhpAJVCf9uzI",
        "outputId": "d5381e56-ff68-4eec-89ff-2b13f92b00c5"
      },
      "execution_count": null,
      "outputs": [
        {
          "output_type": "stream",
          "name": "stdout",
          "text": [
            "Mean Squared Error: 205.94319407654527\n",
            "R-squared: 0.39232609182669853\n"
          ]
        }
      ]
    },
    {
      "cell_type": "code",
      "source": [
        "\n",
        "# Evaluate the model\n",
        "mse = mean_squared_error(y_test, y_pred)\n",
        "r2 = r2_score(y_test, y_pred)\n",
        "print('Mean Squared Error:', mse)\n",
        "print('R-squared:', r2)"
      ],
      "metadata": {
        "id": "2XvZ9vH3HV7i",
        "colab": {
          "base_uri": "https://localhost:8080/"
        },
        "outputId": "6b0e532f-5545-44f1-80bf-89a42df101f8"
      },
      "execution_count": null,
      "outputs": [
        {
          "output_type": "stream",
          "name": "stdout",
          "text": [
            "Mean Squared Error: 205.94319407654527\n",
            "R-squared: 0.39232609182669853\n"
          ]
        }
      ]
    },
    {
      "cell_type": "code",
      "source": [
        "import xgboost as xgb\n",
        "# Initialize the XGBoost model\n",
        "model = xgb.XGBRegressor()\n",
        "\n",
        "# Fit the model to the training data\n",
        "model.fit(X_train, y_train)\n",
        "\n",
        "# Make predictions on the test set\n",
        "y_pred = model.predict(X_test)\n",
        "\n",
        "# Evaluate the model\n",
        "mse = mean_squared_error(y_test, y_pred)\n",
        "r2 = r2_score(y_test, y_pred)\n",
        "print('Mean Squared Error:', mse)\n",
        "print('R-squared:', r2)"
      ],
      "metadata": {
        "id": "UjhxXaAQBaQV",
        "colab": {
          "base_uri": "https://localhost:8080/"
        },
        "outputId": "d415c8c3-1588-4cfd-b0ab-efd8ce419ef2"
      },
      "execution_count": null,
      "outputs": [
        {
          "output_type": "stream",
          "name": "stdout",
          "text": [
            "Mean Squared Error: 170.8325629855994\n",
            "R-squared: 0.4959265750042877\n"
          ]
        }
      ]
    },
    {
      "cell_type": "code",
      "source": [
        "from sklearn.linear_model import LinearRegression\n",
        "from sklearn.tree import DecisionTreeRegressor\n",
        "from sklearn.ensemble import RandomForestRegressor, GradientBoostingRegressor\n",
        "from xgboost import XGBRegressor\n",
        "from sklearn.svm import SVR\n",
        "from sklearn.metrics import mean_absolute_error, r2_score\n",
        "import pandas as pd\n",
        "\n",
        "# Initialize the models with common hyperparameters\n",
        "linear_reg = LinearRegression()\n",
        "decision_tree_reg = DecisionTreeRegressor(max_depth=5, min_samples_split=2)\n",
        "random_forest_reg = RandomForestRegressor(n_estimators=100, max_depth=5, min_samples_split=2)\n",
        "gradient_boosting_reg = GradientBoostingRegressor(n_estimators=100, max_depth=5, min_samples_split=2)\n",
        "xgb_reg = XGBRegressor(n_estimators=100, max_depth=5, learning_rate=0.1)\n",
        "svr = SVR(kernel='rbf', C=1.0, epsilon=0.1)\n",
        "\n",
        "# Fit the models\n",
        "linear_reg.fit(X_train, y_train)\n",
        "decision_tree_reg.fit(X_train, y_train)\n",
        "random_forest_reg.fit(X_train, y_train)\n",
        "gradient_boosting_reg.fit(X_train, y_train)\n",
        "xgb_reg.fit(X_train, y_train)\n",
        "\n",
        "# Make predictions\n",
        "linear_reg_preds = linear_reg.predict(X_test)\n",
        "decision_tree_reg_preds = decision_tree_reg.predict(X_test)\n",
        "random_forest_reg_preds = random_forest_reg.predict(X_test)\n",
        "gradient_boosting_reg_preds = gradient_boosting_reg.predict(X_test)\n",
        "xgb_reg_preds = xgb_reg.predict(X_test)\n",
        "\n",
        "# Calculate MAE and R2 scores\n",
        "models = ['Linear Regression', 'Decision Tree Regression', 'Random Forest Regression',\n",
        "          'Gradient Boosting Regression', 'XGBoost Regression']\n",
        "mae_scores = [mean_absolute_error(y_test, linear_reg_preds),\n",
        "              mean_absolute_error(y_test, decision_tree_reg_preds),\n",
        "              mean_absolute_error(y_test, random_forest_reg_preds),\n",
        "              mean_absolute_error(y_test, gradient_boosting_reg_preds),\n",
        "              mean_absolute_error(y_test, xgb_reg_preds)]\n",
        "r2_scores = [r2_score(y_test, linear_reg_preds),\n",
        "             r2_score(y_test, decision_tree_reg_preds),\n",
        "             r2_score(y_test, random_forest_reg_preds),\n",
        "             r2_score(y_test, gradient_boosting_reg_preds),\n",
        "             r2_score(y_test, xgb_reg_preds)]\n",
        "\n",
        "# Create a DataFrame to compare the model performance\n",
        "comparison_df = pd.DataFrame({'Model': models, 'MAE': mae_scores, 'R2': r2_scores})\n"
      ],
      "metadata": {
        "id": "_OvrawAsjlzG"
      },
      "execution_count": null,
      "outputs": []
    },
    {
      "cell_type": "code",
      "source": [
        " comparison_df"
      ],
      "metadata": {
        "id": "tC_1czCyVZmU",
        "colab": {
          "base_uri": "https://localhost:8080/",
          "height": 206
        },
        "outputId": "9c29c3dd-43b4-44cc-aabd-23f393f71907"
      },
      "execution_count": null,
      "outputs": [
        {
          "output_type": "execute_result",
          "data": {
            "text/plain": [
              "                          Model       MAE        R2\n",
              "0             Linear Regression  9.431390  0.392326\n",
              "1      Decision Tree Regression  9.130777  0.392580\n",
              "2      Random Forest Regression  8.973950  0.412144\n",
              "3  Gradient Boosting Regression  8.343865  0.475603\n",
              "4            XGBoost Regression  8.350764  0.476118"
            ],
            "text/html": [
              "\n",
              "  <div id=\"df-ada9de94-793e-4ce3-bde5-1d0ddb74347f\">\n",
              "    <div class=\"colab-df-container\">\n",
              "      <div>\n",
              "<style scoped>\n",
              "    .dataframe tbody tr th:only-of-type {\n",
              "        vertical-align: middle;\n",
              "    }\n",
              "\n",
              "    .dataframe tbody tr th {\n",
              "        vertical-align: top;\n",
              "    }\n",
              "\n",
              "    .dataframe thead th {\n",
              "        text-align: right;\n",
              "    }\n",
              "</style>\n",
              "<table border=\"1\" class=\"dataframe\">\n",
              "  <thead>\n",
              "    <tr style=\"text-align: right;\">\n",
              "      <th></th>\n",
              "      <th>Model</th>\n",
              "      <th>MAE</th>\n",
              "      <th>R2</th>\n",
              "    </tr>\n",
              "  </thead>\n",
              "  <tbody>\n",
              "    <tr>\n",
              "      <th>0</th>\n",
              "      <td>Linear Regression</td>\n",
              "      <td>9.431390</td>\n",
              "      <td>0.392326</td>\n",
              "    </tr>\n",
              "    <tr>\n",
              "      <th>1</th>\n",
              "      <td>Decision Tree Regression</td>\n",
              "      <td>9.130777</td>\n",
              "      <td>0.392580</td>\n",
              "    </tr>\n",
              "    <tr>\n",
              "      <th>2</th>\n",
              "      <td>Random Forest Regression</td>\n",
              "      <td>8.973950</td>\n",
              "      <td>0.412144</td>\n",
              "    </tr>\n",
              "    <tr>\n",
              "      <th>3</th>\n",
              "      <td>Gradient Boosting Regression</td>\n",
              "      <td>8.343865</td>\n",
              "      <td>0.475603</td>\n",
              "    </tr>\n",
              "    <tr>\n",
              "      <th>4</th>\n",
              "      <td>XGBoost Regression</td>\n",
              "      <td>8.350764</td>\n",
              "      <td>0.476118</td>\n",
              "    </tr>\n",
              "  </tbody>\n",
              "</table>\n",
              "</div>\n",
              "      <button class=\"colab-df-convert\" onclick=\"convertToInteractive('df-ada9de94-793e-4ce3-bde5-1d0ddb74347f')\"\n",
              "              title=\"Convert this dataframe to an interactive table.\"\n",
              "              style=\"display:none;\">\n",
              "        \n",
              "  <svg xmlns=\"http://www.w3.org/2000/svg\" height=\"24px\"viewBox=\"0 0 24 24\"\n",
              "       width=\"24px\">\n",
              "    <path d=\"M0 0h24v24H0V0z\" fill=\"none\"/>\n",
              "    <path d=\"M18.56 5.44l.94 2.06.94-2.06 2.06-.94-2.06-.94-.94-2.06-.94 2.06-2.06.94zm-11 1L8.5 8.5l.94-2.06 2.06-.94-2.06-.94L8.5 2.5l-.94 2.06-2.06.94zm10 10l.94 2.06.94-2.06 2.06-.94-2.06-.94-.94-2.06-.94 2.06-2.06.94z\"/><path d=\"M17.41 7.96l-1.37-1.37c-.4-.4-.92-.59-1.43-.59-.52 0-1.04.2-1.43.59L10.3 9.45l-7.72 7.72c-.78.78-.78 2.05 0 2.83L4 21.41c.39.39.9.59 1.41.59.51 0 1.02-.2 1.41-.59l7.78-7.78 2.81-2.81c.8-.78.8-2.07 0-2.86zM5.41 20L4 18.59l7.72-7.72 1.47 1.35L5.41 20z\"/>\n",
              "  </svg>\n",
              "      </button>\n",
              "      \n",
              "  <style>\n",
              "    .colab-df-container {\n",
              "      display:flex;\n",
              "      flex-wrap:wrap;\n",
              "      gap: 12px;\n",
              "    }\n",
              "\n",
              "    .colab-df-convert {\n",
              "      background-color: #E8F0FE;\n",
              "      border: none;\n",
              "      border-radius: 50%;\n",
              "      cursor: pointer;\n",
              "      display: none;\n",
              "      fill: #1967D2;\n",
              "      height: 32px;\n",
              "      padding: 0 0 0 0;\n",
              "      width: 32px;\n",
              "    }\n",
              "\n",
              "    .colab-df-convert:hover {\n",
              "      background-color: #E2EBFA;\n",
              "      box-shadow: 0px 1px 2px rgba(60, 64, 67, 0.3), 0px 1px 3px 1px rgba(60, 64, 67, 0.15);\n",
              "      fill: #174EA6;\n",
              "    }\n",
              "\n",
              "    [theme=dark] .colab-df-convert {\n",
              "      background-color: #3B4455;\n",
              "      fill: #D2E3FC;\n",
              "    }\n",
              "\n",
              "    [theme=dark] .colab-df-convert:hover {\n",
              "      background-color: #434B5C;\n",
              "      box-shadow: 0px 1px 3px 1px rgba(0, 0, 0, 0.15);\n",
              "      filter: drop-shadow(0px 1px 2px rgba(0, 0, 0, 0.3));\n",
              "      fill: #FFFFFF;\n",
              "    }\n",
              "  </style>\n",
              "\n",
              "      <script>\n",
              "        const buttonEl =\n",
              "          document.querySelector('#df-ada9de94-793e-4ce3-bde5-1d0ddb74347f button.colab-df-convert');\n",
              "        buttonEl.style.display =\n",
              "          google.colab.kernel.accessAllowed ? 'block' : 'none';\n",
              "\n",
              "        async function convertToInteractive(key) {\n",
              "          const element = document.querySelector('#df-ada9de94-793e-4ce3-bde5-1d0ddb74347f');\n",
              "          const dataTable =\n",
              "            await google.colab.kernel.invokeFunction('convertToInteractive',\n",
              "                                                     [key], {});\n",
              "          if (!dataTable) return;\n",
              "\n",
              "          const docLinkHtml = 'Like what you see? Visit the ' +\n",
              "            '<a target=\"_blank\" href=https://colab.research.google.com/notebooks/data_table.ipynb>data table notebook</a>'\n",
              "            + ' to learn more about interactive tables.';\n",
              "          element.innerHTML = '';\n",
              "          dataTable['output_type'] = 'display_data';\n",
              "          await google.colab.output.renderOutput(dataTable, element);\n",
              "          const docLink = document.createElement('div');\n",
              "          docLink.innerHTML = docLinkHtml;\n",
              "          element.appendChild(docLink);\n",
              "        }\n",
              "      </script>\n",
              "    </div>\n",
              "  </div>\n",
              "  "
            ]
          },
          "metadata": {},
          "execution_count": 95
        }
      ]
    },
    {
      "cell_type": "code",
      "source": [
        "from sklearn.model_selection import GridSearchCV\n",
        "from sklearn.metrics import mean_absolute_error, r2_score\n",
        "from sklearn.model_selection import train_test_split\n",
        "import xgboost as xgb\n",
        "\n",
        "# Split the data into train and test sets\n",
        "X_train, X_test, y_train, y_test = train_test_split(models_df.drop('How_Long_Delayed2', axis=1), models_df['How_Long_Delayed2'], test_size=0.2, random_state=42)\n",
        "\n",
        "# Define the parameter grid for GridSearchCV\n",
        "param_grid = {'n_estimators': [100, 80, 60, 55, 51, 45],\n",
        "              'max_depth': [7, 8],\n",
        "              'reg_lambda': [0.26, 0.25, 0.2]\n",
        "              }\n",
        "\n",
        "# Perform GridSearchCV to find the best hyperparameters\n",
        "grid = GridSearchCV(xgb.XGBRFRegressor(), param_grid, refit=True, verbose=3)\n",
        "grid.fit(X_train, y_train)\n",
        "\n",
        "# Get the best model and its predictions\n",
        "best_model = grid.best_estimator_\n",
        "yhat = best_model.predict(X_test)\n",
        "\n",
        "# Evaluate metrics\n",
        "r2_score(y_test, yhat), mean_absolute_error(y_test, yhat), np.sqrt(mean_squared_error(y_test, yhat))\n"
      ],
      "metadata": {
        "id": "0vavIufDpkUX",
        "colab": {
          "base_uri": "https://localhost:8080/"
        },
        "outputId": "e859bc05-e138-41d9-dfe5-70e41b4bafd1"
      },
      "execution_count": null,
      "outputs": [
        {
          "output_type": "stream",
          "name": "stdout",
          "text": [
            "Fitting 5 folds for each of 36 candidates, totalling 180 fits\n",
            "[CV 1/5] END max_depth=7, n_estimators=100, reg_lambda=0.26;, score=0.463 total time=  38.8s\n",
            "[CV 2/5] END max_depth=7, n_estimators=100, reg_lambda=0.26;, score=0.459 total time=  35.7s\n",
            "[CV 3/5] END max_depth=7, n_estimators=100, reg_lambda=0.26;, score=0.430 total time=  37.1s\n",
            "[CV 4/5] END max_depth=7, n_estimators=100, reg_lambda=0.26;, score=0.400 total time=  37.7s\n",
            "[CV 5/5] END max_depth=7, n_estimators=100, reg_lambda=0.26;, score=0.442 total time=  35.2s\n",
            "[CV 1/5] END max_depth=7, n_estimators=100, reg_lambda=0.25;, score=0.463 total time=  38.9s\n",
            "[CV 2/5] END max_depth=7, n_estimators=100, reg_lambda=0.25;, score=0.459 total time=  39.3s\n",
            "[CV 3/5] END max_depth=7, n_estimators=100, reg_lambda=0.25;, score=0.430 total time=  36.2s\n",
            "[CV 4/5] END max_depth=7, n_estimators=100, reg_lambda=0.25;, score=0.400 total time=  38.2s\n",
            "[CV 5/5] END max_depth=7, n_estimators=100, reg_lambda=0.25;, score=0.442 total time=  35.8s\n",
            "[CV 1/5] END max_depth=7, n_estimators=100, reg_lambda=0.2;, score=0.463 total time=  39.5s\n",
            "[CV 2/5] END max_depth=7, n_estimators=100, reg_lambda=0.2;, score=0.459 total time=  35.3s\n",
            "[CV 3/5] END max_depth=7, n_estimators=100, reg_lambda=0.2;, score=0.430 total time=  36.3s\n",
            "[CV 4/5] END max_depth=7, n_estimators=100, reg_lambda=0.2;, score=0.400 total time=  37.7s\n",
            "[CV 5/5] END max_depth=7, n_estimators=100, reg_lambda=0.2;, score=0.442 total time=  42.5s\n",
            "[CV 1/5] END max_depth=7, n_estimators=80, reg_lambda=0.26;, score=0.463 total time=  26.8s\n",
            "[CV 2/5] END max_depth=7, n_estimators=80, reg_lambda=0.26;, score=0.459 total time=  29.0s\n",
            "[CV 3/5] END max_depth=7, n_estimators=80, reg_lambda=0.26;, score=0.430 total time=  29.5s\n",
            "[CV 4/5] END max_depth=7, n_estimators=80, reg_lambda=0.26;, score=0.401 total time=  29.7s\n",
            "[CV 5/5] END max_depth=7, n_estimators=80, reg_lambda=0.26;, score=0.442 total time=  29.5s\n",
            "[CV 1/5] END max_depth=7, n_estimators=80, reg_lambda=0.25;, score=0.463 total time=  29.7s\n",
            "[CV 2/5] END max_depth=7, n_estimators=80, reg_lambda=0.25;, score=0.459 total time=  29.8s\n",
            "[CV 3/5] END max_depth=7, n_estimators=80, reg_lambda=0.25;, score=0.430 total time=  30.1s\n",
            "[CV 4/5] END max_depth=7, n_estimators=80, reg_lambda=0.25;, score=0.401 total time=  27.8s\n",
            "[CV 5/5] END max_depth=7, n_estimators=80, reg_lambda=0.25;, score=0.442 total time=  28.2s\n",
            "[CV 1/5] END max_depth=7, n_estimators=80, reg_lambda=0.2;, score=0.463 total time=  33.2s\n",
            "[CV 2/5] END max_depth=7, n_estimators=80, reg_lambda=0.2;, score=0.458 total time=  29.3s\n",
            "[CV 3/5] END max_depth=7, n_estimators=80, reg_lambda=0.2;, score=0.429 total time=  29.7s\n",
            "[CV 4/5] END max_depth=7, n_estimators=80, reg_lambda=0.2;, score=0.401 total time=  30.0s\n",
            "[CV 5/5] END max_depth=7, n_estimators=80, reg_lambda=0.2;, score=0.442 total time=  30.2s\n",
            "[CV 1/5] END max_depth=7, n_estimators=60, reg_lambda=0.26;, score=0.462 total time=  20.9s\n",
            "[CV 2/5] END max_depth=7, n_estimators=60, reg_lambda=0.26;, score=0.458 total time=  24.6s\n",
            "[CV 3/5] END max_depth=7, n_estimators=60, reg_lambda=0.26;, score=0.429 total time=  20.9s\n",
            "[CV 4/5] END max_depth=7, n_estimators=60, reg_lambda=0.26;, score=0.401 total time=  21.8s\n",
            "[CV 5/5] END max_depth=7, n_estimators=60, reg_lambda=0.26;, score=0.442 total time=  23.0s\n",
            "[CV 1/5] END max_depth=7, n_estimators=60, reg_lambda=0.25;, score=0.462 total time=  20.5s\n",
            "[CV 2/5] END max_depth=7, n_estimators=60, reg_lambda=0.25;, score=0.458 total time=  24.1s\n",
            "[CV 3/5] END max_depth=7, n_estimators=60, reg_lambda=0.25;, score=0.429 total time=  23.9s\n",
            "[CV 4/5] END max_depth=7, n_estimators=60, reg_lambda=0.25;, score=0.401 total time=  23.8s\n",
            "[CV 5/5] END max_depth=7, n_estimators=60, reg_lambda=0.25;, score=0.442 total time=  20.5s\n",
            "[CV 1/5] END max_depth=7, n_estimators=60, reg_lambda=0.2;, score=0.462 total time=  23.1s\n",
            "[CV 2/5] END max_depth=7, n_estimators=60, reg_lambda=0.2;, score=0.458 total time=  21.2s\n",
            "[CV 3/5] END max_depth=7, n_estimators=60, reg_lambda=0.2;, score=0.429 total time=  20.5s\n",
            "[CV 4/5] END max_depth=7, n_estimators=60, reg_lambda=0.2;, score=0.401 total time=  24.0s\n",
            "[CV 5/5] END max_depth=7, n_estimators=60, reg_lambda=0.2;, score=0.441 total time=  20.3s\n",
            "[CV 1/5] END max_depth=7, n_estimators=55, reg_lambda=0.26;, score=0.462 total time=  19.3s\n",
            "[CV 2/5] END max_depth=7, n_estimators=55, reg_lambda=0.26;, score=0.458 total time=  22.1s\n",
            "[CV 3/5] END max_depth=7, n_estimators=55, reg_lambda=0.26;, score=0.429 total time=  19.3s\n",
            "[CV 4/5] END max_depth=7, n_estimators=55, reg_lambda=0.26;, score=0.400 total time=  18.9s\n",
            "[CV 5/5] END max_depth=7, n_estimators=55, reg_lambda=0.26;, score=0.441 total time=  22.8s\n",
            "[CV 1/5] END max_depth=7, n_estimators=55, reg_lambda=0.25;, score=0.462 total time=  19.2s\n",
            "[CV 2/5] END max_depth=7, n_estimators=55, reg_lambda=0.25;, score=0.458 total time=  22.6s\n",
            "[CV 3/5] END max_depth=7, n_estimators=55, reg_lambda=0.25;, score=0.429 total time=  21.5s\n",
            "[CV 4/5] END max_depth=7, n_estimators=55, reg_lambda=0.25;, score=0.400 total time=  20.0s\n",
            "[CV 5/5] END max_depth=7, n_estimators=55, reg_lambda=0.25;, score=0.441 total time=  19.1s\n",
            "[CV 1/5] END max_depth=7, n_estimators=55, reg_lambda=0.2;, score=0.462 total time=  19.0s\n",
            "[CV 2/5] END max_depth=7, n_estimators=55, reg_lambda=0.2;, score=0.458 total time=  22.6s\n",
            "[CV 3/5] END max_depth=7, n_estimators=55, reg_lambda=0.2;, score=0.429 total time=  19.0s\n",
            "[CV 4/5] END max_depth=7, n_estimators=55, reg_lambda=0.2;, score=0.400 total time=  19.0s\n",
            "[CV 5/5] END max_depth=7, n_estimators=55, reg_lambda=0.2;, score=0.441 total time=  20.6s\n",
            "[CV 1/5] END max_depth=7, n_estimators=51, reg_lambda=0.26;, score=0.462 total time=  20.2s\n",
            "[CV 2/5] END max_depth=7, n_estimators=51, reg_lambda=0.26;, score=0.458 total time=  17.9s\n",
            "[CV 3/5] END max_depth=7, n_estimators=51, reg_lambda=0.26;, score=0.429 total time=  17.9s\n",
            "[CV 4/5] END max_depth=7, n_estimators=51, reg_lambda=0.26;, score=0.400 total time=  17.9s\n",
            "[CV 5/5] END max_depth=7, n_estimators=51, reg_lambda=0.26;, score=0.441 total time=  19.0s\n",
            "[CV 1/5] END max_depth=7, n_estimators=51, reg_lambda=0.25;, score=0.462 total time=  20.3s\n",
            "[CV 2/5] END max_depth=7, n_estimators=51, reg_lambda=0.25;, score=0.458 total time=  21.7s\n",
            "[CV 3/5] END max_depth=7, n_estimators=51, reg_lambda=0.25;, score=0.429 total time=  17.8s\n",
            "[CV 4/5] END max_depth=7, n_estimators=51, reg_lambda=0.25;, score=0.400 total time=  18.5s\n",
            "[CV 5/5] END max_depth=7, n_estimators=51, reg_lambda=0.25;, score=0.441 total time=  20.6s\n",
            "[CV 1/5] END max_depth=7, n_estimators=51, reg_lambda=0.2;, score=0.462 total time=  17.8s\n",
            "[CV 2/5] END max_depth=7, n_estimators=51, reg_lambda=0.2;, score=0.457 total time=  17.9s\n",
            "[CV 3/5] END max_depth=7, n_estimators=51, reg_lambda=0.2;, score=0.428 total time=  17.8s\n",
            "[CV 4/5] END max_depth=7, n_estimators=51, reg_lambda=0.2;, score=0.400 total time=  17.9s\n",
            "[CV 5/5] END max_depth=7, n_estimators=51, reg_lambda=0.2;, score=0.440 total time=  21.2s\n",
            "[CV 1/5] END max_depth=7, n_estimators=45, reg_lambda=0.26;, score=0.462 total time=  16.2s\n",
            "[CV 2/5] END max_depth=7, n_estimators=45, reg_lambda=0.26;, score=0.458 total time=  16.3s\n",
            "[CV 3/5] END max_depth=7, n_estimators=45, reg_lambda=0.26;, score=0.429 total time=  16.2s\n",
            "[CV 4/5] END max_depth=7, n_estimators=45, reg_lambda=0.26;, score=0.400 total time=  16.2s\n",
            "[CV 5/5] END max_depth=7, n_estimators=45, reg_lambda=0.26;, score=0.441 total time=  16.5s\n",
            "[CV 1/5] END max_depth=7, n_estimators=45, reg_lambda=0.25;, score=0.461 total time=  16.3s\n",
            "[CV 2/5] END max_depth=7, n_estimators=45, reg_lambda=0.25;, score=0.458 total time=  16.2s\n",
            "[CV 3/5] END max_depth=7, n_estimators=45, reg_lambda=0.25;, score=0.429 total time=  19.5s\n",
            "[CV 4/5] END max_depth=7, n_estimators=45, reg_lambda=0.25;, score=0.400 total time=  16.1s\n",
            "[CV 5/5] END max_depth=7, n_estimators=45, reg_lambda=0.25;, score=0.441 total time=  16.1s\n",
            "[CV 1/5] END max_depth=7, n_estimators=45, reg_lambda=0.2;, score=0.461 total time=  16.1s\n",
            "[CV 2/5] END max_depth=7, n_estimators=45, reg_lambda=0.2;, score=0.458 total time=  16.2s\n",
            "[CV 3/5] END max_depth=7, n_estimators=45, reg_lambda=0.2;, score=0.429 total time=  16.1s\n",
            "[CV 4/5] END max_depth=7, n_estimators=45, reg_lambda=0.2;, score=0.400 total time=  16.8s\n",
            "[CV 5/5] END max_depth=7, n_estimators=45, reg_lambda=0.2;, score=0.440 total time=  16.7s\n",
            "[CV 1/5] END max_depth=8, n_estimators=100, reg_lambda=0.26;, score=0.475 total time=  41.9s\n",
            "[CV 2/5] END max_depth=8, n_estimators=100, reg_lambda=0.26;, score=0.467 total time=  43.5s\n",
            "[CV 3/5] END max_depth=8, n_estimators=100, reg_lambda=0.26;, score=0.440 total time=  43.2s\n",
            "[CV 4/5] END max_depth=8, n_estimators=100, reg_lambda=0.26;, score=0.414 total time=  46.8s\n",
            "[CV 5/5] END max_depth=8, n_estimators=100, reg_lambda=0.26;, score=0.449 total time=  41.1s\n",
            "[CV 1/5] END max_depth=8, n_estimators=100, reg_lambda=0.25;, score=0.475 total time=  42.0s\n",
            "[CV 2/5] END max_depth=8, n_estimators=100, reg_lambda=0.25;, score=0.467 total time=  43.5s\n",
            "[CV 3/5] END max_depth=8, n_estimators=100, reg_lambda=0.25;, score=0.440 total time=  44.1s\n",
            "[CV 4/5] END max_depth=8, n_estimators=100, reg_lambda=0.25;, score=0.414 total time=  44.8s\n",
            "[CV 5/5] END max_depth=8, n_estimators=100, reg_lambda=0.25;, score=0.449 total time=  40.8s\n",
            "[CV 1/5] END max_depth=8, n_estimators=100, reg_lambda=0.2;, score=0.475 total time=  47.0s\n",
            "[CV 2/5] END max_depth=8, n_estimators=100, reg_lambda=0.2;, score=0.466 total time=  43.2s\n",
            "[CV 3/5] END max_depth=8, n_estimators=100, reg_lambda=0.2;, score=0.440 total time=  43.6s\n",
            "[CV 4/5] END max_depth=8, n_estimators=100, reg_lambda=0.2;, score=0.414 total time=  41.8s\n",
            "[CV 5/5] END max_depth=8, n_estimators=100, reg_lambda=0.2;, score=0.448 total time=  41.4s\n",
            "[CV 1/5] END max_depth=8, n_estimators=80, reg_lambda=0.26;, score=0.475 total time=  33.3s\n",
            "[CV 2/5] END max_depth=8, n_estimators=80, reg_lambda=0.26;, score=0.466 total time=  37.1s\n",
            "[CV 3/5] END max_depth=8, n_estimators=80, reg_lambda=0.26;, score=0.440 total time=  37.4s\n",
            "[CV 4/5] END max_depth=8, n_estimators=80, reg_lambda=0.26;, score=0.414 total time=  33.8s\n",
            "[CV 5/5] END max_depth=8, n_estimators=80, reg_lambda=0.26;, score=0.450 total time=  37.4s\n",
            "[CV 1/5] END max_depth=8, n_estimators=80, reg_lambda=0.25;, score=0.474 total time=  34.2s\n",
            "[CV 2/5] END max_depth=8, n_estimators=80, reg_lambda=0.25;, score=0.466 total time=  33.9s\n",
            "[CV 3/5] END max_depth=8, n_estimators=80, reg_lambda=0.25;, score=0.440 total time=  33.9s\n",
            "[CV 4/5] END max_depth=8, n_estimators=80, reg_lambda=0.25;, score=0.414 total time=  34.3s\n",
            "[CV 5/5] END max_depth=8, n_estimators=80, reg_lambda=0.25;, score=0.450 total time=  37.0s\n",
            "[CV 1/5] END max_depth=8, n_estimators=80, reg_lambda=0.2;, score=0.474 total time=  37.7s\n",
            "[CV 2/5] END max_depth=8, n_estimators=80, reg_lambda=0.2;, score=0.465 total time=  34.3s\n",
            "[CV 3/5] END max_depth=8, n_estimators=80, reg_lambda=0.2;, score=0.440 total time=  37.2s\n",
            "[CV 4/5] END max_depth=8, n_estimators=80, reg_lambda=0.2;, score=0.414 total time=  34.1s\n",
            "[CV 5/5] END max_depth=8, n_estimators=80, reg_lambda=0.2;, score=0.449 total time=  34.2s\n",
            "[CV 1/5] END max_depth=8, n_estimators=60, reg_lambda=0.26;, score=0.473 total time=  27.5s\n",
            "[CV 2/5] END max_depth=8, n_estimators=60, reg_lambda=0.26;, score=0.465 total time=  25.2s\n",
            "[CV 3/5] END max_depth=8, n_estimators=60, reg_lambda=0.26;, score=0.439 total time=  25.8s\n",
            "[CV 4/5] END max_depth=8, n_estimators=60, reg_lambda=0.26;, score=0.415 total time=  29.6s\n",
            "[CV 5/5] END max_depth=8, n_estimators=60, reg_lambda=0.26;, score=0.449 total time=  29.5s\n",
            "[CV 1/5] END max_depth=8, n_estimators=60, reg_lambda=0.25;, score=0.473 total time=  26.2s\n",
            "[CV 2/5] END max_depth=8, n_estimators=60, reg_lambda=0.25;, score=0.465 total time=  24.8s\n",
            "[CV 3/5] END max_depth=8, n_estimators=60, reg_lambda=0.25;, score=0.439 total time=  27.2s\n",
            "[CV 4/5] END max_depth=8, n_estimators=60, reg_lambda=0.25;, score=0.415 total time=  26.1s\n",
            "[CV 5/5] END max_depth=8, n_estimators=60, reg_lambda=0.25;, score=0.449 total time=  24.7s\n",
            "[CV 1/5] END max_depth=8, n_estimators=60, reg_lambda=0.2;, score=0.473 total time=  27.4s\n",
            "[CV 2/5] END max_depth=8, n_estimators=60, reg_lambda=0.2;, score=0.465 total time=  26.8s\n",
            "[CV 3/5] END max_depth=8, n_estimators=60, reg_lambda=0.2;, score=0.439 total time=  24.0s\n",
            "[CV 4/5] END max_depth=8, n_estimators=60, reg_lambda=0.2;, score=0.415 total time=  27.3s\n",
            "[CV 5/5] END max_depth=8, n_estimators=60, reg_lambda=0.2;, score=0.448 total time=  31.1s\n",
            "[CV 1/5] END max_depth=8, n_estimators=55, reg_lambda=0.26;, score=0.473 total time=  22.2s\n",
            "[CV 2/5] END max_depth=8, n_estimators=55, reg_lambda=0.26;, score=0.465 total time=  25.8s\n",
            "[CV 3/5] END max_depth=8, n_estimators=55, reg_lambda=0.26;, score=0.439 total time=  22.1s\n",
            "[CV 4/5] END max_depth=8, n_estimators=55, reg_lambda=0.26;, score=0.414 total time=  25.6s\n",
            "[CV 5/5] END max_depth=8, n_estimators=55, reg_lambda=0.26;, score=0.449 total time=  22.6s\n",
            "[CV 1/5] END max_depth=8, n_estimators=55, reg_lambda=0.25;, score=0.473 total time=  25.3s\n",
            "[CV 2/5] END max_depth=8, n_estimators=55, reg_lambda=0.25;, score=0.465 total time=  23.4s\n",
            "[CV 3/5] END max_depth=8, n_estimators=55, reg_lambda=0.25;, score=0.439 total time=  24.3s\n",
            "[CV 4/5] END max_depth=8, n_estimators=55, reg_lambda=0.25;, score=0.414 total time=  25.1s\n",
            "[CV 5/5] END max_depth=8, n_estimators=55, reg_lambda=0.25;, score=0.449 total time=  22.7s\n",
            "[CV 1/5] END max_depth=8, n_estimators=55, reg_lambda=0.2;, score=0.472 total time=  29.6s\n",
            "[CV 2/5] END max_depth=8, n_estimators=55, reg_lambda=0.2;, score=0.464 total time=  22.3s\n",
            "[CV 3/5] END max_depth=8, n_estimators=55, reg_lambda=0.2;, score=0.439 total time=  25.8s\n",
            "[CV 4/5] END max_depth=8, n_estimators=55, reg_lambda=0.2;, score=0.414 total time=  23.5s\n",
            "[CV 5/5] END max_depth=8, n_estimators=55, reg_lambda=0.2;, score=0.448 total time=  24.0s\n",
            "[CV 1/5] END max_depth=8, n_estimators=51, reg_lambda=0.26;, score=0.472 total time=  21.0s\n",
            "[CV 2/5] END max_depth=8, n_estimators=51, reg_lambda=0.26;, score=0.464 total time=  24.1s\n",
            "[CV 3/5] END max_depth=8, n_estimators=51, reg_lambda=0.26;, score=0.439 total time=  20.8s\n",
            "[CV 4/5] END max_depth=8, n_estimators=51, reg_lambda=0.26;, score=0.414 total time=  24.6s\n",
            "[CV 5/5] END max_depth=8, n_estimators=51, reg_lambda=0.26;, score=0.449 total time=  20.6s\n",
            "[CV 1/5] END max_depth=8, n_estimators=51, reg_lambda=0.25;, score=0.472 total time=  24.1s\n",
            "[CV 2/5] END max_depth=8, n_estimators=51, reg_lambda=0.25;, score=0.464 total time=  20.6s\n",
            "[CV 3/5] END max_depth=8, n_estimators=51, reg_lambda=0.25;, score=0.439 total time=  27.7s\n",
            "[CV 4/5] END max_depth=8, n_estimators=51, reg_lambda=0.25;, score=0.414 total time=  20.7s\n",
            "[CV 5/5] END max_depth=8, n_estimators=51, reg_lambda=0.25;, score=0.449 total time=  24.5s\n",
            "[CV 1/5] END max_depth=8, n_estimators=51, reg_lambda=0.2;, score=0.472 total time=  20.8s\n",
            "[CV 2/5] END max_depth=8, n_estimators=51, reg_lambda=0.2;, score=0.464 total time=  24.4s\n",
            "[CV 3/5] END max_depth=8, n_estimators=51, reg_lambda=0.2;, score=0.438 total time=  20.5s\n",
            "[CV 4/5] END max_depth=8, n_estimators=51, reg_lambda=0.2;, score=0.414 total time=  21.2s\n",
            "[CV 5/5] END max_depth=8, n_estimators=51, reg_lambda=0.2;, score=0.448 total time=  23.9s\n",
            "[CV 1/5] END max_depth=8, n_estimators=45, reg_lambda=0.26;, score=0.472 total time=  19.3s\n",
            "[CV 2/5] END max_depth=8, n_estimators=45, reg_lambda=0.26;, score=0.464 total time=  21.8s\n",
            "[CV 3/5] END max_depth=8, n_estimators=45, reg_lambda=0.26;, score=0.439 total time=  20.2s\n",
            "[CV 4/5] END max_depth=8, n_estimators=45, reg_lambda=0.26;, score=0.414 total time=  18.9s\n",
            "[CV 5/5] END max_depth=8, n_estimators=45, reg_lambda=0.26;, score=0.449 total time=  18.6s\n",
            "[CV 1/5] END max_depth=8, n_estimators=45, reg_lambda=0.25;, score=0.472 total time=  25.9s\n",
            "[CV 2/5] END max_depth=8, n_estimators=45, reg_lambda=0.25;, score=0.464 total time=  18.8s\n",
            "[CV 3/5] END max_depth=8, n_estimators=45, reg_lambda=0.25;, score=0.439 total time=  18.7s\n",
            "[CV 4/5] END max_depth=8, n_estimators=45, reg_lambda=0.25;, score=0.414 total time=  19.0s\n",
            "[CV 5/5] END max_depth=8, n_estimators=45, reg_lambda=0.25;, score=0.449 total time=  22.0s\n",
            "[CV 1/5] END max_depth=8, n_estimators=45, reg_lambda=0.2;, score=0.471 total time=  18.9s\n",
            "[CV 2/5] END max_depth=8, n_estimators=45, reg_lambda=0.2;, score=0.464 total time=  19.2s\n",
            "[CV 3/5] END max_depth=8, n_estimators=45, reg_lambda=0.2;, score=0.438 total time=  21.4s\n",
            "[CV 4/5] END max_depth=8, n_estimators=45, reg_lambda=0.2;, score=0.414 total time=  19.4s\n",
            "[CV 5/5] END max_depth=8, n_estimators=45, reg_lambda=0.2;, score=0.448 total time=  18.6s\n"
          ]
        },
        {
          "output_type": "execute_result",
          "data": {
            "text/plain": [
              "(0.43239192684129835, 8.552422186617648, 14.220320963865605)"
            ]
          },
          "metadata": {},
          "execution_count": 105
        }
      ]
    },
    {
      "cell_type": "code",
      "source": [
        "!pip install pycaret"
      ],
      "metadata": {
        "id": "t_NyqX0cV3JM"
      },
      "execution_count": null,
      "outputs": []
    },
    {
      "cell_type": "code",
      "source": [
        "caret_df=merged_df[selected_categorical_vars + ['How_Long_Delayed2']].copy()"
      ],
      "metadata": {
        "id": "yv7sob7smRI6"
      },
      "execution_count": null,
      "outputs": []
    },
    {
      "cell_type": "code",
      "source": [
        "from pycaret.regression import *\n",
        "s=setup(caret_df,target='How_Long_Delayed2',session_id=123)"
      ],
      "metadata": {
        "id": "3tAOqFYdMyW5",
        "colab": {
          "base_uri": "https://localhost:8080/",
          "height": 1000
        },
        "outputId": "fb568def-12bc-449f-8cee-8c263cdf7cad"
      },
      "execution_count": null,
      "outputs": [
        {
          "output_type": "stream",
          "name": "stderr",
          "text": [
            "/usr/local/lib/python3.10/dist-packages/pycaret/internal/pipeline.py:231: UserWarning: Persisting input arguments took 0.65s to run.\n",
            "If this happens often in your code, it can cause performance problems \n",
            "(results will be correct in all cases). \n",
            "The reason for this is probably some large input arguments for a wrapped\n",
            " function (e.g. large strings).\n",
            "THIS IS A JOBLIB ISSUE. If you can, kindly provide the joblib's team with an\n",
            " example so that they can fix the problem.\n",
            "  fitted_transformer = self._memory_fit(\n",
            "/usr/local/lib/python3.10/dist-packages/pycaret/internal/pipeline.py:108: UserWarning: Persisting input arguments took 0.57s to run.\n",
            "If this happens often in your code, it can cause performance problems \n",
            "(results will be correct in all cases). \n",
            "The reason for this is probably some large input arguments for a wrapped\n",
            " function (e.g. large strings).\n",
            "THIS IS A JOBLIB ISSUE. If you can, kindly provide the joblib's team with an\n",
            " example so that they can fix the problem.\n",
            "  X, y = pipeline._memory_transform(transformer, X, y)\n"
          ]
        },
        {
          "output_type": "display_data",
          "data": {
            "text/plain": [
              "<pandas.io.formats.style.Styler at 0x7ff61e387430>"
            ],
            "text/html": [
              "<style type=\"text/css\">\n",
              "#T_253cb_row9_col1 {\n",
              "  background-color: lightgreen;\n",
              "}\n",
              "</style>\n",
              "<table id=\"T_253cb\" class=\"dataframe\">\n",
              "  <thead>\n",
              "    <tr>\n",
              "      <th class=\"blank level0\" >&nbsp;</th>\n",
              "      <th id=\"T_253cb_level0_col0\" class=\"col_heading level0 col0\" >Description</th>\n",
              "      <th id=\"T_253cb_level0_col1\" class=\"col_heading level0 col1\" >Value</th>\n",
              "    </tr>\n",
              "  </thead>\n",
              "  <tbody>\n",
              "    <tr>\n",
              "      <th id=\"T_253cb_level0_row0\" class=\"row_heading level0 row0\" >0</th>\n",
              "      <td id=\"T_253cb_row0_col0\" class=\"data row0 col0\" >Session id</td>\n",
              "      <td id=\"T_253cb_row0_col1\" class=\"data row0 col1\" >123</td>\n",
              "    </tr>\n",
              "    <tr>\n",
              "      <th id=\"T_253cb_level0_row1\" class=\"row_heading level0 row1\" >1</th>\n",
              "      <td id=\"T_253cb_row1_col0\" class=\"data row1 col0\" >Target</td>\n",
              "      <td id=\"T_253cb_row1_col1\" class=\"data row1 col1\" >How_Long_Delayed2</td>\n",
              "    </tr>\n",
              "    <tr>\n",
              "      <th id=\"T_253cb_level0_row2\" class=\"row_heading level0 row2\" >2</th>\n",
              "      <td id=\"T_253cb_row2_col0\" class=\"data row2 col0\" >Target type</td>\n",
              "      <td id=\"T_253cb_row2_col1\" class=\"data row2 col1\" >Regression</td>\n",
              "    </tr>\n",
              "    <tr>\n",
              "      <th id=\"T_253cb_level0_row3\" class=\"row_heading level0 row3\" >3</th>\n",
              "      <td id=\"T_253cb_row3_col0\" class=\"data row3 col0\" >Original data shape</td>\n",
              "      <td id=\"T_253cb_row3_col1\" class=\"data row3 col1\" >(480782, 12)</td>\n",
              "    </tr>\n",
              "    <tr>\n",
              "      <th id=\"T_253cb_level0_row4\" class=\"row_heading level0 row4\" >4</th>\n",
              "      <td id=\"T_253cb_row4_col0\" class=\"data row4 col0\" >Transformed data shape</td>\n",
              "      <td id=\"T_253cb_row4_col1\" class=\"data row4 col1\" >(480782, 40)</td>\n",
              "    </tr>\n",
              "    <tr>\n",
              "      <th id=\"T_253cb_level0_row5\" class=\"row_heading level0 row5\" >5</th>\n",
              "      <td id=\"T_253cb_row5_col0\" class=\"data row5 col0\" >Transformed train set shape</td>\n",
              "      <td id=\"T_253cb_row5_col1\" class=\"data row5 col1\" >(336547, 40)</td>\n",
              "    </tr>\n",
              "    <tr>\n",
              "      <th id=\"T_253cb_level0_row6\" class=\"row_heading level0 row6\" >6</th>\n",
              "      <td id=\"T_253cb_row6_col0\" class=\"data row6 col0\" >Transformed test set shape</td>\n",
              "      <td id=\"T_253cb_row6_col1\" class=\"data row6 col1\" >(144235, 40)</td>\n",
              "    </tr>\n",
              "    <tr>\n",
              "      <th id=\"T_253cb_level0_row7\" class=\"row_heading level0 row7\" >7</th>\n",
              "      <td id=\"T_253cb_row7_col0\" class=\"data row7 col0\" >Ordinal features</td>\n",
              "      <td id=\"T_253cb_row7_col1\" class=\"data row7 col1\" >4</td>\n",
              "    </tr>\n",
              "    <tr>\n",
              "      <th id=\"T_253cb_level0_row8\" class=\"row_heading level0 row8\" >8</th>\n",
              "      <td id=\"T_253cb_row8_col0\" class=\"data row8 col0\" >Categorical features</td>\n",
              "      <td id=\"T_253cb_row8_col1\" class=\"data row8 col1\" >11</td>\n",
              "    </tr>\n",
              "    <tr>\n",
              "      <th id=\"T_253cb_level0_row9\" class=\"row_heading level0 row9\" >9</th>\n",
              "      <td id=\"T_253cb_row9_col0\" class=\"data row9 col0\" >Preprocess</td>\n",
              "      <td id=\"T_253cb_row9_col1\" class=\"data row9 col1\" >True</td>\n",
              "    </tr>\n",
              "    <tr>\n",
              "      <th id=\"T_253cb_level0_row10\" class=\"row_heading level0 row10\" >10</th>\n",
              "      <td id=\"T_253cb_row10_col0\" class=\"data row10 col0\" >Imputation type</td>\n",
              "      <td id=\"T_253cb_row10_col1\" class=\"data row10 col1\" >simple</td>\n",
              "    </tr>\n",
              "    <tr>\n",
              "      <th id=\"T_253cb_level0_row11\" class=\"row_heading level0 row11\" >11</th>\n",
              "      <td id=\"T_253cb_row11_col0\" class=\"data row11 col0\" >Numeric imputation</td>\n",
              "      <td id=\"T_253cb_row11_col1\" class=\"data row11 col1\" >mean</td>\n",
              "    </tr>\n",
              "    <tr>\n",
              "      <th id=\"T_253cb_level0_row12\" class=\"row_heading level0 row12\" >12</th>\n",
              "      <td id=\"T_253cb_row12_col0\" class=\"data row12 col0\" >Categorical imputation</td>\n",
              "      <td id=\"T_253cb_row12_col1\" class=\"data row12 col1\" >mode</td>\n",
              "    </tr>\n",
              "    <tr>\n",
              "      <th id=\"T_253cb_level0_row13\" class=\"row_heading level0 row13\" >13</th>\n",
              "      <td id=\"T_253cb_row13_col0\" class=\"data row13 col0\" >Maximum one-hot encoding</td>\n",
              "      <td id=\"T_253cb_row13_col1\" class=\"data row13 col1\" >25</td>\n",
              "    </tr>\n",
              "    <tr>\n",
              "      <th id=\"T_253cb_level0_row14\" class=\"row_heading level0 row14\" >14</th>\n",
              "      <td id=\"T_253cb_row14_col0\" class=\"data row14 col0\" >Encoding method</td>\n",
              "      <td id=\"T_253cb_row14_col1\" class=\"data row14 col1\" >None</td>\n",
              "    </tr>\n",
              "    <tr>\n",
              "      <th id=\"T_253cb_level0_row15\" class=\"row_heading level0 row15\" >15</th>\n",
              "      <td id=\"T_253cb_row15_col0\" class=\"data row15 col0\" >Fold Generator</td>\n",
              "      <td id=\"T_253cb_row15_col1\" class=\"data row15 col1\" >KFold</td>\n",
              "    </tr>\n",
              "    <tr>\n",
              "      <th id=\"T_253cb_level0_row16\" class=\"row_heading level0 row16\" >16</th>\n",
              "      <td id=\"T_253cb_row16_col0\" class=\"data row16 col0\" >Fold Number</td>\n",
              "      <td id=\"T_253cb_row16_col1\" class=\"data row16 col1\" >10</td>\n",
              "    </tr>\n",
              "    <tr>\n",
              "      <th id=\"T_253cb_level0_row17\" class=\"row_heading level0 row17\" >17</th>\n",
              "      <td id=\"T_253cb_row17_col0\" class=\"data row17 col0\" >CPU Jobs</td>\n",
              "      <td id=\"T_253cb_row17_col1\" class=\"data row17 col1\" >-1</td>\n",
              "    </tr>\n",
              "    <tr>\n",
              "      <th id=\"T_253cb_level0_row18\" class=\"row_heading level0 row18\" >18</th>\n",
              "      <td id=\"T_253cb_row18_col0\" class=\"data row18 col0\" >Use GPU</td>\n",
              "      <td id=\"T_253cb_row18_col1\" class=\"data row18 col1\" >False</td>\n",
              "    </tr>\n",
              "    <tr>\n",
              "      <th id=\"T_253cb_level0_row19\" class=\"row_heading level0 row19\" >19</th>\n",
              "      <td id=\"T_253cb_row19_col0\" class=\"data row19 col0\" >Log Experiment</td>\n",
              "      <td id=\"T_253cb_row19_col1\" class=\"data row19 col1\" >False</td>\n",
              "    </tr>\n",
              "    <tr>\n",
              "      <th id=\"T_253cb_level0_row20\" class=\"row_heading level0 row20\" >20</th>\n",
              "      <td id=\"T_253cb_row20_col0\" class=\"data row20 col0\" >Experiment Name</td>\n",
              "      <td id=\"T_253cb_row20_col1\" class=\"data row20 col1\" >reg-default-name</td>\n",
              "    </tr>\n",
              "    <tr>\n",
              "      <th id=\"T_253cb_level0_row21\" class=\"row_heading level0 row21\" >21</th>\n",
              "      <td id=\"T_253cb_row21_col0\" class=\"data row21 col0\" >USI</td>\n",
              "      <td id=\"T_253cb_row21_col1\" class=\"data row21 col1\" >6566</td>\n",
              "    </tr>\n",
              "  </tbody>\n",
              "</table>\n"
            ]
          },
          "metadata": {}
        }
      ]
    },
    {
      "cell_type": "code",
      "source": [
        "# functional API\n",
        "best = compare_models()"
      ],
      "metadata": {
        "colab": {
          "base_uri": "https://localhost:8080/",
          "height": 680,
          "referenced_widgets": [
            "8750904e85e348a9b676bc76fa7444e2",
            "8653a1f37182454eba18c649737d3091",
            "2b02aa448b5f4290abdef001308fbd8c",
            "a11cf94ed62a485eb50d07106e833266",
            "e87fbad676c34f41a400236bdf1bd300",
            "1bdd0eeb0a5d43c380d602c45c5ad42d",
            "95a8243869834ea782b96fd0432cda00",
            "241aea6dda764458aa592bf33831323b",
            "d19f04188d4445eb8d39a8814ce4246c",
            "f01fc686346e4b9397dc13ae0279d360",
            "2842d32d7c884f93a6e178f180cc07c3"
          ]
        },
        "id": "qa8Mqpc6mybN",
        "outputId": "fa968b8e-41dd-49e7-8728-41079232e583"
      },
      "execution_count": null,
      "outputs": [
        {
          "output_type": "display_data",
          "data": {
            "text/plain": [
              "<IPython.core.display.HTML object>"
            ],
            "text/html": []
          },
          "metadata": {}
        },
        {
          "output_type": "display_data",
          "data": {
            "text/plain": [
              "<pandas.io.formats.style.Styler at 0x7ff69e9c6da0>"
            ],
            "text/html": [
              "<style type=\"text/css\">\n",
              "#T_9062c th {\n",
              "  text-align: left;\n",
              "}\n",
              "#T_9062c_row0_col0, #T_9062c_row0_col1, #T_9062c_row0_col5, #T_9062c_row0_col6, #T_9062c_row1_col0, #T_9062c_row1_col1, #T_9062c_row1_col2, #T_9062c_row1_col3, #T_9062c_row1_col4, #T_9062c_row1_col6, #T_9062c_row2_col0, #T_9062c_row2_col1, #T_9062c_row2_col2, #T_9062c_row2_col3, #T_9062c_row2_col4, #T_9062c_row2_col5, #T_9062c_row2_col6, #T_9062c_row3_col0, #T_9062c_row3_col1, #T_9062c_row3_col2, #T_9062c_row3_col3, #T_9062c_row3_col4, #T_9062c_row3_col5, #T_9062c_row3_col6, #T_9062c_row4_col0, #T_9062c_row4_col1, #T_9062c_row4_col2, #T_9062c_row4_col3, #T_9062c_row4_col4, #T_9062c_row4_col5, #T_9062c_row4_col6, #T_9062c_row5_col0, #T_9062c_row5_col2, #T_9062c_row5_col3, #T_9062c_row5_col4, #T_9062c_row5_col5, #T_9062c_row6_col0, #T_9062c_row6_col1, #T_9062c_row6_col2, #T_9062c_row6_col3, #T_9062c_row6_col4, #T_9062c_row6_col5, #T_9062c_row6_col6, #T_9062c_row7_col0, #T_9062c_row7_col1, #T_9062c_row7_col2, #T_9062c_row7_col3, #T_9062c_row7_col4, #T_9062c_row7_col5, #T_9062c_row7_col6, #T_9062c_row8_col0, #T_9062c_row8_col1, #T_9062c_row8_col2, #T_9062c_row8_col3, #T_9062c_row8_col4, #T_9062c_row8_col5, #T_9062c_row8_col6, #T_9062c_row9_col0, #T_9062c_row9_col1, #T_9062c_row9_col2, #T_9062c_row9_col3, #T_9062c_row9_col4, #T_9062c_row9_col5, #T_9062c_row9_col6, #T_9062c_row10_col0, #T_9062c_row10_col1, #T_9062c_row10_col2, #T_9062c_row10_col3, #T_9062c_row10_col4, #T_9062c_row10_col5, #T_9062c_row10_col6, #T_9062c_row11_col0, #T_9062c_row11_col1, #T_9062c_row11_col2, #T_9062c_row11_col3, #T_9062c_row11_col4, #T_9062c_row11_col5, #T_9062c_row11_col6, #T_9062c_row12_col0, #T_9062c_row12_col1, #T_9062c_row12_col2, #T_9062c_row12_col3, #T_9062c_row12_col4, #T_9062c_row12_col5, #T_9062c_row12_col6, #T_9062c_row13_col0, #T_9062c_row13_col1, #T_9062c_row13_col2, #T_9062c_row13_col3, #T_9062c_row13_col4, #T_9062c_row13_col5, #T_9062c_row13_col6, #T_9062c_row14_col0, #T_9062c_row14_col1, #T_9062c_row14_col2, #T_9062c_row14_col3, #T_9062c_row14_col4, #T_9062c_row14_col5, #T_9062c_row14_col6, #T_9062c_row15_col0, #T_9062c_row15_col1, #T_9062c_row15_col2, #T_9062c_row15_col3, #T_9062c_row15_col4, #T_9062c_row15_col5, #T_9062c_row15_col6, #T_9062c_row16_col0, #T_9062c_row16_col1, #T_9062c_row16_col2, #T_9062c_row16_col3, #T_9062c_row16_col4, #T_9062c_row16_col5, #T_9062c_row16_col6, #T_9062c_row17_col0, #T_9062c_row17_col1, #T_9062c_row17_col2, #T_9062c_row17_col3, #T_9062c_row17_col4, #T_9062c_row17_col5, #T_9062c_row17_col6, #T_9062c_row18_col0, #T_9062c_row18_col1, #T_9062c_row18_col2, #T_9062c_row18_col3, #T_9062c_row18_col4, #T_9062c_row18_col5, #T_9062c_row18_col6 {\n",
              "  text-align: left;\n",
              "}\n",
              "#T_9062c_row0_col2, #T_9062c_row0_col3, #T_9062c_row0_col4, #T_9062c_row1_col5, #T_9062c_row5_col1, #T_9062c_row5_col6 {\n",
              "  text-align: left;\n",
              "  background-color: yellow;\n",
              "}\n",
              "#T_9062c_row0_col7, #T_9062c_row1_col7, #T_9062c_row2_col7, #T_9062c_row3_col7, #T_9062c_row4_col7, #T_9062c_row5_col7, #T_9062c_row6_col7, #T_9062c_row7_col7, #T_9062c_row8_col7, #T_9062c_row9_col7, #T_9062c_row10_col7, #T_9062c_row11_col7, #T_9062c_row12_col7, #T_9062c_row13_col7, #T_9062c_row14_col7, #T_9062c_row15_col7, #T_9062c_row16_col7, #T_9062c_row18_col7 {\n",
              "  text-align: left;\n",
              "  background-color: lightgrey;\n",
              "}\n",
              "#T_9062c_row17_col7 {\n",
              "  text-align: left;\n",
              "  background-color: yellow;\n",
              "  background-color: lightgrey;\n",
              "}\n",
              "</style>\n",
              "<table id=\"T_9062c\" class=\"dataframe\">\n",
              "  <thead>\n",
              "    <tr>\n",
              "      <th class=\"blank level0\" >&nbsp;</th>\n",
              "      <th id=\"T_9062c_level0_col0\" class=\"col_heading level0 col0\" >Model</th>\n",
              "      <th id=\"T_9062c_level0_col1\" class=\"col_heading level0 col1\" >MAE</th>\n",
              "      <th id=\"T_9062c_level0_col2\" class=\"col_heading level0 col2\" >MSE</th>\n",
              "      <th id=\"T_9062c_level0_col3\" class=\"col_heading level0 col3\" >RMSE</th>\n",
              "      <th id=\"T_9062c_level0_col4\" class=\"col_heading level0 col4\" >R2</th>\n",
              "      <th id=\"T_9062c_level0_col5\" class=\"col_heading level0 col5\" >RMSLE</th>\n",
              "      <th id=\"T_9062c_level0_col6\" class=\"col_heading level0 col6\" >MAPE</th>\n",
              "      <th id=\"T_9062c_level0_col7\" class=\"col_heading level0 col7\" >TT (Sec)</th>\n",
              "    </tr>\n",
              "  </thead>\n",
              "  <tbody>\n",
              "    <tr>\n",
              "      <th id=\"T_9062c_level0_row0\" class=\"row_heading level0 row0\" >lightgbm</th>\n",
              "      <td id=\"T_9062c_row0_col0\" class=\"data row0 col0\" >Light Gradient Boosting Machine</td>\n",
              "      <td id=\"T_9062c_row0_col1\" class=\"data row0 col1\" >8.6539</td>\n",
              "      <td id=\"T_9062c_row0_col2\" class=\"data row0 col2\" >198.9491</td>\n",
              "      <td id=\"T_9062c_row0_col3\" class=\"data row0 col3\" >14.0763</td>\n",
              "      <td id=\"T_9062c_row0_col4\" class=\"data row0 col4\" >0.4298</td>\n",
              "      <td id=\"T_9062c_row0_col5\" class=\"data row0 col5\" >0.4278</td>\n",
              "      <td id=\"T_9062c_row0_col6\" class=\"data row0 col6\" >0.4024</td>\n",
              "      <td id=\"T_9062c_row0_col7\" class=\"data row0 col7\" >6.2110</td>\n",
              "    </tr>\n",
              "    <tr>\n",
              "      <th id=\"T_9062c_level0_row1\" class=\"row_heading level0 row1\" >rf</th>\n",
              "      <td id=\"T_9062c_row1_col0\" class=\"data row1 col0\" >Random Forest Regressor</td>\n",
              "      <td id=\"T_9062c_row1_col1\" class=\"data row1 col1\" >7.9026</td>\n",
              "      <td id=\"T_9062c_row1_col2\" class=\"data row1 col2\" >202.9434</td>\n",
              "      <td id=\"T_9062c_row1_col3\" class=\"data row1 col3\" >14.2173</td>\n",
              "      <td id=\"T_9062c_row1_col4\" class=\"data row1 col4\" >0.4182</td>\n",
              "      <td id=\"T_9062c_row1_col5\" class=\"data row1 col5\" >0.4137</td>\n",
              "      <td id=\"T_9062c_row1_col6\" class=\"data row1 col6\" >0.3575</td>\n",
              "      <td id=\"T_9062c_row1_col7\" class=\"data row1 col7\" >251.0380</td>\n",
              "    </tr>\n",
              "    <tr>\n",
              "      <th id=\"T_9062c_level0_row2\" class=\"row_heading level0 row2\" >xgboost</th>\n",
              "      <td id=\"T_9062c_row2_col0\" class=\"data row2 col0\" >Extreme Gradient Boosting</td>\n",
              "      <td id=\"T_9062c_row2_col1\" class=\"data row2 col1\" >8.4798</td>\n",
              "      <td id=\"T_9062c_row2_col2\" class=\"data row2 col2\" >203.0260</td>\n",
              "      <td id=\"T_9062c_row2_col3\" class=\"data row2 col3\" >14.2222</td>\n",
              "      <td id=\"T_9062c_row2_col4\" class=\"data row2 col4\" >0.4176</td>\n",
              "      <td id=\"T_9062c_row2_col5\" class=\"data row2 col5\" >0.4224</td>\n",
              "      <td id=\"T_9062c_row2_col6\" class=\"data row2 col6\" >0.3906</td>\n",
              "      <td id=\"T_9062c_row2_col7\" class=\"data row2 col7\" >84.0310</td>\n",
              "    </tr>\n",
              "    <tr>\n",
              "      <th id=\"T_9062c_level0_row3\" class=\"row_heading level0 row3\" >gbr</th>\n",
              "      <td id=\"T_9062c_row3_col0\" class=\"data row3 col0\" >Gradient Boosting Regressor</td>\n",
              "      <td id=\"T_9062c_row3_col1\" class=\"data row3 col1\" >9.1331</td>\n",
              "      <td id=\"T_9062c_row3_col2\" class=\"data row3 col2\" >209.2704</td>\n",
              "      <td id=\"T_9062c_row3_col3\" class=\"data row3 col3\" >14.4385</td>\n",
              "      <td id=\"T_9062c_row3_col4\" class=\"data row3 col4\" >0.4000</td>\n",
              "      <td id=\"T_9062c_row3_col5\" class=\"data row3 col5\" >0.4416</td>\n",
              "      <td id=\"T_9062c_row3_col6\" class=\"data row3 col6\" >0.4258</td>\n",
              "      <td id=\"T_9062c_row3_col7\" class=\"data row3 col7\" >70.2620</td>\n",
              "    </tr>\n",
              "    <tr>\n",
              "      <th id=\"T_9062c_level0_row4\" class=\"row_heading level0 row4\" >knn</th>\n",
              "      <td id=\"T_9062c_row4_col0\" class=\"data row4 col0\" >K Neighbors Regressor</td>\n",
              "      <td id=\"T_9062c_row4_col1\" class=\"data row4 col1\" >8.3661</td>\n",
              "      <td id=\"T_9062c_row4_col2\" class=\"data row4 col2\" >214.9630</td>\n",
              "      <td id=\"T_9062c_row4_col3\" class=\"data row4 col3\" >14.6353</td>\n",
              "      <td id=\"T_9062c_row4_col4\" class=\"data row4 col4\" >0.3835</td>\n",
              "      <td id=\"T_9062c_row4_col5\" class=\"data row4 col5\" >0.4322</td>\n",
              "      <td id=\"T_9062c_row4_col6\" class=\"data row4 col6\" >0.3707</td>\n",
              "      <td id=\"T_9062c_row4_col7\" class=\"data row4 col7\" >82.6600</td>\n",
              "    </tr>\n",
              "    <tr>\n",
              "      <th id=\"T_9062c_level0_row5\" class=\"row_heading level0 row5\" >et</th>\n",
              "      <td id=\"T_9062c_row5_col0\" class=\"data row5 col0\" >Extra Trees Regressor</td>\n",
              "      <td id=\"T_9062c_row5_col1\" class=\"data row5 col1\" >7.8900</td>\n",
              "      <td id=\"T_9062c_row5_col2\" class=\"data row5 col2\" >215.5304</td>\n",
              "      <td id=\"T_9062c_row5_col3\" class=\"data row5 col3\" >14.6488</td>\n",
              "      <td id=\"T_9062c_row5_col4\" class=\"data row5 col4\" >0.3819</td>\n",
              "      <td id=\"T_9062c_row5_col5\" class=\"data row5 col5\" >0.4241</td>\n",
              "      <td id=\"T_9062c_row5_col6\" class=\"data row5 col6\" >0.3543</td>\n",
              "      <td id=\"T_9062c_row5_col7\" class=\"data row5 col7\" >240.8090</td>\n",
              "    </tr>\n",
              "    <tr>\n",
              "      <th id=\"T_9062c_level0_row6\" class=\"row_heading level0 row6\" >lar</th>\n",
              "      <td id=\"T_9062c_row6_col0\" class=\"data row6 col0\" >Least Angle Regression</td>\n",
              "      <td id=\"T_9062c_row6_col1\" class=\"data row6 col1\" >9.5647</td>\n",
              "      <td id=\"T_9062c_row6_col2\" class=\"data row6 col2\" >217.6411</td>\n",
              "      <td id=\"T_9062c_row6_col3\" class=\"data row6 col3\" >14.7267</td>\n",
              "      <td id=\"T_9062c_row6_col4\" class=\"data row6 col4\" >0.3758</td>\n",
              "      <td id=\"T_9062c_row6_col5\" class=\"data row6 col5\" >0.4544</td>\n",
              "      <td id=\"T_9062c_row6_col6\" class=\"data row6 col6\" >0.4447</td>\n",
              "      <td id=\"T_9062c_row6_col7\" class=\"data row6 col7\" >3.4490</td>\n",
              "    </tr>\n",
              "    <tr>\n",
              "      <th id=\"T_9062c_level0_row7\" class=\"row_heading level0 row7\" >br</th>\n",
              "      <td id=\"T_9062c_row7_col0\" class=\"data row7 col0\" >Bayesian Ridge</td>\n",
              "      <td id=\"T_9062c_row7_col1\" class=\"data row7 col1\" >9.5646</td>\n",
              "      <td id=\"T_9062c_row7_col2\" class=\"data row7 col2\" >217.6369</td>\n",
              "      <td id=\"T_9062c_row7_col3\" class=\"data row7 col3\" >14.7266</td>\n",
              "      <td id=\"T_9062c_row7_col4\" class=\"data row7 col4\" >0.3758</td>\n",
              "      <td id=\"T_9062c_row7_col5\" class=\"data row7 col5\" >0.4544</td>\n",
              "      <td id=\"T_9062c_row7_col6\" class=\"data row7 col6\" >0.4447</td>\n",
              "      <td id=\"T_9062c_row7_col7\" class=\"data row7 col7\" >4.4760</td>\n",
              "    </tr>\n",
              "    <tr>\n",
              "      <th id=\"T_9062c_level0_row8\" class=\"row_heading level0 row8\" >ridge</th>\n",
              "      <td id=\"T_9062c_row8_col0\" class=\"data row8 col0\" >Ridge Regression</td>\n",
              "      <td id=\"T_9062c_row8_col1\" class=\"data row8 col1\" >9.5646</td>\n",
              "      <td id=\"T_9062c_row8_col2\" class=\"data row8 col2\" >217.6387</td>\n",
              "      <td id=\"T_9062c_row8_col3\" class=\"data row8 col3\" >14.7267</td>\n",
              "      <td id=\"T_9062c_row8_col4\" class=\"data row8 col4\" >0.3758</td>\n",
              "      <td id=\"T_9062c_row8_col5\" class=\"data row8 col5\" >0.4544</td>\n",
              "      <td id=\"T_9062c_row8_col6\" class=\"data row8 col6\" >0.4447</td>\n",
              "      <td id=\"T_9062c_row8_col7\" class=\"data row8 col7\" >4.2620</td>\n",
              "    </tr>\n",
              "    <tr>\n",
              "      <th id=\"T_9062c_level0_row9\" class=\"row_heading level0 row9\" >lr</th>\n",
              "      <td id=\"T_9062c_row9_col0\" class=\"data row9 col0\" >Linear Regression</td>\n",
              "      <td id=\"T_9062c_row9_col1\" class=\"data row9 col1\" >9.5646</td>\n",
              "      <td id=\"T_9062c_row9_col2\" class=\"data row9 col2\" >217.6409</td>\n",
              "      <td id=\"T_9062c_row9_col3\" class=\"data row9 col3\" >14.7267</td>\n",
              "      <td id=\"T_9062c_row9_col4\" class=\"data row9 col4\" >0.3758</td>\n",
              "      <td id=\"T_9062c_row9_col5\" class=\"data row9 col5\" >0.4544</td>\n",
              "      <td id=\"T_9062c_row9_col6\" class=\"data row9 col6\" >0.4447</td>\n",
              "      <td id=\"T_9062c_row9_col7\" class=\"data row9 col7\" >11.1500</td>\n",
              "    </tr>\n",
              "    <tr>\n",
              "      <th id=\"T_9062c_level0_row10\" class=\"row_heading level0 row10\" >huber</th>\n",
              "      <td id=\"T_9062c_row10_col0\" class=\"data row10 col0\" >Huber Regressor</td>\n",
              "      <td id=\"T_9062c_row10_col1\" class=\"data row10 col1\" >9.4874</td>\n",
              "      <td id=\"T_9062c_row10_col2\" class=\"data row10 col2\" >219.4431</td>\n",
              "      <td id=\"T_9062c_row10_col3\" class=\"data row10 col3\" >14.7880</td>\n",
              "      <td id=\"T_9062c_row10_col4\" class=\"data row10 col4\" >0.3706</td>\n",
              "      <td id=\"T_9062c_row10_col5\" class=\"data row10 col5\" >0.4487</td>\n",
              "      <td id=\"T_9062c_row10_col6\" class=\"data row10 col6\" >0.4267</td>\n",
              "      <td id=\"T_9062c_row10_col7\" class=\"data row10 col7\" >16.1560</td>\n",
              "    </tr>\n",
              "    <tr>\n",
              "      <th id=\"T_9062c_level0_row11\" class=\"row_heading level0 row11\" >en</th>\n",
              "      <td id=\"T_9062c_row11_col0\" class=\"data row11 col0\" >Elastic Net</td>\n",
              "      <td id=\"T_9062c_row11_col1\" class=\"data row11 col1\" >9.7828</td>\n",
              "      <td id=\"T_9062c_row11_col2\" class=\"data row11 col2\" >227.0646</td>\n",
              "      <td id=\"T_9062c_row11_col3\" class=\"data row11 col3\" >15.0442</td>\n",
              "      <td id=\"T_9062c_row11_col4\" class=\"data row11 col4\" >0.3485</td>\n",
              "      <td id=\"T_9062c_row11_col5\" class=\"data row11 col5\" >0.4639</td>\n",
              "      <td id=\"T_9062c_row11_col6\" class=\"data row11 col6\" >0.4563</td>\n",
              "      <td id=\"T_9062c_row11_col7\" class=\"data row11 col7\" >4.2750</td>\n",
              "    </tr>\n",
              "    <tr>\n",
              "      <th id=\"T_9062c_level0_row12\" class=\"row_heading level0 row12\" >lasso</th>\n",
              "      <td id=\"T_9062c_row12_col0\" class=\"data row12 col0\" >Lasso Regression</td>\n",
              "      <td id=\"T_9062c_row12_col1\" class=\"data row12 col1\" >9.7953</td>\n",
              "      <td id=\"T_9062c_row12_col2\" class=\"data row12 col2\" >227.5531</td>\n",
              "      <td id=\"T_9062c_row12_col3\" class=\"data row12 col3\" >15.0605</td>\n",
              "      <td id=\"T_9062c_row12_col4\" class=\"data row12 col4\" >0.3471</td>\n",
              "      <td id=\"T_9062c_row12_col5\" class=\"data row12 col5\" >0.4644</td>\n",
              "      <td id=\"T_9062c_row12_col6\" class=\"data row12 col6\" >0.4571</td>\n",
              "      <td id=\"T_9062c_row12_col7\" class=\"data row12 col7\" >6.9200</td>\n",
              "    </tr>\n",
              "    <tr>\n",
              "      <th id=\"T_9062c_level0_row13\" class=\"row_heading level0 row13\" >llar</th>\n",
              "      <td id=\"T_9062c_row13_col0\" class=\"data row13 col0\" >Lasso Least Angle Regression</td>\n",
              "      <td id=\"T_9062c_row13_col1\" class=\"data row13 col1\" >9.7953</td>\n",
              "      <td id=\"T_9062c_row13_col2\" class=\"data row13 col2\" >227.5524</td>\n",
              "      <td id=\"T_9062c_row13_col3\" class=\"data row13 col3\" >15.0604</td>\n",
              "      <td id=\"T_9062c_row13_col4\" class=\"data row13 col4\" >0.3471</td>\n",
              "      <td id=\"T_9062c_row13_col5\" class=\"data row13 col5\" >0.4644</td>\n",
              "      <td id=\"T_9062c_row13_col6\" class=\"data row13 col6\" >0.4571</td>\n",
              "      <td id=\"T_9062c_row13_col7\" class=\"data row13 col7\" >3.0790</td>\n",
              "    </tr>\n",
              "    <tr>\n",
              "      <th id=\"T_9062c_level0_row14\" class=\"row_heading level0 row14\" >omp</th>\n",
              "      <td id=\"T_9062c_row14_col0\" class=\"data row14 col0\" >Orthogonal Matching Pursuit</td>\n",
              "      <td id=\"T_9062c_row14_col1\" class=\"data row14 col1\" >9.9021</td>\n",
              "      <td id=\"T_9062c_row14_col2\" class=\"data row14 col2\" >230.4560</td>\n",
              "      <td id=\"T_9062c_row14_col3\" class=\"data row14 col3\" >15.1569</td>\n",
              "      <td id=\"T_9062c_row14_col4\" class=\"data row14 col4\" >0.3387</td>\n",
              "      <td id=\"T_9062c_row14_col5\" class=\"data row14 col5\" >0.4662</td>\n",
              "      <td id=\"T_9062c_row14_col6\" class=\"data row14 col6\" >0.4594</td>\n",
              "      <td id=\"T_9062c_row14_col7\" class=\"data row14 col7\" >3.1230</td>\n",
              "    </tr>\n",
              "    <tr>\n",
              "      <th id=\"T_9062c_level0_row15\" class=\"row_heading level0 row15\" >dt</th>\n",
              "      <td id=\"T_9062c_row15_col0\" class=\"data row15 col0\" >Decision Tree Regressor</td>\n",
              "      <td id=\"T_9062c_row15_col1\" class=\"data row15 col1\" >8.9759</td>\n",
              "      <td id=\"T_9062c_row15_col2\" class=\"data row15 col2\" >281.9462</td>\n",
              "      <td id=\"T_9062c_row15_col3\" class=\"data row15 col3\" >16.7749</td>\n",
              "      <td id=\"T_9062c_row15_col4\" class=\"data row15 col4\" >0.1888</td>\n",
              "      <td id=\"T_9062c_row15_col5\" class=\"data row15 col5\" >0.4945</td>\n",
              "      <td id=\"T_9062c_row15_col6\" class=\"data row15 col6\" >0.3896</td>\n",
              "      <td id=\"T_9062c_row15_col7\" class=\"data row15 col7\" >7.4200</td>\n",
              "    </tr>\n",
              "    <tr>\n",
              "      <th id=\"T_9062c_level0_row16\" class=\"row_heading level0 row16\" >par</th>\n",
              "      <td id=\"T_9062c_row16_col0\" class=\"data row16 col0\" >Passive Aggressive Regressor</td>\n",
              "      <td id=\"T_9062c_row16_col1\" class=\"data row16 col1\" >12.3259</td>\n",
              "      <td id=\"T_9062c_row16_col2\" class=\"data row16 col2\" >311.3678</td>\n",
              "      <td id=\"T_9062c_row16_col3\" class=\"data row16 col3\" >17.2218</td>\n",
              "      <td id=\"T_9062c_row16_col4\" class=\"data row16 col4\" >0.1129</td>\n",
              "      <td id=\"T_9062c_row16_col5\" class=\"data row16 col5\" >0.5752</td>\n",
              "      <td id=\"T_9062c_row16_col6\" class=\"data row16 col6\" >0.5232</td>\n",
              "      <td id=\"T_9062c_row16_col7\" class=\"data row16 col7\" >4.2630</td>\n",
              "    </tr>\n",
              "    <tr>\n",
              "      <th id=\"T_9062c_level0_row17\" class=\"row_heading level0 row17\" >dummy</th>\n",
              "      <td id=\"T_9062c_row17_col0\" class=\"data row17 col0\" >Dummy Regressor</td>\n",
              "      <td id=\"T_9062c_row17_col1\" class=\"data row17 col1\" >13.9334</td>\n",
              "      <td id=\"T_9062c_row17_col2\" class=\"data row17 col2\" >347.5367</td>\n",
              "      <td id=\"T_9062c_row17_col3\" class=\"data row17 col3\" >18.6294</td>\n",
              "      <td id=\"T_9062c_row17_col4\" class=\"data row17 col4\" >-0.0000</td>\n",
              "      <td id=\"T_9062c_row17_col5\" class=\"data row17 col5\" >0.5860</td>\n",
              "      <td id=\"T_9062c_row17_col6\" class=\"data row17 col6\" >0.6797</td>\n",
              "      <td id=\"T_9062c_row17_col7\" class=\"data row17 col7\" >2.6690</td>\n",
              "    </tr>\n",
              "    <tr>\n",
              "      <th id=\"T_9062c_level0_row18\" class=\"row_heading level0 row18\" >ada</th>\n",
              "      <td id=\"T_9062c_row18_col0\" class=\"data row18 col0\" >AdaBoost Regressor</td>\n",
              "      <td id=\"T_9062c_row18_col1\" class=\"data row18 col1\" >11.7378</td>\n",
              "      <td id=\"T_9062c_row18_col2\" class=\"data row18 col2\" >385.5005</td>\n",
              "      <td id=\"T_9062c_row18_col3\" class=\"data row18 col3\" >19.6077</td>\n",
              "      <td id=\"T_9062c_row18_col4\" class=\"data row18 col4\" >-0.1153</td>\n",
              "      <td id=\"T_9062c_row18_col5\" class=\"data row18 col5\" >0.5313</td>\n",
              "      <td id=\"T_9062c_row18_col6\" class=\"data row18 col6\" >0.5881</td>\n",
              "      <td id=\"T_9062c_row18_col7\" class=\"data row18 col7\" >25.9650</td>\n",
              "    </tr>\n",
              "  </tbody>\n",
              "</table>\n"
            ]
          },
          "metadata": {}
        },
        {
          "output_type": "display_data",
          "data": {
            "text/plain": [
              "Processing:   0%|          | 0/81 [00:00<?, ?it/s]"
            ],
            "application/vnd.jupyter.widget-view+json": {
              "version_major": 2,
              "version_minor": 0,
              "model_id": "8750904e85e348a9b676bc76fa7444e2"
            }
          },
          "metadata": {
            "application/vnd.jupyter.widget-view+json": {
              "colab": {
                "custom_widget_manager": {
                  "url": "https://ssl.gstatic.com/colaboratory-static/widgets/colab-cdn-widget-manager/b3e629b1971e1542/manager.min.js"
                }
              }
            }
          }
        },
        {
          "output_type": "display_data",
          "data": {
            "text/plain": [
              "<IPython.core.display.HTML object>"
            ],
            "text/html": []
          },
          "metadata": {}
        },
        {
          "output_type": "stream",
          "name": "stdout",
          "text": [
            "Error: Runtime no longer has a reference to this dataframe, please re-run this cell and try again.\n",
            "Error: Runtime no longer has a reference to this dataframe, please re-run this cell and try again.\n"
          ]
        }
      ]
    },
    {
      "cell_type": "code",
      "source": [
        "plot_model(best, plot = 'residuals')"
      ],
      "metadata": {
        "colab": {
          "base_uri": "https://localhost:8080/",
          "height": 524
        },
        "id": "oF-S5wGLn_pm",
        "outputId": "50984a99-a40d-4738-e9c5-ac886c4b5117"
      },
      "execution_count": null,
      "outputs": [
        {
          "output_type": "display_data",
          "data": {
            "text/plain": [
              "<IPython.core.display.HTML object>"
            ],
            "text/html": []
          },
          "metadata": {}
        },
        {
          "output_type": "display_data",
          "data": {
            "text/plain": [
              "<Figure size 800x550 with 2 Axes>"
            ],
            "image/png": "[encoded data removed]"
          },
          "metadata": {}
        }
      ]
    },
    {
      "cell_type": "code",
      "source": [
        "# plot feature importance\n",
        "plot_model(best, plot = 'feature')"
      ],
      "metadata": {
        "colab": {
          "base_uri": "https://localhost:8080/",
          "height": 485
        },
        "id": "KgVQ5VmFwXun",
        "outputId": "26217a11-6c37-4654-a8b8-173b67b59204"
      },
      "execution_count": null,
      "outputs": [
        {
          "output_type": "display_data",
          "data": {
            "text/plain": [
              "<IPython.core.display.HTML object>"
            ],
            "text/html": []
          },
          "metadata": {}
        },
        {
          "output_type": "display_data",
          "data": {
            "text/plain": [
              "<Figure size 800x500 with 1 Axes>"
            ],
            "image/png": "[encoded data removed]"
          },
          "metadata": {}
        }
      ]
    },
    {
      "cell_type": "code",
      "source": [
        "evaluate_model(best)"
      ],
      "metadata": {
        "id": "xudPTilvwejT"
      },
      "execution_count": null,
      "outputs": []
    },
    {
      "cell_type": "code",
      "source": [],
      "metadata": {
        "id": "rqGAWuPMwunF"
      },
      "execution_count": null,
      "outputs": []
    }
  ]
}